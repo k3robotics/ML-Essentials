{
  "nbformat": 4,
  "nbformat_minor": 0,
  "metadata": {
    "colab": {
      "provenance": [],
      "authorship_tag": "ABX9TyMwdI3N3gwYhBWhXbSvzV7K",
      "include_colab_link": true
    },
    "kernelspec": {
      "name": "python3",
      "display_name": "Python 3"
    },
    "language_info": {
      "name": "python"
    }
  },
  "cells": [
    {
      "cell_type": "markdown",
      "metadata": {
        "id": "view-in-github",
        "colab_type": "text"
      },
      "source": [
        "<a href=\"https://colab.research.google.com/github/k3robotics/ML-Essentials/blob/main/LinearAlgebraBasics.ipynb\" target=\"_parent\"><img src=\"https://colab.research.google.com/assets/colab-badge.svg\" alt=\"Open In Colab\"/></a>"
      ]
    },
    {
      "cell_type": "markdown",
      "source": [
        "###*Machine Learning Foundations* - Intro to Linear Algebra"
      ],
      "metadata": {
        "id": "amh3_13jAM3S"
      }
    },
    {
      "cell_type": "markdown",
      "source": [
        "####Data Structures for Algebra"
      ],
      "metadata": {
        "id": "NoeFK6h2DLEq"
      }
    },
    {
      "cell_type": "markdown",
      "source": [
        "Scalars (Rank 0 Tensors) in Base Python"
      ],
      "metadata": {
        "id": "m-pHF645DaUa"
      }
    },
    {
      "cell_type": "code",
      "source": [
        "x = 25\n",
        "x"
      ],
      "metadata": {
        "id": "vN6wI55gAUyK",
        "colab": {
          "base_uri": "https://localhost:8080/"
        },
        "outputId": "53d3e7dd-e86e-4ac8-8339-7ce4e7b642ea"
      },
      "execution_count": null,
      "outputs": [
        {
          "output_type": "execute_result",
          "data": {
            "text/plain": [
              "25"
            ]
          },
          "metadata": {},
          "execution_count": 155
        }
      ]
    },
    {
      "cell_type": "code",
      "source": [
        "type(x) # if more specificity is needed (i.e., int16, unint8), use Numpy"
      ],
      "metadata": {
        "colab": {
          "base_uri": "https://localhost:8080/"
        },
        "id": "NTWZNogWDlgk",
        "outputId": "f970ee5d-f7ff-4a3a-e5c2-ab7aa42c3565"
      },
      "execution_count": null,
      "outputs": [
        {
          "output_type": "execute_result",
          "data": {
            "text/plain": [
              "int"
            ]
          },
          "metadata": {},
          "execution_count": 156
        }
      ]
    },
    {
      "cell_type": "code",
      "source": [
        "y = 3"
      ],
      "metadata": {
        "id": "zeM2fVajD77K"
      },
      "execution_count": null,
      "outputs": []
    },
    {
      "cell_type": "code",
      "source": [
        "# If you add an int and an int you get a type int as the result\n",
        "py_sum = x + y\n",
        "py_sum"
      ],
      "metadata": {
        "colab": {
          "base_uri": "https://localhost:8080/"
        },
        "id": "uOAp_bneEAaq",
        "outputId": "11061f00-26d8-4192-aa50-bfdee47b6daf"
      },
      "execution_count": null,
      "outputs": [
        {
          "output_type": "execute_result",
          "data": {
            "text/plain": [
              "28"
            ]
          },
          "metadata": {},
          "execution_count": 158
        }
      ]
    },
    {
      "cell_type": "code",
      "source": [
        "type(py_sum)"
      ],
      "metadata": {
        "colab": {
          "base_uri": "https://localhost:8080/"
        },
        "id": "8CUkAKGlK95t",
        "outputId": "ce512a37-4dfa-424c-80b0-a8fb5345d7e9"
      },
      "execution_count": null,
      "outputs": [
        {
          "output_type": "execute_result",
          "data": {
            "text/plain": [
              "int"
            ]
          },
          "metadata": {},
          "execution_count": 159
        }
      ]
    },
    {
      "cell_type": "code",
      "source": [
        "# If you add a float and an int you get a type float as the result\n",
        "x_float = 25.0\n",
        "float_sum = x_float + y\n",
        "float_sum"
      ],
      "metadata": {
        "colab": {
          "base_uri": "https://localhost:8080/"
        },
        "id": "Ly9kgRtrLCtM",
        "outputId": "7b446a39-f8a8-4d08-a970-dea411edd6bf"
      },
      "execution_count": null,
      "outputs": [
        {
          "output_type": "execute_result",
          "data": {
            "text/plain": [
              "28.0"
            ]
          },
          "metadata": {},
          "execution_count": 160
        }
      ]
    },
    {
      "cell_type": "code",
      "source": [
        "type(float_sum)"
      ],
      "metadata": {
        "colab": {
          "base_uri": "https://localhost:8080/"
        },
        "id": "5vQjZTPuMMLF",
        "outputId": "407cb7bf-3478-400c-b10e-d9c1a1df0413"
      },
      "execution_count": null,
      "outputs": [
        {
          "output_type": "execute_result",
          "data": {
            "text/plain": [
              "float"
            ]
          },
          "metadata": {},
          "execution_count": 161
        }
      ]
    },
    {
      "cell_type": "markdown",
      "source": [
        "###Scalars in PyTorch\n",
        "\n",
        "*  PyTorch and Tensorflow are the two most popular *automatic differentiation libraries* in Python. Python, of couse, is the most popular programming language in Machine Learning (ML).\n",
        "\n",
        "*  PyTorch tensors are designed to be pythonic, i.e., to feel and behave like NumPy arrays.\n",
        "\n",
        "*  The advantage of PyTorch tensors relative to Numpy arrays is that they can be easily used for operations on GPUs."
      ],
      "metadata": {
        "id": "ubNd8GUwN5wc"
      }
    },
    {
      "cell_type": "code",
      "source": [
        "import torch"
      ],
      "metadata": {
        "id": "zvp4w9weMQkM"
      },
      "execution_count": null,
      "outputs": []
    },
    {
      "cell_type": "code",
      "source": [
        "x_pt = torch.tensor(25) # type specification optional -> torch.tensor(25, dtype=torch.float16)\n",
        "x_pt"
      ],
      "metadata": {
        "colab": {
          "base_uri": "https://localhost:8080/"
        },
        "id": "zzbAX6akPmj9",
        "outputId": "4ba0c5f8-6f19-44f8-ed52-56451d501001"
      },
      "execution_count": null,
      "outputs": [
        {
          "output_type": "execute_result",
          "data": {
            "text/plain": [
              "tensor(25)"
            ]
          },
          "metadata": {},
          "execution_count": 163
        }
      ]
    },
    {
      "cell_type": "code",
      "source": [
        "x_pt.shape # 0 dimensions"
      ],
      "metadata": {
        "colab": {
          "base_uri": "https://localhost:8080/"
        },
        "id": "wc37R_0WT-63",
        "outputId": "b16f863c-33d6-4715-e5ea-20e6226634f2"
      },
      "execution_count": null,
      "outputs": [
        {
          "output_type": "execute_result",
          "data": {
            "text/plain": [
              "torch.Size([])"
            ]
          },
          "metadata": {},
          "execution_count": 164
        }
      ]
    },
    {
      "cell_type": "markdown",
      "source": [
        "#### Scalars in TensorFlow (v2.0 or later)\n",
        "\n",
        "Tensors created with a wrapper\n",
        "\n",
        "  *  `tf.Variable`\n",
        "  *  `tf.constant`\n",
        "  *  `tf.placeholder`\n",
        "  *  `tf.SparseTensor`\n",
        "\n",
        "The most commonly used is `tf.Variable`.\n",
        "\n",
        "Along with TF tensors, in PyTorch we can also perform operations and convert to and from NumPy arrays."
      ],
      "metadata": {
        "id": "wqgKifGjbUFG"
      }
    },
    {
      "cell_type": "code",
      "source": [
        "import tensorflow as tf"
      ],
      "metadata": {
        "id": "tJJjUGhCUMdu"
      },
      "execution_count": null,
      "outputs": []
    },
    {
      "cell_type": "code",
      "source": [
        "x_tf = tf.Variable(25, dtype=tf.int16) # dtype is optional\n",
        "x_tf"
      ],
      "metadata": {
        "colab": {
          "base_uri": "https://localhost:8080/"
        },
        "id": "WRTGnI8kcabI",
        "outputId": "d7a1d680-b961-4924-b082-a8c0ef1c5230"
      },
      "execution_count": null,
      "outputs": [
        {
          "output_type": "execute_result",
          "data": {
            "text/plain": [
              "<tf.Variable 'Variable:0' shape=() dtype=int16, numpy=25>"
            ]
          },
          "metadata": {},
          "execution_count": 166
        }
      ]
    },
    {
      "cell_type": "code",
      "source": [
        "x_tf.shape"
      ],
      "metadata": {
        "colab": {
          "base_uri": "https://localhost:8080/"
        },
        "id": "fHE_T6-Kco1_",
        "outputId": "f0969e64-c8c3-4537-afac-722df72bf608"
      },
      "execution_count": null,
      "outputs": [
        {
          "output_type": "execute_result",
          "data": {
            "text/plain": [
              "TensorShape([])"
            ]
          },
          "metadata": {},
          "execution_count": 167
        }
      ]
    },
    {
      "cell_type": "code",
      "source": [
        "y_tf = tf.Variable(3, dtype=tf.int16)"
      ],
      "metadata": {
        "id": "rwnqeJVHc1hH"
      },
      "execution_count": null,
      "outputs": []
    },
    {
      "cell_type": "code",
      "source": [
        "x_tf + y_tf # operator overload - being able to use base python `+` to add two tf tensors also(Numpy, PyTorch)"
      ],
      "metadata": {
        "colab": {
          "base_uri": "https://localhost:8080/"
        },
        "id": "6UAlnMLmc9Q4",
        "outputId": "a3715178-c07a-46c5-a039-f4d1a5301fe2"
      },
      "execution_count": null,
      "outputs": [
        {
          "output_type": "execute_result",
          "data": {
            "text/plain": [
              "<tf.Tensor: shape=(), dtype=int16, numpy=28>"
            ]
          },
          "metadata": {},
          "execution_count": 169
        }
      ]
    },
    {
      "cell_type": "code",
      "source": [
        "tf_sum = tf.add(x_tf, y_tf)\n",
        "tf_sum"
      ],
      "metadata": {
        "colab": {
          "base_uri": "https://localhost:8080/"
        },
        "id": "fTnRhLNDdWiH",
        "outputId": "929e76a0-1414-4fcd-821f-5f206dafd571"
      },
      "execution_count": null,
      "outputs": [
        {
          "output_type": "execute_result",
          "data": {
            "text/plain": [
              "<tf.Tensor: shape=(), dtype=int16, numpy=28>"
            ]
          },
          "metadata": {},
          "execution_count": 170
        }
      ]
    },
    {
      "cell_type": "code",
      "source": [
        "tf_sum.numpy() # Numpy operations automatically convert tensors to NumPy arrays and vice versa."
      ],
      "metadata": {
        "colab": {
          "base_uri": "https://localhost:8080/"
        },
        "id": "Ex3yAUXidhfO",
        "outputId": "fbda87cb-2735-49f8-c4f6-f9e5b9495bff"
      },
      "execution_count": null,
      "outputs": [
        {
          "output_type": "execute_result",
          "data": {
            "text/plain": [
              "28"
            ]
          },
          "metadata": {},
          "execution_count": 171
        }
      ]
    },
    {
      "cell_type": "code",
      "source": [
        "type(tf_sum.numpy())"
      ],
      "metadata": {
        "colab": {
          "base_uri": "https://localhost:8080/"
        },
        "id": "L0CKlCZeeEGB",
        "outputId": "d135b2ea-028a-4b3e-847d-cf228f10b351"
      },
      "execution_count": null,
      "outputs": [
        {
          "output_type": "execute_result",
          "data": {
            "text/plain": [
              "numpy.int16"
            ]
          },
          "metadata": {},
          "execution_count": 172
        }
      ]
    },
    {
      "cell_type": "code",
      "source": [
        "tf_float = tf.Variable(25, dtype=tf.float16)\n",
        "tf_float"
      ],
      "metadata": {
        "colab": {
          "base_uri": "https://localhost:8080/"
        },
        "id": "-IdV4C6ZeJZA",
        "outputId": "389dac1a-bb21-4fb9-d118-0c39796ed535"
      },
      "execution_count": null,
      "outputs": [
        {
          "output_type": "execute_result",
          "data": {
            "text/plain": [
              "<tf.Variable 'Variable:0' shape=() dtype=float16, numpy=25.0>"
            ]
          },
          "metadata": {},
          "execution_count": 173
        }
      ]
    },
    {
      "cell_type": "markdown",
      "source": [
        "#### Vectors\n",
        "*  One dimensional array of numbers\n",
        "*  Denoted in lowercase, italics, bold, e.g.: **x**\n",
        "*  Vector elements are arranged in an order, so an element can be accessed by its` index.\n",
        "  *  The elements of the vector are scalars, not bold, such as $x_{2}$\n",
        "*  A vector represents a point in space:\n",
        "  *  A vector of length two represents a location in a 2D matrix. Example: $[x_{1}\\ \\ x_{2}] = [12\\ \\ 4]$\n",
        "\n",
        "      ![2DVector.png](data:image/png;base64,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)\n",
        "\n",
        "  *  A vector with length three represents a location in a 3D cube.\n",
        "  *  A vector with length n represents a location in a n-dimensional tensor."
      ],
      "metadata": {
        "id": "8az6wAEpQ9dX"
      }
    },
    {
      "cell_type": "markdown",
      "source": [
        "#### Vectors (Rank 1 Tensors) in NumPy"
      ],
      "metadata": {
        "id": "z81lEwQxZSZ_"
      }
    },
    {
      "cell_type": "code",
      "source": [
        "import numpy as np"
      ],
      "metadata": {
        "id": "TJjAuS9CevIg"
      },
      "execution_count": null,
      "outputs": []
    },
    {
      "cell_type": "markdown",
      "source": [
        "* Note: We need numpy or some other numerical library such as tensor flow or pytorch because we cannot create arrays in base python."
      ],
      "metadata": {
        "id": "Gv4FgFjCaNIX"
      }
    },
    {
      "cell_type": "code",
      "source": [
        "x = np.array([25, 2, 5]) # dtype is optional dtype=np.float16\n",
        "x"
      ],
      "metadata": {
        "colab": {
          "base_uri": "https://localhost:8080/"
        },
        "id": "-xTeC2gMZgKw",
        "outputId": "cec046f7-f4ab-4bc6-977d-79c193da93fa"
      },
      "execution_count": null,
      "outputs": [
        {
          "output_type": "execute_result",
          "data": {
            "text/plain": [
              "array([25,  2,  5])"
            ]
          },
          "metadata": {},
          "execution_count": 175
        }
      ]
    },
    {
      "cell_type": "code",
      "source": [
        "len(x)"
      ],
      "metadata": {
        "colab": {
          "base_uri": "https://localhost:8080/"
        },
        "id": "sr-1i_-UZyQ9",
        "outputId": "05e774c9-75ee-4064-8dbe-ce55b99494ed"
      },
      "execution_count": null,
      "outputs": [
        {
          "output_type": "execute_result",
          "data": {
            "text/plain": [
              "3"
            ]
          },
          "metadata": {},
          "execution_count": 176
        }
      ]
    },
    {
      "cell_type": "code",
      "source": [
        "x.shape"
      ],
      "metadata": {
        "colab": {
          "base_uri": "https://localhost:8080/"
        },
        "id": "_2EM_zhsZ0nX",
        "outputId": "f3c8ecea-560f-4fc7-f74a-a01102ecb1bb"
      },
      "execution_count": null,
      "outputs": [
        {
          "output_type": "execute_result",
          "data": {
            "text/plain": [
              "(3,)"
            ]
          },
          "metadata": {},
          "execution_count": 177
        }
      ]
    },
    {
      "cell_type": "code",
      "source": [
        "type(x)"
      ],
      "metadata": {
        "colab": {
          "base_uri": "https://localhost:8080/"
        },
        "id": "NHpwoLGXZ5uJ",
        "outputId": "629dc202-1dc0-4515-bb31-25ad3fbc5e9a"
      },
      "execution_count": null,
      "outputs": [
        {
          "output_type": "execute_result",
          "data": {
            "text/plain": [
              "numpy.ndarray"
            ]
          },
          "metadata": {},
          "execution_count": 178
        }
      ]
    },
    {
      "cell_type": "code",
      "source": [
        "x[0]"
      ],
      "metadata": {
        "colab": {
          "base_uri": "https://localhost:8080/"
        },
        "id": "Q5-sjZ1XdBG3",
        "outputId": "721f1ec1-0aed-4778-c89f-f117bf8ebbf7"
      },
      "execution_count": null,
      "outputs": [
        {
          "output_type": "execute_result",
          "data": {
            "text/plain": [
              "25"
            ]
          },
          "metadata": {},
          "execution_count": 179
        }
      ]
    },
    {
      "cell_type": "code",
      "source": [
        "type(x[0])"
      ],
      "metadata": {
        "colab": {
          "base_uri": "https://localhost:8080/"
        },
        "id": "UByF3XfddDmv",
        "outputId": "f3366749-5c4b-480b-8122-4cd4be7123c3"
      },
      "execution_count": null,
      "outputs": [
        {
          "output_type": "execute_result",
          "data": {
            "text/plain": [
              "numpy.int64"
            ]
          },
          "metadata": {},
          "execution_count": 180
        }
      ]
    },
    {
      "cell_type": "markdown",
      "source": [
        "#### Vector Transposition"
      ],
      "metadata": {
        "id": "RTPMNlNogBLn"
      }
    },
    {
      "cell_type": "code",
      "source": [
        "# Transposing a regular 1-D array has no effect.\n",
        "x_t = x.T\n",
        "x_t"
      ],
      "metadata": {
        "colab": {
          "base_uri": "https://localhost:8080/"
        },
        "id": "u67kGkS1dG_f",
        "outputId": "a1c1e9d6-b78b-4125-c859-09e4c1201813"
      },
      "execution_count": null,
      "outputs": [
        {
          "output_type": "execute_result",
          "data": {
            "text/plain": [
              "array([25,  2,  5])"
            ]
          },
          "metadata": {},
          "execution_count": 181
        }
      ]
    },
    {
      "cell_type": "code",
      "source": [
        "x_t.shape"
      ],
      "metadata": {
        "colab": {
          "base_uri": "https://localhost:8080/"
        },
        "id": "8wlk40uCgT9R",
        "outputId": "48869b3e-46ac-4908-e9b6-5fcf9da18b7d"
      },
      "execution_count": null,
      "outputs": [
        {
          "output_type": "execute_result",
          "data": {
            "text/plain": [
              "(3,)"
            ]
          },
          "metadata": {},
          "execution_count": 182
        }
      ]
    },
    {
      "cell_type": "code",
      "source": [
        "# There is a change when we use the nested \"matrix-style\" brackets:\n",
        "# This gives us an extra dimension. Like working with a matrix.\n",
        "y = np.array([[25, 2, 5]])\n",
        "y"
      ],
      "metadata": {
        "colab": {
          "base_uri": "https://localhost:8080/"
        },
        "id": "gu844lEJjv3g",
        "outputId": "e98322bf-2970-44d8-92ae-9cf5268a2ec5"
      },
      "execution_count": null,
      "outputs": [
        {
          "output_type": "execute_result",
          "data": {
            "text/plain": [
              "array([[25,  2,  5]])"
            ]
          },
          "metadata": {},
          "execution_count": 183
        }
      ]
    },
    {
      "cell_type": "code",
      "source": [
        "y.shape"
      ],
      "metadata": {
        "colab": {
          "base_uri": "https://localhost:8080/"
        },
        "id": "OOkAn0SNkEHI",
        "outputId": "bea73890-3de9-4eee-8197-b469d3b7b530"
      },
      "execution_count": null,
      "outputs": [
        {
          "output_type": "execute_result",
          "data": {
            "text/plain": [
              "(1, 3)"
            ]
          },
          "metadata": {},
          "execution_count": 184
        }
      ]
    },
    {
      "cell_type": "code",
      "source": [
        "# We can transpose a matrix with a dimensional length 1.\n",
        "# Now it is a column vector.\n",
        "y_t = y.T\n",
        "y_t"
      ],
      "metadata": {
        "colab": {
          "base_uri": "https://localhost:8080/"
        },
        "id": "o687_VZukIN4",
        "outputId": "0bcf3844-6197-4cfd-8e5a-480e4d414eeb"
      },
      "execution_count": null,
      "outputs": [
        {
          "output_type": "execute_result",
          "data": {
            "text/plain": [
              "array([[25],\n",
              "       [ 2],\n",
              "       [ 5]])"
            ]
          },
          "metadata": {},
          "execution_count": 185
        }
      ]
    },
    {
      "cell_type": "code",
      "source": [
        "y_t.shape # This is now a column vector with 3 rows and 1 column"
      ],
      "metadata": {
        "colab": {
          "base_uri": "https://localhost:8080/"
        },
        "id": "-4384aR1kg-v",
        "outputId": "8fe415d0-3085-4537-a008-6c3066273669"
      },
      "execution_count": null,
      "outputs": [
        {
          "output_type": "execute_result",
          "data": {
            "text/plain": [
              "(3, 1)"
            ]
          },
          "metadata": {},
          "execution_count": 186
        }
      ]
    },
    {
      "cell_type": "code",
      "source": [
        "# Transpose back to a row vector.\n",
        "y_t.T"
      ],
      "metadata": {
        "colab": {
          "base_uri": "https://localhost:8080/"
        },
        "id": "nWCm1c6_mbzz",
        "outputId": "ada383c6-14d2-404b-98f4-2ae7a5defd95"
      },
      "execution_count": null,
      "outputs": [
        {
          "output_type": "execute_result",
          "data": {
            "text/plain": [
              "array([[25,  2,  5]])"
            ]
          },
          "metadata": {},
          "execution_count": 187
        }
      ]
    },
    {
      "cell_type": "code",
      "source": [
        "y_t.T.shape"
      ],
      "metadata": {
        "colab": {
          "base_uri": "https://localhost:8080/"
        },
        "id": "rmrw_3B4mihw",
        "outputId": "8d3ede39-da60-418f-9ddc-0c480176923f"
      },
      "execution_count": null,
      "outputs": [
        {
          "output_type": "execute_result",
          "data": {
            "text/plain": [
              "(1, 3)"
            ]
          },
          "metadata": {},
          "execution_count": 188
        }
      ]
    },
    {
      "cell_type": "markdown",
      "source": [
        "#### Zero Vectors\n",
        "Zero vectors have no effect if added to another vector"
      ],
      "metadata": {
        "id": "ZVc-iMZVn1X_"
      }
    },
    {
      "cell_type": "code",
      "source": [
        "z = np.zeros(3)\n",
        "z"
      ],
      "metadata": {
        "colab": {
          "base_uri": "https://localhost:8080/"
        },
        "id": "IENL-7mHmpMf",
        "outputId": "ff0b1da5-0bb6-4903-f3f4-c7b9cee3a5b3"
      },
      "execution_count": null,
      "outputs": [
        {
          "output_type": "execute_result",
          "data": {
            "text/plain": [
              "array([0., 0., 0.])"
            ]
          },
          "metadata": {},
          "execution_count": 189
        }
      ]
    },
    {
      "cell_type": "markdown",
      "source": [
        "#### Vectors in PyTorch and TensorFlow"
      ],
      "metadata": {
        "id": "ASeDvRtQoJfo"
      }
    },
    {
      "cell_type": "code",
      "source": [
        "x_pt = torch.tensor([25, 2, 5])\n",
        "x_pt"
      ],
      "metadata": {
        "colab": {
          "base_uri": "https://localhost:8080/"
        },
        "id": "PmDO9I_LoD1n",
        "outputId": "cb234a0f-acb0-422b-d7e2-b5eac59c8b3c"
      },
      "execution_count": null,
      "outputs": [
        {
          "output_type": "execute_result",
          "data": {
            "text/plain": [
              "tensor([25,  2,  5])"
            ]
          },
          "metadata": {},
          "execution_count": 190
        }
      ]
    },
    {
      "cell_type": "code",
      "source": [
        "x_tf = tf.Variable([25, 2, 5])\n",
        "x_tf"
      ],
      "metadata": {
        "colab": {
          "base_uri": "https://localhost:8080/"
        },
        "id": "IhIJnJ1OoYFI",
        "outputId": "9bed5351-0661-42c4-c8eb-b820f5039611"
      },
      "execution_count": null,
      "outputs": [
        {
          "output_type": "execute_result",
          "data": {
            "text/plain": [
              "<tf.Variable 'Variable:0' shape=(3,) dtype=int32, numpy=array([25,  2,  5], dtype=int32)>"
            ]
          },
          "metadata": {},
          "execution_count": 191
        }
      ]
    },
    {
      "cell_type": "markdown",
      "source": [
        "#### Norms\n",
        "*  Vectors represent a magnitude and direction from the origin.\n",
        "*  **Norms** are functions that quantify vector magnitude.\n",
        "* The most common norm is the $L^2$ Norm (Euclidean norm).  \n",
        "\n",
        "\\begin{equation*}\n",
        "\\|\\mathbf{x}\\|_2 = \\sqrt{\\sum_{i}\\space x_i^2}\n",
        "\\end{equation*}\n",
        "\n",
        "*  This measures the simple Euclidean distance from the origin.\n",
        "*  This is the most common norm in Machine Learning. Can be expressed as $\\|\\mathbf{x}\\|$"
      ],
      "metadata": {
        "id": "5WXFQTXFCU-P"
      }
    },
    {
      "cell_type": "markdown",
      "source": [
        "$\\|\\mathbf{x}\\|_2$ Norm"
      ],
      "metadata": {
        "id": "iHTFjoegMKIP"
      }
    },
    {
      "cell_type": "code",
      "source": [
        "x"
      ],
      "metadata": {
        "colab": {
          "base_uri": "https://localhost:8080/"
        },
        "id": "HXkW2VvcMBk3",
        "outputId": "02183cfb-70e1-4307-cacd-c366480d6330"
      },
      "execution_count": null,
      "outputs": [
        {
          "output_type": "execute_result",
          "data": {
            "text/plain": [
              "array([25,  2,  5])"
            ]
          },
          "metadata": {},
          "execution_count": 192
        }
      ]
    },
    {
      "cell_type": "code",
      "source": [
        "# Claculate the $L^2$ Norm\n",
        "(25**2 + 2**2 + 5**2)**(1/2)"
      ],
      "metadata": {
        "colab": {
          "base_uri": "https://localhost:8080/"
        },
        "id": "ILbLydnWMqRQ",
        "outputId": "a59aae12-f489-42b9-e5ec-e3c53d2ecf55"
      },
      "execution_count": null,
      "outputs": [
        {
          "output_type": "execute_result",
          "data": {
            "text/plain": [
              "25.573423705088842"
            ]
          },
          "metadata": {},
          "execution_count": 193
        }
      ]
    },
    {
      "cell_type": "code",
      "source": [
        "np.linalg.norm(x)"
      ],
      "metadata": {
        "colab": {
          "base_uri": "https://localhost:8080/"
        },
        "id": "NOL3VAo-NCN3",
        "outputId": "d727d9dd-d5b9-46cf-919a-878358195edd"
      },
      "execution_count": null,
      "outputs": [
        {
          "output_type": "execute_result",
          "data": {
            "text/plain": [
              "25.573423705088842"
            ]
          },
          "metadata": {},
          "execution_count": 194
        }
      ]
    },
    {
      "cell_type": "markdown",
      "source": [
        "Therefore, if the units in this 3-dimensional vector space are meters, then the vector **x** has a length of 25.6 meters."
      ],
      "metadata": {
        "id": "fVEkn_EfNZdG"
      }
    },
    {
      "cell_type": "markdown",
      "source": [
        "#### Unit Vectors\n",
        "*  Unit vectors are a special case of a vector where its length is equal to one.\n",
        "*  Therefore, **x** is a unit vector with \"unit norm\" if $\\|\\mathbf{x}\\| = 1$\n",
        "\n",
        " ![UnitVector.png](data:image/png;base64,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)\n",
        "\n"
      ],
      "metadata": {
        "id": "b6Kze0b8RiF3"
      }
    },
    {
      "cell_type": "markdown",
      "source": [
        "#### Beyond the $L^2$ Norm\n",
        "*  Other common norms used in ML.\n",
        "*  The $L^1$ Norm - $\\|\\mathbf{x}\\|_1$\n",
        "\n",
        "\\begin{equation*}\n",
        "\\|\\mathbf{x}\\|_1 = \\sum_{i}\\space |{x_i}|\n",
        "\\end{equation*}  \n",
        "\n",
        "*  The $L^1$ Norm varies linearly at all locations whether near or far from the origin.\n",
        "*  The $L^1$ Norm is used when the difference between zero and non-zero is important in our application.\n"
      ],
      "metadata": {
        "id": "eN5O2TJLaiAf"
      }
    },
    {
      "cell_type": "code",
      "source": [
        "x"
      ],
      "metadata": {
        "colab": {
          "base_uri": "https://localhost:8080/"
        },
        "id": "av9hVP0sNNUf",
        "outputId": "9bc34fbc-68f3-4466-9204-83a885f01f49"
      },
      "execution_count": null,
      "outputs": [
        {
          "output_type": "execute_result",
          "data": {
            "text/plain": [
              "array([25,  2,  5])"
            ]
          },
          "metadata": {},
          "execution_count": 195
        }
      ]
    },
    {
      "cell_type": "code",
      "source": [
        "# Calculate the L_1 Norm\n",
        "np.abs(25) + np.abs(2) + np.abs(5)"
      ],
      "metadata": {
        "colab": {
          "base_uri": "https://localhost:8080/"
        },
        "id": "rka3yZ0xeVnf",
        "outputId": "6d3ab4ae-cbf1-4133-e422-11563e8097ff"
      },
      "execution_count": null,
      "outputs": [
        {
          "output_type": "execute_result",
          "data": {
            "text/plain": [
              "32"
            ]
          },
          "metadata": {},
          "execution_count": 196
        }
      ]
    },
    {
      "cell_type": "markdown",
      "source": [
        "#### Squared $L^2$ Norm\n",
        "*  Described mathematically as:  \n",
        "\n",
        "\\begin{equation*}\n",
        "\\|\\mathbf{x}\\|_2^2 = \\sum_{i}\\space x_i^2\n",
        "\\end{equation*}\n",
        "\n",
        "*  It is computationaly cheaper to use the squared $L^2$ Norm than the $L^2$ Norm because the squared $L^2$ Norm is equal to $\\mathbf{x}^T\\mathbf{x}$\n",
        "*  Also because we use the derivative to train many ML algorithms and in this case we only need to take the derivative of the individual element alone whereas with the $L^2$ Norm, we would need the entire **x** vector.\n",
        "*  The disadvantage of using the squared $L^2$ Norm is that it grows slowly near the origin and can't be used when you need to distinguish between zero and near-zero."
      ],
      "metadata": {
        "id": "D5ktgtSiheu3"
      }
    },
    {
      "cell_type": "code",
      "source": [
        "x"
      ],
      "metadata": {
        "colab": {
          "base_uri": "https://localhost:8080/"
        },
        "id": "Jkz2TfIoeuMg",
        "outputId": "d8fb1fff-0b74-4726-9ee3-2b4626451171"
      },
      "execution_count": null,
      "outputs": [
        {
          "output_type": "execute_result",
          "data": {
            "text/plain": [
              "array([25,  2,  5])"
            ]
          },
          "metadata": {},
          "execution_count": 197
        }
      ]
    },
    {
      "cell_type": "code",
      "source": [
        "# Calculate the squared L^2 Norm\n",
        "(25**2 + 2**2 + 5**2)"
      ],
      "metadata": {
        "colab": {
          "base_uri": "https://localhost:8080/"
        },
        "id": "90fcwAgxlo9I",
        "outputId": "dea9bef6-36ea-4b2c-cf7a-d716c3c3acec"
      },
      "execution_count": null,
      "outputs": [
        {
          "output_type": "execute_result",
          "data": {
            "text/plain": [
              "654"
            ]
          },
          "metadata": {},
          "execution_count": 198
        }
      ]
    },
    {
      "cell_type": "code",
      "source": [
        "# Using the dot product\n",
        "np.dot(x, x)"
      ],
      "metadata": {
        "colab": {
          "base_uri": "https://localhost:8080/"
        },
        "id": "8E3qdJ6nl4qA",
        "outputId": "2ce163ef-23ba-4ab2-f7b2-c927e3cd01c8"
      },
      "execution_count": null,
      "outputs": [
        {
          "output_type": "execute_result",
          "data": {
            "text/plain": [
              "654"
            ]
          },
          "metadata": {},
          "execution_count": 199
        }
      ]
    },
    {
      "cell_type": "markdown",
      "source": [
        "#### Max Norm (or the $L^∞$ Norm)\n",
        "This can be written mathematically as:\n",
        "\n",
        "\\begin{equation*}\n",
        "\\|\\mathbf{x}\\|_∞ = \\max_i\\space |x_i|\n",
        "\\end{equation*}\n",
        "\n",
        "*  Used frequently in ML.\n",
        "*  Returns the absolute value of the largest-magnitude element."
      ],
      "metadata": {
        "id": "LNSagLP1j5hX"
      }
    },
    {
      "cell_type": "code",
      "source": [
        "x"
      ],
      "metadata": {
        "id": "ttlHvjUamFbo",
        "colab": {
          "base_uri": "https://localhost:8080/"
        },
        "outputId": "35fcfab3-483b-4232-970d-a508bb79acb4"
      },
      "execution_count": null,
      "outputs": [
        {
          "output_type": "execute_result",
          "data": {
            "text/plain": [
              "array([25,  2,  5])"
            ]
          },
          "metadata": {},
          "execution_count": 200
        }
      ]
    },
    {
      "cell_type": "code",
      "source": [
        "np.max([np.abs(25), np.abs(2), np.abs(5)])"
      ],
      "metadata": {
        "colab": {
          "base_uri": "https://localhost:8080/"
        },
        "id": "7IQWI1BSlf-o",
        "outputId": "5a30149e-dbc8-4232-d6f3-3b3699ebc772"
      },
      "execution_count": null,
      "outputs": [
        {
          "output_type": "execute_result",
          "data": {
            "text/plain": [
              "25"
            ]
          },
          "metadata": {},
          "execution_count": 201
        }
      ]
    },
    {
      "cell_type": "markdown",
      "source": [
        "#### Generalized $L^p$ Norm\n",
        "*  This is a way to generate any of the norms dicussed above.\n",
        "\n",
        "*  This can be written mathmatically as:\n",
        "\\begin{equation*}\n",
        "\\|\\mathbf{x}\\|_p = (\\sum_i\\space |x_i|^p)^\\frac{1}{p}\n",
        "\\end{equation*}\n",
        "\n",
        "*  Just substitute in a 1, 2, $∞$ in place of $p$.\n",
        "*  $p$ must be:\n",
        "  *  A real number\n",
        "  *  Greater than or equal to one\n",
        "  *  Can derive $L^1$, $L^2$, and $L^∞$ norm formulae bu substituting for $p$\n",
        "*  Norms, and particularly $L^1$ and $L^2$ are used to regularize objective functions."
      ],
      "metadata": {
        "id": "fmp8_0PgmFsH"
      }
    },
    {
      "cell_type": "markdown",
      "source": [
        "### Basis, Orthogonal, and Orthonormal Vectors"
      ],
      "metadata": {
        "id": "82PNdn-5Yj_-"
      }
    },
    {
      "cell_type": "markdown",
      "source": [
        "#### Basis Vectors\n",
        "*  Basis vectors can be scaled to represent *any* vector in a given vector space.\n",
        "*  For example, basis (unit) vectors $i(1,0)$ and $j(0,1)$ can be scaled to a vector $v = 1.5i + 2j$.\n",
        "\n",
        "![BasisVectors.png](data:image/png;base64,iVBORw0KGgoAAAANSUhEUgAAAQoAAADUCAYAAABkiG0iAAAAAXNSR0IArs4c6QAAAARnQU1BAACxjwv8YQUAAAAJcEhZcwAADsEAAA7BAbiRa+0AABEgSURBVHhe7d1bU1Tnnsfxf584CIogggoqSrZRUTyVhxixKqlKtjuTm9m7amq/gql5GfMS5jaVi8nlXGWqpsZjMqMmcdSYRIwnEFHcKCoHOSPQNMz6PXYjMeKDuxC6Wd9PVRfday2w1+m3nue/DkamAgYAbxBN/wSAWREUALwICgBeoalRjI+PW2ZW8/LyLBKJuPczaZrJyUk3Lh6PWywWS48Bwi0UQdHb22uXL1+2oqIiS6VStm3bNqusrEyPfUHTNDY2unBIJpP2/vvvW3V1dXosEG6h6HooIJSHg4ODNjw8bE+ePEmPeenZs2c2NDRkz58/t7GxMVuxYkV6DIBQBIW6GmvWrHEthUQiYQMDA+79TD09Pa67oRaHWhsEBfBSaIqZ69atm64/qNWg1kXGyMiI9fX1uW6HWh4VFRXpMQAkNEFRXl5uhYWFrsUwMTFh3d3d6TFmXV1drpApan1oWgAvhSYo1FpYvXq1jY6OuvfqamTquJ2dnRaNRl2AZAIFwEuhCQqpqqpy3Q+FggqXKmwqHPr7+119QlTLAPBboQoKFSmXLVvmwkHFTNUlFBh6r9ZFfn6+lZWVpacGkBGqoFAhc+3atdPdD9UmHj165EJCLQ2FhMICwG+FKiikpqbGBYa6H7rIqqOjw50yVVDQ7QBeL3RBUVJS4loO6m5kTpfq58qVKwkKYBaR7u7uUD2PQsFw7949a29vd2c31O3QKVOdEdmyZYsLDSAbqbusGptO4S+0yO3bt0MVFKJiZktLy/SZDtm4ceOirABgLhQSbW1tVlBQYA0NDemhCye0T7j69ttvXUtCdC/IkSNH3HsgG+n+pKdPn7ptdvfu3a7GtpBCVaNQ8VJXZOpiKy1odUMy93YA2UrdZF0UWFdX51q9i3FsD1VQtLa22qVLl+zXX3+dLmRqoes+ECAbKSR0YFNI6OC2WDW0UAWF+nmZha2A0K3lmzZtcl0PINtkQmLnzp1u213MQnuogkJXYeq6CfX3FBJbt251D7EBss2rIbHYQlXM1L0duhpT9LwJLtdGNnr48KGrpb0aEjpbd+vWLdcNWejwCFWLQl0MXZmpl0JCz6QIUU4iB8wWEostVEExkwLi/v377iE2QDbI1pCQ0AaFnmql89K6gxRYbJmQ2LFjR9aFhIQ2KFTMVJ9PBSNgMc1sScy8WjibhDoodPGKVhD3d2CxZHtLIiMS7CShq+bpeRQXL150z55QYBw+fNhWrVpFYRMLRhf76VkouuKyvr5+TiGxmGc9Ik1NTaHaO7SC9Og7BYRuLVeaFxcXuwfaEBRYKPq/Y7TjKyTm2t1Y1KAI/vHQ7R26hFuFzNLSUhcYuiPv6NGj6bHAu6f7jnR6XlcGz9WiBkVwFA1VUGh2z5w5455qpXv7dRGWVtixY8dcYAALQa1aFdI3b96cHuK3mEERumKmrpvQ/xSWeTamAkP/p0fmik1gIeTa8XlJB4VuIZ95RkMBcfPmTfcYPLUedIOYgkJ9RBWWALzekg0KtRBOnDgxfeWlwqG5udlVmVW81E8Fh4qZ6n5wPQUwuyUbFGolKBAyLQoFhVoYOruh06G6k7SpqcldmfnZZ5/Zxx9/7KYD8HtLNih0RkN3iM7seujKN90QpkKSTpOqRaFLuXWalP9GEJjdkq5RqA6hloXOaqhirBaEbgTTY/n1VKt9+/a5CjJXZgJvtqSDQg+l0a3lai2odaHLZPWwGg3TBS8626EuCYA3W9JBkXlScebKN50S5bF3wNtb0kEBYH4QFAC8CAoAXgQFAC+CAoAXQQHAi6AA4EVQAPAiKAB4ERQAvAgKAF4EBQAvggKAF0EBwIugAOBFUADwIigAeBEUALwICgBeBAUAL4ICgBdBAcCLoADgRVAA8CIoAHgRFAC8CAoAXgQFAC+CAoAXQQHAi6AA4EVQAPAiKAB4ERQAvAgKAF4EBQAvggKAF0EBwIugAOBFUADwIigAeBEUALwICgBeBAUAr1AFxdTUlPX29qY/AZir0ASFQuKXX36xy5cvu8/RaHT6BeDNQrWX1NTUWGlpqXs/NjZmAwMDNjIy4j4DmF1ogiISiVhxcbGlUin3uaury27dumX37993rQ0AswtVi0LdjMrKSve+urraDh06ZNu3b3chAmB2oQqKRCJhtbW17v3k5KRNBi0J2hKAX2greVPxuKWC11RenkVisfRQAK8T2qBY1XrXNp/9Hys4edySw8PpoQBeJ5RBMfy4w5ZfuWxrHrRZ/nfn7Fnj1fQYAK8TyqDo/fknmxods8niIle36Pm/C+kxAF4ndEGh4mXvjz9aoiDfnRYtXFZkg9eu2ujg4IsJAPxO6IJipKPDRpqbLREEhFIjrzDf7OlT67nWmJ4CwKtCFxQd587a4N8eWCwed9dPxKIxiw4NWfupk5wqBWYRuqAoqauzyn/+F2trb7fR0VEbSE7Y8n/6q1Ud+5Nx2RXweqELiopdu23zP/7Zevv7LJlM2kjwWv3Rx7b+SEN6CgCvCl1QSHJw0GKxmOt6RINXiusogDcKZVAAeDsEBQAvggKAF0EBwIugAOBFUADwIigAeBEUALwICgBeBAUAL4ICgBdBAcCLoADgRVAA8CIoAHgRFAC8CAoAXgQFAC+CAoAXQQHAi6AA4EVQAPAiKAB4ERQAvAgKAF4EBQAvggKAF0EBwIugAOBFUADwIigAeIU2KCLpnwD8aFEA8CIoAHiFMigiEToewNtYskExNjZmra2tNjk5mR5i1tnZaS1379ro6ChhAbyFJRkUqVTKmpubrbu729ra2tywZDJpN27csK6eHovFYm4YgLlZkkGh1sTU1JQdPHjQ+vr63LCJiQkrLCy0/PwCGxoZtlgi4YYD8FuSQRGNRl2rYnx8fLqLoS5IfX29bdnyB+t81mv5RUU2NaNbAmB2SzIoCgoKrKSkxM6fP29VVVXW39/vWhiNjY326/Xrtn5NpT0fGLBIECgA/JbsnlJbW2sNDQ1WUVFhxcXF7nXo0CE7sHevFS0rssmgKwJgbpb0IVUtC8kUL/UzkUi8OBPCWQ9gzmh7A/AiKAB4ERQAvAgKAF4EBQAvggKAF0EBwIugAOBFUADwIigAeBEUALwICgBeBAUAL4ICgBdBAcCLoADgRVAA8CIoAHgRFAC8CAoAXgQFAC+CAoAXQQHAi6AA4EVQAPAiKAB4ERQAvAgKAF4EBQAvggKAF0EBwIugAOBFUADwIigAeBEUALwICgBeBAUAL4ICgBdBAcCLoAByRDQatUgk4l4LjaAAstzk5KRNTEzY+Pi4JZNJS6VS6TEvadzo6KibTtPod+YTQQFkueHhYfvmm2/s4sWL9ujRI7tx48ZvgkDvr1+/bhcuXLDvvvvOfvrpJxcc8yncQTE1lX4DZK/ly5dbcXGxPX361HU7njx5Yl1dXemxZg8ePLCenh7X0lCoVFdXW0FBQXrs/AhlUMSChR0NmmjRICj0M5YeDmSrQ4cOWV5enj1//txisZi1tLS4YBgYGLB79+65+oW6HGvXrrX169enf2v+hDIoRoIF+mTPPvvlyFG7u/+gDcYT6TF4l67ceWr/fvqmPewaSA8Jh76+PtdtaG9vd0d8SSQSbueeK01/+PBh9zt6DQ0NWXNzs925c2e6JhGPx23btm3p35hfkalA+n0oaAGfOn3aetMrLBIs9FhqwnbvPWjFZWtN9eRYNGhpBD/pmMyfaLA0/+Nih/3bqb/Ze5WFtmvDCjuyrdw+2FpuG8qL0lMtTd3d3fbDDz+4nV2vkpISW7ZsmWsZbNmyxe3gc3Xq1CkbHBy08vLy6TqEfl8BtH37dnvvvffcsPkWaWxsnPP+oCRTiqlpoxmd78rqu6IsVDNNK0bFIPX11IfT99e4ibER6xxfZleHNrhwGByPWWoq4kID8ygas0gsP1juZqPjE8HPlK0syrO/7knY3nWTNp56sa7a2trcNqadKlePY6ol6LvfvXvXKioq3Lam+dF2qJc+a38qLCy0srIyW7lypZWWlr4xNPQ7P//8s3V0dLi/lZ+f74aPjY253//ggw/e2anTyMmTJ+e8JrSjff/997Zr1y5XYMmFoNCCU9qqf6fvr89awFohWmFqtmmFRqOR4BW3vJjZf7UU2oX2uBXMPeizQjYHWyrYysoK41ZRFLWxICSSExM2EWw/PUNJ27d2zP74h6SNpaJunVy6dMn27dvnwjzXg0Jdjvr6elu3bp3b/jR/Gq6X3qtVoO1T26EOvhs3brTa2trXFiM1jUJU2/K1a9esqKjI/R2dEj148KALmncl8sUXX3jXhGZQX04zpSKKqqpqPmlhjIyMpKfKTvqOOr+sBFZ6a2ErkdVvVCV5zZo1lpeIW2fvsLU8Hgq6HRFr6i2w9oGoxYMuSDaLx+KWyEu4+XuxQ0WCeXyxganolU2mglAoLVtlZeVrbCjYZgaGRmxwaNBSyTE7tjXfjtYG21fQotDBR1X8DRs2uO3uxXzlFm1zai0oCLS/aOdXkVHDtK60bvTStqgD1urVq90+pZfeazvV33iV/p5OjWqZ6CyHfmo6DVcQ7dixIz3l/IsEafbGNaEvkqms7ty5082sqEmlJJw5LJtpPhQQQVfLvvrqK7ty5YodOHDAff/SlSW2c88BG0jG3XSJYHYSQcsim7dRbUf9/QPBTtUWbCA73ffWsNtNTZaaSFld3XZN9WLiLBCxSTvV+MS++t/7trJgympWF9rhumr748H3be/WahfkonDIBJ8OTrlI86BamFqu2jd6e3vt66+/dvuR6CCro39lZaXt3r3b1RvmSrUOHZz1b6jLodaEWhYKi7q6OquqqkpPOb+8xUwlvC7m0EzW1NS4vqPS8MSJE25Gjxw5kp4yuynUNB+iNA5aUm5FqgD0+eef2/79+924XHL3TpPbIHXEKl21OhiSshP/fTxYTxtt+45dLybKIt/8eMf+89sr9peP6m1/XY2tWLE8Peal/v5+O3/+vGtKa/vKRbdv37aHDx/aJ5984j6rJvbll1+6I/7evXvdfGnHfvbsmWtFzJX2u3PnzrmQ0O+rLqH9Ui0TbcsKWx381IWZb7F/DaTf/44SS010hcWePXtck1AzqS+smdQXUprN98Ud74IuUNGC3bx5s/vOqrNoJSkociXsZtIGMjQ8YnVBa6LlbqtbL319A9bV3WPxRL7rVmWKXdmitmqV/UNDvW1eXznrd9MOoGOX1pHmIdfou+ulfUYtBbUotCOrxaftbdOmTW7edeBSyL9NXeHmzZvuIKdA0N/XtRVa762tra67ov1V/7aKp/PtjX2Gq1evWlPQlNWXUnMn08XQyvzoo49c60KnanKBvrsCTvOhWosWqDbEzIrMNfremg/NkzZCyawX9XO1EeYiBUSmKZ2LtC4yAaFtLOPTTz91w7Wj/z3Ube7s7JzumqkVqQO1zpio/qG/qwO2Wi86uM+3NwaFEquhocGttNOnT7v+j76EFoY+q27xLtLrXdBK0oLWWRvNh8Ihc/TKRdqZtDGeOXPGzY/6wfp8/Phxd4nv2/R7s402+Fxopc5GB1YdhLRtqSuV2V/+3vWi1rvu39BBWQcGnXHcunVreqy5OpuKorpeQ9vB5cuXXZjMpzlfcKWjl4pLWgjaIFVE0QJQwuUKfXeFg5puZ8+edUddrVB1PTLFtFzz6npRAGqd6D0W32zrRQdcBYC6wj4KgMePH7udXwe7Dz/80HWjZ1JNRAfuFStWuNBQF0cHk/kSuiszM5ZKUCA3vU1QzHTr1i1XV1toHHaAHKFWvF6LUb8hKAB4ERQAvAgKAF4EBQAvggKAF0EBwIugAOBFUADwIigAeBEUALwICgBeBAUAD7P/B13kRvvi2/jRAAAAAElFTkSuQmCC)   ![scaledvector.png](data:image/png;base64,iVBORw0KGgoAAAANSUhEUgAAAPMAAADbCAYAAAC4CadkAAAAAXNSR0IArs4c6QAAAARnQU1BAACxjwv8YQUAAAAJcEhZcwAADsEAAA7BAbiRa+0AABivSURBVHhe7Z15cFzVmcVPS91St1qyvGFLXuRd3hCBMBiwAZvFYcCGgMdQFTKVZUI2CKshmamamar5I1Pzz1RRlQwJtiEm+SdhM5gMhGQcMBYYG2+SJWzMZoyxlpZam1tLq9U979x+LQvC4lV6y/lRXb3cZ9F6eud+97vnffcGMhYQQriePPtZCOFyJGYhPILELIRHkJiF8AgSsxAeQWIWwiNIzEJ4BIlZCI8gMQvhESRmITyCxCyER5CYhfAIErMQHkFiFsIjSMxCeATH1zP39vYi9xULCwuRl/e3/Q+PSafT5nUoFDIPIfyGo8V87NgxVFdXIxKJIJVKobKyElOnTrVbs3R2dmLXrl0IBALo7+/HrFmzMHPmTLtVCP/g6GF2OBxGMBg0ou7r60NTU5Pdcpy2trbB9mQyidGjR9stQvgLR4uZQp48ebKJuHzd1dVlhtRDaWlpMW0DAwM455xzMHbsWLtFCH/h+Amw8vJyM4Tmg9G3o6PDboF5z8icn59vcubx48fbLUL4D8eLmcPm4uJiE52Z3sdiMbsFaG1tHYzUBQUFmDBhgnkthB9xvJhJWVmZicKMwPF43EyGkcbGRjO7zSE2h9cUvRB+xRViZt5MONTu7u42Q21GaT4zX+YQW1FZ+B1XiJlD7dLSUjNbTeG2t7cjkUiYaE1R01fm5JcQfsYVYiZTpkwx4mUkZq784YcfGmHzMWbMGONFC+FnXCPmiooKI2RGYlpUH3/8sYnIFDNzaiH8jmvEzBtIJk6cODirzYkvCnnUqFGDObUQfibQ0NDgir2mOPllfVe8//77KCoqMoLmrDaH2LzNk8IWwmnk7pHgNXu23ZbAwYMHXbNxHAV84MAB8zoXmWfMmGHyZbYJ4TSYGh45csSkhsuXLz+rRUCu2wVyy5Yt6OnpMWJmFdXSpUvtFiGcBydreT8EJ2/nzZtnIvTZwhU5M28U4YQX78Nm30Mhc4itiS/hZJgW0nWZO3eumfM523HTFWL+6KOPsHPnTtTU1BgRMwfhEJv3bQvhRChkPqqqqgYLgc42rhAzIzFv5STs3RipmStzJlsIpzFUyMO5UIYrxMx8g3kHTxCrpBYuXIj58+fbrUI4h9x1OtxCJq6YAKO3zGjMr8oJBEVk4US+KCLv27fPrIATjUbtT848rojMPDG8YYQTXhQyCyyGIwcR4kT5IiEPF64Q86f54IMPjG8nhBNwgpCJ68RMj5kWFXNnIUYapwiZuE7MFDGH2DTjhRhJnCRk4joxU8Q8cZwQ4yy3ECPBSM5afx6BZDLpmts5Oau9fft2s94XRX3BBReYG0dcMCEvPASvvaNHj56UkIdjNjtw4MABVyiBd31xwXvmy6yUYmTmnTXTp09XxZQYNngHIle5YSA5mYg8LGJ2g8+co76+3tzrOm7cuMEld1mJQqELMRxwNVjeXjxnzhz7kxNDPvOn4NCGQ2zCZ9pTjNZCDCdOjX+uEXNuVU6WPfJk5ha+/6wta4TwI64RM6MyBc2FCChkPpizcMgjhHCRmHO+MkXNaJwr+B66nasQfsY1Yl60aBFuu+02c282189mhL7uuuvMgyWSQvgd16iAM9a0ojjxlXv+vM3XhfAjrlNCbiaRzxpeC3EchTUhPILELIRHkJiF8AgSsxAeQWIWwiNIzEJ4BIlZCI8gMQvhESRmITyCxCyER5CYhfAIErMQHkFiFsIjSMxCeASJWQiPIDEL4REkZiE8gsQshEeQmIXwCBKzEB5BYhbCI0jMQngE14jZRZtVCjEiOF7M3L2itrYWO3fuNFvRaNF7IT4bxyuDm1tPmjQJZWVliMViZhcL7mbBTeO0L7MQx3G8mIuKilBaWop4PI4JEyaYXR+3bdtmNq8eGBiwjxLDQV+qz34lnIjjxcxtXJ977rnBKMzIXF5ejrFjx5r3Ynh4ru4FVL/7hv1OOBHHi5k58ty5cxEOh00kpoinTZtmht7Kn88+R9qO4ueb/xsPv7wOleNn2Z8KJ+J4NVDEVVVVqKysNEPu/v5+82AuLc4uW9/Zhn/9y8/x4lv/hwvOOQ9Tx0+xW4QTUWgTf0NXTxfWvroB//XqQ+hMdiHaH8YlMy+yW4VTkZjFJ9j+7pt48Jl/x1Nvb0I0GkVJJorCQCEunv139hHCqUjMYpBfbX4U//bCz3E02YjSklKMCY5CR0c7KifMQvnYMvso4VQkZjHIgnMqURIsQagwhHBeIULpEOKd7Vgy5xL7COFkJGYxSPk55SjKDyOTSKMkFEVrVxzFoSJcMlv5shuQmIWhpbMVv3xlLVCSh2B+EG0ft6GxsRGVE2driO0SJGZheLT6t2jsbUY6nUZLcwtuOm8F/mPFv+CWRTfbRwinIzELPLl9I3YdrUE4EraicROumn0Fbr18Fa44/zIsmad82S1IzD5n30dvYVP9CwhHw2iLt2FypAx3XvsDFbG4EInZx3QkOvDwK+uQKQygp6cH/Z1J/OyG+zCmZLR9hHATErNPYW788MuPoj3diXQmg3isDbdf8W0srJhvHyHchsTsUzbteQG7G2uMpxxrasZl0y/G6sU32a3CjUjMPqT2cB3+sOcZFJVE0drSikmRcjxw4z12q3ArErPPoJ+8vvpx5EXykUgkEOgB7r/uTpREiu0jhFuRmH3Go1t/h8a+GJABWpti+Nbib+ArM6rsVuFmJGYf8QT95Ma9iEQixk++es4y3LJYN4V4BYnZJ+w7XI9NdVk/meupTSkql5/sMSRmH9CR6MTDW9YD4QC6u3uQ7EzipyvulZ/sMSRmj2P85FfWGz+ZGwm0Ncfxg6XfwcJp8pO9hsTscTbt/l/sbtiLUEEIzU0xXDbjYvzDpV+3W4WXkJg9TK2VJ/9hz0YUFUfRGm/FpHAZHrzxXrtVeA2J2aPEOluwrnoD8ouCWT+5G7j/+p+gWH6yZ5GYPcpjW3+HpmSMdjJam1vxbeMnn5ttFJ5EYvYgxk+28mSuOd7Y0Gj85NXykz2PxOwxmCc/z/rk4gjirW1ZP/nvvy8/2QdIzB6C9cm/enV9tj65uwf9XUn8dOW9GFMsP9kPSMweIVef3DbQgXQmjXjOT1Z9sm+QmD1Crj65oLAAsaYYLp9xqfxknyExe4DB+mT6yaxPDpepPtmHSMwuh37y2q0bkB8JItF9zNQnr1lxF4ojUfsI4RckZpdDP7k52WLuu25tasW3Ft+G86bLT/YjErOLeWL7M9hl5cmmPrmhCddULsUtWsfLt0jMLoV58qb6F4/XJ0dVn+x3JGYX0tHdiV+/+hgyhbDrk/vw4Ip7MFp+sq+RmF1GJp3Bwy+vR9tAu5Unw9Qn/3Dpd3HutAX2EcKvSMwu49ndf8TuhhqECugnN+PymZdilfxkYSExu4iaD3N+chFaW+365BvkJ4ssErNLoJ+8/rUNCEVDOGavd/3AirsRlZ8sbCRmN2DlxlzvuinZgrSVM8dNffJtqJq+0D5ACInZFTyx45nj9cmNrE+mn6z6ZPFJJGaHQz/5+fo/IRJlfTLXu55k/GTIThafQmJ2MB3dHfj1lseQLsygm/snd/VrvWvxuUjMDoV+8v/8dT3i6ayfzDz5R8u+q/WuxeciMTuUZ3c/jz2NtYN+8tKZS3DzJTfarUL8LRKzA6n5cB/+sJfrXdt+cqQMa264224V4rORmB1GrKMFa6sfRzCS9ZPzbD9Z9cniy5CYnYSVGz9W/TvE6CdbiTLz5G9d+g1UTZOfLL4cidlBPLEju39yOBJBE/3kyqW4dckqu1WIL0Zidgg1rE82+yfTT27F1KLJuPNr8pPFiSMxO4D27g48suUxZMKsT+5GqiuJB1feIz9ZnBQS8whj/OTN69CW6bBe00+O44dXfk/rXYuTRmIeYTbueh57m2oRDIUQa7b95ItvsFuFOHEk5hGEfvITxk+Omjx5UngiHpCfLE4RiXmEyNYnP45g0dD65HtUnyxOGYl5BOAa12b/5L4hfvLib6g+WZwWEvMI8OSOjdhp1yfTT+Z617culp8sTg/XiDmZTNqv3E3N4X3H65PjcVREp8hPFmcEV4h5//792Lx5s3mdl5dnHm5c7L09kfWTc/XJqa5+PLjiboyWnyzOAI4XM/PL0tJSFBcXm/epVApdXV3o7e01791Ctj55LeJp+snZPPlHV/4TFshPFmcIx4uZEbi8vByhUMi8P3LkCHbs2IG6ujojbLewcffzqGmqQwHrk5tjxk++SX6yOIO4YpidTqcRjWYtm4qKCixbtgxf/epXEQwGzWdOh37yk3s2IjJkvWvVJ4szjSvEnJ+fj6qqquwbK1Ln8mY3YPZPrt6AfOMnZ/dP5r5Qqk8WZxp3KGIImfwgUsEQ0gWFCDhc0Dk/OdYfN6953zXrk8+drn2hxJnHdWIe/f67mPrGa4hsfx0DDrerjJ/M+uRwGA0NjVheeSVuvUx+sjg7uErMfZ2dKN69CxUHD6Bo07OI79hutziPvR/WYlPdi4gURUyePL14Cu649na7VYgzj6vE3F6zF6n2NmRKSlBgRbvW6q12i7NoT7TjEe6fPFif3G/W8dL+yeJs4ioxt725A/l5+WYd6Ug0ikRdLXra2uxWZ8DvxvWu29OdWT85FpefLIYF14i5r6MDHbU1CBUVWe8yZj1pxFoQ2/lm9gCH8MzOTahp2ofgED9Z9cliOHCNmGPb30Dvh4cQLCxEwPqP1lQkk0bDX/5sfGgnwP2Tn9y7EeHi7DperE+WnyyGC9eIedTMmZj2wztwpKkJPT3d6OpPYczNq1DxtWuRccCdYPST11X/BsGiAiSOZeuTuY6X/GQxXLhHzLPnoOymmxHv6kJfbx96kkkEz/sKyq9ZjnwOuUeQtDVCoJ/cnGw1r5knc//kc7XetRhGXDUBNpBIIN+umOIj09dnt4wsT+54Fjsb9mT3T25owPK5V+KWJdo/WQwvrhKzE9lzqBbP17+Yve863orpJRW4Y7n8ZDH8SMynAeuT1279DTKFQHeiGwNdKay5/i7VJ4sRQWI+Vegnb16LNrs+udXUJ2u9azFySMynyNO7NqGmuS67f3JzDMtmX46bLl5ptwox/EjMp0CuPjls5clZP7kMa1beZbcKMTJIzCeJqU/euiG73vWxY8jrBX668l75yWLEkZhPAt5plq1PzvrJ7cZP/iYWTlOeLEYeifkkePJNrned85Mbcc3cZVi9+Ca7VYiRRWI+QbJ+Mte7pp8cx/Tiqfjx8u/brUKMPBLzCTDoJxdk65MHuvqxZsXd2j9ZOAqJ+cvIAL/861pTn5zbF0p+snAiEvOX8PTO51DbVIdgQQgt8pOFg5GYvwDjJ+99FmErT5afLJyOxPw5HPeTC8x613m9Afzshvu0f7JwLBLzZ0A/+dGtv/2En8z9kxdUzLOPEMJ5SMyfwRM7NmLX0ex616xPvrpyGW5ZrPpk4Wwk5k+x51AN/vjWnwb3haKffMfX5CcL5yMxDyHrJ2/I1ifTT06k5CcL1yAx23AvqF9ufgRtA8frk3+8TH6ycA8Ss83TOzehtvkthApDpj75qjlX4Ovyk4WLkJgtuN71U3uftfJk7gsVN37y/St+YrcK4Q58L+asn/xYtj7Z+MmQnyxcia/FPJAeyPrJqbjxk9tibWa9a/nJwo34WsxPmfWu9yJcaNcnz1kqP1m4Ft+KefehGrPedZGpT86ud/3ja+UnC/fiSzHTT1639XFkCgNImPrkFNZcdxfGaP9k4WJ8J+ZBPzndnt0Xin7yVd/TOl7C9fhOzNw/uba5HqEC+sktWT95kfxk4X58Jebj9clZP3lyuAz3yU8WHsE3Yo51tOCRrdn9k48lElk/+cb7tN618Ay+ELPxk6t/ixbjJw+gPdaG79BPnio/WXgHX4jZ7J98dI/xkxuONuKayqVYLT9ZeAzPi3n3B9n65KKSqKlPnjlKfrLwJp4Wc3uiHeuqNyBdACS4f/KxAdx/vfxk4U08K+asn7w2W59sr3dt/GTVJwuP4lkxGz85Vj9Yn3y18ZNX2K1CeA9Pipl+8hP2etfMk+kn3ys/WXgcz4mZ9cm/fvUxhHL7J/cE8M833C8/WXgeT4k5V5/cOtBmvU6jvaUN31nyTcyvmGsfIYR38ZSYTX0y17tmfXIj/WTtnyz8g2fETD95E+uTS4rQQj+Z9cnLb7dbhfA+nhAz65PXv2bXJycSSCdSuJ/1yVrvWvgIV4s5mBc0z79gfXKqHRnWJzfFcceVt6s+WTiK/Px88zibuFbMAetRGCzEswc2Y19zPYKF3D+5BVdXLsWN8pOFA+jv78fbb7+Nd955B83NzThy5Ii5gWkoTU1NqKurM8fw0dXVZbecPK4Vc6Qggq1vv46n9j5n1ydz/+SJuG/FnfYRQowsjMSHDx/Grl270NnZiYMHD5rrNEdPT4/5jMfs378fH3/8MQoLC+3Wk8d1Yg4MDKAgmUQ/Uvhzxz5rrJ3OrndNP/nGNVrvWjiGvLw8LFq0yDwPWNdtIBDAoUOHzJbB5N133zV7moVCIRQUFOCCCy4wz6eKq8QctE5K35gxaJo6A4dnVaCvYgz6ehPobOnAdy/7R8yf6l4/uaU9gd7ePvudcAKpVMoMjzlcznGyeW9paSnOP/98I9pgMIiWlhZ89NFHiMViZtjNn9fb24uKigpz7OkQsMbwnxzEO5g91nBl9+7dSEciCAfy0JKK4a+t1VhWeTHWrHzAPsqd/OfTdaiub8KKC8tx2fyJWFBRipD1xxcjR19fH1566SUUFRVh7NixGD9+PEpKSowQKysr7aNOjC1btqC9vR3FxcUmUlN2jNDsMDi0Xrp0qfn8dAhYCbhjxcxhCX9pPvMmkDfeeANBaxiSsYYs1ofIS6ZwoCOOROkijI6Osz5KI+TKWYAMdh/pxwdx6/caSCFaEMCsiREsnjcWy+dHMToMpDMBJK30gnnW6NGjB4dqfoAXOSeGGNkiVkc+HL87rzlGU05KMXoyOvNa5HfgsLi8vNyIe9SoUScUrZk3c6Jr8uTJ5n3uumZUvuiiizBx4kTz+ekQsHqMYRfziQwG+Ivy4s2dQPrHfM0TyWf+QdPWhZ8JRPBBdzEG0insbSrEwbh1svNcM9gw8NtOiIZQGs5DyrpOB9IZ9FgdVXdyAKsX9KGqbACpTL4ZotXW1uKqq64yv/+JnEcvwMhFMTCqzZ0710TMsw2vP0ZNXm/hcNic66EPipvHsJ2Re4yV/k2YMOFzJ7A4q82fxwkvdgD8Gby+p02bhoULF9pHnR6B9evXO/KK4ImigDkhwAcFzZPKiQSeCL7nMf3WCUr2JVEYzOCVwxG8fMg6zmWjU/4+FeeMQUk4hK6eXvQm+9CZ6EHnsYQl5hTmTrAurHQe2trazKzn4sWLfRWZ+ffft2+feebwdmgOezbhOWYk5WiA/0+KkQJkZ8KozffRaBTjxo0zopw+fbq5Rj+LAwcOmJ/z3nvvmZ+b6yxmz56NWbNm2UedHgFr6OpYMecuWA6zOG3/+9//3swA8sRx5i9aZPWYoWLsP9pnRWhL2Fb0snRh/WPzz1yDlUGhoX803m+xonGiE3npPkwbF8FlVVOw0sqhwwXMsbIXFy8A9v5+EjM7blo7fKYg2KEPBxQuIymfGVj4zGuRkXXGjBnmMWXKFDNi+DI4ouLIih03vz//fvx9+P7CCy80Ofnp4ooJMEYj5i719fVYt26d6c04NOFj9erVJod0Ow/84o94aVs9rr94Fq65qBKLzp2OUuuiGQovAg7XFixYYH/iDxgVt2/fbqIgO/Hhguf7oYceMh0ooy5nnCdNmmTmLebNO7mVXbdt24Z4PD7YETOys2Ni0OIw/ZJLLjHiPh0cL2b2Zpw9ZA/I1zwpuei8atUqM7voBfa/dwRl40ZhzOhPCngoHKKxQ2POfCLRwCtwFphDbI7OaN8wNx0O2Inwhg5OTuXON4XIv8OcOXPM+xOBN4q8/vrr5ndgx8CIzujOa5lDdA7b+dnJdhCfxvFzvzx57Ln44Mwfo9Kll15qekqeHK8wf9aULxQyYW41c+ZMc0H4CY68OMTltcAZ5OGCk1s850M7Tn6Pk4l//FtxqJ4bWvNnsiNgcGI+zo6Knx09etRE/NPB8WLm0Iq21GuvvWZmDNmL8Zdmr8mT4zd4MXFo5idy8yWmIs5Ff3N+17feessMr2lf8dplMKJ4CSMxP+NxfK6pqTmt+QBXiJlDEA6vysrKhm0m06nQmvHTEJvwGqiqqjKv3SRmRl1GXH5nLmHFnJsROQcnvTgHwLvMKGKmk3x9qrjqDjBSXV1tejoOu5csWWImEYQYLpjqMY8+kTvAch0Ph9q01ubPn2+u20+Tu9WTM+W5x6ngyvulhHADOWFybufz/GdCgfOYnKBPFYlZiGGAUfpsD4IlZiE8gsQshEeQmIXwCBKzEB5BYhbCI0jMQngEiVkITwD8PxJMJEZNmiGfAAAAAElFTkSuQmCC)"
      ],
      "metadata": {
        "id": "UgDWiWpyY4cV"
      }
    },
    {
      "cell_type": "markdown",
      "source": [
        "#### Orthogonal Vectors\n",
        "*  Two vectors $\\mathbf{x}$ and $\\mathbf{y}$ are orthogonal vectors if $\\mathbf{x}^T\\mathbf{y}=0$\n",
        "*  The orthogonal vectors are at 90° angle to each other (assuming non-zero norms).\n",
        "*  Given an *n*-dimensional space then there are max *n* mutually orthogonal vectors.\n",
        "*  **Orthonormal** vectors are a special type of orthogonal vectors that all have a unit norm (an $L^2$ norm and $L^2$ distance of unit 1.\n",
        "  *  The basis vectors above are an example of orthonormal vectors."
      ],
      "metadata": {
        "id": "6cln3NY9eqE-"
      }
    },
    {
      "cell_type": "code",
      "source": [
        "# Create a vector i\n",
        "i = np.array([1, 0])\n",
        "i"
      ],
      "metadata": {
        "id": "6bNJH8eylzpm",
        "colab": {
          "base_uri": "https://localhost:8080/"
        },
        "outputId": "304e84e9-da74-4a6c-e752-d4c3ad00edda"
      },
      "execution_count": null,
      "outputs": [
        {
          "output_type": "execute_result",
          "data": {
            "text/plain": [
              "array([1, 0])"
            ]
          },
          "metadata": {},
          "execution_count": 202
        }
      ]
    },
    {
      "cell_type": "code",
      "source": [
        "# Create a vector j\n",
        "j = np.array([0, 1])\n",
        "j"
      ],
      "metadata": {
        "colab": {
          "base_uri": "https://localhost:8080/"
        },
        "id": "Iqb5K_7vkIGg",
        "outputId": "332a4af2-2733-4652-eada-864941ceb23d"
      },
      "execution_count": null,
      "outputs": [
        {
          "output_type": "execute_result",
          "data": {
            "text/plain": [
              "array([0, 1])"
            ]
          },
          "metadata": {},
          "execution_count": 203
        }
      ]
    },
    {
      "cell_type": "code",
      "source": [
        "# Perform the dot product on the vectors i and j\n",
        "# These are orthogonal because the result is 0\n",
        "np.dot(i, j)"
      ],
      "metadata": {
        "colab": {
          "base_uri": "https://localhost:8080/"
        },
        "id": "BZBy9I32kXqg",
        "outputId": "0b934490-e934-41d8-eec6-f10e74b7680e"
      },
      "execution_count": null,
      "outputs": [
        {
          "output_type": "execute_result",
          "data": {
            "text/plain": [
              "0"
            ]
          },
          "metadata": {},
          "execution_count": 204
        }
      ]
    },
    {
      "cell_type": "markdown",
      "source": [
        "### Matrices\n",
        "*  Matrices are two-dimensional arrays of numbers.\n",
        "*  Matrices are denoted in uppercase, italics, bold, e.g.: $\\mathbf{X}$\n",
        "*  With matrices, height is given priority ahead of width in notation, i.e.: $(n_{row}, n_{col})$\n",
        "  *  If $\\mathbf{X}$ has three rows and two columns, its shape is $(3, 2)$\n",
        "*  Individual scalar elements are denoted in uppercase, italics only.\n",
        "  *  This means the element in the top-right corner of the matrix $\\mathbf{X}$ would be $\\mathit{X}_{1,2}$\n",
        "*  A colon can represent an entire row or column:\n",
        "  *  The left column of matrix $\\mathbf{X}$ is $\\mathbf{X_{:,1}}$\n",
        "  *  The middle row of matrix $\\mathbf{X}$ is $\\mathbf{X_{2,:}}$\n",
        "\n",
        "\\begin{equation*}\n",
        "  \\begin{bmatrix}\n",
        "    \\mathit{X}_{1,1} & \\mathit{X}_{1,2} \\\\\n",
        "    \\mathit{X}_{2,1} & \\mathit{X}_{2,2} \\\\\n",
        "    \\mathit{X}_{3,1} & \\mathit{X}_{3,2} \\\\\n",
        "  \\end{bmatrix}\n",
        "  \\begin{bmatrix}\n",
        "    25 & 2 \\\\\n",
        "    5 & 26 \\\\\n",
        "    3 & 7 \\\\\n",
        "  \\end{bmatrix}\n",
        "\\end{equation*}"
      ],
      "metadata": {
        "id": "CIxKicP-tp-X"
      }
    },
    {
      "cell_type": "markdown",
      "source": [
        "#### Matrices (Rank 2 Tensors) in NumPy"
      ],
      "metadata": {
        "id": "M5scpmd-6s-e"
      }
    },
    {
      "cell_type": "code",
      "source": [
        "# Use array() with nested brackets:\n",
        "X = np.array([[25,2], [5, 26], [3, 7]])\n",
        "X"
      ],
      "metadata": {
        "id": "YPurn5iLkkOG",
        "colab": {
          "base_uri": "https://localhost:8080/"
        },
        "outputId": "901a46c0-db84-46e5-864b-348ddb82b8c2"
      },
      "execution_count": null,
      "outputs": [
        {
          "output_type": "execute_result",
          "data": {
            "text/plain": [
              "array([[25,  2],\n",
              "       [ 5, 26],\n",
              "       [ 3,  7]])"
            ]
          },
          "metadata": {},
          "execution_count": 205
        }
      ]
    },
    {
      "cell_type": "code",
      "source": [
        "X.shape"
      ],
      "metadata": {
        "colab": {
          "base_uri": "https://localhost:8080/"
        },
        "id": "jt4zTMrH7KRv",
        "outputId": "9b409a32-b3ae-4336-96f8-61230ffb2a63"
      },
      "execution_count": null,
      "outputs": [
        {
          "output_type": "execute_result",
          "data": {
            "text/plain": [
              "(3, 2)"
            ]
          },
          "metadata": {},
          "execution_count": 206
        }
      ]
    },
    {
      "cell_type": "code",
      "source": [
        "# Get the total number of elements in the matrix\n",
        "X.size"
      ],
      "metadata": {
        "colab": {
          "base_uri": "https://localhost:8080/"
        },
        "id": "fZBK8uaj7PUo",
        "outputId": "627aade3-64d0-4930-bc89-4516b821eea9"
      },
      "execution_count": null,
      "outputs": [
        {
          "output_type": "execute_result",
          "data": {
            "text/plain": [
              "6"
            ]
          },
          "metadata": {},
          "execution_count": 207
        }
      ]
    },
    {
      "cell_type": "code",
      "source": [
        "# Select the left column of matrix X (zero-indexed)\n",
        "X[:, 0]"
      ],
      "metadata": {
        "colab": {
          "base_uri": "https://localhost:8080/"
        },
        "id": "gZOr0Hbp7Q8P",
        "outputId": "b0a3e771-2ffc-4e83-fbf9-1ca5ec29f339"
      },
      "execution_count": null,
      "outputs": [
        {
          "output_type": "execute_result",
          "data": {
            "text/plain": [
              "array([25,  5,  3])"
            ]
          },
          "metadata": {},
          "execution_count": 208
        }
      ]
    },
    {
      "cell_type": "code",
      "source": [
        "# Select the middle row of matrix X\n",
        "X[1, :]"
      ],
      "metadata": {
        "colab": {
          "base_uri": "https://localhost:8080/"
        },
        "id": "5k1fVT8c7hKm",
        "outputId": "e838bdfe-88c2-4db5-cccb-3d246ec929f3"
      },
      "execution_count": null,
      "outputs": [
        {
          "output_type": "execute_result",
          "data": {
            "text/plain": [
              "array([ 5, 26])"
            ]
          },
          "metadata": {},
          "execution_count": 209
        }
      ]
    },
    {
      "cell_type": "code",
      "source": [
        "# Select the first and second row and the first and second column\n",
        "X[0:2, 0:2]"
      ],
      "metadata": {
        "colab": {
          "base_uri": "https://localhost:8080/"
        },
        "id": "eWH1Nimx7xhY",
        "outputId": "2f4a3aad-0d99-47cf-f83c-037f02e24718"
      },
      "execution_count": null,
      "outputs": [
        {
          "output_type": "execute_result",
          "data": {
            "text/plain": [
              "array([[25,  2],\n",
              "       [ 5, 26]])"
            ]
          },
          "metadata": {},
          "execution_count": 210
        }
      ]
    },
    {
      "cell_type": "markdown",
      "source": [
        "#### Matrices in PyTorch"
      ],
      "metadata": {
        "id": "OqtHUNeWCQV1"
      }
    },
    {
      "cell_type": "code",
      "source": [
        "X_pt = torch.tensor([[25, 2], [5, 26], [3, 7]])\n",
        "X_pt"
      ],
      "metadata": {
        "colab": {
          "base_uri": "https://localhost:8080/"
        },
        "id": "vYREV9hvCHYM",
        "outputId": "b39c08ba-6bbf-4a8d-99f3-25dc5bb4509f"
      },
      "execution_count": null,
      "outputs": [
        {
          "output_type": "execute_result",
          "data": {
            "text/plain": [
              "tensor([[25,  2],\n",
              "        [ 5, 26],\n",
              "        [ 3,  7]])"
            ]
          },
          "metadata": {},
          "execution_count": 211
        }
      ]
    },
    {
      "cell_type": "code",
      "source": [
        "X_pt.shape"
      ],
      "metadata": {
        "colab": {
          "base_uri": "https://localhost:8080/"
        },
        "id": "0XS1er7-DO7_",
        "outputId": "cb82f2cf-1a27-4806-e4cb-cb679566ef3f"
      },
      "execution_count": null,
      "outputs": [
        {
          "output_type": "execute_result",
          "data": {
            "text/plain": [
              "torch.Size([3, 2])"
            ]
          },
          "metadata": {},
          "execution_count": 212
        }
      ]
    },
    {
      "cell_type": "code",
      "source": [
        "X_pt[1, :]"
      ],
      "metadata": {
        "colab": {
          "base_uri": "https://localhost:8080/"
        },
        "id": "5b3qwxvqDU3O",
        "outputId": "6ddb0885-f144-4758-dbbd-4061236cf3bb"
      },
      "execution_count": null,
      "outputs": [
        {
          "output_type": "execute_result",
          "data": {
            "text/plain": [
              "tensor([ 5, 26])"
            ]
          },
          "metadata": {},
          "execution_count": 213
        }
      ]
    },
    {
      "cell_type": "markdown",
      "source": [
        "#### Matrices in TensorFlow"
      ],
      "metadata": {
        "id": "IlX6KvBBDxlP"
      }
    },
    {
      "cell_type": "code",
      "source": [
        "X_tf = tf.Variable([[25, 2], [5, 26], [3, 7]])\n",
        "X_tf"
      ],
      "metadata": {
        "colab": {
          "base_uri": "https://localhost:8080/"
        },
        "id": "KLbW026vDfLH",
        "outputId": "cd3b6e4e-8f6c-464c-a33d-83c7a8daf4fc"
      },
      "execution_count": null,
      "outputs": [
        {
          "output_type": "execute_result",
          "data": {
            "text/plain": [
              "<tf.Variable 'Variable:0' shape=(3, 2) dtype=int32, numpy=\n",
              "array([[25,  2],\n",
              "       [ 5, 26],\n",
              "       [ 3,  7]], dtype=int32)>"
            ]
          },
          "metadata": {},
          "execution_count": 214
        }
      ]
    },
    {
      "cell_type": "code",
      "source": [
        "tf.rank(X_tf)"
      ],
      "metadata": {
        "colab": {
          "base_uri": "https://localhost:8080/"
        },
        "id": "uSdr7zehD9PX",
        "outputId": "d44febb2-c56f-425f-bff5-4f047efaf63b"
      },
      "execution_count": null,
      "outputs": [
        {
          "output_type": "execute_result",
          "data": {
            "text/plain": [
              "<tf.Tensor: shape=(), dtype=int32, numpy=2>"
            ]
          },
          "metadata": {},
          "execution_count": 215
        }
      ]
    },
    {
      "cell_type": "code",
      "source": [
        "tf.shape(X_tf)"
      ],
      "metadata": {
        "colab": {
          "base_uri": "https://localhost:8080/"
        },
        "id": "Ml6SLhz_EHeX",
        "outputId": "0b86a8bc-f2df-4843-86f7-232f7f393cea"
      },
      "execution_count": null,
      "outputs": [
        {
          "output_type": "execute_result",
          "data": {
            "text/plain": [
              "<tf.Tensor: shape=(2,), dtype=int32, numpy=array([3, 2], dtype=int32)>"
            ]
          },
          "metadata": {},
          "execution_count": 216
        }
      ]
    },
    {
      "cell_type": "code",
      "source": [
        "X_tf[1, :]"
      ],
      "metadata": {
        "colab": {
          "base_uri": "https://localhost:8080/"
        },
        "id": "WZk_0aGEEQ2G",
        "outputId": "9d49b947-c8dd-456f-a9f4-1985ac74fc98"
      },
      "execution_count": null,
      "outputs": [
        {
          "output_type": "execute_result",
          "data": {
            "text/plain": [
              "<tf.Tensor: shape=(2,), dtype=int32, numpy=array([ 5, 26], dtype=int32)>"
            ]
          },
          "metadata": {},
          "execution_count": 217
        }
      ]
    },
    {
      "cell_type": "markdown",
      "source": [
        "### Generic Tensor Notation\n",
        "*  Higher rank tensors are denoted in upper-case, bold, italics, sans serif, e.g., $\\mathbf{\\mathit{\\textsf{X}}}$\n",
        "*  So if you have tensors in higher dimentions such as 4 or above, use sans serif font.\n",
        "*  For example, in a 4-tensor $\\mathbf{\\mathit{\\textsf{X}}}$, the element at position $(i, j, k, l)$ is denoted as $\\mathbf{\\mathit{\\textsf{X}}}_{(i,j,k,l)}$\n",
        "\n"
      ],
      "metadata": {
        "id": "5Frn2raad2Mj"
      }
    },
    {
      "cell_type": "markdown",
      "source": [
        "##### Higher-Rank Tensors\n",
        "*  A higher rank tensor such as rank 4 are common\n",
        "for images, where each dimension corresponds to:\n",
        "  1.  The number od images in a training batch, e.g., 32\n",
        "  2.  The image height in pixels, e.g., 28\n",
        "  3.  The image width in pixels, e.g., 28\n",
        "  4.  The number of color channels, e.g., 3 for a full color image (RGB)\n",
        "  "
      ],
      "metadata": {
        "id": "hgj3-INJkLgL"
      }
    },
    {
      "cell_type": "code",
      "source": [
        "images_pt = torch.zeros([32, 28, 28, 3])"
      ],
      "metadata": {
        "id": "hXexUWj9kKmS"
      },
      "execution_count": null,
      "outputs": []
    },
    {
      "cell_type": "code",
      "source": [
        "#images_pt"
      ],
      "metadata": {
        "id": "fHVamzAul1yh"
      },
      "execution_count": null,
      "outputs": []
    },
    {
      "cell_type": "code",
      "source": [
        "images_tf = tf.zeros([32, 28, 28, 3])"
      ],
      "metadata": {
        "id": "zTLiB8mFl25i"
      },
      "execution_count": null,
      "outputs": []
    },
    {
      "cell_type": "code",
      "source": [
        "#images_tf"
      ],
      "metadata": {
        "id": "rmHHKEVpm6Uk"
      },
      "execution_count": null,
      "outputs": []
    },
    {
      "cell_type": "markdown",
      "source": [
        "#### Common Tensor Operations\n",
        "*  Tensor Transposition\n",
        "*  Basic Tensor Arithmetic\n",
        "*  Reduction\n",
        "*  The Dot Product"
      ],
      "metadata": {
        "id": "LekRZMXWqZ9L"
      }
    },
    {
      "cell_type": "markdown",
      "source": [
        "#### Tensor Transposition\n",
        "*  The transpose of a scalar is itself, e.g.: $x^T = x$\n",
        "*  The transpose of a vector converts a column vector to a row vector and vice versa.\n",
        "*  Scalar and vector transposition are special cases of **matrix transposition**:\n",
        "  *  Flip the axes over the main diagonal such that:\n",
        "\n",
        "  \\begin{equation*}\n",
        "  \\mathbf{(X^T)_{i,j} = \\mathbf{(X)_{j,i}}}\n",
        "  \\end{equation*}\n",
        "\n",
        "  \\begin{align*}\n",
        "  \\hline\n",
        "  \\end{align*}\n",
        "\n",
        "  \\begin{equation*}\n",
        "  \\begin{bmatrix}\n",
        "    \\mathit{X}_{1,1} &\\mathit{X}_{1,2} \\\\\n",
        "    \\mathit{X}_{2,1} & \\mathit{X}_{2,2} \\\\\n",
        "    \\mathit{X}_{3,1} & \\mathit{X}_{3,2} \\\\\n",
        "  \\end{bmatrix}^T =\n",
        "  \\begin{bmatrix}\n",
        "    \\mathit{X}_{1,1} & \\mathit{X}_{2,1} & \\mathit{X}_{3,1}\\\\\n",
        "    \\mathit{X}_{1,2} & \\mathit{X}_{2,2} & \\mathit{X}_{3,2} \\\\\n",
        "  \\end{bmatrix}\n",
        "\\end{equation*}"
      ],
      "metadata": {
        "id": "cV1ztchSshoM"
      }
    },
    {
      "cell_type": "code",
      "source": [
        "# a matrix\n",
        "X"
      ],
      "metadata": {
        "colab": {
          "base_uri": "https://localhost:8080/"
        },
        "id": "n8I0VEQkywgz",
        "outputId": "b1b69bae-c4dd-4d28-ccfc-0c11ac375864"
      },
      "execution_count": null,
      "outputs": [
        {
          "output_type": "execute_result",
          "data": {
            "text/plain": [
              "array([[25,  2],\n",
              "       [ 5, 26],\n",
              "       [ 3,  7]])"
            ]
          },
          "metadata": {},
          "execution_count": 222
        }
      ]
    },
    {
      "cell_type": "code",
      "source": [
        "# a transform of the matrix\n",
        "X.T"
      ],
      "metadata": {
        "colab": {
          "base_uri": "https://localhost:8080/"
        },
        "id": "xdpdx0A2_CZj",
        "outputId": "f058bf26-4f93-4d34-da68-cd4a4cb39261"
      },
      "execution_count": null,
      "outputs": [
        {
          "output_type": "execute_result",
          "data": {
            "text/plain": [
              "array([[25,  5,  3],\n",
              "       [ 2, 26,  7]])"
            ]
          },
          "metadata": {},
          "execution_count": 223
        }
      ]
    },
    {
      "cell_type": "code",
      "source": [
        "X_pt.T # in pyTorch"
      ],
      "metadata": {
        "colab": {
          "base_uri": "https://localhost:8080/"
        },
        "id": "nrUzDJpz_M3C",
        "outputId": "46c45734-36c6-48f7-eedd-50dc578e31c0"
      },
      "execution_count": null,
      "outputs": [
        {
          "output_type": "execute_result",
          "data": {
            "text/plain": [
              "tensor([[25,  5,  3],\n",
              "        [ 2, 26,  7]])"
            ]
          },
          "metadata": {},
          "execution_count": 224
        }
      ]
    },
    {
      "cell_type": "code",
      "source": [
        "tf.transpose(X_tf) # in tensorflow"
      ],
      "metadata": {
        "colab": {
          "base_uri": "https://localhost:8080/"
        },
        "id": "V6KEmhG4_Z_7",
        "outputId": "91c7f53d-937d-48ee-933e-454de8adb51a"
      },
      "execution_count": null,
      "outputs": [
        {
          "output_type": "execute_result",
          "data": {
            "text/plain": [
              "<tf.Tensor: shape=(2, 3), dtype=int32, numpy=\n",
              "array([[25,  5,  3],\n",
              "       [ 2, 26,  7]], dtype=int32)>"
            ]
          },
          "metadata": {},
          "execution_count": 225
        }
      ]
    },
    {
      "cell_type": "markdown",
      "source": [
        "#### Basic Tensor Arithmetic\n",
        "*  Adding or multiplying with a scalar applies to all elements in the tensor and the tensor shape is retained."
      ],
      "metadata": {
        "id": "6G9VDg-k7U4J"
      }
    },
    {
      "cell_type": "code",
      "source": [
        "X"
      ],
      "metadata": {
        "id": "nWKnBZcN_qoc",
        "colab": {
          "base_uri": "https://localhost:8080/"
        },
        "outputId": "44514ef1-5d3d-4828-b1a2-34413fa589fb"
      },
      "execution_count": null,
      "outputs": [
        {
          "output_type": "execute_result",
          "data": {
            "text/plain": [
              "array([[25,  2],\n",
              "       [ 5, 26],\n",
              "       [ 3,  7]])"
            ]
          },
          "metadata": {},
          "execution_count": 226
        }
      ]
    },
    {
      "cell_type": "code",
      "source": [
        "X * 2"
      ],
      "metadata": {
        "colab": {
          "base_uri": "https://localhost:8080/"
        },
        "id": "lh0r74eb777L",
        "outputId": "2529df8d-7a6c-43a9-dfb3-aaf1a6fdd02b"
      },
      "execution_count": null,
      "outputs": [
        {
          "output_type": "execute_result",
          "data": {
            "text/plain": [
              "array([[50,  4],\n",
              "       [10, 52],\n",
              "       [ 6, 14]])"
            ]
          },
          "metadata": {},
          "execution_count": 227
        }
      ]
    },
    {
      "cell_type": "code",
      "source": [
        "X + 2"
      ],
      "metadata": {
        "colab": {
          "base_uri": "https://localhost:8080/"
        },
        "id": "SkcLm2SI8ALa",
        "outputId": "a081b82e-6e41-4cdf-b967-310bbf772daa"
      },
      "execution_count": null,
      "outputs": [
        {
          "output_type": "execute_result",
          "data": {
            "text/plain": [
              "array([[27,  4],\n",
              "       [ 7, 28],\n",
              "       [ 5,  9]])"
            ]
          },
          "metadata": {},
          "execution_count": 228
        }
      ]
    },
    {
      "cell_type": "code",
      "source": [
        "X * 2 + 2"
      ],
      "metadata": {
        "colab": {
          "base_uri": "https://localhost:8080/"
        },
        "id": "nntDEPOl9lep",
        "outputId": "1de3ca8b-49fa-45eb-9406-e1c1f87d6bd3"
      },
      "execution_count": null,
      "outputs": [
        {
          "output_type": "execute_result",
          "data": {
            "text/plain": [
              "array([[52,  6],\n",
              "       [12, 54],\n",
              "       [ 8, 16]])"
            ]
          },
          "metadata": {},
          "execution_count": 229
        }
      ]
    },
    {
      "cell_type": "code",
      "source": [
        "# In pyTorch\n",
        "X_pt"
      ],
      "metadata": {
        "colab": {
          "base_uri": "https://localhost:8080/"
        },
        "id": "U_Oe5IDe-9oC",
        "outputId": "619cc322-366a-422b-b4b2-e86da749a14e"
      },
      "execution_count": null,
      "outputs": [
        {
          "output_type": "execute_result",
          "data": {
            "text/plain": [
              "tensor([[25,  2],\n",
              "        [ 5, 26],\n",
              "        [ 3,  7]])"
            ]
          },
          "metadata": {},
          "execution_count": 230
        }
      ]
    },
    {
      "cell_type": "code",
      "source": [
        "X_pt * 2 + 2 # The python operators are overloaded; we could also use torch.mul() or torch.add()"
      ],
      "metadata": {
        "colab": {
          "base_uri": "https://localhost:8080/"
        },
        "id": "YTN9wWAT_O-i",
        "outputId": "32bae557-40e6-437f-978f-213a6afb38e6"
      },
      "execution_count": null,
      "outputs": [
        {
          "output_type": "execute_result",
          "data": {
            "text/plain": [
              "tensor([[52,  6],\n",
              "        [12, 54],\n",
              "        [ 8, 16]])"
            ]
          },
          "metadata": {},
          "execution_count": 231
        }
      ]
    },
    {
      "cell_type": "code",
      "source": [
        "torch.add(torch.mul(X_pt, 2), 2)"
      ],
      "metadata": {
        "colab": {
          "base_uri": "https://localhost:8080/"
        },
        "id": "UpTUzZ_g_hnS",
        "outputId": "a96d2a7f-dfe3-45ec-b198-dd88db2b9065"
      },
      "execution_count": null,
      "outputs": [
        {
          "output_type": "execute_result",
          "data": {
            "text/plain": [
              "tensor([[52,  6],\n",
              "        [12, 54],\n",
              "        [ 8, 16]])"
            ]
          },
          "metadata": {},
          "execution_count": 232
        }
      ]
    },
    {
      "cell_type": "code",
      "source": [
        "# In tensorflow\n",
        "X_tf"
      ],
      "metadata": {
        "colab": {
          "base_uri": "https://localhost:8080/"
        },
        "id": "PR1Je074AYJD",
        "outputId": "dcf41b70-81ec-497a-bb73-13e4580a11c6"
      },
      "execution_count": null,
      "outputs": [
        {
          "output_type": "execute_result",
          "data": {
            "text/plain": [
              "<tf.Variable 'Variable:0' shape=(3, 2) dtype=int32, numpy=\n",
              "array([[25,  2],\n",
              "       [ 5, 26],\n",
              "       [ 3,  7]], dtype=int32)>"
            ]
          },
          "metadata": {},
          "execution_count": 233
        }
      ]
    },
    {
      "cell_type": "code",
      "source": [
        "X_tf * 2 + 2 # The python operators are overloaded; We can also use tf.multiply() and tf.add()"
      ],
      "metadata": {
        "colab": {
          "base_uri": "https://localhost:8080/"
        },
        "id": "RpTA6oy2Af3r",
        "outputId": "e925c7db-77cd-4c13-b0d7-310b0db1b353"
      },
      "execution_count": null,
      "outputs": [
        {
          "output_type": "execute_result",
          "data": {
            "text/plain": [
              "<tf.Tensor: shape=(3, 2), dtype=int32, numpy=\n",
              "array([[52,  6],\n",
              "       [12, 54],\n",
              "       [ 8, 16]], dtype=int32)>"
            ]
          },
          "metadata": {},
          "execution_count": 234
        }
      ]
    },
    {
      "cell_type": "code",
      "source": [
        "tf.add(tf.multiply(X_tf, 2), 2)"
      ],
      "metadata": {
        "colab": {
          "base_uri": "https://localhost:8080/"
        },
        "id": "8SMjPwBkAsXh",
        "outputId": "bf2a73d9-fdb3-45b9-9e30-ef815d40c512"
      },
      "execution_count": null,
      "outputs": [
        {
          "output_type": "execute_result",
          "data": {
            "text/plain": [
              "<tf.Tensor: shape=(3, 2), dtype=int32, numpy=\n",
              "array([[52,  6],\n",
              "       [12, 54],\n",
              "       [ 8, 16]], dtype=int32)>"
            ]
          },
          "metadata": {},
          "execution_count": 235
        }
      ]
    },
    {
      "cell_type": "markdown",
      "source": [
        "*  If two tensors have the same size, operations are often by default applied element-wise. This is **not matrix multiplication**, but is called the **Hadamard product** or simply the **element-wise product**.\n",
        "*  The mathematical notation is $\\mathbf{\\mathit{A}}\\odot\\mathbf{\\mathit{B}}$"
      ],
      "metadata": {
        "id": "6XoKNcvWCHKD"
      }
    },
    {
      "cell_type": "code",
      "source": [
        "X"
      ],
      "metadata": {
        "colab": {
          "base_uri": "https://localhost:8080/"
        },
        "id": "x-i9DNQfAzMq",
        "outputId": "f35ae973-9251-42e7-c924-9c7ee9195796"
      },
      "execution_count": null,
      "outputs": [
        {
          "output_type": "execute_result",
          "data": {
            "text/plain": [
              "array([[25,  2],\n",
              "       [ 5, 26],\n",
              "       [ 3,  7]])"
            ]
          },
          "metadata": {},
          "execution_count": 236
        }
      ]
    },
    {
      "cell_type": "code",
      "source": [
        "A = X + 2\n",
        "A"
      ],
      "metadata": {
        "colab": {
          "base_uri": "https://localhost:8080/"
        },
        "id": "5IcOFEMEU8Fm",
        "outputId": "4efad5bd-a599-42f1-91c5-3cf2e0cca106"
      },
      "execution_count": null,
      "outputs": [
        {
          "output_type": "execute_result",
          "data": {
            "text/plain": [
              "array([[27,  4],\n",
              "       [ 7, 28],\n",
              "       [ 5,  9]])"
            ]
          },
          "metadata": {},
          "execution_count": 237
        }
      ]
    },
    {
      "cell_type": "code",
      "source": [
        "A + X"
      ],
      "metadata": {
        "colab": {
          "base_uri": "https://localhost:8080/"
        },
        "id": "q905HJbCVB3U",
        "outputId": "0c86cd76-10a2-403c-bc31-407c5b65d0df"
      },
      "execution_count": null,
      "outputs": [
        {
          "output_type": "execute_result",
          "data": {
            "text/plain": [
              "array([[52,  6],\n",
              "       [12, 54],\n",
              "       [ 8, 16]])"
            ]
          },
          "metadata": {},
          "execution_count": 238
        }
      ]
    },
    {
      "cell_type": "code",
      "source": [
        "A * X # not matrix multiplication"
      ],
      "metadata": {
        "colab": {
          "base_uri": "https://localhost:8080/"
        },
        "id": "utn4VGuuVK8E",
        "outputId": "33adc84e-807c-4ef4-d0ab-660fed90e96e"
      },
      "execution_count": null,
      "outputs": [
        {
          "output_type": "execute_result",
          "data": {
            "text/plain": [
              "array([[675,   8],\n",
              "       [ 35, 728],\n",
              "       [ 15,  63]])"
            ]
          },
          "metadata": {},
          "execution_count": 239
        }
      ]
    },
    {
      "cell_type": "code",
      "source": [
        "# In pyTorch\n",
        "A_pt = X_pt + 2\n",
        "A_pt"
      ],
      "metadata": {
        "colab": {
          "base_uri": "https://localhost:8080/"
        },
        "id": "gQiGJkOKVSA8",
        "outputId": "5c0e75d0-ce1b-44b4-c532-b2c040f813d7"
      },
      "execution_count": null,
      "outputs": [
        {
          "output_type": "execute_result",
          "data": {
            "text/plain": [
              "tensor([[27,  4],\n",
              "        [ 7, 28],\n",
              "        [ 5,  9]])"
            ]
          },
          "metadata": {},
          "execution_count": 240
        }
      ]
    },
    {
      "cell_type": "code",
      "source": [
        "A_pt + X_pt"
      ],
      "metadata": {
        "colab": {
          "base_uri": "https://localhost:8080/"
        },
        "id": "a3AhkCJedece",
        "outputId": "85e140cc-a1f3-4d72-a44e-083889740612"
      },
      "execution_count": null,
      "outputs": [
        {
          "output_type": "execute_result",
          "data": {
            "text/plain": [
              "tensor([[52,  6],\n",
              "        [12, 54],\n",
              "        [ 8, 16]])"
            ]
          },
          "metadata": {},
          "execution_count": 241
        }
      ]
    },
    {
      "cell_type": "code",
      "source": [
        "A_pt * X_pt"
      ],
      "metadata": {
        "colab": {
          "base_uri": "https://localhost:8080/"
        },
        "id": "hX31Rpzodlnl",
        "outputId": "e64c408e-6163-4343-9b08-b84af61e52ec"
      },
      "execution_count": null,
      "outputs": [
        {
          "output_type": "execute_result",
          "data": {
            "text/plain": [
              "tensor([[675,   8],\n",
              "        [ 35, 728],\n",
              "        [ 15,  63]])"
            ]
          },
          "metadata": {},
          "execution_count": 242
        }
      ]
    },
    {
      "cell_type": "code",
      "source": [
        "# In Tensorflow\n",
        "A_tf = X_tf + 2\n",
        "A_tf"
      ],
      "metadata": {
        "colab": {
          "base_uri": "https://localhost:8080/"
        },
        "id": "vGNtjSU-dzyu",
        "outputId": "b4a0cf01-5507-434f-84a2-c18e80169a10"
      },
      "execution_count": null,
      "outputs": [
        {
          "output_type": "execute_result",
          "data": {
            "text/plain": [
              "<tf.Tensor: shape=(3, 2), dtype=int32, numpy=\n",
              "array([[27,  4],\n",
              "       [ 7, 28],\n",
              "       [ 5,  9]], dtype=int32)>"
            ]
          },
          "metadata": {},
          "execution_count": 243
        }
      ]
    },
    {
      "cell_type": "code",
      "source": [
        "A_tf + X_tf"
      ],
      "metadata": {
        "colab": {
          "base_uri": "https://localhost:8080/"
        },
        "id": "EZi_sAMPeBJE",
        "outputId": "b05d7515-36b8-4cc5-a53f-5d686f02bcea"
      },
      "execution_count": null,
      "outputs": [
        {
          "output_type": "execute_result",
          "data": {
            "text/plain": [
              "<tf.Tensor: shape=(3, 2), dtype=int32, numpy=\n",
              "array([[52,  6],\n",
              "       [12, 54],\n",
              "       [ 8, 16]], dtype=int32)>"
            ]
          },
          "metadata": {},
          "execution_count": 244
        }
      ]
    },
    {
      "cell_type": "code",
      "source": [
        "A_tf * X_tf"
      ],
      "metadata": {
        "colab": {
          "base_uri": "https://localhost:8080/"
        },
        "id": "4IjdVCyteH--",
        "outputId": "18baa5ef-6398-4059-ee7b-0a684243d8f8"
      },
      "execution_count": null,
      "outputs": [
        {
          "output_type": "execute_result",
          "data": {
            "text/plain": [
              "<tf.Tensor: shape=(3, 2), dtype=int32, numpy=\n",
              "array([[675,   8],\n",
              "       [ 35, 728],\n",
              "       [ 15,  63]], dtype=int32)>"
            ]
          },
          "metadata": {},
          "execution_count": 245
        }
      ]
    },
    {
      "cell_type": "markdown",
      "source": [
        "#### Reduction\n",
        "Calculating the sum across all elements of a tensor is a common operation. For example:\n",
        "*  For vector **x** of length *n* we can calculate the sum as:\n",
        "\\begin{equation}\n",
        "\\sum_{i=1}^{n} x_i\n",
        "\\end{equation}\n",
        "*  For a matrix ***X*** with *m* by *n* dimensions, we calculate:\n",
        "\\begin{equation}\n",
        "\\sum_{i=1}^{m}\\sum_{j=1}^{n} \\mathbf{\\mathit{X}}_{i,j}\n",
        "\\end{equation}"
      ],
      "metadata": {
        "id": "ju-OHR3WeyvU"
      }
    },
    {
      "cell_type": "code",
      "source": [
        "X"
      ],
      "metadata": {
        "id": "Zctl9ZYceN-c",
        "colab": {
          "base_uri": "https://localhost:8080/"
        },
        "outputId": "c7abef88-0319-47cc-c2c7-510484201431"
      },
      "execution_count": null,
      "outputs": [
        {
          "output_type": "execute_result",
          "data": {
            "text/plain": [
              "array([[25,  2],\n",
              "       [ 5, 26],\n",
              "       [ 3,  7]])"
            ]
          },
          "metadata": {},
          "execution_count": 246
        }
      ]
    },
    {
      "cell_type": "code",
      "source": [
        "X.sum()"
      ],
      "metadata": {
        "colab": {
          "base_uri": "https://localhost:8080/"
        },
        "id": "QRvdE_q6MIuf",
        "outputId": "cf868d94-5bc8-404d-9efd-178152f68e77"
      },
      "execution_count": null,
      "outputs": [
        {
          "output_type": "execute_result",
          "data": {
            "text/plain": [
              "68"
            ]
          },
          "metadata": {},
          "execution_count": 247
        }
      ]
    },
    {
      "cell_type": "code",
      "source": [
        "# In pyTorch\n",
        "torch.sum(X_pt)"
      ],
      "metadata": {
        "colab": {
          "base_uri": "https://localhost:8080/"
        },
        "id": "7NC1FLtjMNgo",
        "outputId": "3e0c2942-e807-4ab6-9711-20335439ca56"
      },
      "execution_count": null,
      "outputs": [
        {
          "output_type": "execute_result",
          "data": {
            "text/plain": [
              "tensor(68)"
            ]
          },
          "metadata": {},
          "execution_count": 248
        }
      ]
    },
    {
      "cell_type": "code",
      "source": [
        "# In Tensorflow\n",
        "tf.reduce_sum(X_tf)"
      ],
      "metadata": {
        "colab": {
          "base_uri": "https://localhost:8080/"
        },
        "id": "HINl6n_aMgCC",
        "outputId": "57d15e9f-738b-4cdb-bfe5-5bb8539fc945"
      },
      "execution_count": null,
      "outputs": [
        {
          "output_type": "execute_result",
          "data": {
            "text/plain": [
              "<tf.Tensor: shape=(), dtype=int32, numpy=68>"
            ]
          },
          "metadata": {},
          "execution_count": 249
        }
      ]
    },
    {
      "cell_type": "code",
      "source": [
        "# This can be done along one specific axis alone, e.g.:\n",
        "X.sum(axis=0) # sum all rows"
      ],
      "metadata": {
        "colab": {
          "base_uri": "https://localhost:8080/"
        },
        "id": "MHDscGbNNH__",
        "outputId": "f2475a2e-e810-415d-fe65-4214aebcefed"
      },
      "execution_count": null,
      "outputs": [
        {
          "output_type": "execute_result",
          "data": {
            "text/plain": [
              "array([33, 35])"
            ]
          },
          "metadata": {},
          "execution_count": 250
        }
      ]
    },
    {
      "cell_type": "code",
      "source": [
        "X.sum(axis=1) # sum all columns"
      ],
      "metadata": {
        "colab": {
          "base_uri": "https://localhost:8080/"
        },
        "id": "E6hqRKjHNiWY",
        "outputId": "0f2e3320-5b24-4671-f11f-b1bb28e6938a"
      },
      "execution_count": null,
      "outputs": [
        {
          "output_type": "execute_result",
          "data": {
            "text/plain": [
              "array([27, 31, 10])"
            ]
          },
          "metadata": {},
          "execution_count": 251
        }
      ]
    },
    {
      "cell_type": "code",
      "source": [
        "# using pyTorch\n",
        "torch.sum(X_pt, 0) # sum rows"
      ],
      "metadata": {
        "colab": {
          "base_uri": "https://localhost:8080/"
        },
        "id": "3a5A0uybO6sP",
        "outputId": "d5a25d5a-8d13-4145-cc16-cb65be5facdc"
      },
      "execution_count": null,
      "outputs": [
        {
          "output_type": "execute_result",
          "data": {
            "text/plain": [
              "tensor([33, 35])"
            ]
          },
          "metadata": {},
          "execution_count": 252
        }
      ]
    },
    {
      "cell_type": "code",
      "source": [
        "torch.sum(X_pt, 1) # sum columns"
      ],
      "metadata": {
        "colab": {
          "base_uri": "https://localhost:8080/"
        },
        "id": "fDE4nW3GPYSf",
        "outputId": "3f55ae95-0236-4261-c99d-f5f343b61706"
      },
      "execution_count": null,
      "outputs": [
        {
          "output_type": "execute_result",
          "data": {
            "text/plain": [
              "tensor([27, 31, 10])"
            ]
          },
          "metadata": {},
          "execution_count": 253
        }
      ]
    },
    {
      "cell_type": "code",
      "source": [
        "# using Tensorflow\n",
        "tf.reduce_sum(X_tf, 0) # sum rows"
      ],
      "metadata": {
        "colab": {
          "base_uri": "https://localhost:8080/"
        },
        "id": "6WPSTgqHPfvg",
        "outputId": "819d18c3-2392-4cbc-956d-584b6cf2fb7b"
      },
      "execution_count": null,
      "outputs": [
        {
          "output_type": "execute_result",
          "data": {
            "text/plain": [
              "<tf.Tensor: shape=(2,), dtype=int32, numpy=array([33, 35], dtype=int32)>"
            ]
          },
          "metadata": {},
          "execution_count": 254
        }
      ]
    },
    {
      "cell_type": "code",
      "source": [
        "tf.reduce_sum(X_tf, 1) # sum columns"
      ],
      "metadata": {
        "colab": {
          "base_uri": "https://localhost:8080/"
        },
        "id": "-z9uih_QRsrn",
        "outputId": "eba34a9b-ad59-4553-e861-893ab859db8a"
      },
      "execution_count": null,
      "outputs": [
        {
          "output_type": "execute_result",
          "data": {
            "text/plain": [
              "<tf.Tensor: shape=(3,), dtype=int32, numpy=array([27, 31, 10], dtype=int32)>"
            ]
          },
          "metadata": {},
          "execution_count": 255
        }
      ]
    },
    {
      "cell_type": "markdown",
      "source": [
        "Many other types of reduction can be applied along all or a selection of axes, such as:\n",
        "*  maximum\n",
        "*  minimum\n",
        "*  mean\n",
        "*  product"
      ],
      "metadata": {
        "id": "Trwz7j0iSA-X"
      }
    },
    {
      "cell_type": "markdown",
      "source": [
        "#### The Dot Product\n",
        "If we have two vectors ($\\vec{x}$ and $\\vec{y}$) with the same length $n$, we can calculate the dot product between them. This is annotated in different ways including the following:\n",
        "*  $\\vec{x}\\cdot\\vec{y}$\n",
        "*  $\\vec{x}^T\\vec{y}$\n",
        "*  $⟨\\vec{x}, \\vec{y}\\rangle$\n",
        "\n",
        "No matter what notation we use, the calculation is the same. We will calculate products in an element-wise fashion and then sum reductively across the products to a scalar value:\n",
        "\\begin{equation}\n",
        "\\vec{x}\\cdot\\vec{y} = \\sum_{i=1}^{n} x_i y_i\n",
        "\\end{equation}\n",
        "\n",
        "The dot product is ubiquitous in deep learning: It is performed at every artificial neuron in a deep neural network, which can be made up of millions (or orders of magnitude more) of these neurons."
      ],
      "metadata": {
        "id": "iEGlXVjUSd2O"
      }
    },
    {
      "cell_type": "code",
      "source": [
        "x"
      ],
      "metadata": {
        "id": "GzxwSGrARzhH",
        "colab": {
          "base_uri": "https://localhost:8080/"
        },
        "outputId": "9234fa80-5f45-4e3c-d2e5-b4bfcb062967"
      },
      "execution_count": null,
      "outputs": [
        {
          "output_type": "execute_result",
          "data": {
            "text/plain": [
              "array([25,  2,  5])"
            ]
          },
          "metadata": {},
          "execution_count": 256
        }
      ]
    },
    {
      "cell_type": "code",
      "source": [
        "y = np.array([0, 1, 2])\n",
        "y"
      ],
      "metadata": {
        "colab": {
          "base_uri": "https://localhost:8080/"
        },
        "id": "KaEqivoGeQ0l",
        "outputId": "0d433661-243f-4a3d-dbf0-bd38245ff278"
      },
      "execution_count": null,
      "outputs": [
        {
          "output_type": "execute_result",
          "data": {
            "text/plain": [
              "array([0, 1, 2])"
            ]
          },
          "metadata": {},
          "execution_count": 257
        }
      ]
    },
    {
      "cell_type": "code",
      "source": [
        "# The dot product of x and y\n",
        "25*0 + 2*1 + 5*2"
      ],
      "metadata": {
        "colab": {
          "base_uri": "https://localhost:8080/"
        },
        "id": "fH6UFGhkefLm",
        "outputId": "9abed241-195b-43c4-bbd4-dc8e29b82bbc"
      },
      "execution_count": null,
      "outputs": [
        {
          "output_type": "execute_result",
          "data": {
            "text/plain": [
              "12"
            ]
          },
          "metadata": {},
          "execution_count": 258
        }
      ]
    },
    {
      "cell_type": "code",
      "source": [
        "np.dot(x, y)"
      ],
      "metadata": {
        "colab": {
          "base_uri": "https://localhost:8080/"
        },
        "id": "vFZHNdTPeyUE",
        "outputId": "20672fad-f4b6-47f2-f9e8-8e762f9d4f4d"
      },
      "execution_count": null,
      "outputs": [
        {
          "output_type": "execute_result",
          "data": {
            "text/plain": [
              "12"
            ]
          },
          "metadata": {},
          "execution_count": 259
        }
      ]
    },
    {
      "cell_type": "code",
      "source": [
        "# Using pyTorch\n",
        "x_pt"
      ],
      "metadata": {
        "colab": {
          "base_uri": "https://localhost:8080/"
        },
        "id": "QWVnWwZBf-OA",
        "outputId": "04e64ae3-34eb-47ca-b745-3deeb9fefe57"
      },
      "execution_count": null,
      "outputs": [
        {
          "output_type": "execute_result",
          "data": {
            "text/plain": [
              "tensor([25,  2,  5])"
            ]
          },
          "metadata": {},
          "execution_count": 260
        }
      ]
    },
    {
      "cell_type": "code",
      "source": [
        "y_pt = torch.tensor([0, 1, 2])\n",
        "y_pt"
      ],
      "metadata": {
        "colab": {
          "base_uri": "https://localhost:8080/"
        },
        "id": "kfqQ4RJtiscO",
        "outputId": "6cce732e-6b23-4931-eb43-853689b4a1b0"
      },
      "execution_count": null,
      "outputs": [
        {
          "output_type": "execute_result",
          "data": {
            "text/plain": [
              "tensor([0, 1, 2])"
            ]
          },
          "metadata": {},
          "execution_count": 261
        }
      ]
    },
    {
      "cell_type": "code",
      "source": [
        "np.dot(x_pt, y_pt)"
      ],
      "metadata": {
        "colab": {
          "base_uri": "https://localhost:8080/"
        },
        "id": "Hgw6ODW8i13X",
        "outputId": "9d5d1af0-4874-4fef-b6ed-a7f497686a7e"
      },
      "execution_count": null,
      "outputs": [
        {
          "output_type": "execute_result",
          "data": {
            "text/plain": [
              "12"
            ]
          },
          "metadata": {},
          "execution_count": 262
        }
      ]
    },
    {
      "cell_type": "code",
      "source": [
        "torch.dot(torch.tensor([25, 2, 5.]), torch.tensor([0, 1, 2.])) # a lot of pyTorch operations do not work on int type pyTorch tensors"
      ],
      "metadata": {
        "colab": {
          "base_uri": "https://localhost:8080/"
        },
        "id": "rRIG_QpMjIkA",
        "outputId": "9481c1f5-5cd6-499f-a852-7804e77a9e6f"
      },
      "execution_count": null,
      "outputs": [
        {
          "output_type": "execute_result",
          "data": {
            "text/plain": [
              "tensor(12.)"
            ]
          },
          "metadata": {},
          "execution_count": 263
        }
      ]
    },
    {
      "cell_type": "code",
      "source": [
        "# Using tensorflow\n",
        "x_tf"
      ],
      "metadata": {
        "colab": {
          "base_uri": "https://localhost:8080/"
        },
        "id": "LMSvrSehjWut",
        "outputId": "43e662e2-fa43-455e-bf25-80358622ff05"
      },
      "execution_count": null,
      "outputs": [
        {
          "output_type": "execute_result",
          "data": {
            "text/plain": [
              "<tf.Variable 'Variable:0' shape=(3,) dtype=int32, numpy=array([25,  2,  5], dtype=int32)>"
            ]
          },
          "metadata": {},
          "execution_count": 264
        }
      ]
    },
    {
      "cell_type": "code",
      "source": [
        "y_tf = tf.Variable([0, 1, 2])\n",
        "y_tf"
      ],
      "metadata": {
        "colab": {
          "base_uri": "https://localhost:8080/"
        },
        "id": "R5Yvkg9rjhpc",
        "outputId": "3005665f-0c76-4719-dddd-4f0658491179"
      },
      "execution_count": null,
      "outputs": [
        {
          "output_type": "execute_result",
          "data": {
            "text/plain": [
              "<tf.Variable 'Variable:0' shape=(3,) dtype=int32, numpy=array([0, 1, 2], dtype=int32)>"
            ]
          },
          "metadata": {},
          "execution_count": 265
        }
      ]
    },
    {
      "cell_type": "code",
      "source": [
        "np.dot(x_tf, y_tf)"
      ],
      "metadata": {
        "colab": {
          "base_uri": "https://localhost:8080/"
        },
        "id": "uCjgEOddjuY9",
        "outputId": "d9f8d43c-2d1a-43bd-f3ec-57784ee6bfe8"
      },
      "execution_count": null,
      "outputs": [
        {
          "output_type": "execute_result",
          "data": {
            "text/plain": [
              "12"
            ]
          },
          "metadata": {},
          "execution_count": 266
        }
      ]
    },
    {
      "cell_type": "code",
      "source": [
        "tf.reduce_sum(tf.multiply(x_tf, y_tf))"
      ],
      "metadata": {
        "colab": {
          "base_uri": "https://localhost:8080/"
        },
        "id": "qVDVkRtNjzh0",
        "outputId": "95a70a95-afeb-4f5c-fbaa-00590beed162"
      },
      "execution_count": null,
      "outputs": [
        {
          "output_type": "execute_result",
          "data": {
            "text/plain": [
              "<tf.Tensor: shape=(), dtype=int32, numpy=12>"
            ]
          },
          "metadata": {},
          "execution_count": 267
        }
      ]
    },
    {
      "cell_type": "markdown",
      "source": [
        "#### Review of Key Concepts\n",
        "*  tensor\n",
        "  *  scalar - 0 dimensional form\n",
        "  *  vector - 1 dimensional form\n",
        "  *  matrix - 2 dimensional form\n",
        "  *  n-tensor - n dimensional form (3 tensor, 4 tensor, ...)\n",
        "*  Common operations across tensors\n",
        "  *  transposition - vector or matrix\n",
        "  *  norm - quantifies the magnitude of a vector tensor\n",
        "  *  Hadamard product - element-wise product\n",
        "  *  dot product - vectors"
      ],
      "metadata": {
        "id": "g4LehhCknmJl"
      }
    },
    {
      "cell_type": "markdown",
      "source": [
        "#### Solving Linear Systems\n",
        "*  The Substitution Strategy\n",
        "  *  Use this method when there is a variable in the system with a coefficient of 1. For example, when solving for $x$ and $y$ in the following system:\n",
        "\n",
        "  \\begin{equation*}\n",
        "  y = 3x \\\\\n",
        "  -5x + 2y = 2 \\\\\n",
        "  \\end{equation*}\n",
        "\n",
        "  *  We just substitute $y$ with $3x$ in the second equation. Then solve for $x$.\n",
        "  *  Then substitute the solution for $x$ into the first equation and solve for $y$.\n",
        "  *  The the solution to the system (the point where the lines cross) is\n",
        "\n",
        "   \\begin{equation*}\n",
        "   \\therefore\\space\\space(x, y) = (2, 6)\n",
        "   \\end{equation*}\n",
        "\n",
        "*  The Elimination Strategy\n",
        "  *  Usually the best option if no variable in the system of equations has a coefficient of 1.\n",
        "  *  This method uses the *addition property* of equations to eliminate variables.\n",
        "    *  If required, we can multiply one or both equations to make elimination of a variable possible.\n",
        "\n",
        "  For example, let us solve for the unknowns in the following system:\n",
        "\n",
        "  \\begin{equation*}\n",
        "  \\color{red}{2x} - 3y = 15 \\\\\n",
        "  \\color{red}{4x} + 10y = 14\n",
        "  \\end{equation*}\n",
        "\n",
        "  We can take the first equation and multiply it by $\\color{red}{-2}$ and then add the equations together.\n",
        "\n",
        "  \\begin{equation*}\n",
        "  \\color{red}{-4x} + 6y = -30 \\\\\n",
        "  \\color{red}{4x} + 10y = 14\n",
        "  \\end{equation*}\n",
        "\n",
        "  Now we have:\n",
        "\n",
        "  \\begin{equation*}\n",
        "  \\color{red}{0x} + 16y = -16 \\\\\n",
        "  \\end{equation*}\n",
        "\n",
        "  Then we solve for $y$:\n",
        "\n",
        "  \\begin{equation*}\n",
        "  y = -1 \\\\\n",
        "  \\end{equation*}\n",
        "\n",
        "  Then we solve for $x$ in the first equation:\n",
        "  \n",
        "  \\begin{equation*}\n",
        "  2x -3(-1) = 15 \\\\\n",
        "  2x + 3 = 15 \\\\\n",
        "  2x = 12 \\\\\n",
        "  x = 6 \\\\\n",
        "  \\end{equation*}\n",
        "\n",
        "  And we get the solution (intersection of the two lines) of the system:\n",
        "\n",
        "  \\begin{equation*}\n",
        "  \\therefore\\space(x, y) = (6, -1)\n",
        "  \\end{equation*}"
      ],
      "metadata": {
        "id": "LZmkktGnkape"
      }
    },
    {
      "cell_type": "markdown",
      "source": [
        "#### Matrix Multiplication\n",
        "*  Matrix-by-Vector Multiplication\n",
        "*  Matrix-by-Matrix Multiplication\n",
        "*  Symmetric and Identity Matrices"
      ],
      "metadata": {
        "id": "yZ7_IRr3ahxV"
      }
    },
    {
      "cell_type": "markdown",
      "source": [
        "*  Matrix Multiplication\n",
        "  *  If you want to do matrix multiplication between two matrix tensors then the number of columns the first matrix ($\\mathbf{A}$) must be equal to the number of rows in the second matrix ($\\mathbf{B}$).\n",
        "  *  The result of the mutiplication ($\\mathbf{C}$) will have as many rows as matrix A and as many columns as matrix ($\\mathbf{B}$).\n",
        "  *  The elements of the result ($\\mathbf{C}$) will have first an element wise product and then a summation operation.\n",
        "\n",
        "  \\begin{equation*}\n",
        "  \\mathbf{C} = \\mathbf{A} \\times \\mathbf{B}\n",
        "  \\end{equation*}\n",
        "\n",
        "  \\begin{equation*}\n",
        "  \\mathbf{C}_{i,k} = \\sum_{j}\\mathbf{A}_{i,j} \\times \\mathbf{B}_{j,k}\n",
        "  \\end{equation*}\n",
        "\n",
        "*  Matrix-by-Vector Multiplication\n",
        "\n",
        "\\begin{equation*}\n",
        "  \\begin{bmatrix}\n",
        "  3 & 4 \\\\\n",
        "  5 & 6 \\\\\n",
        "  7 & 8 \\\\\n",
        "  \\end{bmatrix}\n",
        "  \\begin{bmatrix}\n",
        "  1 \\\\\n",
        "  2 \\\\\n",
        "  \\end{bmatrix} =\n",
        "  \\begin{bmatrix}\n",
        "  (3×1) + (4\\times2) \\\\\n",
        "  (5\\times1) + (6\\times2) \\\\\n",
        "  (7\\times1) + (8\\times2)\n",
        "  \\end{bmatrix} =\n",
        "  \\begin{bmatrix}\n",
        "  11 \\\\\n",
        "  17 \\\\\n",
        "  23\n",
        "  \\end{bmatrix}\n",
        "\\end{equation*}"
      ],
      "metadata": {
        "id": "aJthEZJ5bdkd"
      }
    },
    {
      "cell_type": "code",
      "source": [
        "# Matrix Multiplication with a Vector in Python\n",
        "A = np.array([ [3, 4], [5, 6], [7, 8] ])\n",
        "A"
      ],
      "metadata": {
        "id": "6XlmZZFSnPFe",
        "colab": {
          "base_uri": "https://localhost:8080/"
        },
        "outputId": "80203145-05dd-4a5a-e11b-6f4e7ab66343"
      },
      "execution_count": null,
      "outputs": [
        {
          "output_type": "execute_result",
          "data": {
            "text/plain": [
              "array([[3, 4],\n",
              "       [5, 6],\n",
              "       [7, 8]])"
            ]
          },
          "metadata": {},
          "execution_count": 268
        }
      ]
    },
    {
      "cell_type": "code",
      "source": [
        "b = np.array([1, 2])\n",
        "b"
      ],
      "metadata": {
        "colab": {
          "base_uri": "https://localhost:8080/"
        },
        "id": "J7rpPmsiuXmI",
        "outputId": "febbf468-d3bf-49e6-c162-b948776719be"
      },
      "execution_count": null,
      "outputs": [
        {
          "output_type": "execute_result",
          "data": {
            "text/plain": [
              "array([1, 2])"
            ]
          },
          "metadata": {},
          "execution_count": 269
        }
      ]
    },
    {
      "cell_type": "code",
      "source": [
        "np.dot(A, b) # even though dot products are between vectors only"
      ],
      "metadata": {
        "colab": {
          "base_uri": "https://localhost:8080/"
        },
        "id": "odptH_5iufGy",
        "outputId": "eba31f55-8dc7-4633-da93-6c18ad7af595"
      },
      "execution_count": null,
      "outputs": [
        {
          "output_type": "execute_result",
          "data": {
            "text/plain": [
              "array([11, 17, 23])"
            ]
          },
          "metadata": {},
          "execution_count": 270
        }
      ]
    },
    {
      "cell_type": "code",
      "source": [
        "# Using pyTorch\n",
        "A_pt = torch.tensor( [ [3, 4], [5, 6], [7, 8] ] )\n",
        "A_pt"
      ],
      "metadata": {
        "colab": {
          "base_uri": "https://localhost:8080/"
        },
        "id": "5xdsC2souta2",
        "outputId": "6b3b0d9e-5e55-4545-a630-0fdc3dec1f53"
      },
      "execution_count": null,
      "outputs": [
        {
          "output_type": "execute_result",
          "data": {
            "text/plain": [
              "tensor([[3, 4],\n",
              "        [5, 6],\n",
              "        [7, 8]])"
            ]
          },
          "metadata": {},
          "execution_count": 271
        }
      ]
    },
    {
      "cell_type": "code",
      "source": [
        "b_pt = torch.tensor([1, 2])\n",
        "b_pt"
      ],
      "metadata": {
        "colab": {
          "base_uri": "https://localhost:8080/"
        },
        "id": "ugpZWpUyu81o",
        "outputId": "f0fe204a-8223-46d4-9a00-b25ae92537b8"
      },
      "execution_count": null,
      "outputs": [
        {
          "output_type": "execute_result",
          "data": {
            "text/plain": [
              "tensor([1, 2])"
            ]
          },
          "metadata": {},
          "execution_count": 272
        }
      ]
    },
    {
      "cell_type": "code",
      "source": [
        "torch.matmul(A_pt, b_pt) # like np.dot(), automatically infers dims to do dot product, matvec, or matrix multiplication"
      ],
      "metadata": {
        "colab": {
          "base_uri": "https://localhost:8080/"
        },
        "id": "q2rNvZXQvEdf",
        "outputId": "4f397df4-a7ca-4b68-bfb2-cbbcb0b1588e"
      },
      "execution_count": null,
      "outputs": [
        {
          "output_type": "execute_result",
          "data": {
            "text/plain": [
              "tensor([11, 17, 23])"
            ]
          },
          "metadata": {},
          "execution_count": 273
        }
      ]
    },
    {
      "cell_type": "code",
      "source": [
        "# Using tensorflow\n",
        "A_tf = tf.Variable( [ [3, 4], [5, 6], [7, 8] ] )\n",
        "A_tf"
      ],
      "metadata": {
        "colab": {
          "base_uri": "https://localhost:8080/"
        },
        "id": "MwzKVsoVvdxH",
        "outputId": "9812473d-473d-41c8-9946-af3d6d6a90fa"
      },
      "execution_count": null,
      "outputs": [
        {
          "output_type": "execute_result",
          "data": {
            "text/plain": [
              "<tf.Variable 'Variable:0' shape=(3, 2) dtype=int32, numpy=\n",
              "array([[3, 4],\n",
              "       [5, 6],\n",
              "       [7, 8]], dtype=int32)>"
            ]
          },
          "metadata": {},
          "execution_count": 274
        }
      ]
    },
    {
      "cell_type": "code",
      "source": [
        "b_tf = tf.Variable([1, 2])\n",
        "b_tf"
      ],
      "metadata": {
        "colab": {
          "base_uri": "https://localhost:8080/"
        },
        "id": "ziWQPUZ6vqpw",
        "outputId": "2fd69e50-8f51-4856-e260-51eeb55d7e11"
      },
      "execution_count": null,
      "outputs": [
        {
          "output_type": "execute_result",
          "data": {
            "text/plain": [
              "<tf.Variable 'Variable:0' shape=(2,) dtype=int32, numpy=array([1, 2], dtype=int32)>"
            ]
          },
          "metadata": {},
          "execution_count": 275
        }
      ]
    },
    {
      "cell_type": "code",
      "source": [
        "tf.linalg.matvec(A_tf, b_tf)"
      ],
      "metadata": {
        "colab": {
          "base_uri": "https://localhost:8080/"
        },
        "id": "KUKWzQ7JvzS_",
        "outputId": "93866fe7-f095-4482-89c6-955eb0d26cb6"
      },
      "execution_count": null,
      "outputs": [
        {
          "output_type": "execute_result",
          "data": {
            "text/plain": [
              "<tf.Tensor: shape=(3,), dtype=int32, numpy=array([11, 17, 23], dtype=int32)>"
            ]
          },
          "metadata": {},
          "execution_count": 276
        }
      ]
    },
    {
      "cell_type": "markdown",
      "source": [
        "#### Matrix-by-Matrix Multiplication\n",
        "\n",
        "\\begin{equation*}\n",
        "  \\begin{bmatrix}\n",
        "  3 & 4 \\\\\n",
        "  5 & 6 \\\\\n",
        "  7 & 8 \\\\\n",
        "  \\end{bmatrix}\n",
        "  \\begin{bmatrix}\n",
        "  1 & 9 \\\\\n",
        "  2 & 0 \\\\\n",
        "  \\end{bmatrix} =\n",
        "  \\begin{bmatrix}\n",
        "  (3×1) + (4\\times2) & (3\\times9) + (4\\times0) \\\\\n",
        "  (5\\times1) + (6\\times2) & (5\\times9) + (6\\times0) \\\\\n",
        "  (7\\times1) + (8\\times2) & (7\\times9) + (8\\times0) \\\\\n",
        "  \\end{bmatrix} =\n",
        "  \\begin{bmatrix}\n",
        "  11 & 27 \\\\\n",
        "  17 & 45 \\\\\n",
        "  23 & 63 \\\\\n",
        "  \\end{bmatrix}\n",
        "\\end{equation*}"
      ],
      "metadata": {
        "id": "Ru--w5iz8PvB"
      }
    },
    {
      "cell_type": "code",
      "source": [
        "# Matrix Multiplication with two Matrices\n",
        "A"
      ],
      "metadata": {
        "id": "yUCMpZYlwCl_",
        "colab": {
          "base_uri": "https://localhost:8080/"
        },
        "outputId": "0df193fb-5bc4-48df-f8bb-3bbadc507e89"
      },
      "execution_count": null,
      "outputs": [
        {
          "output_type": "execute_result",
          "data": {
            "text/plain": [
              "array([[3, 4],\n",
              "       [5, 6],\n",
              "       [7, 8]])"
            ]
          },
          "metadata": {},
          "execution_count": 277
        }
      ]
    },
    {
      "cell_type": "code",
      "source": [
        "B = np.array([ [1, 9], [2, 0] ])\n",
        "B"
      ],
      "metadata": {
        "colab": {
          "base_uri": "https://localhost:8080/"
        },
        "id": "9wMSgFQ2_Mn7",
        "outputId": "31b74e41-3e20-499c-ba61-daebc65cc45a"
      },
      "execution_count": null,
      "outputs": [
        {
          "output_type": "execute_result",
          "data": {
            "text/plain": [
              "array([[1, 9],\n",
              "       [2, 0]])"
            ]
          },
          "metadata": {},
          "execution_count": 278
        }
      ]
    },
    {
      "cell_type": "code",
      "source": [
        "np.dot(A, B)"
      ],
      "metadata": {
        "colab": {
          "base_uri": "https://localhost:8080/"
        },
        "id": "3b2rGakW_dbZ",
        "outputId": "20590c76-65a3-40a1-d46a-13f99ed46d61"
      },
      "execution_count": null,
      "outputs": [
        {
          "output_type": "execute_result",
          "data": {
            "text/plain": [
              "array([[11, 27],\n",
              "       [17, 45],\n",
              "       [23, 63]])"
            ]
          },
          "metadata": {},
          "execution_count": 279
        }
      ]
    },
    {
      "cell_type": "markdown",
      "source": [
        "*  Note that matrix multiplication is not commutative (i.e., $AB \\neq BA$)"
      ],
      "metadata": {
        "id": "Crf3FRuv__JB"
      }
    },
    {
      "cell_type": "code",
      "source": [
        "#np.dot(B, A)"
      ],
      "metadata": {
        "id": "kXFcVF7T_sba"
      },
      "execution_count": null,
      "outputs": []
    },
    {
      "cell_type": "code",
      "source": [
        "# Using pyTorch\n",
        "B_pt = torch.from_numpy(B)\n",
        "B_pt"
      ],
      "metadata": {
        "colab": {
          "base_uri": "https://localhost:8080/"
        },
        "id": "4nFVm340Dalr",
        "outputId": "43a650c7-3729-4844-c2d0-951b516c0510"
      },
      "execution_count": null,
      "outputs": [
        {
          "output_type": "execute_result",
          "data": {
            "text/plain": [
              "tensor([[1, 9],\n",
              "        [2, 0]])"
            ]
          },
          "metadata": {},
          "execution_count": 281
        }
      ]
    },
    {
      "cell_type": "code",
      "source": [
        "# another way to create the same tensor with transposition\n",
        "B_pt = torch.tensor([ [1, 2], [9, 0] ]).T\n",
        "B_pt"
      ],
      "metadata": {
        "colab": {
          "base_uri": "https://localhost:8080/"
        },
        "id": "aRPDEKduFB5a",
        "outputId": "173686b9-63e7-4b07-d4f9-0bfb5c2ded5a"
      },
      "execution_count": null,
      "outputs": [
        {
          "output_type": "execute_result",
          "data": {
            "text/plain": [
              "tensor([[1, 9],\n",
              "        [2, 0]])"
            ]
          },
          "metadata": {},
          "execution_count": 282
        }
      ]
    },
    {
      "cell_type": "code",
      "source": [
        "torch.matmul(A_pt, B_pt) #"
      ],
      "metadata": {
        "colab": {
          "base_uri": "https://localhost:8080/"
        },
        "id": "0yPbysPyFYjK",
        "outputId": "9278413a-54e2-4ad8-8e67-eb5e92dbfede"
      },
      "execution_count": null,
      "outputs": [
        {
          "output_type": "execute_result",
          "data": {
            "text/plain": [
              "tensor([[11, 27],\n",
              "        [17, 45],\n",
              "        [23, 63]])"
            ]
          },
          "metadata": {},
          "execution_count": 283
        }
      ]
    },
    {
      "cell_type": "code",
      "source": [
        "# using tensorflow\n",
        "B_tf = tf.convert_to_tensor(B, dtype=tf.int32)\n",
        "B_tf"
      ],
      "metadata": {
        "colab": {
          "base_uri": "https://localhost:8080/"
        },
        "id": "aiN9SZHtGT0j",
        "outputId": "3a3bc014-d9aa-4f08-84f8-977dbf1e983f"
      },
      "execution_count": null,
      "outputs": [
        {
          "output_type": "execute_result",
          "data": {
            "text/plain": [
              "<tf.Tensor: shape=(2, 2), dtype=int32, numpy=\n",
              "array([[1, 9],\n",
              "       [2, 0]], dtype=int32)>"
            ]
          },
          "metadata": {},
          "execution_count": 284
        }
      ]
    },
    {
      "cell_type": "code",
      "source": [
        "tf.matmul(A_tf, B_tf)"
      ],
      "metadata": {
        "colab": {
          "base_uri": "https://localhost:8080/"
        },
        "id": "w4M9t8Y9GrzS",
        "outputId": "8dc16c4c-705d-4c3e-8165-c81dd9ca66bf"
      },
      "execution_count": null,
      "outputs": [
        {
          "output_type": "execute_result",
          "data": {
            "text/plain": [
              "<tf.Tensor: shape=(3, 2), dtype=int32, numpy=\n",
              "array([[11, 27],\n",
              "       [17, 45],\n",
              "       [23, 63]], dtype=int32)>"
            ]
          },
          "metadata": {},
          "execution_count": 285
        }
      ]
    },
    {
      "cell_type": "markdown",
      "source": [
        "#### Review of Key Concepts\n",
        "*  tensor\n",
        "  *  scalar - 0 dimensional form\n",
        "  *  vector - 1 dimensional form\n",
        "  *  matrix - 2 dimensional form\n",
        "  *  n-tensor - n dimensional form (3 tensor, 4 tensor, ...)\n",
        "*  Common operations across tensors\n",
        "  *  transposition - vector or matrix\n",
        "  *  norm - quantifies the magnitude of a vector tensor\n",
        "  *  Hadamard product - element-wise product\n",
        "  *  dot product - vectors\n",
        "*  matrices\n",
        "  *  mutiplication"
      ],
      "metadata": {
        "id": "uUkHjk9NBo1k"
      }
    },
    {
      "cell_type": "markdown",
      "source": [
        "#### Symmetric and Identity Matrices\n",
        "* Symmetric Matrices\n",
        "  * Symmetric matrices are a special matrix case with the following properties:\n",
        "    *  The matrix must be square\n",
        "\n",
        "    \\begin{bmatrix}\n",
        "    0 & \\color{blue}{1} & \\color{green}{2} \\\\\n",
        "    \\color{blue}{1} & 7 & \\color{purple}{8} \\\\\n",
        "    \\color{green}{2} & \\color{purple}{8} & 9\n",
        "    \\end{bmatrix}\n",
        "\n",
        "    * The matrix must be equal to its transpose. Identical elements must mirror each other across the main diagonal.\n",
        "\n",
        "    \\begin{equation*}\n",
        "    X^T = X\n",
        "    \\end{equation*}\n"
      ],
      "metadata": {
        "id": "o8mJMkIrHWr4"
      }
    },
    {
      "cell_type": "code",
      "source": [
        "# Symmetric Matrices is NumPy\n",
        "X_sym = np.array( [ [0, 1, 2], [1, 7, 8], [2, 8, 9] ] )\n",
        "X_sym\n"
      ],
      "metadata": {
        "id": "n_kN0mBNGxky",
        "colab": {
          "base_uri": "https://localhost:8080/"
        },
        "outputId": "31a8589d-fd66-4ba8-c73e-d2b39a8e597e"
      },
      "execution_count": null,
      "outputs": [
        {
          "output_type": "execute_result",
          "data": {
            "text/plain": [
              "array([[0, 1, 2],\n",
              "       [1, 7, 8],\n",
              "       [2, 8, 9]])"
            ]
          },
          "metadata": {},
          "execution_count": 286
        }
      ]
    },
    {
      "cell_type": "code",
      "source": [
        "X_sym.T # The transpose is the same"
      ],
      "metadata": {
        "colab": {
          "base_uri": "https://localhost:8080/"
        },
        "id": "ZZEzDxStGcaL",
        "outputId": "1afa117f-d458-4e70-b1bd-4176cc7d4c0e"
      },
      "execution_count": null,
      "outputs": [
        {
          "output_type": "execute_result",
          "data": {
            "text/plain": [
              "array([[0, 1, 2],\n",
              "       [1, 7, 8],\n",
              "       [2, 8, 9]])"
            ]
          },
          "metadata": {},
          "execution_count": 287
        }
      ]
    },
    {
      "cell_type": "code",
      "source": [
        "# Does the transpose of the matrix equal the matrix?\n",
        "X_sym.T == X_sym"
      ],
      "metadata": {
        "colab": {
          "base_uri": "https://localhost:8080/"
        },
        "id": "RY2V-JNBGDvW",
        "outputId": "923c62b3-1501-4802-e544-84f6409cda8f"
      },
      "execution_count": null,
      "outputs": [
        {
          "output_type": "execute_result",
          "data": {
            "text/plain": [
              "array([[ True,  True,  True],\n",
              "       [ True,  True,  True],\n",
              "       [ True,  True,  True]])"
            ]
          },
          "metadata": {},
          "execution_count": 288
        }
      ]
    },
    {
      "cell_type": "markdown",
      "source": [
        "#### Identity Matrices\n",
        "*  An identity matrix is a symmetric matrix where all the elements along the diagonal are 1s.\n",
        "* All the other elements are 0s.\n",
        "* Notation: $\\mathbf{\\mathit{I}}_n$ where $n =$ height(or width). Therefore, this identity matrix can be identified as $\\mathbf{\\mathit{I}}_4$.\n",
        "\n",
        "\\begin{bmatrix}\n",
        "1 & 0 & 0 & 0 \\\\\n",
        "0 & 1 & 0 & 0 \\\\\n",
        "0 & 0 & 1 & 0 \\\\\n",
        "0 & 0 & 0 & 1 \\\\\n",
        "\\end{bmatrix}\n",
        "\n",
        "* A n-length vector will be unchanged if you mutiply it by $\\mathbf{\\mathit{I}}_n$\n"
      ],
      "metadata": {
        "id": "XiZzNk13IGtE"
      }
    },
    {
      "cell_type": "code",
      "source": [
        "# Using pyTorch\n",
        "I = torch.tensor([ [1, 0, 0], [0, 1, 0], [0, 0, 1] ])\n",
        "I"
      ],
      "metadata": {
        "colab": {
          "base_uri": "https://localhost:8080/"
        },
        "id": "uUrH_1gpGQJU",
        "outputId": "f333ffe1-7720-416a-c815-16a16a1a1bf4"
      },
      "execution_count": null,
      "outputs": [
        {
          "output_type": "execute_result",
          "data": {
            "text/plain": [
              "tensor([[1, 0, 0],\n",
              "        [0, 1, 0],\n",
              "        [0, 0, 1]])"
            ]
          },
          "metadata": {},
          "execution_count": 289
        }
      ]
    },
    {
      "cell_type": "code",
      "source": [
        "x_pt = torch.tensor([25, 2, 5])\n",
        "x_pt"
      ],
      "metadata": {
        "colab": {
          "base_uri": "https://localhost:8080/"
        },
        "id": "9lf8lnQTLO8k",
        "outputId": "1543d0d4-5756-4411-e7a1-db335ee6e2e5"
      },
      "execution_count": null,
      "outputs": [
        {
          "output_type": "execute_result",
          "data": {
            "text/plain": [
              "tensor([25,  2,  5])"
            ]
          },
          "metadata": {},
          "execution_count": 290
        }
      ]
    },
    {
      "cell_type": "code",
      "source": [
        "# If we multiply the n-length tensor by its identity matrix it is unchanged\n",
        "torch.matmul(I, x_pt)"
      ],
      "metadata": {
        "colab": {
          "base_uri": "https://localhost:8080/"
        },
        "id": "5JxfeH6QLcfp",
        "outputId": "9b190a6c-72cf-4739-c7a0-36867910ee0f"
      },
      "execution_count": null,
      "outputs": [
        {
          "output_type": "execute_result",
          "data": {
            "text/plain": [
              "tensor([25,  2,  5])"
            ]
          },
          "metadata": {},
          "execution_count": 291
        }
      ]
    },
    {
      "cell_type": "markdown",
      "source": [
        "#### Machine Learning and Deep Learning Applications Example\n",
        "*  A generalized regression model:\n",
        "\n",
        "\\begin{equation*}\n",
        "\\color{blue}{y} = \\color{green}{a} + \\color{orange}{b}{x_1} + \\color{brown}{c}{x_2} + \\dots + \\color{grey}{m}{x_m} \\\\\n",
        "\\end{equation*}\n",
        "\n",
        "* Specific equations describing individual data points in the dataset.\n",
        "* So if we have ten houses (data points) in the dataset then we would have ten rows in the system of equations.\n",
        "  * $\\color{blue}{y}$ represents house price\n",
        "  * $\\color{green}{a}$ represents the average house price (y-int)\n",
        "  * The $x_{n,m}$ represents the features of each house. For example, $x_{1,1}$ could represent the distance to schools, and $x_{1,2}$ could represent the number of bedrooms for house $y_1$ and so on.\n",
        "  * $\\color{green}{a}, \\color{orange}{b}, \\color{brown}{c} + \\dots + \\color{grey}{m}$ are the unknown model parameters that we will learn by training the regression model.\n",
        "\n",
        "\\begin{bmatrix}\n",
        "\\color{blue}{y_1} & | & \\color{green}{a} + \\color{orange}{b}{x_{1,1}} + \\color{brown}{c}{x_{1,2}} + \\dots + \\color{grey}{m}{x_{1,m}} \\\\\n",
        "\\color{blue}{y_2} & | & \\color{green}{a} + \\color{orange}{b}{x_{2,1}} + \\color{brown}{c}{x_{2,2}} + \\dots + \\color{grey}{m}{x_{2,m}} \\\\\n",
        "\\vdots & | & \\dots \\\\\n",
        "\\color{blue}{y_n} & | & \\color{green}{a} + \\color{orange}{b}{x_{n,1}} + \\color{brown}{c}{x_{n,2}} + \\dots + \\color{grey}{m}{x_{n,m}} \\\\\n",
        "\\end{bmatrix}\n",
        "\n",
        "\n",
        "* Note: $x$ extends rightward to $m-1$ and not $m$ because of the presence of $a$ on the far left. It is more intuative to show it this way.\n",
        "\n",
        "##### Matrix Multiplication\n",
        "*  The matrix above can be created using matrix multiplication. It is easier to represent using matrix multiplication.\n",
        "\\begin{equation*}\n",
        "\\begin{bmatrix}\n",
        "\\color{blue}{y_1} \\\\\n",
        "\\color{blue}{y_2} \\\\\n",
        "\\vdots \\\\\n",
        "\\color{blue}{y_n}\n",
        "\\end{bmatrix}\n",
        "=\n",
        "\\begin{bmatrix}\n",
        "1 & \\color{purple}{x_{1,1}} & \\color{purple}{x_{1,2}} & \\dots & \\color{purple}{x_{1,m}}\\\\\n",
        "1 & \\color{purple}{x_{2,1}} & \\color{purple}{x_{2,2}} & \\dots & \\color{purple}{x_{2,m}}\\\\\n",
        "\\vdots & \\vdots & \\vdots & \\vdots & \\vdots \\\\\n",
        "1 & \\color{purple}{x_{n,1}} & \\color{purple}{x_{n,2}} &\\dots & \\color{purple}{x_{n,m}}\n",
        "\\end{bmatrix}\n",
        "\\begin{bmatrix}\n",
        "\\color{green}{a} \\\\\n",
        "\\color{orange}{b} \\\\\n",
        "\\color{brown}{c} \\\\\n",
        "\\vdots \\\\\n",
        "\\color{grey}{m}\n",
        "\\end{bmatrix}\n",
        "\\end{equation*}\n",
        "\n",
        "* The matrix is $n$ cases tall and $m$ features wide.\n",
        "* The matrix represents $m$-dimensional space.\n",
        "\n"
      ],
      "metadata": {
        "id": "9Zvuskh0TNXm"
      }
    },
    {
      "cell_type": "markdown",
      "source": [
        "#### Special Matrices and Matrix Operations\n",
        "*  The Frobenius Norm\n",
        "*  Matrix Inversion\n",
        "*  Diagonal Matrices\n",
        "*  Orthogonal Matrices\n",
        "*  The Trace Operator"
      ],
      "metadata": {
        "id": "49mQcq3qSWnw"
      }
    },
    {
      "cell_type": "markdown",
      "source": [
        "#### The Frobenius Norm\n",
        "*  The Frobenius Norm measures the magnitude of a matrix away from the origin.\n",
        "* The Frobenius Norm is described mathematically as:\n",
        "\\begin{equation*}\n",
        "||\\mathbf{X}||_F = \\sqrt{\\sum_{i,j}\\mathbf{X}_{i,j}^2}\n",
        "\\end{equation*}\n",
        "\n",
        "* Analogous to the $L^2$ Norm of a vector.\n",
        "* Measures the size of the matrix in terms of the Euclidean distance.\n",
        "  *  It is the sum of the magnitude of all the vectors in $\\mathbf{X}$."
      ],
      "metadata": {
        "id": "Sd00xeA8TZMX"
      }
    },
    {
      "cell_type": "code",
      "source": [
        "# Calculate the Frobenius Norm\n",
        "X = np.array([ [1, 2], [3, 4] ])\n",
        "X"
      ],
      "metadata": {
        "id": "Ivu22DSeLuji",
        "colab": {
          "base_uri": "https://localhost:8080/"
        },
        "outputId": "5da97a8d-b9b5-47d1-f8f3-f2abcae29f02"
      },
      "execution_count": null,
      "outputs": [
        {
          "output_type": "execute_result",
          "data": {
            "text/plain": [
              "array([[1, 2],\n",
              "       [3, 4]])"
            ]
          },
          "metadata": {},
          "execution_count": 292
        }
      ]
    },
    {
      "cell_type": "code",
      "source": [
        "F_Norm = (1**2 + 2**2 + 3**2 + 4**2)**(1/2)\n",
        "F_Norm"
      ],
      "metadata": {
        "colab": {
          "base_uri": "https://localhost:8080/"
        },
        "id": "2ssVRyWcX0KG",
        "outputId": "a3e40433-62ab-42b6-e593-f2785e6f5c4a"
      },
      "execution_count": null,
      "outputs": [
        {
          "output_type": "execute_result",
          "data": {
            "text/plain": [
              "5.477225575051661"
            ]
          },
          "metadata": {},
          "execution_count": 293
        }
      ]
    },
    {
      "cell_type": "code",
      "source": [
        "np.linalg.norm(X) # same function as vector L2 norm"
      ],
      "metadata": {
        "colab": {
          "base_uri": "https://localhost:8080/"
        },
        "id": "QAQgWt7tYOl4",
        "outputId": "bfb9da19-c920-47c5-a936-6053d9c1bf98"
      },
      "execution_count": null,
      "outputs": [
        {
          "output_type": "execute_result",
          "data": {
            "text/plain": [
              "5.477225575051661"
            ]
          },
          "metadata": {},
          "execution_count": 294
        }
      ]
    },
    {
      "cell_type": "code",
      "source": [
        "# Using pyTorch\n",
        "X_pt = torch.tensor([ [1, 2], [3, 4.] ]) # torch.norm() supports floats only"
      ],
      "metadata": {
        "id": "keyCUt6daxun"
      },
      "execution_count": null,
      "outputs": []
    },
    {
      "cell_type": "code",
      "source": [
        "torch.norm(X_pt)"
      ],
      "metadata": {
        "colab": {
          "base_uri": "https://localhost:8080/"
        },
        "id": "R9Hp150acDEf",
        "outputId": "5e0d928d-ddcc-4906-9f43-df255085e323"
      },
      "execution_count": null,
      "outputs": [
        {
          "output_type": "execute_result",
          "data": {
            "text/plain": [
              "tensor(5.4772)"
            ]
          },
          "metadata": {},
          "execution_count": 296
        }
      ]
    },
    {
      "cell_type": "code",
      "source": [
        "# Using tensorflow\n",
        "X_tf = tf.Variable([ [1, 2], [3, 4.] ]) # tf.norm() only supports floats"
      ],
      "metadata": {
        "id": "9-OQCDHvcG_e"
      },
      "execution_count": null,
      "outputs": []
    },
    {
      "cell_type": "code",
      "source": [
        "tf.norm(X_tf)"
      ],
      "metadata": {
        "colab": {
          "base_uri": "https://localhost:8080/"
        },
        "id": "85bMf3B4c9O2",
        "outputId": "dc425c1e-27f0-474a-bd0c-ffd31c484463"
      },
      "execution_count": null,
      "outputs": [
        {
          "output_type": "execute_result",
          "data": {
            "text/plain": [
              "<tf.Tensor: shape=(), dtype=float32, numpy=5.477226>"
            ]
          },
          "metadata": {},
          "execution_count": 298
        }
      ]
    },
    {
      "cell_type": "markdown",
      "source": [
        "#### Matrix Inversion\n",
        "*  A cool way to solve linear equations.\n",
        "*  An alternative method to manually solving with substitution or elimination.\n",
        "*  The **Matrix Inverse** of $\\matrix{X}$ is denoted as $\\matrix{X}^{-1}$.\n",
        "  *  Satisfies the property $\\matrix{X}^{-1}\\matrix{X} = \\matrix{I}_n$ where the inverse of a matrix times the original matrix is equal to the identity matrix.\n",
        "* Remember the regression formula can be represented as:\n",
        "\\begin{equation*}\n",
        "\\vec{y} = \\matrix{X}\\vec{w}\n",
        "\\end{equation*}\n",
        "  where $\\vec{w}$ is the vector of weights $a$ through $m$\n",
        "  * In the equation we know the outcomes $\\vec{y}$, house prices.\n",
        "  * We know the features $\\matrix{X}$, predictors like number of bedrooms.\n",
        "  * Vector $\\vec{w}$ contains the unknowns, the model's learnable parameters.\n",
        "* Assuming $\\matrix{X}^{-1}$ exists, matrix inversion can solve for $\\vec{w}$.\n",
        "\\begin{equation*}\n",
        "\\matrix{X}\\vec{w} = \\vec{y} \\\\\n",
        "\\matrix{X}^{-1}\\matrix{X} = \\matrix{X}^{-1}\\vec{y} \\\\\n",
        "\\matrix{I}_n\\vec{w} = \\matrix{X}^{-1}\\vec{y} \\\\\n",
        "\\vec{w} = \\matrix{X}^{-1}\\vec{y}\n",
        "\\end{equation*}\n",
        "\n",
        "* A simple example:\n",
        "\\begin{equation*}\n",
        "4b + 2c = 4 \\\\\n",
        "-5b -3c = -7 \\\\\n",
        "\\matrix{X} =\n",
        "\\begin{bmatrix}\n",
        "4 & 2 \\\\\n",
        "-5 & -3\n",
        "\\end{bmatrix}\n",
        "\\vec{y} =\n",
        "\\begin{bmatrix}\n",
        "4 \\\\\n",
        "-7\n",
        "\\end{bmatrix}\n",
        "\\vec{w} =\n",
        "\\begin{bmatrix}\n",
        "b \\\\\n",
        "c\n",
        "\\end{bmatrix}\n",
        "= \\matrix{X}^{-1}\\vec{y}\n",
        "\\end{equation*}\n"
      ],
      "metadata": {
        "id": "dmPYU96mdXSM"
      }
    },
    {
      "cell_type": "code",
      "source": [
        "# Matrix inversion numPy\n",
        "X = np.array([ [4, 2], [-5, -3] ])\n",
        "X"
      ],
      "metadata": {
        "colab": {
          "base_uri": "https://localhost:8080/"
        },
        "id": "ya-mqXZkdAy-",
        "outputId": "d1a71f8b-0159-4d7c-f0be-5f222635cdea"
      },
      "execution_count": null,
      "outputs": [
        {
          "output_type": "execute_result",
          "data": {
            "text/plain": [
              "array([[ 4,  2],\n",
              "       [-5, -3]])"
            ]
          },
          "metadata": {},
          "execution_count": 299
        }
      ]
    },
    {
      "cell_type": "code",
      "source": [
        "Xinv = np.linalg.inv(X)\n",
        "Xinv"
      ],
      "metadata": {
        "colab": {
          "base_uri": "https://localhost:8080/"
        },
        "id": "Bx_B3zP-rl66",
        "outputId": "88b0ad69-bfe7-4697-d5f0-de3a73b46644"
      },
      "execution_count": null,
      "outputs": [
        {
          "output_type": "execute_result",
          "data": {
            "text/plain": [
              "array([[ 1.5,  1. ],\n",
              "       [-2.5, -2. ]])"
            ]
          },
          "metadata": {},
          "execution_count": 300
        }
      ]
    },
    {
      "cell_type": "code",
      "source": [
        "y = np.array([4, -7])\n",
        "y"
      ],
      "metadata": {
        "colab": {
          "base_uri": "https://localhost:8080/"
        },
        "id": "oEvHxemirWl8",
        "outputId": "dffc3e5f-262a-4d98-cc77-e4b9de101b29"
      },
      "execution_count": null,
      "outputs": [
        {
          "output_type": "execute_result",
          "data": {
            "text/plain": [
              "array([ 4, -7])"
            ]
          },
          "metadata": {},
          "execution_count": 301
        }
      ]
    },
    {
      "cell_type": "code",
      "source": [
        "w = np.dot(Xinv, y)\n",
        "w"
      ],
      "metadata": {
        "colab": {
          "base_uri": "https://localhost:8080/"
        },
        "id": "8XkF3DYBrdJy",
        "outputId": "45698893-d965-46a8-846d-d761368dbd91"
      },
      "execution_count": null,
      "outputs": [
        {
          "output_type": "execute_result",
          "data": {
            "text/plain": [
              "array([-1.,  4.])"
            ]
          },
          "metadata": {},
          "execution_count": 302
        }
      ]
    },
    {
      "cell_type": "markdown",
      "source": [
        " So b = -1 and c = 4. \\\\\n",
        " We can show that $\\vec{y}= \\matrix{X} \\vec{w}$ by using the dot product."
      ],
      "metadata": {
        "id": "LwflbM9wxtAw"
      }
    },
    {
      "cell_type": "code",
      "source": [
        "np.dot(X, w)"
      ],
      "metadata": {
        "colab": {
          "base_uri": "https://localhost:8080/"
        },
        "id": "FAOEziwPr4Ac",
        "outputId": "6db24105-9f9b-43a7-e33a-e5aea1e06d71"
      },
      "execution_count": null,
      "outputs": [
        {
          "output_type": "execute_result",
          "data": {
            "text/plain": [
              "array([ 4., -7.])"
            ]
          },
          "metadata": {},
          "execution_count": 303
        }
      ]
    },
    {
      "cell_type": "code",
      "source": [
        "# Using PyTorch\n",
        "torch.inverse(torch.tensor([ [4, 2], [-5, -3.] ]))"
      ],
      "metadata": {
        "colab": {
          "base_uri": "https://localhost:8080/"
        },
        "id": "xov-yXZYyw57",
        "outputId": "d188b274-a586-4cdb-8c3e-bd8996e80f74"
      },
      "execution_count": null,
      "outputs": [
        {
          "output_type": "execute_result",
          "data": {
            "text/plain": [
              "tensor([[ 1.5000,  1.0000],\n",
              "        [-2.5000, -2.0000]])"
            ]
          },
          "metadata": {},
          "execution_count": 304
        }
      ]
    },
    {
      "cell_type": "code",
      "source": [
        "# Using tensorflow\n",
        "tf.linalg.inv(tf.Variable([ [4, 2], [-5, -3.] ]))"
      ],
      "metadata": {
        "colab": {
          "base_uri": "https://localhost:8080/"
        },
        "id": "4QYHcKFMzQrC",
        "outputId": "072568e5-5ad4-4ded-d62a-ec554ecd081b"
      },
      "execution_count": null,
      "outputs": [
        {
          "output_type": "execute_result",
          "data": {
            "text/plain": [
              "<tf.Tensor: shape=(2, 2), dtype=float32, numpy=\n",
              "array([[ 1.4999998,  0.9999998],\n",
              "       [-2.4999995, -1.9999996]], dtype=float32)>"
            ]
          },
          "metadata": {},
          "execution_count": 305
        }
      ]
    },
    {
      "cell_type": "markdown",
      "source": [
        "*  Matrix Inversion only works if the Matrix **is not** 'singular'\n",
        "*  This means that all of the columns of the matrix must be linearly independent.\n",
        "  *  The columns of a matrix are not linearly indenpendent if there are two lines that are parallel to each other. For example, if one column is [1, 2], another column cannot be a multiple such as [2, 4], this would mean the columns are parallel to each other (no solution), or identical such as another column with [1, 2] (infinite solution).\n",
        "\n",
        "*  Also, the matrix inversion can only be calculated if the matrix is square where the number of rows is equal to the number of columns. Where, $n_{row} = n_{col}$ also refered to as 'vector span' = 'matrix range'\n",
        "  *  An overdetermined matrix is one where $n_{rows} \\gt n_{col}$ which means there are more equations than dimensions ($n_{equations} \\gt n_{dimensions}$. For example, if we have two columns then we have a two dimensional system. But if we also have three rows this means that we will have three lines in two dimensional space and more than one point where the lines cross (multiple solutions), meaning overdetermined system.\n",
        "  *  An underfetermined system is the case where the number of rows is less than the number of columns, $n_{rows} \\lt n_{col}$ which means there are less equations than dimensions, $n_{equations} \\lt n_{dimensions}$. If we only have one equation in two dimensions then this is a single line (infinite solutions) and thus an underdetermined system.\n",
        "*  Note: Solving an equation may still be possible by other means if the matrix cannot be inverted."
      ],
      "metadata": {
        "id": "_JLf-3TW6GH3"
      }
    },
    {
      "cell_type": "code",
      "source": [
        "# What happens when we try to perform a matrix inversion on a singular matrix\n",
        "X_singular = np.array([ [-4, 1], [-8, 2] ]) # the columns are multiples of each other (not linearly independent)\n",
        "X_singular"
      ],
      "metadata": {
        "colab": {
          "base_uri": "https://localhost:8080/"
        },
        "id": "2UsWY8yIzp7h",
        "outputId": "09ab75ad-8605-4aeb-fb7b-129f887b33c8"
      },
      "execution_count": null,
      "outputs": [
        {
          "output_type": "execute_result",
          "data": {
            "text/plain": [
              "array([[-4,  1],\n",
              "       [-8,  2]])"
            ]
          },
          "metadata": {},
          "execution_count": 306
        }
      ]
    },
    {
      "cell_type": "code",
      "source": [
        "# Uncomment this line of code to see the 'singular matrix' error\n",
        "#Xinv = np.linalg.inv(X_singular)"
      ],
      "metadata": {
        "id": "_lKg-BfFBW3w"
      },
      "execution_count": null,
      "outputs": []
    },
    {
      "cell_type": "code",
      "source": [
        "# Try to invert a non square matrix\n",
        "X_nonSquare = np.array([ [1, 2, 3], [4, 5, 6] ])\n",
        "X_nonSquare"
      ],
      "metadata": {
        "colab": {
          "base_uri": "https://localhost:8080/"
        },
        "id": "nR9Z0LQUBjDv",
        "outputId": "7643a158-f720-4603-85c6-ba895d9115ac"
      },
      "execution_count": null,
      "outputs": [
        {
          "output_type": "execute_result",
          "data": {
            "text/plain": [
              "array([[1, 2, 3],\n",
              "       [4, 5, 6]])"
            ]
          },
          "metadata": {},
          "execution_count": 308
        }
      ]
    },
    {
      "cell_type": "code",
      "source": [
        "#X_nonSquare_inv = np.linalg.inv(X_nonSquare)"
      ],
      "metadata": {
        "id": "nd65M1OEB_WX"
      },
      "execution_count": null,
      "outputs": []
    },
    {
      "cell_type": "markdown",
      "source": [
        "#### Diagonal Matrices\n",
        "*  A diagonal matrix has non-zero elements along the main diagonal and zeros everywhere else.\n",
        "* An identity matrix is an example of a diagonal matrix.\n",
        "*  If the diagonal matrix is square, then it can be denoted as $diag(\\vec{x}$) where $\\vec{x}$ is a vector of the main diagnonal elements.\n",
        "* Why are diagonal matrices important? This is because they are computationally efficient:\n",
        "  *  Mutiplication of $diag(\\vec{x}$)$\\vec{y}$ = $\\vec{x}\\odot\\vec{y}$\n",
        "  *  Inversion of $diag(\\vec{x})^{-1}$ = $diag[\\frac{1}{\\vec{x}_1}, \\dots,\\frac{1}{\\vec{x}_n}]^T$\n",
        "    *  This is why you cannot have a zero along any diagonal element.\n",
        "* We can still have non-square diagonal matrices and they will still be computationally efficient.\n",
        "  * If the numbers of rows(height) is greater than the number of columns (width), then we can just add zeros to make it square.\n",
        "  *  If there are more columns than rows we can just remove zeros to make it square."
      ],
      "metadata": {
        "id": "QD4MI7SCYB9i"
      }
    },
    {
      "cell_type": "markdown",
      "source": [
        "#### Orthogonal Matrices\n",
        "*  Recall the orthonormal vectors where we had two basis vectors i(1, 0) and j(0, 1) on the x-y plane. These two basis vectors are orthogonal to each other. If we take the dot product of the two basis vectors we get 0. Both i and j have an L2 Norm of length 1.\n",
        "*  In orthogonal matrices, orthonormal vectors:\n",
        "  *  Make up all the rows.\n",
        "  *  Make up all the columns.\n",
        "*  This means $\\matrix{A^T}\\matrix{A} = \\matrix{A}{A^T}= \\matrix{I}$\n",
        "* This also means that $\\matrix{A^T}=\\matrix{A^{-1}}\\matrix{I} = \\matrix{A^{-1}} $\n",
        "* This is important in machine learning because calculating $\\matrix{A^T}$ is computationally cheap, and if we are dealing with orthogonal matrices, calculating $\\matrix{A^{-1}}$ is also computationally cheap referencing the relationship above.\n"
      ],
      "metadata": {
        "id": "7O7jzWzAnEVB"
      }
    },
    {
      "cell_type": "markdown",
      "source": [
        "#### The Trace Operator\n",
        "* The trace operator is the sum of the diagonal elements of a matrix:\n",
        "\\begin{equation*}\n",
        "\\sum_i\\matrix{A_{i,i}}\n",
        "\\end{equation*}"
      ],
      "metadata": {
        "id": "oMYRM1c9DQo6"
      }
    },
    {
      "cell_type": "code",
      "source": [
        "A = np.array([ [25, 2], [5, 4] ])\n",
        "A"
      ],
      "metadata": {
        "id": "-bqwyO1hCI3f",
        "colab": {
          "base_uri": "https://localhost:8080/"
        },
        "outputId": "f062ca27-d2cf-45c4-f34a-a4b4a7013586"
      },
      "execution_count": null,
      "outputs": [
        {
          "output_type": "execute_result",
          "data": {
            "text/plain": [
              "array([[25,  2],\n",
              "       [ 5,  4]])"
            ]
          },
          "metadata": {},
          "execution_count": 310
        }
      ]
    },
    {
      "cell_type": "code",
      "source": [
        "# The trace operator\n",
        "25 + 4"
      ],
      "metadata": {
        "colab": {
          "base_uri": "https://localhost:8080/"
        },
        "id": "Ku3lowV6EK6c",
        "outputId": "dd012730-0648-4b7d-8829-fb5ab596559f"
      },
      "execution_count": null,
      "outputs": [
        {
          "output_type": "execute_result",
          "data": {
            "text/plain": [
              "29"
            ]
          },
          "metadata": {},
          "execution_count": 311
        }
      ]
    },
    {
      "cell_type": "code",
      "source": [
        "np.trace(A)"
      ],
      "metadata": {
        "colab": {
          "base_uri": "https://localhost:8080/"
        },
        "id": "W5bwPkw7EhjE",
        "outputId": "049f3bba-5f9c-4613-ffec-13e88c5f767a"
      },
      "execution_count": null,
      "outputs": [
        {
          "output_type": "execute_result",
          "data": {
            "text/plain": [
              "29"
            ]
          },
          "metadata": {},
          "execution_count": 312
        }
      ]
    },
    {
      "cell_type": "markdown",
      "source": [
        "##### Useful properties of the trace operator\n",
        "* $Tr(\\matrix{A}) = Tr(\\matrix{A^T})$\n",
        "*  Assuming matrices are square and line up:\n",
        "  * $Tr(\\matrix{ABC}) = Tr(\\matrix{CAB})=Tr(\\matrix{BCA})$\n",
        "* The trace operator can provide a convenient way to calculate a matrix Frobenius norm:\n",
        "\\begin{equation*}\n",
        "||\\matrix{A}||_F = \\sqrt{Tr(\\matrix{A}\\matrix{A^T})}\n",
        "\\end{equation*}"
      ],
      "metadata": {
        "id": "Ie7ZJz3oE_QR"
      }
    },
    {
      "cell_type": "code",
      "source": [
        "# Example using pyTorch\n",
        "A_p = torch.tensor([ [-1., 2], [3, -2], [5, 7] ])\n",
        "A_p"
      ],
      "metadata": {
        "colab": {
          "base_uri": "https://localhost:8080/"
        },
        "id": "TYYMoWB6El1j",
        "outputId": "9b48a1a8-d1db-4029-f647-eb1a487a4ee7"
      },
      "execution_count": null,
      "outputs": [
        {
          "output_type": "execute_result",
          "data": {
            "text/plain": [
              "tensor([[-1.,  2.],\n",
              "        [ 3., -2.],\n",
              "        [ 5.,  7.]])"
            ]
          },
          "metadata": {},
          "execution_count": 314
        }
      ]
    },
    {
      "cell_type": "code",
      "source": [
        "A_pT = torch.transpose(A_p, 0, 1)\n",
        "A_pT"
      ],
      "metadata": {
        "colab": {
          "base_uri": "https://localhost:8080/"
        },
        "id": "FJmwE85-KZgL",
        "outputId": "a4ae138e-27ba-437c-a9ea-13af615170c9"
      },
      "execution_count": null,
      "outputs": [
        {
          "output_type": "execute_result",
          "data": {
            "text/plain": [
              "tensor([[-1.,  3.,  5.],\n",
              "        [ 2., -2.,  7.]])"
            ]
          },
          "metadata": {},
          "execution_count": 323
        }
      ]
    },
    {
      "cell_type": "code",
      "source": [
        "X = torch.matmul(A_p, A_pT)\n",
        "X"
      ],
      "metadata": {
        "colab": {
          "base_uri": "https://localhost:8080/"
        },
        "id": "3PN3-oS-MTpk",
        "outputId": "63164ae4-11d8-4ad7-9080-2acb424a4873"
      },
      "execution_count": null,
      "outputs": [
        {
          "output_type": "execute_result",
          "data": {
            "text/plain": [
              "tensor([[ 5., -7.,  9.],\n",
              "        [-7., 13.,  1.],\n",
              "        [ 9.,  1., 74.]])"
            ]
          },
          "metadata": {},
          "execution_count": 331
        }
      ]
    },
    {
      "cell_type": "code",
      "source": [
        "X_Tr = torch.trace(X)\n",
        "X_Tr"
      ],
      "metadata": {
        "colab": {
          "base_uri": "https://localhost:8080/"
        },
        "id": "ShBIJOhnS2Yk",
        "outputId": "fd491e12-0045-4b24-fb10-62bed8e2e26b"
      },
      "execution_count": null,
      "outputs": [
        {
          "output_type": "execute_result",
          "data": {
            "text/plain": [
              "tensor(92.)"
            ]
          },
          "metadata": {},
          "execution_count": 333
        }
      ]
    },
    {
      "cell_type": "code",
      "source": [
        "X_Fn = torch.sqrt(X_Tr)\n",
        "X_Fn"
      ],
      "metadata": {
        "colab": {
          "base_uri": "https://localhost:8080/"
        },
        "id": "z5BUJT2bWS_M",
        "outputId": "eaec056d-af69-413a-bbb4-6bb3690ea21b"
      },
      "execution_count": null,
      "outputs": [
        {
          "output_type": "execute_result",
          "data": {
            "text/plain": [
              "tensor(9.5917)"
            ]
          },
          "metadata": {},
          "execution_count": 335
        }
      ]
    },
    {
      "cell_type": "code",
      "source": [
        "Fn = torch.norm(A_p)\n",
        "Fn"
      ],
      "metadata": {
        "colab": {
          "base_uri": "https://localhost:8080/"
        },
        "id": "JM84NufkW5Xj",
        "outputId": "0371a393-afd6-45e0-8a1f-352553bb59df"
      },
      "execution_count": null,
      "outputs": [
        {
          "output_type": "execute_result",
          "data": {
            "text/plain": [
              "tensor(9.5917)"
            ]
          },
          "metadata": {},
          "execution_count": 336
        }
      ]
    }
  ]
}