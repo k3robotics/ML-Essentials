{
  "nbformat": 4,
  "nbformat_minor": 0,
  "metadata": {
    "colab": {
      "provenance": [],
      "authorship_tag": "ABX9TyOFlVwuZJhePikTGAttq/7U",
      "include_colab_link": true
    },
    "kernelspec": {
      "name": "python3",
      "display_name": "Python 3"
    },
    "language_info": {
      "name": "python"
    }
  },
  "cells": [
    {
      "cell_type": "markdown",
      "metadata": {
        "id": "view-in-github",
        "colab_type": "text"
      },
      "source": [
        "<a href=\"https://colab.research.google.com/github/k3robotics/ML-Essentials/blob/main/IntermediateLinAlg.ipynb\" target=\"_parent\"><img src=\"https://colab.research.google.com/assets/colab-badge.svg\" alt=\"Open In Colab\"/></a>"
      ]
    },
    {
      "cell_type": "code",
      "source": [
        "# imports\n",
        "import numpy as np\n",
        "import tensorflow as tf\n",
        "import torch\n",
        "import matplotlib.pyplot as plt"
      ],
      "metadata": {
        "id": "kH8TKA-PRU9w"
      },
      "execution_count": 2,
      "outputs": []
    },
    {
      "cell_type": "markdown",
      "source": [
        "#### Eigenvectors and Eigenvalues\n",
        "*  Eigenvectors will not change in orientation or magnitude if a transformation matrix is applied to an original matrix, such as an image broken down into a pixel grid.\n",
        "* The eigenvalue of an eigenvector describes the tranformation magnitude of the eigenvector. For example, if a 'flipping matrix' is applied to an original matrix and there are two vectors orthogonal to each other, then only the vector on the x-axis will change direction. This is still an eigenvector because the angle of the vector has not changed but the orientation has changed. However, the original eigenvalue was 1 and when the vector is rotated 180 degrees the eigenvalue becomes -1.  If a transformation was applied and the x-axis eigenvector was shortened to half its original magnitude then the eigenvalue would change to 0.5. Likewise, if the eigenvector was doubled in magnitude then the eigenvalue would be 2. If a shearing matrix is applied then the eigenvector oriented on the y-axis is not an eigenvector because the angle of the vector has been taken off span (vertical and then not vertical).\n",
        "* The eigenvalue is a scalar multiple that tells us how an eigenvector is adjusted if it even is adjusted."
      ],
      "metadata": {
        "id": "1jfNf4O46z5x"
      }
    },
    {
      "cell_type": "markdown",
      "source": [
        "#### Eigendecomposition\n",
        "* We can plot some vectors and see how applying matrices to these vectors transforms them. Then we can find the eigenvectors and eigenvalues of the matrices that are applied to the vectors.\n"
      ],
      "metadata": {
        "id": "wQNn6a7TOPnv"
      }
    },
    {
      "cell_type": "code",
      "execution_count": 3,
      "metadata": {
        "colab": {
          "base_uri": "https://localhost:8080/"
        },
        "id": "PDWUBgGh6hEl",
        "outputId": "8fa4bc76-a292-4d43-9422-27f65f3cd4cc"
      },
      "outputs": [
        {
          "output_type": "execute_result",
          "data": {
            "text/plain": [
              "array([3, 1])"
            ]
          },
          "metadata": {},
          "execution_count": 3
        }
      ],
      "source": [
        "v = np.array([3, 1])\n",
        "v"
      ]
    },
    {
      "cell_type": "markdown",
      "source": [
        "We can plot $\\vec{v}$ using Hadrien Jean's `plotVectors` function."
      ],
      "metadata": {
        "id": "V6j61pz9SyqP"
      }
    },
    {
      "cell_type": "code",
      "source": [
        "def plotVectors(vecs, cols, alpha=1):\n",
        "  \"\"\"\n",
        "  Plot a set of vectors.\n",
        "\n",
        "  Parameters\n",
        "  ----------\n",
        "  vecs: array-like\n",
        "    Coordinates of the vectors to plot. Each vectors is in an array. For example, [[1, 3], [2, 2]] can be used to plot 2 vectors.\n",
        "  cols: array-like\n",
        "    Colors of the vectors. For example, ['red', 'blue'] will display the first vector in red and the second in blue.\n",
        "  alpha: float\n",
        "    Opacity of the vectors.\n",
        "\n",
        "  Returns:\n",
        "\n",
        "    fig : an instance of matplotlib.figure.Figure\n",
        "      The figure of the vectors.\n",
        "  \"\"\"\n",
        "  plt.figure()\n",
        "  plt.axvline(x=0, color='#A9A9A9', zorder=0)\n",
        "  plt.axhline(y=0, color='#A9A9A9', zorder=0)\n",
        "\n",
        "  for i in range(len(vecs)):\n",
        "    x = np.concatenate([[0, 0], vecs[i]])\n",
        "    plt.quiver([x[0]],\n",
        "               [x[1]],\n",
        "               [x[2]],\n",
        "               [x[3]],\n",
        "               angles='xy', scale_units='xy', scale=1, color=cols[i], alpha=alpha)\n"
      ],
      "metadata": {
        "id": "DxQsl7koTfsh"
      },
      "execution_count": 4,
      "outputs": []
    },
    {
      "cell_type": "code",
      "source": [
        "# plot vector v\n",
        "plotVectors([v], cols=['lightblue'])\n",
        "plt.xlim(-1, 5)\n",
        "plt.ylim(-1, 5)\n",
        "plt.title('Plot of vector v')\n",
        "plt.tight_layout()\n",
        "plt.show()"
      ],
      "metadata": {
        "colab": {
          "base_uri": "https://localhost:8080/",
          "height": 487
        },
        "id": "IobPoT6VX5rB",
        "outputId": "5165123d-45ff-48d6-ebeb-fbb2bb983697"
      },
      "execution_count": 5,
      "outputs": [
        {
          "output_type": "display_data",
          "data": {
            "text/plain": [
              "<Figure size 640x480 with 1 Axes>"
            ],
            "image/png": "[encoded data removed]"
          },
          "metadata": {}
        }
      ]
    },
    {
      "cell_type": "markdown",
      "source": [
        "* By applying a matrix to a vector(i.e., perform a matrix-vector multiplication) we can linearly transform the vector, e.g., rotate it or rescale it.\n",
        "* However, applying an Identity Matrix will not transform the vector at all."
      ],
      "metadata": {
        "id": "9AWhKFbLa5ro"
      }
    },
    {
      "cell_type": "code",
      "source": [
        "I = np.array([[1, 0], [0, 1]])\n",
        "I"
      ],
      "metadata": {
        "colab": {
          "base_uri": "https://localhost:8080/"
        },
        "id": "UYutCpTjYT6v",
        "outputId": "c84975da-9590-4dba-8896-e8b3e7615b68"
      },
      "execution_count": 6,
      "outputs": [
        {
          "output_type": "execute_result",
          "data": {
            "text/plain": [
              "array([[1, 0],\n",
              "       [0, 1]])"
            ]
          },
          "metadata": {},
          "execution_count": 6
        }
      ]
    },
    {
      "cell_type": "code",
      "source": [
        "Iv = np.dot(I, v)\n",
        "Iv"
      ],
      "metadata": {
        "colab": {
          "base_uri": "https://localhost:8080/"
        },
        "id": "XZAq59ebc-4w",
        "outputId": "1da039b0-07df-4927-80d2-dd37c6701b27"
      },
      "execution_count": 7,
      "outputs": [
        {
          "output_type": "execute_result",
          "data": {
            "text/plain": [
              "array([3, 1])"
            ]
          },
          "metadata": {},
          "execution_count": 7
        }
      ]
    },
    {
      "cell_type": "code",
      "source": [
        "v == Iv"
      ],
      "metadata": {
        "colab": {
          "base_uri": "https://localhost:8080/"
        },
        "id": "7zyQrJoudEs_",
        "outputId": "1893c129-8e97-4395-8057-a6fa8e81e6ce"
      },
      "execution_count": 8,
      "outputs": [
        {
          "output_type": "execute_result",
          "data": {
            "text/plain": [
              "array([ True,  True])"
            ]
          },
          "metadata": {},
          "execution_count": 8
        }
      ]
    },
    {
      "cell_type": "code",
      "source": [
        "plotVectors([Iv], cols=['blue'])\n",
        "plt.xlim(-1, 5)\n",
        "plt.ylim(-1, 5)\n",
        "plt.title('Plot of vector Iv Identity Matrix . v')\n",
        "plt.tight_layout()\n",
        "plt.show()"
      ],
      "metadata": {
        "colab": {
          "base_uri": "https://localhost:8080/",
          "height": 487
        },
        "id": "55KdhuGXdUNX",
        "outputId": "532c4d75-cfc9-406b-fe67-ada0f236b2e4"
      },
      "execution_count": 9,
      "outputs": [
        {
          "output_type": "display_data",
          "data": {
            "text/plain": [
              "<Figure size 640x480 with 1 Axes>"
            ],
            "image/png": "[encoded data removed]"
          },
          "metadata": {}
        }
      ]
    },
    {
      "cell_type": "markdown",
      "source": [
        "*  Now we can apply a non-identity matrix, $\\matrix{A}$ to $\\vec{v}$ and see how it is transformed."
      ],
      "metadata": {
        "id": "Dkg4OUR3f1vn"
      }
    },
    {
      "cell_type": "code",
      "source": [
        "A = np.array([ [-1, 4], [2, -2] ])\n",
        "A"
      ],
      "metadata": {
        "colab": {
          "base_uri": "https://localhost:8080/"
        },
        "id": "7g78KWBYeLbI",
        "outputId": "7bd32479-21c7-4df1-d528-a54719bf2330"
      },
      "execution_count": 10,
      "outputs": [
        {
          "output_type": "execute_result",
          "data": {
            "text/plain": [
              "array([[-1,  4],\n",
              "       [ 2, -2]])"
            ]
          },
          "metadata": {},
          "execution_count": 10
        }
      ]
    },
    {
      "cell_type": "code",
      "source": [
        "Av = np.dot(A, v)\n",
        "Av"
      ],
      "metadata": {
        "colab": {
          "base_uri": "https://localhost:8080/"
        },
        "id": "a0bTKxEzgYZg",
        "outputId": "e9c31745-3e4c-4004-8452-c8512c307a1c"
      },
      "execution_count": 11,
      "outputs": [
        {
          "output_type": "execute_result",
          "data": {
            "text/plain": [
              "array([1, 4])"
            ]
          },
          "metadata": {},
          "execution_count": 11
        }
      ]
    },
    {
      "cell_type": "code",
      "source": [
        "plotVectors([v, Av], cols=['lightblue', 'blue'])\n",
        "plt.xlim(-1, 5)\n",
        "plt.ylim(-1, 5)\n",
        "plt.title('Result of Applying Matrix A to vector v')\n",
        "plt.tight_layout()\n",
        "plt.show()"
      ],
      "metadata": {
        "colab": {
          "base_uri": "https://localhost:8080/",
          "height": 487
        },
        "id": "4k56Z3EugiUH",
        "outputId": "c2d2831b-228c-41c8-d93a-626329a4d44f"
      },
      "execution_count": 12,
      "outputs": [
        {
          "output_type": "display_data",
          "data": {
            "text/plain": [
              "<Figure size 640x480 with 1 Axes>"
            ],
            "image/png": "[encoded data removed]"
          },
          "metadata": {}
        }
      ]
    },
    {
      "cell_type": "code",
      "source": [
        "# another example of applying a matrix to a vector\n",
        "v2 = np.array([2, 1])\n",
        "plotVectors([v2, np.dot(A, v2)], ['lightgreen', 'green'])\n",
        "plt.xlim(-1, 5)\n",
        "plt.ylim(-1, 5)\n",
        "plt.title('Result of Applying Matrix A to vector v2')\n",
        "plt.tight_layout()\n",
        "plt.show()"
      ],
      "metadata": {
        "colab": {
          "base_uri": "https://localhost:8080/",
          "height": 487
        },
        "id": "x50F17TAhNqw",
        "outputId": "ab375284-5d32-42c0-a34f-8590a33d6337"
      },
      "execution_count": 13,
      "outputs": [
        {
          "output_type": "display_data",
          "data": {
            "text/plain": [
              "<Figure size 640x480 with 1 Axes>"
            ],
            "image/png": "[encoded data removed]"
          },
          "metadata": {}
        }
      ]
    },
    {
      "cell_type": "markdown",
      "source": [
        "*  Now we can concatenate several vectors together into a matrix $\\matrix{V}$, where each column in the matrix is a separate vector. If we apply linear transformations to $\\matrix{V}$ the transformations will be applied independently to each column (vector)."
      ],
      "metadata": {
        "id": "DmgkV5kOpHzf"
      }
    },
    {
      "cell_type": "code",
      "source": [
        "v"
      ],
      "metadata": {
        "colab": {
          "base_uri": "https://localhost:8080/"
        },
        "id": "jXmal4lHiebw",
        "outputId": "859bed03-d1d6-475d-d08c-f2512ab5b3d9"
      },
      "execution_count": 14,
      "outputs": [
        {
          "output_type": "execute_result",
          "data": {
            "text/plain": [
              "array([3, 1])"
            ]
          },
          "metadata": {},
          "execution_count": 14
        }
      ]
    },
    {
      "cell_type": "code",
      "source": [
        "# we need to convert an array to 2D to transpose into a column vector\n",
        "np.matrix(v).T"
      ],
      "metadata": {
        "colab": {
          "base_uri": "https://localhost:8080/"
        },
        "id": "IBKyzLgLpw64",
        "outputId": "35f9d73a-0a16-4603-b941-1d400505f5a5"
      },
      "execution_count": 15,
      "outputs": [
        {
          "output_type": "execute_result",
          "data": {
            "text/plain": [
              "matrix([[3],\n",
              "        [1]])"
            ]
          },
          "metadata": {},
          "execution_count": 15
        }
      ]
    },
    {
      "cell_type": "code",
      "source": [
        "# create some more vectors\n",
        "v3 = np.array([-3, -1]) # mirror image of x over both axes\n",
        "v4 = np.array([-1, 1])"
      ],
      "metadata": {
        "id": "Mat4iZTgqATA"
      },
      "execution_count": 16,
      "outputs": []
    },
    {
      "cell_type": "code",
      "source": [
        "# Now we can build V by concatenating vectors v - v4 as column matrices\n",
        "V = np.concatenate((np.matrix(v).T,\n",
        "                    np.matrix(v2).T,\n",
        "                    np.matrix(v3).T,\n",
        "                    np.matrix(v4).T),\n",
        "                    axis=1)\n",
        "V"
      ],
      "metadata": {
        "colab": {
          "base_uri": "https://localhost:8080/"
        },
        "id": "adOfD3KRqWxQ",
        "outputId": "bab3cee3-9ae7-4e6a-b4e9-5dc984da6623"
      },
      "execution_count": 17,
      "outputs": [
        {
          "output_type": "execute_result",
          "data": {
            "text/plain": [
              "matrix([[ 3,  2, -3, -1],\n",
              "        [ 1,  1, -1,  1]])"
            ]
          },
          "metadata": {},
          "execution_count": 17
        }
      ]
    },
    {
      "cell_type": "code",
      "source": [
        "# if we apply the identity matrix to V then we should just get V back\n",
        "IV = np.dot(I,V)\n",
        "IV"
      ],
      "metadata": {
        "colab": {
          "base_uri": "https://localhost:8080/"
        },
        "id": "PLUhfrbirGRJ",
        "outputId": "deecab5f-2373-4522-a893-3112a051f53e"
      },
      "execution_count": 18,
      "outputs": [
        {
          "output_type": "execute_result",
          "data": {
            "text/plain": [
              "matrix([[ 3,  2, -3, -1],\n",
              "        [ 1,  1, -1,  1]])"
            ]
          },
          "metadata": {},
          "execution_count": 18
        }
      ]
    },
    {
      "cell_type": "code",
      "source": [
        "# if we apply the matrix A to matrix V then A will trnasform all of the four columns\n",
        "AV = np.dot(A, V)\n",
        "AV"
      ],
      "metadata": {
        "colab": {
          "base_uri": "https://localhost:8080/"
        },
        "id": "pLzRZTVNsK1Y",
        "outputId": "df5b3067-5761-406c-8428-6ac950864f0b"
      },
      "execution_count": 19,
      "outputs": [
        {
          "output_type": "execute_result",
          "data": {
            "text/plain": [
              "matrix([[ 1,  2, -1,  5],\n",
              "        [ 4,  2, -4, -4]])"
            ]
          },
          "metadata": {},
          "execution_count": 19
        }
      ]
    },
    {
      "cell_type": "code",
      "source": [
        "# function to convert column of matrix to a 1D vector:\n",
        "def vectorfy(mtrx, clmn):\n",
        "  return np.array(mtrx[:,clmn]).reshape(-1)"
      ],
      "metadata": {
        "id": "eO1JTX6ZshfH"
      },
      "execution_count": 20,
      "outputs": []
    },
    {
      "cell_type": "code",
      "source": [
        "vectorfy(V, 0)"
      ],
      "metadata": {
        "colab": {
          "base_uri": "https://localhost:8080/"
        },
        "id": "R3TD4LzItHWB",
        "outputId": "16c1bdc7-eee0-47e7-e790-577466ba3148"
      },
      "execution_count": 21,
      "outputs": [
        {
          "output_type": "execute_result",
          "data": {
            "text/plain": [
              "array([3, 1])"
            ]
          },
          "metadata": {},
          "execution_count": 21
        }
      ]
    },
    {
      "cell_type": "code",
      "source": [
        "vectorfy(V, 0) == v"
      ],
      "metadata": {
        "colab": {
          "base_uri": "https://localhost:8080/"
        },
        "id": "qospg4v9tNRg",
        "outputId": "7c73596c-f4b1-4bd2-d036-c48a87cf47ca"
      },
      "execution_count": 22,
      "outputs": [
        {
          "output_type": "execute_result",
          "data": {
            "text/plain": [
              "array([ True,  True])"
            ]
          },
          "metadata": {},
          "execution_count": 22
        }
      ]
    },
    {
      "cell_type": "code",
      "source": [
        "plotVectors([vectorfy(V, 0), vectorfy(V, 1), vectorfy(V, 2), vectorfy(V, 3),\n",
        "             vectorfy(AV, 0), vectorfy(AV, 1), vectorfy(AV, 2), vectorfy(AV, 3)],\n",
        "            ['lightblue', 'lightgreen', 'lightgrey', 'orange',\n",
        "             'blue', 'green', 'gray', 'red'])\n",
        "plt.xlim(-4, 6)\n",
        "plt.ylim(-5, 5)\n",
        "plt.title('Result of Applying Matrix A to Matrix V')\n",
        "plt.tight_layout()\n",
        "plt.show()\n"
      ],
      "metadata": {
        "colab": {
          "base_uri": "https://localhost:8080/",
          "height": 487
        },
        "id": "LhRCQuPmtVag",
        "outputId": "f35993f7-6801-465a-c9a2-062ef74a276d"
      },
      "execution_count": 23,
      "outputs": [
        {
          "output_type": "display_data",
          "data": {
            "text/plain": [
              "<Figure size 640x480 with 1 Axes>"
            ],
            "image/png": "[encoded data removed]"
          },
          "metadata": {}
        }
      ]
    },
    {
      "cell_type": "markdown",
      "source": [
        "*  An **eigenvector** (*eigen* is German for 'typical'; or 'characteristic vector') is a special vector $\\vec{v}$ such that when it is transformed by some matrix ($\\matrix{A}$), the product $\\matrix{A}\\vec{v}$ has the exact same direction as $\\vec{v}$.\n",
        "*  An **eigenvalue** is a scalar($\\lambda$) that simply scales the eigenvector $\\vec{v}$ such that the following equation is satisfied:\n",
        "\\begin{equation*}\n",
        "\\matrix{A}\\vec{v} = \\lambda\\vec{v}\n",
        "\\end{equation*}"
      ],
      "metadata": {
        "id": "EohLH6_fKG5N"
      }
    },
    {
      "cell_type": "code",
      "source": [
        "# take matrix A that we are applying\n",
        "A"
      ],
      "metadata": {
        "id": "aF_rog1duiIJ",
        "colab": {
          "base_uri": "https://localhost:8080/"
        },
        "outputId": "f7780155-d812-4bee-f314-c20d41809d0a"
      },
      "execution_count": 24,
      "outputs": [
        {
          "output_type": "execute_result",
          "data": {
            "text/plain": [
              "array([[-1,  4],\n",
              "       [ 2, -2]])"
            ]
          },
          "metadata": {},
          "execution_count": 24
        }
      ]
    },
    {
      "cell_type": "markdown",
      "source": [
        "*  The NumPy `eig()` method returns a tuple of:\n",
        "  *  a vector of eigenvalues\n",
        "  *  a matrix of eigenvectors\n",
        "* **The eigenvalues and eigenvectors are characteristic of the matrix that we apply** to a given vector or matrix."
      ],
      "metadata": {
        "id": "oiOBIBtyNMmG"
      }
    },
    {
      "cell_type": "code",
      "source": [
        "lambdas, V = np.linalg.eig(A)"
      ],
      "metadata": {
        "id": "1MeCu5I1NArO"
      },
      "execution_count": 25,
      "outputs": []
    },
    {
      "cell_type": "markdown",
      "source": [
        "*  The matrix returned will have as many eigenvectors as there are columns of $\\matrix{A}$."
      ],
      "metadata": {
        "id": "0JyLgcSsPD3d"
      }
    },
    {
      "cell_type": "code",
      "source": [
        "V # each column is a separate eigenvector v"
      ],
      "metadata": {
        "colab": {
          "base_uri": "https://localhost:8080/"
        },
        "id": "ZymDvt9MN8g_",
        "outputId": "55ab443d-95fa-45c8-b33b-f296f5d25a90"
      },
      "execution_count": 26,
      "outputs": [
        {
          "output_type": "execute_result",
          "data": {
            "text/plain": [
              "array([[ 0.86011126, -0.76454754],\n",
              "       [ 0.51010647,  0.64456735]])"
            ]
          },
          "metadata": {},
          "execution_count": 26
        }
      ]
    },
    {
      "cell_type": "markdown",
      "source": [
        "* Along with a corresponding eigenvalue for each eigenvector."
      ],
      "metadata": {
        "id": "vCvj-K57Pj0N"
      }
    },
    {
      "cell_type": "code",
      "source": [
        "lambdas # these lambdas are lambdas that satisfy the equation Av = lambda v"
      ],
      "metadata": {
        "colab": {
          "base_uri": "https://localhost:8080/"
        },
        "id": "SfqojjX0PaSW",
        "outputId": "61db56e9-37e3-4b57-d968-de0e95b64810"
      },
      "execution_count": 27,
      "outputs": [
        {
          "output_type": "execute_result",
          "data": {
            "text/plain": [
              "array([ 1.37228132, -4.37228132])"
            ]
          },
          "metadata": {},
          "execution_count": 27
        }
      ]
    },
    {
      "cell_type": "markdown",
      "source": [
        "* Now we should confirm that indeed $\\matrix{A}\\vec{v} = \\lambda\\vec{v}$ for the first eigenvector:"
      ],
      "metadata": {
        "id": "1XV9zcMVRm3W"
      }
    },
    {
      "cell_type": "code",
      "source": [
        "v = V[:,0]\n",
        "v"
      ],
      "metadata": {
        "colab": {
          "base_uri": "https://localhost:8080/"
        },
        "id": "3Ht0N0ylQKcv",
        "outputId": "81ee9b8a-caa3-486b-acff-e4db47e978a2"
      },
      "execution_count": 28,
      "outputs": [
        {
          "output_type": "execute_result",
          "data": {
            "text/plain": [
              "array([0.86011126, 0.51010647])"
            ]
          },
          "metadata": {},
          "execution_count": 28
        }
      ]
    },
    {
      "cell_type": "code",
      "source": [
        "lambdaa = lambdas[0] # ** careful - lambda is a reserved word in Python\n",
        "lambdaa"
      ],
      "metadata": {
        "colab": {
          "base_uri": "https://localhost:8080/"
        },
        "id": "aDyvYYNISAZu",
        "outputId": "fd86fefd-50e4-4c4f-a64e-8cb014596794"
      },
      "execution_count": 29,
      "outputs": [
        {
          "output_type": "execute_result",
          "data": {
            "text/plain": [
              "1.3722813232690143"
            ]
          },
          "metadata": {},
          "execution_count": 29
        }
      ]
    },
    {
      "cell_type": "code",
      "source": [
        "Av = np.dot(A, v) # the Av on the left side of the equation\n",
        "Av"
      ],
      "metadata": {
        "colab": {
          "base_uri": "https://localhost:8080/"
        },
        "id": "2FgoOAR4Scd_",
        "outputId": "7dd1b962-af3d-43e4-9893-b5419ba9223b"
      },
      "execution_count": 30,
      "outputs": [
        {
          "output_type": "execute_result",
          "data": {
            "text/plain": [
              "array([1.18031462, 0.70000958])"
            ]
          },
          "metadata": {},
          "execution_count": 30
        }
      ]
    },
    {
      "cell_type": "code",
      "source": [
        "lambdaa * v # the lambda v on the right side of the equation"
      ],
      "metadata": {
        "colab": {
          "base_uri": "https://localhost:8080/"
        },
        "id": "a-nWQG0CS2Gn",
        "outputId": "cfd0af0c-a803-4cc5-d5a7-715d3e57b8d8"
      },
      "execution_count": 31,
      "outputs": [
        {
          "output_type": "execute_result",
          "data": {
            "text/plain": [
              "array([1.18031462, 0.70000958])"
            ]
          },
          "metadata": {},
          "execution_count": 31
        }
      ]
    },
    {
      "cell_type": "markdown",
      "source": [
        "*  To confirm that these are indeed eigenvectors we can plot them.\n",
        "*  After applying the transformation($\\matrix{A}$) the vector is on the exact same orientation as $\\vec{v}$ but a different $L^2$ norm. The difference between the two vectors is the eigenvalue for that eigenvector.\n",
        "*  So the resulting vector is 1.37 times the original vector."
      ],
      "metadata": {
        "id": "lgfMIdoIToGV"
      }
    },
    {
      "cell_type": "code",
      "source": [
        "plotVectors([Av, v], ['blue', 'lightblue'])\n",
        "plt.xlim(-1, 2)\n",
        "plt.ylim(-1, 2)\n",
        "plt.tight_layout()\n",
        "plt.title('Plot of eigenvector')\n",
        "plt.show()"
      ],
      "metadata": {
        "colab": {
          "base_uri": "https://localhost:8080/",
          "height": 503
        },
        "id": "eE80K4mlTYWX",
        "outputId": "a76e8977-78d9-49f7-d0ca-c8c8cf9fa057"
      },
      "execution_count": 32,
      "outputs": [
        {
          "output_type": "display_data",
          "data": {
            "text/plain": [
              "<Figure size 640x480 with 1 Axes>"
            ],
            "image/png": "[encoded data removed]"
          },
          "metadata": {}
        }
      ]
    },
    {
      "cell_type": "markdown",
      "source": [
        "*  Now we can complete for the second vector of $\\matrix{A}$"
      ],
      "metadata": {
        "id": "rMfO7cDgacjf"
      }
    },
    {
      "cell_type": "code",
      "source": [
        "v2 = V[:,1]\n",
        "v2"
      ],
      "metadata": {
        "colab": {
          "base_uri": "https://localhost:8080/"
        },
        "id": "6H4FMoo7ULxo",
        "outputId": "540ad1ed-e314-4e6a-b021-ea3e42a535d2"
      },
      "execution_count": 33,
      "outputs": [
        {
          "output_type": "execute_result",
          "data": {
            "text/plain": [
              "array([-0.76454754,  0.64456735])"
            ]
          },
          "metadata": {},
          "execution_count": 33
        }
      ]
    },
    {
      "cell_type": "code",
      "source": [
        "lambda2 = lambdas[1]\n",
        "lambda2"
      ],
      "metadata": {
        "colab": {
          "base_uri": "https://localhost:8080/"
        },
        "id": "VfGqq35Hawm-",
        "outputId": "33a368cb-847d-4e69-da14-fdcf51667d53"
      },
      "execution_count": 34,
      "outputs": [
        {
          "output_type": "execute_result",
          "data": {
            "text/plain": [
              "-4.372281323269014"
            ]
          },
          "metadata": {},
          "execution_count": 34
        }
      ]
    },
    {
      "cell_type": "code",
      "source": [
        "Av2 = np.dot(A, v2)\n",
        "Av2"
      ],
      "metadata": {
        "colab": {
          "base_uri": "https://localhost:8080/"
        },
        "id": "7qIsn0W2a843",
        "outputId": "0ae79708-f9a8-45d0-889f-8f1589904824"
      },
      "execution_count": 35,
      "outputs": [
        {
          "output_type": "execute_result",
          "data": {
            "text/plain": [
              "array([ 3.34281692, -2.81822977])"
            ]
          },
          "metadata": {},
          "execution_count": 35
        }
      ]
    },
    {
      "cell_type": "code",
      "source": [
        "lambda2 * v2"
      ],
      "metadata": {
        "colab": {
          "base_uri": "https://localhost:8080/"
        },
        "id": "UlVcOtDhbIcv",
        "outputId": "0019adae-950b-4976-edf6-667f878f4a89"
      },
      "execution_count": 36,
      "outputs": [
        {
          "output_type": "execute_result",
          "data": {
            "text/plain": [
              "array([ 3.34281692, -2.81822977])"
            ]
          },
          "metadata": {},
          "execution_count": 36
        }
      ]
    },
    {
      "cell_type": "code",
      "source": [
        "plotVectors([Av, v, Av2, v2], ['blue', 'lightblue', 'green', 'lightgreen'])\n",
        "plt.xlim(-1, 4)\n",
        "plt.ylim(-3, 2)\n",
        "plt.tight_layout()\n",
        "plt.title('Plot of eigenvectors')\n",
        "plt.show()"
      ],
      "metadata": {
        "colab": {
          "base_uri": "https://localhost:8080/",
          "height": 503
        },
        "id": "j_GPCCfqcKyW",
        "outputId": "65c7b2f9-62a8-4a38-c780-7558239ee394"
      },
      "execution_count": 37,
      "outputs": [
        {
          "output_type": "display_data",
          "data": {
            "text/plain": [
              "<Figure size 640x480 with 1 Axes>"
            ],
            "image/png": "[encoded data removed]"
          },
          "metadata": {}
        }
      ]
    },
    {
      "cell_type": "markdown",
      "source": [
        "*  We can do the same as above using PyTorch `eig()` method."
      ],
      "metadata": {
        "id": "H-YDmjBsdylF"
      }
    },
    {
      "cell_type": "code",
      "source": [
        "A"
      ],
      "metadata": {
        "colab": {
          "base_uri": "https://localhost:8080/"
        },
        "id": "dkGuP6FSclQ-",
        "outputId": "75bda4bb-96e7-4fbe-b885-2b2061d44eac"
      },
      "execution_count": 38,
      "outputs": [
        {
          "output_type": "execute_result",
          "data": {
            "text/plain": [
              "array([[-1,  4],\n",
              "       [ 2, -2]])"
            ]
          },
          "metadata": {},
          "execution_count": 38
        }
      ]
    },
    {
      "cell_type": "code",
      "source": [
        "A_p = torch.tensor([ [-1, 4], [2., -2] ])\n",
        "A_p"
      ],
      "metadata": {
        "colab": {
          "base_uri": "https://localhost:8080/"
        },
        "id": "ZCdl47y_d7_w",
        "outputId": "3e28c29f-5566-448f-e38e-328d724dd92b"
      },
      "execution_count": 39,
      "outputs": [
        {
          "output_type": "execute_result",
          "data": {
            "text/plain": [
              "tensor([[-1.,  4.],\n",
              "        [ 2., -2.]])"
            ]
          },
          "metadata": {},
          "execution_count": 39
        }
      ]
    },
    {
      "cell_type": "code",
      "source": [
        "eigs = torch.linalg.eig(A_p)\n",
        "eigs"
      ],
      "metadata": {
        "colab": {
          "base_uri": "https://localhost:8080/"
        },
        "id": "rhIXz-Q8eMBv",
        "outputId": "088aafce-5e92-413a-c3c0-1ef0aaad4b17"
      },
      "execution_count": 40,
      "outputs": [
        {
          "output_type": "execute_result",
          "data": {
            "text/plain": [
              "torch.return_types.linalg_eig(\n",
              "eigenvalues=tensor([ 1.3723+0.j, -4.3723+0.j]),\n",
              "eigenvectors=tensor([[ 0.8601+0.j, -0.7645+0.j],\n",
              "        [ 0.5101+0.j,  0.6446+0.j]]))"
            ]
          },
          "metadata": {},
          "execution_count": 40
        }
      ]
    },
    {
      "cell_type": "code",
      "source": [
        "v_p = eigs.eigenvectors[:, 0]\n",
        "v_p.real # convert to real values"
      ],
      "metadata": {
        "colab": {
          "base_uri": "https://localhost:8080/"
        },
        "id": "0nJoOeFHear9",
        "outputId": "78c9b2d6-219c-4841-dd40-1962df4c5151"
      },
      "execution_count": 41,
      "outputs": [
        {
          "output_type": "execute_result",
          "data": {
            "text/plain": [
              "tensor([0.8601, 0.5101])"
            ]
          },
          "metadata": {},
          "execution_count": 41
        }
      ]
    },
    {
      "cell_type": "code",
      "source": [
        "lambda_p = eigs.eigenvalues[0]\n",
        "lambda_p.real # convert to real values"
      ],
      "metadata": {
        "colab": {
          "base_uri": "https://localhost:8080/"
        },
        "id": "wFsRk4TehNEv",
        "outputId": "b714be2d-151a-455c-9248-6b02928ca88a"
      },
      "execution_count": 42,
      "outputs": [
        {
          "output_type": "execute_result",
          "data": {
            "text/plain": [
              "tensor(1.3723)"
            ]
          },
          "metadata": {},
          "execution_count": 42
        }
      ]
    },
    {
      "cell_type": "code",
      "source": [
        "Av_p = torch.matmul(A_p, v_p.real)\n",
        "Av_p"
      ],
      "metadata": {
        "colab": {
          "base_uri": "https://localhost:8080/"
        },
        "id": "6EHJflXVhb4m",
        "outputId": "cbf0b538-a897-40c7-d78d-685276faaa86"
      },
      "execution_count": 43,
      "outputs": [
        {
          "output_type": "execute_result",
          "data": {
            "text/plain": [
              "tensor([1.1803, 0.7000])"
            ]
          },
          "metadata": {},
          "execution_count": 43
        }
      ]
    },
    {
      "cell_type": "code",
      "source": [
        "lambda_p.real * v_p.real"
      ],
      "metadata": {
        "colab": {
          "base_uri": "https://localhost:8080/"
        },
        "id": "91QGApJzkPLf",
        "outputId": "b4fba3e6-391a-40e8-d734-e09e137606f0"
      },
      "execution_count": 44,
      "outputs": [
        {
          "output_type": "execute_result",
          "data": {
            "text/plain": [
              "tensor([1.1803, 0.7000])"
            ]
          },
          "metadata": {},
          "execution_count": 44
        }
      ]
    },
    {
      "cell_type": "code",
      "source": [
        "v2_p = eigs.eigenvectors[:, 1]\n",
        "v2_p.real # convert to real values"
      ],
      "metadata": {
        "colab": {
          "base_uri": "https://localhost:8080/"
        },
        "id": "4UWW2lbUnowX",
        "outputId": "93961b76-2cdd-4c55-b972-3aa96ceaacde"
      },
      "execution_count": 45,
      "outputs": [
        {
          "output_type": "execute_result",
          "data": {
            "text/plain": [
              "tensor([-0.7645,  0.6446])"
            ]
          },
          "metadata": {},
          "execution_count": 45
        }
      ]
    },
    {
      "cell_type": "code",
      "source": [
        "lambda2_p = eigs.eigenvalues[1]\n",
        "lambda2_p.real # convert to real values"
      ],
      "metadata": {
        "colab": {
          "base_uri": "https://localhost:8080/"
        },
        "id": "LMrrfy7LoHGv",
        "outputId": "0c5b5f6d-66df-4635-bbfa-bcb5f3d6f6ed"
      },
      "execution_count": 46,
      "outputs": [
        {
          "output_type": "execute_result",
          "data": {
            "text/plain": [
              "tensor(-4.3723)"
            ]
          },
          "metadata": {},
          "execution_count": 46
        }
      ]
    },
    {
      "cell_type": "code",
      "source": [
        "Av2_p = torch.matmul(A_p, v2_p.real)\n",
        "Av2_p"
      ],
      "metadata": {
        "colab": {
          "base_uri": "https://localhost:8080/"
        },
        "id": "nes8eWVRoZKP",
        "outputId": "a06d9003-db7f-4abc-82c6-3e1992a674f0"
      },
      "execution_count": 47,
      "outputs": [
        {
          "output_type": "execute_result",
          "data": {
            "text/plain": [
              "tensor([ 3.3428, -2.8182])"
            ]
          },
          "metadata": {},
          "execution_count": 47
        }
      ]
    },
    {
      "cell_type": "code",
      "source": [
        "lambda2_p.real * v2_p.real"
      ],
      "metadata": {
        "colab": {
          "base_uri": "https://localhost:8080/"
        },
        "id": "GK-XJqSKop3u",
        "outputId": "d0ed7e13-12bc-42f5-e8d9-e9ec49e9688e"
      },
      "execution_count": 48,
      "outputs": [
        {
          "output_type": "execute_result",
          "data": {
            "text/plain": [
              "tensor([ 3.3428, -2.8182])"
            ]
          },
          "metadata": {},
          "execution_count": 48
        }
      ]
    },
    {
      "cell_type": "markdown",
      "source": [
        "#### Review of Eigenvectors and Eigenvalues\n",
        "*  The eigenvalue of an eigenvector corresponds to the change in length (size) of the vector when a matrix is applied to it. If the length remains the same, the eigenvalue is 1. If it doubles, the eigenvalue is 2; if it halves, the eigenvalue is 0.5. The eigenvalue provides information about how the matrix operation transforms the eigenvector.\n",
        "*   Eigenvalues are represented as scalar values, typically denoted by the Greek lowercase letter lambda. They indicate how the matrix transformation scales or stretches the corresponding eigenvectors.\n",
        "*   An eigenvector is a vector that does not change direction when a matrix is applied. It remains oriented in the same direction.\n",
        "*  An eigenvector is a vector that retains its direction after transformation by a matrix. The orientation or direction of the vector remains the same, although the corresponding eigenvalue may scale its length.\n",
        "*   In a three-dimensional matrix, there will be three eigenvectors and three corresponding eigenvalues. The number of eigenvectors and eigenvalues matches the number of dimensions of the matrix."
      ],
      "metadata": {
        "id": "sH8RtRtaqdgJ"
      }
    },
    {
      "cell_type": "markdown",
      "source": [
        "#### Higher Dimensional Eigenvectors"
      ],
      "metadata": {
        "id": "eFQWlMapuOse"
      }
    },
    {
      "cell_type": "code",
      "source": [
        "X = np.array([ [25, 2, 9], [5, 26, -5], [3, 7, -1] ])\n",
        "X"
      ],
      "metadata": {
        "id": "WVDqu9-ztyA_",
        "colab": {
          "base_uri": "https://localhost:8080/"
        },
        "outputId": "10379d4f-7cb6-473f-8a0d-df9c654ecd02"
      },
      "execution_count": 49,
      "outputs": [
        {
          "output_type": "execute_result",
          "data": {
            "text/plain": [
              "array([[25,  2,  9],\n",
              "       [ 5, 26, -5],\n",
              "       [ 3,  7, -1]])"
            ]
          },
          "metadata": {},
          "execution_count": 49
        }
      ]
    },
    {
      "cell_type": "code",
      "source": [
        "lambdas_X, V_X = np.linalg.eig(X)"
      ],
      "metadata": {
        "id": "BQdopEeemimi"
      },
      "execution_count": 50,
      "outputs": []
    },
    {
      "cell_type": "code",
      "source": [
        "V_X # one eigenvector per column of X"
      ],
      "metadata": {
        "colab": {
          "base_uri": "https://localhost:8080/"
        },
        "id": "x_1xS1Bbm_HT",
        "outputId": "204fa388-fc39-427e-e3c0-9020e80fb910"
      },
      "execution_count": 51,
      "outputs": [
        {
          "output_type": "execute_result",
          "data": {
            "text/plain": [
              "array([[-0.71175736, -0.6501921 , -0.34220476],\n",
              "       [-0.66652125,  0.74464056,  0.23789717],\n",
              "       [-0.22170001,  0.15086635,  0.90901091]])"
            ]
          },
          "metadata": {},
          "execution_count": 51
        }
      ]
    },
    {
      "cell_type": "code",
      "source": [
        "lambdas_X # a corresponding eigenvalue for each eigenvector"
      ],
      "metadata": {
        "colab": {
          "base_uri": "https://localhost:8080/"
        },
        "id": "zdwIbukPnIuS",
        "outputId": "9e58f1e3-af4c-4d38-dc1c-3613d588824d"
      },
      "execution_count": 52,
      "outputs": [
        {
          "output_type": "execute_result",
          "data": {
            "text/plain": [
              "array([29.67623202, 20.62117365, -0.29740567])"
            ]
          },
          "metadata": {},
          "execution_count": 52
        }
      ]
    },
    {
      "cell_type": "markdown",
      "source": [
        "*  Confirm $\\matrix{X}\\vec{v} = \\lambda\\vec{v}$"
      ],
      "metadata": {
        "id": "nskn9Yztn_gp"
      }
    },
    {
      "cell_type": "code",
      "source": [
        "v_X = V_X[:, 0]\n",
        "v_X"
      ],
      "metadata": {
        "colab": {
          "base_uri": "https://localhost:8080/"
        },
        "id": "46ZbJ_-NnWqD",
        "outputId": "5ae90bda-1fbb-40b6-cddf-1620ad460aa4"
      },
      "execution_count": 53,
      "outputs": [
        {
          "output_type": "execute_result",
          "data": {
            "text/plain": [
              "array([-0.71175736, -0.66652125, -0.22170001])"
            ]
          },
          "metadata": {},
          "execution_count": 53
        }
      ]
    },
    {
      "cell_type": "code",
      "source": [
        "lambda_X = lambdas_X[0]\n",
        "lambda_X"
      ],
      "metadata": {
        "colab": {
          "base_uri": "https://localhost:8080/"
        },
        "id": "r064sqrHoxix",
        "outputId": "d22baf4a-e083-49a8-996d-9d0a08e54a25"
      },
      "execution_count": 55,
      "outputs": [
        {
          "output_type": "execute_result",
          "data": {
            "text/plain": [
              "29.676232023948902"
            ]
          },
          "metadata": {},
          "execution_count": 55
        }
      ]
    },
    {
      "cell_type": "code",
      "source": [
        "np.dot(X, v_X) # matrix multiplication"
      ],
      "metadata": {
        "colab": {
          "base_uri": "https://localhost:8080/"
        },
        "id": "_Mi6TN1IpPiS",
        "outputId": "83de86a7-0152-4653-a348-ccddc58880b6"
      },
      "execution_count": 56,
      "outputs": [
        {
          "output_type": "execute_result",
          "data": {
            "text/plain": [
              "array([-21.12227645, -19.77983919,  -6.5792208 ])"
            ]
          },
          "metadata": {},
          "execution_count": 56
        }
      ]
    },
    {
      "cell_type": "code",
      "source": [
        "lambda_X * v_X"
      ],
      "metadata": {
        "colab": {
          "base_uri": "https://localhost:8080/"
        },
        "id": "WXgyedespbd7",
        "outputId": "744fa234-cb43-4c27-cbe4-2f184079907a"
      },
      "execution_count": 57,
      "outputs": [
        {
          "output_type": "execute_result",
          "data": {
            "text/plain": [
              "array([-21.12227645, -19.77983919,  -6.5792208 ])"
            ]
          },
          "metadata": {},
          "execution_count": 57
        }
      ]
    },
    {
      "cell_type": "code",
      "source": [
        "# using pyTorch\n",
        "X_t = torch.tensor([ [25, 2, 9], [5, 26, -5], [3, 7, -1] ], dtype=torch.float64)\n",
        "X_t"
      ],
      "metadata": {
        "colab": {
          "base_uri": "https://localhost:8080/"
        },
        "id": "BHv6U6ZKpqk6",
        "outputId": "3ccf143e-25b0-425f-9131-155dfc707e41"
      },
      "execution_count": 59,
      "outputs": [
        {
          "output_type": "execute_result",
          "data": {
            "text/plain": [
              "tensor([[25.,  2.,  9.],\n",
              "        [ 5., 26., -5.],\n",
              "        [ 3.,  7., -1.]], dtype=torch.float64)"
            ]
          },
          "metadata": {},
          "execution_count": 59
        }
      ]
    },
    {
      "cell_type": "code",
      "source": [
        "L, V = torch.linalg.eig(X_t)"
      ],
      "metadata": {
        "id": "cgQJkdTjtcxj"
      },
      "execution_count": 60,
      "outputs": []
    },
    {
      "cell_type": "code",
      "source": [
        "L.real"
      ],
      "metadata": {
        "colab": {
          "base_uri": "https://localhost:8080/"
        },
        "id": "-tC4dIk0uPhh",
        "outputId": "623c5af5-aa37-40f4-c095-369ab5493efa"
      },
      "execution_count": 62,
      "outputs": [
        {
          "output_type": "execute_result",
          "data": {
            "text/plain": [
              "tensor([29.6762, 20.6212, -0.2974], dtype=torch.float64)"
            ]
          },
          "metadata": {},
          "execution_count": 62
        }
      ]
    },
    {
      "cell_type": "code",
      "source": [
        "V.real"
      ],
      "metadata": {
        "colab": {
          "base_uri": "https://localhost:8080/"
        },
        "id": "aqayRn7puQbZ",
        "outputId": "106289a7-c18c-42a8-cb31-ffb521455989"
      },
      "execution_count": 63,
      "outputs": [
        {
          "output_type": "execute_result",
          "data": {
            "text/plain": [
              "tensor([[-0.7118, -0.6502, -0.3422],\n",
              "        [-0.6665,  0.7446,  0.2379],\n",
              "        [-0.2217,  0.1509,  0.9090]], dtype=torch.float64)"
            ]
          },
          "metadata": {},
          "execution_count": 63
        }
      ]
    },
    {
      "cell_type": "code",
      "source": [
        "V_v = V[:, 0] # get the first column eigenvector\n",
        "V_v.real"
      ],
      "metadata": {
        "colab": {
          "base_uri": "https://localhost:8080/"
        },
        "id": "P3CXlqxpuUhq",
        "outputId": "e1acf48c-6a68-45ad-8ab0-488e87701bc3"
      },
      "execution_count": 65,
      "outputs": [
        {
          "output_type": "execute_result",
          "data": {
            "text/plain": [
              "tensor([-0.7118, -0.6665, -0.2217], dtype=torch.float64)"
            ]
          },
          "metadata": {},
          "execution_count": 65
        }
      ]
    },
    {
      "cell_type": "code",
      "source": [
        "L_lambda = L[0] # get the first eigenvalue\n",
        "L_lambda.real"
      ],
      "metadata": {
        "colab": {
          "base_uri": "https://localhost:8080/"
        },
        "id": "MhOKRjlAu5IK",
        "outputId": "9d0e3427-934c-4da6-d13a-f1bbccfed669"
      },
      "execution_count": 67,
      "outputs": [
        {
          "output_type": "execute_result",
          "data": {
            "text/plain": [
              "tensor(29.6762, dtype=torch.float64)"
            ]
          },
          "metadata": {},
          "execution_count": 67
        }
      ]
    },
    {
      "cell_type": "markdown",
      "source": [
        "*  Confirm $\\matrix{X}\\vec{v} = \\lambda\\vec{v}$"
      ],
      "metadata": {
        "id": "zNYovUBhv_Th"
      }
    },
    {
      "cell_type": "code",
      "source": [
        "torch.matmul(X_t, V_v.real)"
      ],
      "metadata": {
        "colab": {
          "base_uri": "https://localhost:8080/"
        },
        "id": "-PK6QIZQvTZJ",
        "outputId": "3f9953ff-56f8-4e75-b05e-9edf45e4ebb2"
      },
      "execution_count": 69,
      "outputs": [
        {
          "output_type": "execute_result",
          "data": {
            "text/plain": [
              "tensor([-21.1223, -19.7798,  -6.5792], dtype=torch.float64)"
            ]
          },
          "metadata": {},
          "execution_count": 69
        }
      ]
    },
    {
      "cell_type": "code",
      "source": [
        "L_lambda.real * V_v.real"
      ],
      "metadata": {
        "colab": {
          "base_uri": "https://localhost:8080/"
        },
        "id": "6VUN9MquvpeK",
        "outputId": "c6dab7a6-1d62-4d57-bd68-912f578e1f47"
      },
      "execution_count": 70,
      "outputs": [
        {
          "output_type": "execute_result",
          "data": {
            "text/plain": [
              "tensor([-21.1223, -19.7798,  -6.5792], dtype=torch.float64)"
            ]
          },
          "metadata": {},
          "execution_count": 70
        }
      ]
    },
    {
      "cell_type": "code",
      "source": [],
      "metadata": {
        "id": "ETlUC3xGwUpD"
      },
      "execution_count": null,
      "outputs": []
    }
  ]
}