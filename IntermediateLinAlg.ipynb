{
  "nbformat": 4,
  "nbformat_minor": 0,
  "metadata": {
    "colab": {
      "provenance": [],
      "authorship_tag": "ABX9TyNoXWFOajS8HzqG9Scyb3TX",
      "include_colab_link": true
    },
    "kernelspec": {
      "name": "python3",
      "display_name": "Python 3"
    },
    "language_info": {
      "name": "python"
    }
  },
  "cells": [
    {
      "cell_type": "markdown",
      "metadata": {
        "id": "view-in-github",
        "colab_type": "text"
      },
      "source": [
        "<a href=\"https://colab.research.google.com/github/k3robotics/ML-Essentials/blob/main/IntermediateLinAlg.ipynb\" target=\"_parent\"><img src=\"https://colab.research.google.com/assets/colab-badge.svg\" alt=\"Open In Colab\"/></a>"
      ]
    },
    {
      "cell_type": "code",
      "source": [
        "# imports\n",
        "import numpy as np\n",
        "import tensorflow as tf\n",
        "import torch\n",
        "import matplotlib.pyplot as plt"
      ],
      "metadata": {
        "id": "kH8TKA-PRU9w"
      },
      "execution_count": 109,
      "outputs": []
    },
    {
      "cell_type": "markdown",
      "source": [
        "#### Eigenvectors and Eigenvalues\n",
        "*  Eigenvectors will not change in orientation or magnitude if a transformation matrix is applied to an original matrix, such as an image broken down into a pixel grid.\n",
        "* The eigenvalue of an eigenvector describes the tranformation magnitude of the eigenvector. For example, if a 'flipping matrix' is applied to an original matrix and there are two vectors orthogonal to each other, then only the vector on the x-axis will change direction. This is still an eigenvector because the angle of the vector has not changed but the orientation has changed. However, the original eigenvalue was 1 and when the vector is rotated 180 degrees the eigenvalue becomes -1.  If a transformation was applied and the x-axis eigenvector was shortened to half its original magnitude then the eigenvalue would change to 0.5. Likewise, if the eigenvector was doubled in magnitude then the eigenvalue would be 2. If a shearing matrix is applied then the eigenvector oriented on the y-axis is not an eigenvector because the angle of the vector has been taken off span (vertical and then not vertical).\n",
        "* The eigenvalue is a scalar multiple that tells us how an eigenvector is adjusted if it even is adjusted."
      ],
      "metadata": {
        "id": "1jfNf4O46z5x"
      }
    },
    {
      "cell_type": "markdown",
      "source": [
        "#### Eigendecomposition\n",
        "* We can plot some vectors and see how applying matrices to these vectors transforms them. Then we can find the eigenvectors and eigenvalues of the matrices that are applied to the vectors.\n"
      ],
      "metadata": {
        "id": "wQNn6a7TOPnv"
      }
    },
    {
      "cell_type": "code",
      "execution_count": 110,
      "metadata": {
        "colab": {
          "base_uri": "https://localhost:8080/"
        },
        "id": "PDWUBgGh6hEl",
        "outputId": "ff8f7895-aba8-4dd0-a18a-932d1a268b55"
      },
      "outputs": [
        {
          "output_type": "execute_result",
          "data": {
            "text/plain": [
              "array([3, 1])"
            ]
          },
          "metadata": {},
          "execution_count": 110
        }
      ],
      "source": [
        "v = np.array([3, 1])\n",
        "v"
      ]
    },
    {
      "cell_type": "markdown",
      "source": [
        "We can plot $\\vec{v}$ using Hadrien Jean's `plotVectors` function."
      ],
      "metadata": {
        "id": "V6j61pz9SyqP"
      }
    },
    {
      "cell_type": "code",
      "source": [
        "def plotVectors(vecs, cols, alpha=1):\n",
        "  \"\"\"\n",
        "  Plot a set of vectors.\n",
        "\n",
        "  Parameters\n",
        "  ----------\n",
        "  vecs: array-like\n",
        "    Coordinates of the vectors to plot. Each vectors is in an array. For example, [[1, 3], [2, 2]] can be used to plot 2 vectors.\n",
        "  cols: array-like\n",
        "    Colors of the vectors. For example, ['red', 'blue'] will display the first vector in red and the second in blue.\n",
        "  alpha: float\n",
        "    Opacity of the vectors.\n",
        "\n",
        "  Returns:\n",
        "\n",
        "    fig : an instance of matplotlib.figure.Figure\n",
        "      The figure of the vectors.\n",
        "  \"\"\"\n",
        "  plt.figure()\n",
        "  plt.axvline(x=0, color='#A9A9A9', zorder=0)\n",
        "  plt.axhline(y=0, color='#A9A9A9', zorder=0)\n",
        "\n",
        "  for i in range(len(vecs)):\n",
        "    x = np.concatenate([[0, 0], vecs[i]])\n",
        "    plt.quiver([x[0]],\n",
        "               [x[1]],\n",
        "               [x[2]],\n",
        "               [x[3]],\n",
        "               angles='xy', scale_units='xy', scale=1, color=cols[i], alpha=alpha)\n"
      ],
      "metadata": {
        "id": "DxQsl7koTfsh"
      },
      "execution_count": 111,
      "outputs": []
    },
    {
      "cell_type": "code",
      "source": [
        "# plot vector v\n",
        "plotVectors([v], cols=['lightblue'])\n",
        "plt.xlim(-1, 5)\n",
        "plt.ylim(-1, 5)\n",
        "plt.title('Plot of vector v')\n",
        "plt.tight_layout()\n",
        "plt.show()"
      ],
      "metadata": {
        "colab": {
          "base_uri": "https://localhost:8080/",
          "height": 487
        },
        "id": "IobPoT6VX5rB",
        "outputId": "70fce1a3-e8c6-4e43-860c-5b78d23db0f7"
      },
      "execution_count": 112,
      "outputs": [
        {
          "output_type": "display_data",
          "data": {
            "text/plain": [
              "<Figure size 640x480 with 1 Axes>"
            ],
            "image/png": "[encoded data removed]"
          },
          "metadata": {}
        }
      ]
    },
    {
      "cell_type": "markdown",
      "source": [
        "* By applying a matrix to a vector(i.e., perform a matrix-vector multiplication) we can linearly transform the vector, e.g., rotate it or rescale it.\n",
        "* However, applying an Identity Matrix will not transform the vector at all."
      ],
      "metadata": {
        "id": "9AWhKFbLa5ro"
      }
    },
    {
      "cell_type": "code",
      "source": [
        "I = np.array([[1, 0], [0, 1]])\n",
        "I"
      ],
      "metadata": {
        "colab": {
          "base_uri": "https://localhost:8080/"
        },
        "id": "UYutCpTjYT6v",
        "outputId": "adbd3155-e245-48cb-a954-9ff27e9ca136"
      },
      "execution_count": 113,
      "outputs": [
        {
          "output_type": "execute_result",
          "data": {
            "text/plain": [
              "array([[1, 0],\n",
              "       [0, 1]])"
            ]
          },
          "metadata": {},
          "execution_count": 113
        }
      ]
    },
    {
      "cell_type": "code",
      "source": [
        "Iv = np.dot(I, v)\n",
        "Iv"
      ],
      "metadata": {
        "colab": {
          "base_uri": "https://localhost:8080/"
        },
        "id": "XZAq59ebc-4w",
        "outputId": "9be058ac-fb08-4201-abc7-2c4552df937f"
      },
      "execution_count": 114,
      "outputs": [
        {
          "output_type": "execute_result",
          "data": {
            "text/plain": [
              "array([3, 1])"
            ]
          },
          "metadata": {},
          "execution_count": 114
        }
      ]
    },
    {
      "cell_type": "code",
      "source": [
        "v == Iv"
      ],
      "metadata": {
        "colab": {
          "base_uri": "https://localhost:8080/"
        },
        "id": "7zyQrJoudEs_",
        "outputId": "fecfe414-57cf-429b-c79b-5d55e5d41f50"
      },
      "execution_count": 115,
      "outputs": [
        {
          "output_type": "execute_result",
          "data": {
            "text/plain": [
              "array([ True,  True])"
            ]
          },
          "metadata": {},
          "execution_count": 115
        }
      ]
    },
    {
      "cell_type": "code",
      "source": [
        "plotVectors([Iv], cols=['blue'])\n",
        "plt.xlim(-1, 5)\n",
        "plt.ylim(-1, 5)\n",
        "plt.title('Plot of vector Iv Identity Matrix . v')\n",
        "plt.tight_layout()\n",
        "plt.show()"
      ],
      "metadata": {
        "colab": {
          "base_uri": "https://localhost:8080/",
          "height": 487
        },
        "id": "55KdhuGXdUNX",
        "outputId": "03b040d0-c153-4a5e-ba9b-290de421f6fd"
      },
      "execution_count": 116,
      "outputs": [
        {
          "output_type": "display_data",
          "data": {
            "text/plain": [
              "<Figure size 640x480 with 1 Axes>"
            ],
            "image/png": "[encoded data removed]"
          },
          "metadata": {}
        }
      ]
    },
    {
      "cell_type": "markdown",
      "source": [
        "*  Now we can apply a non-identity matrix, $\\matrix{A}$ to $\\vec{v}$ and see how it is transformed."
      ],
      "metadata": {
        "id": "Dkg4OUR3f1vn"
      }
    },
    {
      "cell_type": "code",
      "source": [
        "A = np.array([ [-1, 4], [2, -2] ])\n",
        "A"
      ],
      "metadata": {
        "colab": {
          "base_uri": "https://localhost:8080/"
        },
        "id": "7g78KWBYeLbI",
        "outputId": "52228c3e-30fa-4673-ba5d-230352f3dcb6"
      },
      "execution_count": 117,
      "outputs": [
        {
          "output_type": "execute_result",
          "data": {
            "text/plain": [
              "array([[-1,  4],\n",
              "       [ 2, -2]])"
            ]
          },
          "metadata": {},
          "execution_count": 117
        }
      ]
    },
    {
      "cell_type": "code",
      "source": [
        "Av = np.dot(A, v)\n",
        "Av"
      ],
      "metadata": {
        "colab": {
          "base_uri": "https://localhost:8080/"
        },
        "id": "a0bTKxEzgYZg",
        "outputId": "c5712090-064e-4783-d9b1-d23ed671fdc6"
      },
      "execution_count": 118,
      "outputs": [
        {
          "output_type": "execute_result",
          "data": {
            "text/plain": [
              "array([1, 4])"
            ]
          },
          "metadata": {},
          "execution_count": 118
        }
      ]
    },
    {
      "cell_type": "code",
      "source": [
        "plotVectors([v, Av], cols=['lightblue', 'blue'])\n",
        "plt.xlim(-1, 5)\n",
        "plt.ylim(-1, 5)\n",
        "plt.title('Result of Applying Matrix A to vector v')\n",
        "plt.tight_layout()\n",
        "plt.show()"
      ],
      "metadata": {
        "colab": {
          "base_uri": "https://localhost:8080/",
          "height": 487
        },
        "id": "4k56Z3EugiUH",
        "outputId": "2b150496-1842-4c89-d76d-c63b2845131e"
      },
      "execution_count": 119,
      "outputs": [
        {
          "output_type": "display_data",
          "data": {
            "text/plain": [
              "<Figure size 640x480 with 1 Axes>"
            ],
            "image/png": "[encoded data removed]"
          },
          "metadata": {}
        }
      ]
    },
    {
      "cell_type": "code",
      "source": [
        "# another example of applying a matrix to a vector\n",
        "v2 = np.array([2, 1])\n",
        "plotVectors([v2, np.dot(A, v2)], ['lightgreen', 'green'])\n",
        "plt.xlim(-1, 5)\n",
        "plt.ylim(-1, 5)\n",
        "plt.title('Result of Applying Matrix A to vector v2')\n",
        "plt.tight_layout()\n",
        "plt.show()"
      ],
      "metadata": {
        "colab": {
          "base_uri": "https://localhost:8080/",
          "height": 487
        },
        "id": "x50F17TAhNqw",
        "outputId": "e54b310a-d8f5-4ccb-c70c-96977ed831a5"
      },
      "execution_count": 120,
      "outputs": [
        {
          "output_type": "display_data",
          "data": {
            "text/plain": [
              "<Figure size 640x480 with 1 Axes>"
            ],
            "image/png": "[encoded data removed]"
          },
          "metadata": {}
        }
      ]
    },
    {
      "cell_type": "markdown",
      "source": [
        "*  Now we can concatenate several vectors together into a matrix $\\matrix{V}$, where each column in the matrix is a separate vector. If we apply linear transformations to $\\matrix{V}$ the transformations will be applied independently to each column (vector)."
      ],
      "metadata": {
        "id": "DmgkV5kOpHzf"
      }
    },
    {
      "cell_type": "code",
      "source": [
        "v"
      ],
      "metadata": {
        "colab": {
          "base_uri": "https://localhost:8080/"
        },
        "id": "jXmal4lHiebw",
        "outputId": "b6fe3119-5ad9-4647-944e-e7b5bb2eba98"
      },
      "execution_count": 121,
      "outputs": [
        {
          "output_type": "execute_result",
          "data": {
            "text/plain": [
              "array([3, 1])"
            ]
          },
          "metadata": {},
          "execution_count": 121
        }
      ]
    },
    {
      "cell_type": "code",
      "source": [
        "# we need to convert an array to 2D to transpose into a column vector\n",
        "np.matrix(v).T"
      ],
      "metadata": {
        "colab": {
          "base_uri": "https://localhost:8080/"
        },
        "id": "IBKyzLgLpw64",
        "outputId": "9f435427-5e0a-4425-b409-19870c99f0f9"
      },
      "execution_count": 122,
      "outputs": [
        {
          "output_type": "execute_result",
          "data": {
            "text/plain": [
              "matrix([[3],\n",
              "        [1]])"
            ]
          },
          "metadata": {},
          "execution_count": 122
        }
      ]
    },
    {
      "cell_type": "code",
      "source": [
        "# create some more vectors\n",
        "v3 = np.array([-3, -1]) # mirror image of x over both axes\n",
        "v4 = np.array([-1, 1])"
      ],
      "metadata": {
        "id": "Mat4iZTgqATA"
      },
      "execution_count": 123,
      "outputs": []
    },
    {
      "cell_type": "code",
      "source": [
        "# Now we can build V by concatenating vectors v - v4 as column matrices\n",
        "V = np.concatenate((np.matrix(v).T,\n",
        "                    np.matrix(v2).T,\n",
        "                    np.matrix(v3).T,\n",
        "                    np.matrix(v4).T),\n",
        "                    axis=1)\n",
        "V"
      ],
      "metadata": {
        "colab": {
          "base_uri": "https://localhost:8080/"
        },
        "id": "adOfD3KRqWxQ",
        "outputId": "9dea6f49-1993-4b00-e261-e76b7a75c331"
      },
      "execution_count": 124,
      "outputs": [
        {
          "output_type": "execute_result",
          "data": {
            "text/plain": [
              "matrix([[ 3,  2, -3, -1],\n",
              "        [ 1,  1, -1,  1]])"
            ]
          },
          "metadata": {},
          "execution_count": 124
        }
      ]
    },
    {
      "cell_type": "code",
      "source": [
        "# if we apply the identity matrix to V then we should just get V back\n",
        "IV = np.dot(I,V)\n",
        "IV"
      ],
      "metadata": {
        "colab": {
          "base_uri": "https://localhost:8080/"
        },
        "id": "PLUhfrbirGRJ",
        "outputId": "6347fbca-d3fd-40c7-c987-b0a1bb437501"
      },
      "execution_count": 125,
      "outputs": [
        {
          "output_type": "execute_result",
          "data": {
            "text/plain": [
              "matrix([[ 3,  2, -3, -1],\n",
              "        [ 1,  1, -1,  1]])"
            ]
          },
          "metadata": {},
          "execution_count": 125
        }
      ]
    },
    {
      "cell_type": "code",
      "source": [
        "# if we apply the matrix A to matrix V then A will trnasform all of the four columns\n",
        "AV = np.dot(A, V)\n",
        "AV"
      ],
      "metadata": {
        "colab": {
          "base_uri": "https://localhost:8080/"
        },
        "id": "pLzRZTVNsK1Y",
        "outputId": "7b282533-a66e-47b2-e0ce-6e111e3593e6"
      },
      "execution_count": 126,
      "outputs": [
        {
          "output_type": "execute_result",
          "data": {
            "text/plain": [
              "matrix([[ 1,  2, -1,  5],\n",
              "        [ 4,  2, -4, -4]])"
            ]
          },
          "metadata": {},
          "execution_count": 126
        }
      ]
    },
    {
      "cell_type": "code",
      "source": [
        "# function to convert column of matrix to a 1D vector:\n",
        "def vectorfy(mtrx, clmn):\n",
        "  return np.array(mtrx[:,clmn]).reshape(-1)"
      ],
      "metadata": {
        "id": "eO1JTX6ZshfH"
      },
      "execution_count": 127,
      "outputs": []
    },
    {
      "cell_type": "code",
      "source": [
        "vectorfy(V, 0)"
      ],
      "metadata": {
        "colab": {
          "base_uri": "https://localhost:8080/"
        },
        "id": "R3TD4LzItHWB",
        "outputId": "48df6f8f-63d0-4eb9-bdba-46edf6ea14a3"
      },
      "execution_count": 128,
      "outputs": [
        {
          "output_type": "execute_result",
          "data": {
            "text/plain": [
              "array([3, 1])"
            ]
          },
          "metadata": {},
          "execution_count": 128
        }
      ]
    },
    {
      "cell_type": "code",
      "source": [
        "vectorfy(V, 0) == v"
      ],
      "metadata": {
        "colab": {
          "base_uri": "https://localhost:8080/"
        },
        "id": "qospg4v9tNRg",
        "outputId": "b20ff08a-3ef1-4d30-b0e6-9ea22c8f440d"
      },
      "execution_count": 129,
      "outputs": [
        {
          "output_type": "execute_result",
          "data": {
            "text/plain": [
              "array([ True,  True])"
            ]
          },
          "metadata": {},
          "execution_count": 129
        }
      ]
    },
    {
      "cell_type": "code",
      "source": [
        "plotVectors([vectorfy(V, 0), vectorfy(V, 1), vectorfy(V, 2), vectorfy(V, 3),\n",
        "             vectorfy(AV, 0), vectorfy(AV, 1), vectorfy(AV, 2), vectorfy(AV, 3)],\n",
        "            ['lightblue', 'lightgreen', 'lightgrey', 'orange',\n",
        "             'blue', 'green', 'gray', 'red'])\n",
        "plt.xlim(-4, 6)\n",
        "plt.ylim(-5, 5)\n",
        "plt.title('Result of Applying Matrix A to Matrix V')\n",
        "plt.tight_layout()\n",
        "plt.show()\n"
      ],
      "metadata": {
        "colab": {
          "base_uri": "https://localhost:8080/",
          "height": 487
        },
        "id": "LhRCQuPmtVag",
        "outputId": "0b5bf224-7c2f-444a-dccc-4b63c252e20b"
      },
      "execution_count": 130,
      "outputs": [
        {
          "output_type": "display_data",
          "data": {
            "text/plain": [
              "<Figure size 640x480 with 1 Axes>"
            ],
            "image/png": "[encoded data removed]"
          },
          "metadata": {}
        }
      ]
    },
    {
      "cell_type": "markdown",
      "source": [
        "*  An **eigenvector** (*eigen* is German for 'typical'; or 'characteristic vector') is a special vector $\\vec{v}$ such that when it is transformed by some matrix ($\\matrix{A}$), the product $\\matrix{A}\\vec{v}$ has the exact same direction as $\\vec{v}$.\n",
        "*  An **eigenvalue** is a scalar($\\lambda$) that simply scales the eigenvector $\\vec{v}$ such that the following equation is satisfied:\n",
        "\\begin{equation*}\n",
        "\\matrix{A}\\vec{v} = \\lambda\\vec{v}\n",
        "\\end{equation*}"
      ],
      "metadata": {
        "id": "EohLH6_fKG5N"
      }
    },
    {
      "cell_type": "code",
      "source": [
        "# take matrix A that we are applying\n",
        "A"
      ],
      "metadata": {
        "id": "aF_rog1duiIJ",
        "colab": {
          "base_uri": "https://localhost:8080/"
        },
        "outputId": "840f7628-4b47-4eb4-b382-cd48de6be5bf"
      },
      "execution_count": 131,
      "outputs": [
        {
          "output_type": "execute_result",
          "data": {
            "text/plain": [
              "array([[-1,  4],\n",
              "       [ 2, -2]])"
            ]
          },
          "metadata": {},
          "execution_count": 131
        }
      ]
    },
    {
      "cell_type": "markdown",
      "source": [
        "*  The NumPy `eig()` method returns a tuple of:\n",
        "  *  a vector of eigenvalues\n",
        "  *  a matrix of eigenvectors\n",
        "* **The eigenvalues and eigenvectors are characteristic of the matrix that we apply** to a given vector or matrix."
      ],
      "metadata": {
        "id": "oiOBIBtyNMmG"
      }
    },
    {
      "cell_type": "code",
      "source": [
        "lambdas, V = np.linalg.eig(A)"
      ],
      "metadata": {
        "id": "1MeCu5I1NArO"
      },
      "execution_count": 132,
      "outputs": []
    },
    {
      "cell_type": "markdown",
      "source": [
        "*  The matrix returned will have as many eigenvectors as there are columns of $\\matrix{A}$."
      ],
      "metadata": {
        "id": "0JyLgcSsPD3d"
      }
    },
    {
      "cell_type": "code",
      "source": [
        "V # each column is a separate eigenvector v"
      ],
      "metadata": {
        "colab": {
          "base_uri": "https://localhost:8080/"
        },
        "id": "ZymDvt9MN8g_",
        "outputId": "d73a3bd9-e034-4de3-97d0-f576410130a5"
      },
      "execution_count": 133,
      "outputs": [
        {
          "output_type": "execute_result",
          "data": {
            "text/plain": [
              "array([[ 0.86011126, -0.76454754],\n",
              "       [ 0.51010647,  0.64456735]])"
            ]
          },
          "metadata": {},
          "execution_count": 133
        }
      ]
    },
    {
      "cell_type": "markdown",
      "source": [
        "* Along with a corresponding eigenvalue for each eigenvector."
      ],
      "metadata": {
        "id": "vCvj-K57Pj0N"
      }
    },
    {
      "cell_type": "code",
      "source": [
        "lambdas # these lambdas are lambdas that satisfy the equation Av = lambda v"
      ],
      "metadata": {
        "colab": {
          "base_uri": "https://localhost:8080/"
        },
        "id": "SfqojjX0PaSW",
        "outputId": "0e8bd480-5730-46e9-98e8-ce1ac907a638"
      },
      "execution_count": 134,
      "outputs": [
        {
          "output_type": "execute_result",
          "data": {
            "text/plain": [
              "array([ 1.37228132, -4.37228132])"
            ]
          },
          "metadata": {},
          "execution_count": 134
        }
      ]
    },
    {
      "cell_type": "markdown",
      "source": [
        "* Now we should confirm that indeed $\\matrix{A}\\vec{v} = \\lambda\\vec{v}$ for the first eigenvector:"
      ],
      "metadata": {
        "id": "1XV9zcMVRm3W"
      }
    },
    {
      "cell_type": "code",
      "source": [
        "v = V[:,0]\n",
        "v"
      ],
      "metadata": {
        "colab": {
          "base_uri": "https://localhost:8080/"
        },
        "id": "3Ht0N0ylQKcv",
        "outputId": "e412f145-556d-4d06-f03e-626d87e78a85"
      },
      "execution_count": 135,
      "outputs": [
        {
          "output_type": "execute_result",
          "data": {
            "text/plain": [
              "array([0.86011126, 0.51010647])"
            ]
          },
          "metadata": {},
          "execution_count": 135
        }
      ]
    },
    {
      "cell_type": "code",
      "source": [
        "lambdaa = lambdas[0] # ** careful - lambda is a reserved word in Python\n",
        "lambdaa"
      ],
      "metadata": {
        "colab": {
          "base_uri": "https://localhost:8080/"
        },
        "id": "aDyvYYNISAZu",
        "outputId": "5bb8ed16-ebab-4e18-fb10-0dd1ed63008f"
      },
      "execution_count": 136,
      "outputs": [
        {
          "output_type": "execute_result",
          "data": {
            "text/plain": [
              "1.3722813232690143"
            ]
          },
          "metadata": {},
          "execution_count": 136
        }
      ]
    },
    {
      "cell_type": "code",
      "source": [
        "Av = np.dot(A, v) # the Av on the left side of the equation\n",
        "Av"
      ],
      "metadata": {
        "colab": {
          "base_uri": "https://localhost:8080/"
        },
        "id": "2FgoOAR4Scd_",
        "outputId": "43b46776-c0be-4409-baf2-10725316d70a"
      },
      "execution_count": 137,
      "outputs": [
        {
          "output_type": "execute_result",
          "data": {
            "text/plain": [
              "array([1.18031462, 0.70000958])"
            ]
          },
          "metadata": {},
          "execution_count": 137
        }
      ]
    },
    {
      "cell_type": "code",
      "source": [
        "lambdaa * v # the lambda v on the right side of the equation"
      ],
      "metadata": {
        "colab": {
          "base_uri": "https://localhost:8080/"
        },
        "id": "a-nWQG0CS2Gn",
        "outputId": "36915ecf-7887-45c4-c66b-31f559e65566"
      },
      "execution_count": 138,
      "outputs": [
        {
          "output_type": "execute_result",
          "data": {
            "text/plain": [
              "array([1.18031462, 0.70000958])"
            ]
          },
          "metadata": {},
          "execution_count": 138
        }
      ]
    },
    {
      "cell_type": "markdown",
      "source": [
        "*  To confirm that these are indeed eigenvectors we can plot them.\n",
        "*  After applying the transformation($\\matrix{A}$) the vector is on the exact same orientation as $\\vec{v}$ but a different $L^2$ norm. The difference between the two vectors is the eigenvalue for that eigenvector.\n",
        "*  So the resulting vector is 1.37 times the original vector."
      ],
      "metadata": {
        "id": "lgfMIdoIToGV"
      }
    },
    {
      "cell_type": "code",
      "source": [
        "plotVectors([Av, v], ['blue', 'lightblue'])\n",
        "plt.xlim(-1, 2)\n",
        "plt.ylim(-1, 2)\n",
        "plt.tight_layout()\n",
        "plt.title('Plot of eigenvector')\n",
        "plt.show()"
      ],
      "metadata": {
        "colab": {
          "base_uri": "https://localhost:8080/",
          "height": 503
        },
        "id": "eE80K4mlTYWX",
        "outputId": "c2f79d5a-3db1-4b19-c04d-b88d2e5aeb94"
      },
      "execution_count": 139,
      "outputs": [
        {
          "output_type": "display_data",
          "data": {
            "text/plain": [
              "<Figure size 640x480 with 1 Axes>"
            ],
            "image/png": "[encoded data removed]"
          },
          "metadata": {}
        }
      ]
    },
    {
      "cell_type": "markdown",
      "source": [
        "*  Now we can complete for the second vector of $\\matrix{A}$"
      ],
      "metadata": {
        "id": "rMfO7cDgacjf"
      }
    },
    {
      "cell_type": "code",
      "source": [
        "v2 = V[:,1]\n",
        "v2"
      ],
      "metadata": {
        "colab": {
          "base_uri": "https://localhost:8080/"
        },
        "id": "6H4FMoo7ULxo",
        "outputId": "81a010d6-c993-4bfa-f848-d91ab366078c"
      },
      "execution_count": 140,
      "outputs": [
        {
          "output_type": "execute_result",
          "data": {
            "text/plain": [
              "array([-0.76454754,  0.64456735])"
            ]
          },
          "metadata": {},
          "execution_count": 140
        }
      ]
    },
    {
      "cell_type": "code",
      "source": [
        "lambda2 = lambdas[1]\n",
        "lambda2"
      ],
      "metadata": {
        "colab": {
          "base_uri": "https://localhost:8080/"
        },
        "id": "VfGqq35Hawm-",
        "outputId": "96cc9553-c8fc-4313-8459-dee0706ac69c"
      },
      "execution_count": 141,
      "outputs": [
        {
          "output_type": "execute_result",
          "data": {
            "text/plain": [
              "-4.372281323269014"
            ]
          },
          "metadata": {},
          "execution_count": 141
        }
      ]
    },
    {
      "cell_type": "code",
      "source": [
        "Av2 = np.dot(A, v2)\n",
        "Av2"
      ],
      "metadata": {
        "colab": {
          "base_uri": "https://localhost:8080/"
        },
        "id": "7qIsn0W2a843",
        "outputId": "f2a21895-a685-456d-81a3-9a108457e8d5"
      },
      "execution_count": 142,
      "outputs": [
        {
          "output_type": "execute_result",
          "data": {
            "text/plain": [
              "array([ 3.34281692, -2.81822977])"
            ]
          },
          "metadata": {},
          "execution_count": 142
        }
      ]
    },
    {
      "cell_type": "code",
      "source": [
        "lambda2 * v2"
      ],
      "metadata": {
        "colab": {
          "base_uri": "https://localhost:8080/"
        },
        "id": "UlVcOtDhbIcv",
        "outputId": "97cc2786-eefd-48c3-e415-8a1c59a2b8fd"
      },
      "execution_count": 143,
      "outputs": [
        {
          "output_type": "execute_result",
          "data": {
            "text/plain": [
              "array([ 3.34281692, -2.81822977])"
            ]
          },
          "metadata": {},
          "execution_count": 143
        }
      ]
    },
    {
      "cell_type": "code",
      "source": [
        "plotVectors([Av, v, Av2, v2], ['blue', 'lightblue', 'green', 'lightgreen'])\n",
        "plt.xlim(-1, 4)\n",
        "plt.ylim(-3, 2)\n",
        "plt.tight_layout()\n",
        "plt.title('Plot of eigenvectors')\n",
        "plt.show()"
      ],
      "metadata": {
        "colab": {
          "base_uri": "https://localhost:8080/",
          "height": 503
        },
        "id": "j_GPCCfqcKyW",
        "outputId": "dceea04c-51d5-42d1-fc24-8662b83eb3a2"
      },
      "execution_count": 144,
      "outputs": [
        {
          "output_type": "display_data",
          "data": {
            "text/plain": [
              "<Figure size 640x480 with 1 Axes>"
            ],
            "image/png": "[encoded data removed]"
          },
          "metadata": {}
        }
      ]
    },
    {
      "cell_type": "markdown",
      "source": [
        "*  We can do the same as above using PyTorch `eig()` method."
      ],
      "metadata": {
        "id": "H-YDmjBsdylF"
      }
    },
    {
      "cell_type": "code",
      "source": [
        "A"
      ],
      "metadata": {
        "colab": {
          "base_uri": "https://localhost:8080/"
        },
        "id": "dkGuP6FSclQ-",
        "outputId": "b55829fe-edcb-4186-9a30-c059b2f80507"
      },
      "execution_count": 145,
      "outputs": [
        {
          "output_type": "execute_result",
          "data": {
            "text/plain": [
              "array([[-1,  4],\n",
              "       [ 2, -2]])"
            ]
          },
          "metadata": {},
          "execution_count": 145
        }
      ]
    },
    {
      "cell_type": "code",
      "source": [
        "A_p = torch.tensor([ [-1, 4], [2., -2] ])\n",
        "A_p"
      ],
      "metadata": {
        "colab": {
          "base_uri": "https://localhost:8080/"
        },
        "id": "ZCdl47y_d7_w",
        "outputId": "9663097f-79c5-4417-b417-3ab525e7e8dc"
      },
      "execution_count": 146,
      "outputs": [
        {
          "output_type": "execute_result",
          "data": {
            "text/plain": [
              "tensor([[-1.,  4.],\n",
              "        [ 2., -2.]])"
            ]
          },
          "metadata": {},
          "execution_count": 146
        }
      ]
    },
    {
      "cell_type": "code",
      "source": [
        "eigs = torch.linalg.eig(A_p)\n",
        "eigs"
      ],
      "metadata": {
        "colab": {
          "base_uri": "https://localhost:8080/"
        },
        "id": "rhIXz-Q8eMBv",
        "outputId": "78343077-a2f2-4dde-afd5-18e88d7ff9a9"
      },
      "execution_count": 147,
      "outputs": [
        {
          "output_type": "execute_result",
          "data": {
            "text/plain": [
              "torch.return_types.linalg_eig(\n",
              "eigenvalues=tensor([ 1.3723+0.j, -4.3723+0.j]),\n",
              "eigenvectors=tensor([[ 0.8601+0.j, -0.7645+0.j],\n",
              "        [ 0.5101+0.j,  0.6446+0.j]]))"
            ]
          },
          "metadata": {},
          "execution_count": 147
        }
      ]
    },
    {
      "cell_type": "code",
      "source": [
        "v_p = eigs.eigenvectors[:, 0]\n",
        "v_p.real # convert to real values"
      ],
      "metadata": {
        "colab": {
          "base_uri": "https://localhost:8080/"
        },
        "id": "0nJoOeFHear9",
        "outputId": "8cace16a-6ed1-49f6-d336-16076fc2b720"
      },
      "execution_count": 148,
      "outputs": [
        {
          "output_type": "execute_result",
          "data": {
            "text/plain": [
              "tensor([0.8601, 0.5101])"
            ]
          },
          "metadata": {},
          "execution_count": 148
        }
      ]
    },
    {
      "cell_type": "code",
      "source": [
        "lambda_p = eigs.eigenvalues[0]\n",
        "lambda_p.real # convert to real values"
      ],
      "metadata": {
        "colab": {
          "base_uri": "https://localhost:8080/"
        },
        "id": "wFsRk4TehNEv",
        "outputId": "e541d563-2950-46bc-c75f-e33007c3c1d4"
      },
      "execution_count": 149,
      "outputs": [
        {
          "output_type": "execute_result",
          "data": {
            "text/plain": [
              "tensor(1.3723)"
            ]
          },
          "metadata": {},
          "execution_count": 149
        }
      ]
    },
    {
      "cell_type": "code",
      "source": [
        "Av_p = torch.matmul(A_p, v_p.real)\n",
        "Av_p"
      ],
      "metadata": {
        "colab": {
          "base_uri": "https://localhost:8080/"
        },
        "id": "6EHJflXVhb4m",
        "outputId": "cecead69-0641-4335-9335-ae9b46af4fc0"
      },
      "execution_count": 150,
      "outputs": [
        {
          "output_type": "execute_result",
          "data": {
            "text/plain": [
              "tensor([1.1803, 0.7000])"
            ]
          },
          "metadata": {},
          "execution_count": 150
        }
      ]
    },
    {
      "cell_type": "code",
      "source": [
        "lambda_p.real * v_p.real"
      ],
      "metadata": {
        "colab": {
          "base_uri": "https://localhost:8080/"
        },
        "id": "91QGApJzkPLf",
        "outputId": "23a05dea-17fa-4283-e495-ad1a029b1f7a"
      },
      "execution_count": 151,
      "outputs": [
        {
          "output_type": "execute_result",
          "data": {
            "text/plain": [
              "tensor([1.1803, 0.7000])"
            ]
          },
          "metadata": {},
          "execution_count": 151
        }
      ]
    },
    {
      "cell_type": "code",
      "source": [
        "v2_p = eigs.eigenvectors[:, 1]\n",
        "v2_p.real # convert to real values"
      ],
      "metadata": {
        "colab": {
          "base_uri": "https://localhost:8080/"
        },
        "id": "4UWW2lbUnowX",
        "outputId": "25494de9-7faa-493a-9fe4-1ddb5ca08270"
      },
      "execution_count": 152,
      "outputs": [
        {
          "output_type": "execute_result",
          "data": {
            "text/plain": [
              "tensor([-0.7645,  0.6446])"
            ]
          },
          "metadata": {},
          "execution_count": 152
        }
      ]
    },
    {
      "cell_type": "code",
      "source": [
        "lambda2_p = eigs.eigenvalues[1]\n",
        "lambda2_p.real # convert to real values"
      ],
      "metadata": {
        "colab": {
          "base_uri": "https://localhost:8080/"
        },
        "id": "LMrrfy7LoHGv",
        "outputId": "d06f6920-21c1-4372-f531-796442dbf84b"
      },
      "execution_count": 153,
      "outputs": [
        {
          "output_type": "execute_result",
          "data": {
            "text/plain": [
              "tensor(-4.3723)"
            ]
          },
          "metadata": {},
          "execution_count": 153
        }
      ]
    },
    {
      "cell_type": "code",
      "source": [
        "Av2_p = torch.matmul(A_p, v2_p.real)\n",
        "Av2_p"
      ],
      "metadata": {
        "colab": {
          "base_uri": "https://localhost:8080/"
        },
        "id": "nes8eWVRoZKP",
        "outputId": "ebb13b4f-d601-42f1-8277-912b3cf39c79"
      },
      "execution_count": 154,
      "outputs": [
        {
          "output_type": "execute_result",
          "data": {
            "text/plain": [
              "tensor([ 3.3428, -2.8182])"
            ]
          },
          "metadata": {},
          "execution_count": 154
        }
      ]
    },
    {
      "cell_type": "code",
      "source": [
        "lambda2_p.real * v2_p.real"
      ],
      "metadata": {
        "colab": {
          "base_uri": "https://localhost:8080/"
        },
        "id": "GK-XJqSKop3u",
        "outputId": "5c074da2-6fe7-4766-a00d-556de79838c9"
      },
      "execution_count": 155,
      "outputs": [
        {
          "output_type": "execute_result",
          "data": {
            "text/plain": [
              "tensor([ 3.3428, -2.8182])"
            ]
          },
          "metadata": {},
          "execution_count": 155
        }
      ]
    },
    {
      "cell_type": "markdown",
      "source": [
        "#### Review of Eigenvectors and Eigenvalues\n",
        "*  The eigenvalue of an eigenvector corresponds to the change in length (size) of the vector when a matrix is applied to it. If the length remains the same, the eigenvalue is 1. If it doubles, the eigenvalue is 2; if it halves, the eigenvalue is 0.5. The eigenvalue provides information about how the matrix operation transforms the eigenvector.\n",
        "*   Eigenvalues are represented as scalar values, typically denoted by the Greek lowercase letter lambda. They indicate how the matrix transformation scales or stretches the corresponding eigenvectors.\n",
        "*   An eigenvector is a vector that does not change direction when a matrix is applied. It remains oriented in the same direction.\n",
        "*  An eigenvector is a vector that retains its direction after transformation by a matrix. The orientation or direction of the vector remains the same, although the corresponding eigenvalue may scale its length.\n",
        "*   In a three-dimensional matrix, there will be three eigenvectors and three corresponding eigenvalues. The number of eigenvectors and eigenvalues matches the number of dimensions of the matrix."
      ],
      "metadata": {
        "id": "sH8RtRtaqdgJ"
      }
    },
    {
      "cell_type": "markdown",
      "source": [
        "#### Higher Dimensional Eigenvectors"
      ],
      "metadata": {
        "id": "eFQWlMapuOse"
      }
    },
    {
      "cell_type": "code",
      "source": [
        "X = np.array([ [25, 2, 9], [5, 26, -5], [3, 7, -1] ])\n",
        "X"
      ],
      "metadata": {
        "id": "WVDqu9-ztyA_",
        "colab": {
          "base_uri": "https://localhost:8080/"
        },
        "outputId": "3c351c77-f016-4542-f3bb-07dd258cd208"
      },
      "execution_count": 156,
      "outputs": [
        {
          "output_type": "execute_result",
          "data": {
            "text/plain": [
              "array([[25,  2,  9],\n",
              "       [ 5, 26, -5],\n",
              "       [ 3,  7, -1]])"
            ]
          },
          "metadata": {},
          "execution_count": 156
        }
      ]
    },
    {
      "cell_type": "code",
      "source": [
        "lambdas_X, V_X = np.linalg.eig(X)"
      ],
      "metadata": {
        "id": "BQdopEeemimi"
      },
      "execution_count": 157,
      "outputs": []
    },
    {
      "cell_type": "code",
      "source": [
        "V_X # one eigenvector per column of X"
      ],
      "metadata": {
        "colab": {
          "base_uri": "https://localhost:8080/"
        },
        "id": "x_1xS1Bbm_HT",
        "outputId": "e9ae2617-f729-4561-b800-0662f00488f6"
      },
      "execution_count": 158,
      "outputs": [
        {
          "output_type": "execute_result",
          "data": {
            "text/plain": [
              "array([[-0.71175736, -0.6501921 , -0.34220476],\n",
              "       [-0.66652125,  0.74464056,  0.23789717],\n",
              "       [-0.22170001,  0.15086635,  0.90901091]])"
            ]
          },
          "metadata": {},
          "execution_count": 158
        }
      ]
    },
    {
      "cell_type": "code",
      "source": [
        "lambdas_X # a corresponding eigenvalue for each eigenvector"
      ],
      "metadata": {
        "colab": {
          "base_uri": "https://localhost:8080/"
        },
        "id": "zdwIbukPnIuS",
        "outputId": "6c5c46db-4527-469a-9384-1e68281caf7d"
      },
      "execution_count": 159,
      "outputs": [
        {
          "output_type": "execute_result",
          "data": {
            "text/plain": [
              "array([29.67623202, 20.62117365, -0.29740567])"
            ]
          },
          "metadata": {},
          "execution_count": 159
        }
      ]
    },
    {
      "cell_type": "markdown",
      "source": [
        "*  Confirm $\\matrix{X}\\vec{v} = \\lambda\\vec{v}$"
      ],
      "metadata": {
        "id": "nskn9Yztn_gp"
      }
    },
    {
      "cell_type": "code",
      "source": [
        "v_X = V_X[:, 0]\n",
        "v_X"
      ],
      "metadata": {
        "colab": {
          "base_uri": "https://localhost:8080/"
        },
        "id": "46ZbJ_-NnWqD",
        "outputId": "0990d819-4a6f-40d5-9460-2b2f8ecf13fa"
      },
      "execution_count": 160,
      "outputs": [
        {
          "output_type": "execute_result",
          "data": {
            "text/plain": [
              "array([-0.71175736, -0.66652125, -0.22170001])"
            ]
          },
          "metadata": {},
          "execution_count": 160
        }
      ]
    },
    {
      "cell_type": "code",
      "source": [
        "lambda_X = lambdas_X[0]\n",
        "lambda_X"
      ],
      "metadata": {
        "colab": {
          "base_uri": "https://localhost:8080/"
        },
        "id": "r064sqrHoxix",
        "outputId": "10e0f277-dd68-4f32-9ef7-b2e7bf950094"
      },
      "execution_count": 161,
      "outputs": [
        {
          "output_type": "execute_result",
          "data": {
            "text/plain": [
              "29.676232023948902"
            ]
          },
          "metadata": {},
          "execution_count": 161
        }
      ]
    },
    {
      "cell_type": "code",
      "source": [
        "np.dot(X, v_X) # matrix multiplication"
      ],
      "metadata": {
        "colab": {
          "base_uri": "https://localhost:8080/"
        },
        "id": "_Mi6TN1IpPiS",
        "outputId": "a17cbb7d-62d8-48a3-96bd-50e82b04f74e"
      },
      "execution_count": 162,
      "outputs": [
        {
          "output_type": "execute_result",
          "data": {
            "text/plain": [
              "array([-21.12227645, -19.77983919,  -6.5792208 ])"
            ]
          },
          "metadata": {},
          "execution_count": 162
        }
      ]
    },
    {
      "cell_type": "code",
      "source": [
        "lambda_X * v_X"
      ],
      "metadata": {
        "colab": {
          "base_uri": "https://localhost:8080/"
        },
        "id": "WXgyedespbd7",
        "outputId": "fb1fafb7-9794-4ca2-a39a-9b89224eef29"
      },
      "execution_count": 163,
      "outputs": [
        {
          "output_type": "execute_result",
          "data": {
            "text/plain": [
              "array([-21.12227645, -19.77983919,  -6.5792208 ])"
            ]
          },
          "metadata": {},
          "execution_count": 163
        }
      ]
    },
    {
      "cell_type": "code",
      "source": [
        "# using pyTorch\n",
        "X_t = torch.tensor([ [25, 2, 9], [5, 26, -5], [3, 7, -1] ], dtype=torch.float64)\n",
        "X_t"
      ],
      "metadata": {
        "colab": {
          "base_uri": "https://localhost:8080/"
        },
        "id": "BHv6U6ZKpqk6",
        "outputId": "ef509db8-0f18-4ee5-ac44-04731de29c2a"
      },
      "execution_count": 164,
      "outputs": [
        {
          "output_type": "execute_result",
          "data": {
            "text/plain": [
              "tensor([[25.,  2.,  9.],\n",
              "        [ 5., 26., -5.],\n",
              "        [ 3.,  7., -1.]], dtype=torch.float64)"
            ]
          },
          "metadata": {},
          "execution_count": 164
        }
      ]
    },
    {
      "cell_type": "code",
      "source": [
        "L, V = torch.linalg.eig(X_t)"
      ],
      "metadata": {
        "id": "cgQJkdTjtcxj"
      },
      "execution_count": 165,
      "outputs": []
    },
    {
      "cell_type": "code",
      "source": [
        "L.real"
      ],
      "metadata": {
        "colab": {
          "base_uri": "https://localhost:8080/"
        },
        "id": "-tC4dIk0uPhh",
        "outputId": "0726e5ef-8eee-4d6d-e11c-51f2ee01a1c9"
      },
      "execution_count": 166,
      "outputs": [
        {
          "output_type": "execute_result",
          "data": {
            "text/plain": [
              "tensor([29.6762, 20.6212, -0.2974], dtype=torch.float64)"
            ]
          },
          "metadata": {},
          "execution_count": 166
        }
      ]
    },
    {
      "cell_type": "code",
      "source": [
        "V.real"
      ],
      "metadata": {
        "colab": {
          "base_uri": "https://localhost:8080/"
        },
        "id": "aqayRn7puQbZ",
        "outputId": "d32c1458-3b8b-4897-9f48-099f42dd1f13"
      },
      "execution_count": 167,
      "outputs": [
        {
          "output_type": "execute_result",
          "data": {
            "text/plain": [
              "tensor([[-0.7118, -0.6502, -0.3422],\n",
              "        [-0.6665,  0.7446,  0.2379],\n",
              "        [-0.2217,  0.1509,  0.9090]], dtype=torch.float64)"
            ]
          },
          "metadata": {},
          "execution_count": 167
        }
      ]
    },
    {
      "cell_type": "code",
      "source": [
        "V_v = V[:, 0] # get the first column eigenvector\n",
        "V_v.real"
      ],
      "metadata": {
        "colab": {
          "base_uri": "https://localhost:8080/"
        },
        "id": "P3CXlqxpuUhq",
        "outputId": "057b113e-dba2-4f9a-f827-68da31af4b35"
      },
      "execution_count": 168,
      "outputs": [
        {
          "output_type": "execute_result",
          "data": {
            "text/plain": [
              "tensor([-0.7118, -0.6665, -0.2217], dtype=torch.float64)"
            ]
          },
          "metadata": {},
          "execution_count": 168
        }
      ]
    },
    {
      "cell_type": "code",
      "source": [
        "L_lambda = L[0] # get the first eigenvalue\n",
        "L_lambda.real"
      ],
      "metadata": {
        "colab": {
          "base_uri": "https://localhost:8080/"
        },
        "id": "MhOKRjlAu5IK",
        "outputId": "7329b075-60e1-4c07-a625-a7d6ec8f80ff"
      },
      "execution_count": 169,
      "outputs": [
        {
          "output_type": "execute_result",
          "data": {
            "text/plain": [
              "tensor(29.6762, dtype=torch.float64)"
            ]
          },
          "metadata": {},
          "execution_count": 169
        }
      ]
    },
    {
      "cell_type": "markdown",
      "source": [
        "*  Confirm $\\matrix{X}\\vec{v} = \\lambda\\vec{v}$"
      ],
      "metadata": {
        "id": "zNYovUBhv_Th"
      }
    },
    {
      "cell_type": "code",
      "source": [
        "torch.matmul(X_t, V_v.real)"
      ],
      "metadata": {
        "colab": {
          "base_uri": "https://localhost:8080/"
        },
        "id": "-PK6QIZQvTZJ",
        "outputId": "957ec2d8-cedf-4760-85f6-1f9cb691b056"
      },
      "execution_count": 170,
      "outputs": [
        {
          "output_type": "execute_result",
          "data": {
            "text/plain": [
              "tensor([-21.1223, -19.7798,  -6.5792], dtype=torch.float64)"
            ]
          },
          "metadata": {},
          "execution_count": 170
        }
      ]
    },
    {
      "cell_type": "code",
      "source": [
        "L_lambda.real * V_v.real"
      ],
      "metadata": {
        "colab": {
          "base_uri": "https://localhost:8080/"
        },
        "id": "6VUN9MquvpeK",
        "outputId": "98e6465b-ac50-4e92-b170-19c172dfad0f"
      },
      "execution_count": 171,
      "outputs": [
        {
          "output_type": "execute_result",
          "data": {
            "text/plain": [
              "tensor([-21.1223, -19.7798,  -6.5792], dtype=torch.float64)"
            ]
          },
          "metadata": {},
          "execution_count": 171
        }
      ]
    },
    {
      "cell_type": "markdown",
      "source": [
        "#### Matrix Determinants and Decomposition\n",
        "* The Determinant of a 2x2 matrix.\n",
        "  * The determinant allows us to map a **square** matrix to a scalar.\n",
        "  * This will enable us to determine if a matrix can be inverted.\n",
        "  * For a matrix $\\matrix{X}$, denoted as $\\det({X})$ if:\n",
        "    *  $\\det({X}) = 0$ then:\n",
        "      *  matrix $\\matrix{X^{-1}}$ cannot be computed because: $\\matrix{X^{-1}}$ is $\\frac{1}{\\det({X})} = \\frac{1}{\\color{red}{0}}$\n",
        "      *  this also means $\\matrix{X}$ is **singular** and contains linearly-dependent columns(lines described by x are parallel).\n",
        "* Calculating the determinant of a 2x2 matrix:\n",
        "\\begin{equation*}\n",
        "\\matrix{X} = \\begin{bmatrix}\n",
        "\\color{orange}{a} & \\color{green}{b} \\\\\n",
        "\\color{brown}{c} & \\color{purple}{d}\n",
        "\\end{bmatrix}\n",
        "\\end{equation*}\n",
        "\n",
        "\\begin{equation*}\n",
        "\\det{(X)} = |\\matrix{X}| = \\color{orange}{a}\\color{purple}{d} - \\color{green}{b}\\color{brown}{c}\n",
        "\\end{equation*}\n",
        "* For example:\n",
        "\\begin{equation*}\n",
        "\\matrix{X} = \\begin{bmatrix}\n",
        "\\color{orange}{4} & \\color{green}{2} \\\\\n",
        "\\color{brown}{-5} & \\color{purple}{-3}\n",
        "\\end{bmatrix}\n",
        "\\end{equation*}\n",
        "\\\n",
        "\\begin{equation*}\n",
        "\\det{(X)} = |\\matrix{X}| = \\color{orange}{4}\\color{purple}{(-3)} - \\color{green}{2}\\color{brown}{(-5)} = \\color{black}{-12 + 10 = -2}\n",
        "\\end{equation*}"
      ],
      "metadata": {
        "id": "7rJMkwgH6LuX"
      }
    },
    {
      "cell_type": "code",
      "source": [
        "# example using NumPy\n",
        "X = np.array([ [4, 2], [-5, -3] ])\n",
        "X"
      ],
      "metadata": {
        "colab": {
          "base_uri": "https://localhost:8080/"
        },
        "id": "ETlUC3xGwUpD",
        "outputId": "88481650-76a1-4b6a-f92c-2f682bc4082b"
      },
      "execution_count": 172,
      "outputs": [
        {
          "output_type": "execute_result",
          "data": {
            "text/plain": [
              "array([[ 4,  2],\n",
              "       [-5, -3]])"
            ]
          },
          "metadata": {},
          "execution_count": 172
        }
      ]
    },
    {
      "cell_type": "code",
      "source": [
        "int(np.linalg.det(X))"
      ],
      "metadata": {
        "colab": {
          "base_uri": "https://localhost:8080/"
        },
        "id": "qoF_-5TnArzZ",
        "outputId": "7ac70f08-f71f-4052-e5e6-dbac3e47a6b8"
      },
      "execution_count": 173,
      "outputs": [
        {
          "output_type": "execute_result",
          "data": {
            "text/plain": [
              "-2"
            ]
          },
          "metadata": {},
          "execution_count": 173
        }
      ]
    },
    {
      "cell_type": "markdown",
      "source": [
        "#### Example where the determinant is 0 due to linearly dependant columns\n",
        "*  The first column is a multiple of the second column. If we multiply column 2 by  -4 then we get column 1.\n",
        "*  This makes this matrix a singular matrix and we cannot take the inverse.\n",
        "\n",
        "\\begin{equation*}\n",
        "\\matrix{N} = \\begin{bmatrix}\n",
        "\\color{orange}{-4} & \\color{green}{1} \\\\\n",
        "\\color{brown}{-8} & \\color{purple}{2}\n",
        "\\end{bmatrix}\n",
        "\\end{equation*}\n",
        "\\\n",
        "\\begin{equation*}\n",
        "\\det{(N)} = |\\matrix{N}| = \\color{orange}{-4}\\color{purple}{(2)} - \\color{green}{1}\\color{brown}{(-8)} = \\color{black}{-8 + 8 = 0}\n",
        "\\end{equation*}"
      ],
      "metadata": {
        "id": "OjvgdvtKBfAh"
      }
    },
    {
      "cell_type": "code",
      "source": [
        "N = np.array([ [-4, 1], [-8, 2] ])\n",
        "N"
      ],
      "metadata": {
        "colab": {
          "base_uri": "https://localhost:8080/"
        },
        "id": "5_5dL50sAwQ_",
        "outputId": "9cef351c-d164-4479-f986-6b1f2b013b23"
      },
      "execution_count": 174,
      "outputs": [
        {
          "output_type": "execute_result",
          "data": {
            "text/plain": [
              "array([[-4,  1],\n",
              "       [-8,  2]])"
            ]
          },
          "metadata": {},
          "execution_count": 174
        }
      ]
    },
    {
      "cell_type": "code",
      "source": [
        "int(np.linalg.det(N))"
      ],
      "metadata": {
        "colab": {
          "base_uri": "https://localhost:8080/"
        },
        "id": "UI5fw_m6EaJL",
        "outputId": "543f7cd8-c1a0-4efa-96f2-01a305af9e45"
      },
      "execution_count": 175,
      "outputs": [
        {
          "output_type": "execute_result",
          "data": {
            "text/plain": [
              "0"
            ]
          },
          "metadata": {},
          "execution_count": 175
        }
      ]
    },
    {
      "cell_type": "code",
      "source": [
        "# this line of code will cause a 'singular matrix' error\n",
        "#Ninv = np.linalg.inv(N)"
      ],
      "metadata": {
        "id": "BVAa1PAgFDUI"
      },
      "execution_count": 176,
      "outputs": []
    },
    {
      "cell_type": "code",
      "source": [
        "# using pyTorch\n",
        "N_t = torch.tensor([ [-4, 1], [-8, 2] ], dtype=torch.float64)\n",
        "N_t"
      ],
      "metadata": {
        "colab": {
          "base_uri": "https://localhost:8080/"
        },
        "id": "ojtuoENIEhER",
        "outputId": "a344bc5f-8126-49e8-977e-5e60c74da1b2"
      },
      "execution_count": 177,
      "outputs": [
        {
          "output_type": "execute_result",
          "data": {
            "text/plain": [
              "tensor([[-4.,  1.],\n",
              "        [-8.,  2.]], dtype=torch.float64)"
            ]
          },
          "metadata": {},
          "execution_count": 177
        }
      ]
    },
    {
      "cell_type": "code",
      "source": [
        "torch.linalg.det(N_t)"
      ],
      "metadata": {
        "colab": {
          "base_uri": "https://localhost:8080/"
        },
        "id": "CGwMnZrzEwWB",
        "outputId": "f095b519-e038-4a54-a745-6da7124114e9"
      },
      "execution_count": 178,
      "outputs": [
        {
          "output_type": "execute_result",
          "data": {
            "text/plain": [
              "tensor(-0., dtype=torch.float64)"
            ]
          },
          "metadata": {},
          "execution_count": 178
        }
      ]
    },
    {
      "cell_type": "markdown",
      "source": [
        "#### The Determinants of Larger Matrices\n",
        "*  To generalize determinants we use recursion.\n",
        "*  Remember we can only calculate the determinant of a square matrix.\n",
        "*  A 5x5 matrix will have 4 rounds of recursion.\n",
        "*  Example: the $\\matrix{X_{1,1}}$ are the elements that are not in the same row or column as $x_{1,1}$.\n",
        "*  The equation alternates + and -\n",
        "\n",
        "\\begin{equation*}\n",
        "\\matrix{X} =\n",
        "\\begin{bmatrix}\n",
        "x_{1,1} & x_{1,2} & x_{1,3} & x_{1,4} & x_{1,5} \\\\\n",
        "x_{2,1} & x_{2,2} & x_{2,3} & x_{2,4} & x_{2,5} \\\\\n",
        "x_{3,1} & x_{3,2} & x_{3,3} & x_{3,4} & x_{3,5} \\\\\n",
        "x_{4,1} & x_{4,2} & x_{4,3} & x_{4,4} & x_{4,5} \\\\\n",
        "x_{5,1} & x_{5,2} & x_{5,3} & x_{5,4} & x_{5,5}\n",
        "\\end{bmatrix} = \\\\\n",
        "x_{1,1}\\det(\\matrix{X_{1,1}}) - x_{1,2}\\det(\\matrix{X_{1,2}}) + x_{1,3}\\det (\\matrix{X_{1,3}}) - x_{1,4}\\det(\\matrix{X_{1,4}}) + x_{1,5}\\det(\\matrix{X_{1,5}})\n",
        "\\end{equation*}\n",
        "\n",
        "*  As an example, we can calculate the determinate of a 3x3 matrix.\n",
        "*  3 rows means we will do 2 rounds of recursion.\n",
        "\n",
        "\\begin{equation*}\n",
        "\\matrix{X} =\n",
        "\\begin{bmatrix}\n",
        "\\color{orange}{1} & \\color{green}{2} & \\color{purple}{4} \\\\\n",
        "\\color{black}{2} & \\color{black}{-1} & \\color{black}{3} \\\\\n",
        "\\color{black}{0} & \\color{black}{5} & \\color{black}{1} \\\\\n",
        "\\end{bmatrix}\n",
        "= \\color{orange}{x_{1,1}}\\det(\\matrix{\\color{orange}{X_{1,1}}}) - \\color{green}{x_{1,2}}\\det(\\matrix{\\color{green}{X_{1,2}}}) + \\color{purple}{x_{1,3}}\\det (\\matrix{\\color{purple}{X_{1,3}}})\n",
        "\\end{equation*}\n",
        "\n",
        "\\begin{equation*}\n",
        " =\n",
        "\\color{orange}{1}\n",
        "\\begin{bmatrix}\n",
        "\\color{black}{-1} & \\color{black}{3} \\\\\n",
        "\\color{black}{5} & \\color{black}{1} \\\\\n",
        "\\end{bmatrix}\n",
        "- \\color{green}{2}\n",
        "\\begin{bmatrix}\n",
        "\\color{black}{2} & \\color{black}{3} \\\\\n",
        "\\color{black}{0} & \\color{black}{1} \\\\\n",
        "\\end{bmatrix}\n",
        "+ \\color{purple}{4}\n",
        "\\begin{bmatrix}\n",
        "\\color{black}{2} & \\color{black}{-1} \\\\\n",
        "\\color{black}{0} & \\color{black}{5} \\\\\n",
        "\\end{bmatrix}\n",
        "= \\color{orange}{1}(-1.1 - 3.5) - \\color{green}{2}(2.1 - 3.0) + \\color{purple}{4}(2.5 - (-1)(0)) = \\color{orange}{-16} \\color{green}{-4} \\color{purple}{+40} \\color{black}{= 20}\n",
        "\\end{equation*}"
      ],
      "metadata": {
        "id": "jNPxBj-SlgpG"
      }
    },
    {
      "cell_type": "code",
      "source": [
        "# using NumPy\n",
        "X = np.array([ [1, 2, 4], [2, -1, 3], [0, 5, 1] ])\n",
        "X"
      ],
      "metadata": {
        "id": "Ou3W-FusE1Xp",
        "colab": {
          "base_uri": "https://localhost:8080/"
        },
        "outputId": "bd7172b1-d44f-4e4e-de00-25436f331b4b"
      },
      "execution_count": 179,
      "outputs": [
        {
          "output_type": "execute_result",
          "data": {
            "text/plain": [
              "array([[ 1,  2,  4],\n",
              "       [ 2, -1,  3],\n",
              "       [ 0,  5,  1]])"
            ]
          },
          "metadata": {},
          "execution_count": 179
        }
      ]
    },
    {
      "cell_type": "code",
      "source": [
        "np.linalg.det(X)"
      ],
      "metadata": {
        "colab": {
          "base_uri": "https://localhost:8080/"
        },
        "id": "p11Ao-so5SYi",
        "outputId": "ad08969a-5096-4e97-b07a-44d6b0fef30b"
      },
      "execution_count": 180,
      "outputs": [
        {
          "output_type": "execute_result",
          "data": {
            "text/plain": [
              "19.999999999999996"
            ]
          },
          "metadata": {},
          "execution_count": 180
        }
      ]
    },
    {
      "cell_type": "markdown",
      "source": [
        "#### Determinants and Eigenvalues\n",
        "*  The determinant of $\\matrix{X}$ is equal to the product of all eigenvalues of $\\matrix{X}$\n",
        "*  The absolute value of the determinant of $\\matrix{X}$($|\\det\\matrix{(X)}|$) quatifies the volume change as a result of applying $\\matrix{X}$.\n",
        "  *  If $\\det{\\matrix{(X)}} = 0$, then $\\matrix{X}$ collapses space completely in at least one dimension thus eliminating all volume.\n",
        "  *  If $0 \\lt \\det{\\matrix{(X)}} \\lt 1$, then $\\matrix{X}$ contracts volume to some extent.\n",
        "  *  If $\\det{\\matrix{(X)}} = 1$, then $\\matrix{X}$ preserves the volume exactly.\n",
        "  *  If $\\det{\\matrix{(X)}} \\gt 1$, then $\\matrix{X}$ expands the volume.\n",
        "\n",
        "\n"
      ],
      "metadata": {
        "id": "n9Fo_kCJHY5d"
      }
    },
    {
      "cell_type": "code",
      "source": [
        "# example of rule : det(X) = product of eigenvalues of X\n",
        "X"
      ],
      "metadata": {
        "id": "zULmwWNK5YRg",
        "colab": {
          "base_uri": "https://localhost:8080/"
        },
        "outputId": "f948bc57-e3e4-4cc7-fe5c-a6dabe0dec73"
      },
      "execution_count": 181,
      "outputs": [
        {
          "output_type": "execute_result",
          "data": {
            "text/plain": [
              "array([[ 1,  2,  4],\n",
              "       [ 2, -1,  3],\n",
              "       [ 0,  5,  1]])"
            ]
          },
          "metadata": {},
          "execution_count": 181
        }
      ]
    },
    {
      "cell_type": "code",
      "source": [
        "lambdas, V = np.linalg.eig(X)\n",
        "lambdas"
      ],
      "metadata": {
        "colab": {
          "base_uri": "https://localhost:8080/"
        },
        "id": "rt8-BKrhJVU3",
        "outputId": "0babd5c4-8fdc-41de-fe25-544adf13f5c5"
      },
      "execution_count": 182,
      "outputs": [
        {
          "output_type": "execute_result",
          "data": {
            "text/plain": [
              "array([-3.25599251, -1.13863631,  5.39462882])"
            ]
          },
          "metadata": {},
          "execution_count": 182
        }
      ]
    },
    {
      "cell_type": "code",
      "source": [
        "np.product(lambdas)"
      ],
      "metadata": {
        "colab": {
          "base_uri": "https://localhost:8080/"
        },
        "id": "u7ykOnHeJgfH",
        "outputId": "da06da80-8c44-40fd-e12b-795c369be689"
      },
      "execution_count": 183,
      "outputs": [
        {
          "output_type": "execute_result",
          "data": {
            "text/plain": [
              "19.99999999999999"
            ]
          },
          "metadata": {},
          "execution_count": 183
        }
      ]
    },
    {
      "cell_type": "code",
      "source": [
        "# Calculate the absolute value of the determinate of X\n",
        "np.abs(np.product(lambdas))"
      ],
      "metadata": {
        "colab": {
          "base_uri": "https://localhost:8080/"
        },
        "id": "8RuQ9RxOJpoP",
        "outputId": "1bd6f38e-dd4e-467b-9815-4751ac2b9c88"
      },
      "execution_count": 184,
      "outputs": [
        {
          "output_type": "execute_result",
          "data": {
            "text/plain": [
              "19.99999999999999"
            ]
          },
          "metadata": {},
          "execution_count": 184
        }
      ]
    },
    {
      "cell_type": "code",
      "source": [
        "B = np.array([[1, 0], [0, 1]])\n",
        "B"
      ],
      "metadata": {
        "colab": {
          "base_uri": "https://localhost:8080/"
        },
        "id": "sXISOpOcP0jI",
        "outputId": "495a630e-ddf0-4f7d-9cf5-63eca3e3edfb"
      },
      "execution_count": 185,
      "outputs": [
        {
          "output_type": "execute_result",
          "data": {
            "text/plain": [
              "array([[1, 0],\n",
              "       [0, 1]])"
            ]
          },
          "metadata": {},
          "execution_count": 185
        }
      ]
    },
    {
      "cell_type": "code",
      "source": [
        "plotVectors([vectorfy(B, 0), vectorfy(B, 1)], ['lightblue', 'lightgreen'])\n",
        "plt.xlim(-1, 3)\n",
        "plt.ylim(-1, 3)\n",
        "plt.tight_layout()\n",
        "plt.title('Plot of Basis Vectors of B')\n",
        "plt.show()"
      ],
      "metadata": {
        "colab": {
          "base_uri": "https://localhost:8080/",
          "height": 503
        },
        "id": "dCP_LU-MQYev",
        "outputId": "2354e589-e00b-4eae-d26f-59cb0693366b"
      },
      "execution_count": 186,
      "outputs": [
        {
          "output_type": "display_data",
          "data": {
            "text/plain": [
              "<Figure size 640x480 with 1 Axes>"
            ],
            "image/png": "[encoded data removed]"
          },
          "metadata": {}
        }
      ]
    },
    {
      "cell_type": "code",
      "source": [
        "# Now let's apply a transformation to matrix B\n",
        "N\n"
      ],
      "metadata": {
        "colab": {
          "base_uri": "https://localhost:8080/"
        },
        "id": "ka2ZhMw3RAJX",
        "outputId": "851109cf-7c49-4a9c-9d19-3f920a24a0a9"
      },
      "execution_count": 187,
      "outputs": [
        {
          "output_type": "execute_result",
          "data": {
            "text/plain": [
              "array([[-4,  1],\n",
              "       [-8,  2]])"
            ]
          },
          "metadata": {},
          "execution_count": 187
        }
      ]
    },
    {
      "cell_type": "code",
      "source": [
        "np.linalg.det(N) # this is a singular matrix where the determinant is 0"
      ],
      "metadata": {
        "colab": {
          "base_uri": "https://localhost:8080/"
        },
        "id": "jcIUlJ5LRxte",
        "outputId": "aab2aaf3-751d-4d84-e57e-c20f80ad24ba"
      },
      "execution_count": 188,
      "outputs": [
        {
          "output_type": "execute_result",
          "data": {
            "text/plain": [
              "0.0"
            ]
          },
          "metadata": {},
          "execution_count": 188
        }
      ]
    },
    {
      "cell_type": "markdown",
      "source": [
        "*  If we apply the matrix N to the matrix B, because the matrix N in singular where it has no determinant and cannot be inverted, it collapses the dimensionality of the matrix down to a single dimension. Therefore, any vectors would be reduced to one dimension by the singular matrix N."
      ],
      "metadata": {
        "id": "_glF-uYhTXQe"
      }
    },
    {
      "cell_type": "code",
      "source": [
        "NB = np.dot(N, B)\n",
        "NB"
      ],
      "metadata": {
        "colab": {
          "base_uri": "https://localhost:8080/"
        },
        "id": "qIhmKiNPSCXO",
        "outputId": "f8c19646-c74d-43d9-fd9c-79554265f97d"
      },
      "execution_count": 189,
      "outputs": [
        {
          "output_type": "execute_result",
          "data": {
            "text/plain": [
              "array([[-4,  1],\n",
              "       [-8,  2]])"
            ]
          },
          "metadata": {},
          "execution_count": 189
        }
      ]
    },
    {
      "cell_type": "markdown",
      "source": [
        "*  In this example if B describes the area of a square, then after the application of matrix N with a determinant of 0, there is no area described by the result. It is just a line."
      ],
      "metadata": {
        "id": "xqxyL-k3fdQN"
      }
    },
    {
      "cell_type": "code",
      "source": [
        "plotVectors([vectorfy(B, 0), vectorfy(B, 1), vectorfy(NB, 0), vectorfy(NB, 1)], ['lightblue', 'lightgreen', 'blue', 'green'])\n",
        "plt.xlim(-6, 6)\n",
        "plt.ylim(-9, 3)\n",
        "plt.suptitle('Plot of Applying matrix N to matrix B')\n",
        "plt.title('Vectors of B are reduced to a single dimension')\n",
        "plt.tight_layout()\n",
        "plt.show()"
      ],
      "metadata": {
        "colab": {
          "base_uri": "https://localhost:8080/",
          "height": 492
        },
        "id": "VPBwOzScTDy3",
        "outputId": "728bd5d1-fda1-4613-d4b2-803d70192763"
      },
      "execution_count": 190,
      "outputs": [
        {
          "output_type": "display_data",
          "data": {
            "text/plain": [
              "<Figure size 640x480 with 1 Axes>"
            ],
            "image/png": "[encoded data removed]"
          },
          "metadata": {}
        }
      ]
    },
    {
      "cell_type": "code",
      "source": [
        "# Now lets try one with an Identity Matrix this should preserve the volume exactly\n",
        "I"
      ],
      "metadata": {
        "colab": {
          "base_uri": "https://localhost:8080/"
        },
        "id": "lZTCpO1NVD_-",
        "outputId": "ee7c9b01-aff2-438b-d07e-4408fa721158"
      },
      "execution_count": 191,
      "outputs": [
        {
          "output_type": "execute_result",
          "data": {
            "text/plain": [
              "array([[1, 0],\n",
              "       [0, 1]])"
            ]
          },
          "metadata": {},
          "execution_count": 191
        }
      ]
    },
    {
      "cell_type": "code",
      "source": [
        "np.linalg.det(I) # determinate of 1 -> preserves the volume exactly"
      ],
      "metadata": {
        "colab": {
          "base_uri": "https://localhost:8080/"
        },
        "id": "adpOpy4ndSmf",
        "outputId": "daf5fa7c-f5be-4657-e58c-1ff9e507ab8b"
      },
      "execution_count": 192,
      "outputs": [
        {
          "output_type": "execute_result",
          "data": {
            "text/plain": [
              "1.0"
            ]
          },
          "metadata": {},
          "execution_count": 192
        }
      ]
    },
    {
      "cell_type": "code",
      "source": [
        "IB = np.dot(I, B)\n",
        "IB"
      ],
      "metadata": {
        "colab": {
          "base_uri": "https://localhost:8080/"
        },
        "id": "7KvwaIordaw3",
        "outputId": "1eb0debf-9d26-411e-ac76-06dba062d8ff"
      },
      "execution_count": 193,
      "outputs": [
        {
          "output_type": "execute_result",
          "data": {
            "text/plain": [
              "array([[1, 0],\n",
              "       [0, 1]])"
            ]
          },
          "metadata": {},
          "execution_count": 193
        }
      ]
    },
    {
      "cell_type": "markdown",
      "source": [
        "* If we think of the basis vectors as describing a square, then the area of the square is the same before and after applying the identity matrix."
      ],
      "metadata": {
        "id": "Sl6Jk-Goe6_e"
      }
    },
    {
      "cell_type": "code",
      "source": [
        "plotVectors([vectorfy(B, 0), vectorfy(B, 1), vectorfy(IB, 0), vectorfy(IB, 1)], ['lightblue', 'lightgreen', 'blue', 'green'])\n",
        "plt.xlim(-1, 3)\n",
        "plt.ylim(-1, 3)\n",
        "plt.suptitle('Plot of Applying matrix I to matrix B')\n",
        "plt.title('Volume of B is maintained exactly')\n",
        "plt.tight_layout()\n",
        "plt.show()"
      ],
      "metadata": {
        "colab": {
          "base_uri": "https://localhost:8080/",
          "height": 492
        },
        "id": "AkHPriVrd1eo",
        "outputId": "05424642-3ac8-4d37-efea-bc33e290374b"
      },
      "execution_count": 194,
      "outputs": [
        {
          "output_type": "display_data",
          "data": {
            "text/plain": [
              "<Figure size 640x480 with 1 Axes>"
            ],
            "image/png": "[encoded data removed]"
          },
          "metadata": {}
        }
      ]
    },
    {
      "cell_type": "code",
      "source": [
        "# Now let's try one with a determinant of -1\n",
        "J = np.array([[-0.5, 0], [0, 2]])\n",
        "J"
      ],
      "metadata": {
        "colab": {
          "base_uri": "https://localhost:8080/"
        },
        "id": "Gx4JMxl8eKlo",
        "outputId": "c94d025e-6b89-4a00-ce3c-5531ff36b407"
      },
      "execution_count": 195,
      "outputs": [
        {
          "output_type": "execute_result",
          "data": {
            "text/plain": [
              "array([[-0.5,  0. ],\n",
              "       [ 0. ,  2. ]])"
            ]
          },
          "metadata": {},
          "execution_count": 195
        }
      ]
    },
    {
      "cell_type": "code",
      "source": [
        "np.linalg.det(J)"
      ],
      "metadata": {
        "colab": {
          "base_uri": "https://localhost:8080/"
        },
        "id": "mnbSYie2lgCf",
        "outputId": "a7cadcf6-ce37-4f12-c503-8840aab71f7c"
      },
      "execution_count": 196,
      "outputs": [
        {
          "output_type": "execute_result",
          "data": {
            "text/plain": [
              "-1.0"
            ]
          },
          "metadata": {},
          "execution_count": 196
        }
      ]
    },
    {
      "cell_type": "code",
      "source": [
        "# Take the absolute value\n",
        "np.abs(np.linalg.det(J))"
      ],
      "metadata": {
        "colab": {
          "base_uri": "https://localhost:8080/"
        },
        "id": "XCYpC0SmmLlv",
        "outputId": "11d85873-1f56-4d3e-f13c-f15f3e242730"
      },
      "execution_count": 197,
      "outputs": [
        {
          "output_type": "execute_result",
          "data": {
            "text/plain": [
              "1.0"
            ]
          },
          "metadata": {},
          "execution_count": 197
        }
      ]
    },
    {
      "cell_type": "code",
      "source": [
        "JB = np.dot(J, B)\n",
        "JB"
      ],
      "metadata": {
        "colab": {
          "base_uri": "https://localhost:8080/"
        },
        "id": "tDTG6p6klke4",
        "outputId": "eba7978d-26a6-4e13-9e83-7d3b082971b7"
      },
      "execution_count": 198,
      "outputs": [
        {
          "output_type": "execute_result",
          "data": {
            "text/plain": [
              "array([[-0.5,  0. ],\n",
              "       [ 0. ,  2. ]])"
            ]
          },
          "metadata": {},
          "execution_count": 198
        }
      ]
    },
    {
      "cell_type": "markdown",
      "source": [
        "*  The overall area described by B is constant even though the shape is transformed.\n",
        "*  The absolute value of the determinant of  X ( |det(X)| ) quatifies the volume change as a result of applying  X:\n",
        "  *  If  det(X)=1 , then  X  preserves the volume exactly."
      ],
      "metadata": {
        "id": "8-NAXldlm4a3"
      }
    },
    {
      "cell_type": "code",
      "source": [
        "plotVectors([vectorfy(B, 0), vectorfy(B, 1), vectorfy(JB, 0), vectorfy(JB, 1)], ['lightblue', 'lightgreen', 'blue', 'green'])\n",
        "plt.xlim(-1, 3)\n",
        "plt.ylim(-1, 3)\n",
        "plt.suptitle('Plot of Applying matrix J to matrix B')\n",
        "plt.title('The overall area is constant but the shape is transformed')\n",
        "plt.tight_layout()\n",
        "plt.show()"
      ],
      "metadata": {
        "colab": {
          "base_uri": "https://localhost:8080/",
          "height": 492
        },
        "id": "mUh3hRK_ltN3",
        "outputId": "3c1cbf40-9f2b-4ac9-8d5d-c0a4982d9df2"
      },
      "execution_count": 199,
      "outputs": [
        {
          "output_type": "display_data",
          "data": {
            "text/plain": [
              "<Figure size 640x480 with 1 Axes>"
            ],
            "image/png": "[encoded data removed]"
          },
          "metadata": {}
        }
      ]
    },
    {
      "cell_type": "markdown",
      "source": [
        "* If  det(X)>1 , then  X  expands the volume. We double I and check the result."
      ],
      "metadata": {
        "id": "cMUvLa-gokrO"
      }
    },
    {
      "cell_type": "code",
      "source": [
        "# Now we can double the values in the identity matrix and apply this matrix to matrix B\n",
        "dbl_I = I*2\n",
        "dbl_I"
      ],
      "metadata": {
        "colab": {
          "base_uri": "https://localhost:8080/"
        },
        "id": "0pCTjrtkl5SP",
        "outputId": "fd63e24f-bb5d-49e9-9f05-f6324f967bdd"
      },
      "execution_count": 200,
      "outputs": [
        {
          "output_type": "execute_result",
          "data": {
            "text/plain": [
              "array([[2, 0],\n",
              "       [0, 2]])"
            ]
          },
          "metadata": {},
          "execution_count": 200
        }
      ]
    },
    {
      "cell_type": "code",
      "source": [
        "np.linalg.det(dbl_I)"
      ],
      "metadata": {
        "colab": {
          "base_uri": "https://localhost:8080/"
        },
        "id": "P7_KX8FOoBon",
        "outputId": "92f39dba-353a-4f92-e1e5-e93ddc9b35f1"
      },
      "execution_count": 201,
      "outputs": [
        {
          "output_type": "execute_result",
          "data": {
            "text/plain": [
              "4.0"
            ]
          },
          "metadata": {},
          "execution_count": 201
        }
      ]
    },
    {
      "cell_type": "code",
      "source": [
        "dbl_IB = np.dot(dbl_I, B)\n",
        "dbl_IB"
      ],
      "metadata": {
        "colab": {
          "base_uri": "https://localhost:8080/"
        },
        "id": "wtr6KC56oOSf",
        "outputId": "d6cb50d3-9768-4724-e663-66c2421358a5"
      },
      "execution_count": 202,
      "outputs": [
        {
          "output_type": "execute_result",
          "data": {
            "text/plain": [
              "array([[2, 0],\n",
              "       [0, 2]])"
            ]
          },
          "metadata": {},
          "execution_count": 202
        }
      ]
    },
    {
      "cell_type": "code",
      "source": [
        "plotVectors([vectorfy(B, 0), vectorfy(B, 1), vectorfy(dbl_IB, 0), vectorfy(dbl_IB, 1)], ['lightblue', 'lightgreen', 'blue', 'green'])\n",
        "plt.xlim(-1, 3)\n",
        "plt.ylim(-1, 3)\n",
        "plt.suptitle('Plot of Applying matrix dbl_I to matrix B')\n",
        "plt.title('The area is quadrupled (from 1 to 4) but the shape is unchanged ')\n",
        "plt.tight_layout()\n",
        "plt.show()"
      ],
      "metadata": {
        "colab": {
          "base_uri": "https://localhost:8080/",
          "height": 492
        },
        "id": "y0WztIrhodDY",
        "outputId": "7478d47e-650c-44f5-9af7-26ab497b666e"
      },
      "execution_count": 203,
      "outputs": [
        {
          "output_type": "display_data",
          "data": {
            "text/plain": [
              "<Figure size 640x480 with 1 Axes>"
            ],
            "image/png": "[encoded data removed]"
          },
          "metadata": {}
        }
      ]
    },
    {
      "cell_type": "code",
      "source": [],
      "metadata": {
        "id": "O6u14vZTo-94"
      },
      "execution_count": 203,
      "outputs": []
    }
  ]
}