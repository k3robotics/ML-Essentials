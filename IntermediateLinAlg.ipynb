{
  "nbformat": 4,
  "nbformat_minor": 0,
  "metadata": {
    "colab": {
      "provenance": [],
      "authorship_tag": "ABX9TyMcSVrA/7KgMJam1/fCIWX/",
      "include_colab_link": true
    },
    "kernelspec": {
      "name": "python3",
      "display_name": "Python 3"
    },
    "language_info": {
      "name": "python"
    }
  },
  "cells": [
    {
      "cell_type": "markdown",
      "metadata": {
        "id": "view-in-github",
        "colab_type": "text"
      },
      "source": [
        "<a href=\"https://colab.research.google.com/github/k3robotics/ML-Essentials/blob/main/IntermediateLinAlg.ipynb\" target=\"_parent\"><img src=\"https://colab.research.google.com/assets/colab-badge.svg\" alt=\"Open In Colab\"/></a>"
      ]
    },
    {
      "cell_type": "code",
      "source": [
        "# imports\n",
        "import numpy as np\n",
        "import tensorflow as tf\n",
        "import torch\n",
        "import matplotlib.pyplot as plt"
      ],
      "metadata": {
        "id": "kH8TKA-PRU9w"
      },
      "execution_count": 1,
      "outputs": []
    },
    {
      "cell_type": "markdown",
      "source": [
        "#### Eigenvectors and Eigenvalues\n",
        "*  Eigenvectors will not change in orientation or magnitude if a transformation matrix is applied to an original matrix, such as an image broken down into a pixel grid.\n",
        "* The eigenvalue of an eigenvector describes the tranformation magnitude of the eigenvector. For example, if a 'flipping matrix' is applied to an original matrix and there are two vectors orthogonal to each other, then only the vector on the x-axis will change direction. This is still an eigenvector because the angle of the vector has not changed but the orientation has changed. However, the original eigenvalue was 1 and when the vector is rotated 180 degrees the eigenvalue becomes -1.  If a transformation was applied and the x-axis eigenvector was shortened to half its original magnitude then the eigenvalue would change to 0.5. Likewise, if the eigenvector was doubled in magnitude then the eigenvalue would be 2. If a shearing matrix is applied then the eigenvector oriented on the y-axis is not an eigenvector because the angle of the vector has been taken off span (vertical and then not vertical).\n",
        "* The eigenvalue is a scalar multiple that tells us how an eigenvector is adjusted if it even is adjusted."
      ],
      "metadata": {
        "id": "1jfNf4O46z5x"
      }
    },
    {
      "cell_type": "markdown",
      "source": [
        "#### Eigendecomposition\n",
        "* We can plot some vectors and see how applying matrices to these vectors transforms them. Then we can find the eigenvectors and eigenvalues of the matrices that are applied to the vectors.\n"
      ],
      "metadata": {
        "id": "wQNn6a7TOPnv"
      }
    },
    {
      "cell_type": "code",
      "execution_count": 2,
      "metadata": {
        "colab": {
          "base_uri": "https://localhost:8080/"
        },
        "id": "PDWUBgGh6hEl",
        "outputId": "0003d6a1-c516-416d-df0f-32f8c884dfbb"
      },
      "outputs": [
        {
          "output_type": "execute_result",
          "data": {
            "text/plain": [
              "array([3, 1])"
            ]
          },
          "metadata": {},
          "execution_count": 2
        }
      ],
      "source": [
        "v = np.array([3, 1])\n",
        "v"
      ]
    },
    {
      "cell_type": "markdown",
      "source": [
        "We can plot $\\vec{v}$ using Hadrien Jean's `plotVectors` function."
      ],
      "metadata": {
        "id": "V6j61pz9SyqP"
      }
    },
    {
      "cell_type": "code",
      "source": [
        "def plotVectors(vecs, cols, alpha=1):\n",
        "  \"\"\"\n",
        "  Plot a set of vectors.\n",
        "\n",
        "  Parameters\n",
        "  ----------\n",
        "  vecs: array-like\n",
        "    Coordinates of the vectors to plot. Each vectors is in an array. For example, [[1, 3], [2, 2]] can be used to plot 2 vectors.\n",
        "  cols: array-like\n",
        "    Colors of the vectors. For example, ['red', 'blue'] will display the first vector in red and the second in blue.\n",
        "  alpha: float\n",
        "    Opacity of the vectors.\n",
        "\n",
        "  Returns:\n",
        "\n",
        "    fig : an instance of matplotlib.figure.Figure\n",
        "      The figure of the vectors.\n",
        "  \"\"\"\n",
        "  plt.figure()\n",
        "  plt.axvline(x=0, color='#A9A9A9', zorder=0)\n",
        "  plt.axhline(y=0, color='#A9A9A9', zorder=0)\n",
        "\n",
        "  for i in range(len(vecs)):\n",
        "    x = np.concatenate([[0, 0], vecs[i]])\n",
        "    plt.quiver([x[0]],\n",
        "               [x[1]],\n",
        "               [x[2]],\n",
        "               [x[3]],\n",
        "               angles='xy', scale_units='xy', scale=1, color=cols[i], alpha=alpha)\n"
      ],
      "metadata": {
        "id": "DxQsl7koTfsh"
      },
      "execution_count": 3,
      "outputs": []
    },
    {
      "cell_type": "code",
      "source": [
        "# plot vector v\n",
        "plotVectors([v], cols=['lightblue'])\n",
        "plt.xlim(-1, 5)\n",
        "plt.ylim(-1, 5)\n",
        "plt.title('Plot of vector v')\n",
        "plt.tight_layout()\n",
        "plt.show()"
      ],
      "metadata": {
        "colab": {
          "base_uri": "https://localhost:8080/",
          "height": 487
        },
        "id": "IobPoT6VX5rB",
        "outputId": "98417715-0566-4de0-aae3-d35a37a60a08"
      },
      "execution_count": 4,
      "outputs": [
        {
          "output_type": "display_data",
          "data": {
            "text/plain": [
              "<Figure size 640x480 with 1 Axes>"
            ],
            "image/png": "[encoded data removed]"
          },
          "metadata": {}
        }
      ]
    },
    {
      "cell_type": "markdown",
      "source": [
        "* By applying a matrix to a vector(i.e., perform a matrix-vector multiplication) we can linearly transform the vector, e.g., rotate it or rescale it.\n",
        "* However, applying an Identity Matrix will not transform the vector at all."
      ],
      "metadata": {
        "id": "9AWhKFbLa5ro"
      }
    },
    {
      "cell_type": "code",
      "source": [
        "I = np.array([[1, 0], [0, 1]])\n",
        "I"
      ],
      "metadata": {
        "colab": {
          "base_uri": "https://localhost:8080/"
        },
        "id": "UYutCpTjYT6v",
        "outputId": "6e64bdc2-6873-4251-baec-65731b2bc298"
      },
      "execution_count": 5,
      "outputs": [
        {
          "output_type": "execute_result",
          "data": {
            "text/plain": [
              "array([[1, 0],\n",
              "       [0, 1]])"
            ]
          },
          "metadata": {},
          "execution_count": 5
        }
      ]
    },
    {
      "cell_type": "code",
      "source": [
        "Iv = np.dot(I, v)\n",
        "Iv"
      ],
      "metadata": {
        "colab": {
          "base_uri": "https://localhost:8080/"
        },
        "id": "XZAq59ebc-4w",
        "outputId": "4dd2a99d-d9bf-4190-e8ff-e5ac26d785c4"
      },
      "execution_count": 6,
      "outputs": [
        {
          "output_type": "execute_result",
          "data": {
            "text/plain": [
              "array([3, 1])"
            ]
          },
          "metadata": {},
          "execution_count": 6
        }
      ]
    },
    {
      "cell_type": "code",
      "source": [
        "v == Iv"
      ],
      "metadata": {
        "colab": {
          "base_uri": "https://localhost:8080/"
        },
        "id": "7zyQrJoudEs_",
        "outputId": "85d59272-64db-45bf-e000-c0a793f4b9aa"
      },
      "execution_count": 7,
      "outputs": [
        {
          "output_type": "execute_result",
          "data": {
            "text/plain": [
              "array([ True,  True])"
            ]
          },
          "metadata": {},
          "execution_count": 7
        }
      ]
    },
    {
      "cell_type": "code",
      "source": [
        "plotVectors([Iv], cols=['blue'])\n",
        "plt.xlim(-1, 5)\n",
        "plt.ylim(-1, 5)\n",
        "plt.title('Plot of vector Iv Identity Matrix . v')\n",
        "plt.tight_layout()\n",
        "plt.show()"
      ],
      "metadata": {
        "colab": {
          "base_uri": "https://localhost:8080/",
          "height": 487
        },
        "id": "55KdhuGXdUNX",
        "outputId": "7cf0811a-693e-4d18-e6a0-83fff26ebcb3"
      },
      "execution_count": 8,
      "outputs": [
        {
          "output_type": "display_data",
          "data": {
            "text/plain": [
              "<Figure size 640x480 with 1 Axes>"
            ],
            "image/png": "[encoded data removed]"
          },
          "metadata": {}
        }
      ]
    },
    {
      "cell_type": "markdown",
      "source": [
        "*  Now we can apply a non-identity matrix, $\\matrix{A}$ to $\\vec{v}$ and see how it is transformed."
      ],
      "metadata": {
        "id": "Dkg4OUR3f1vn"
      }
    },
    {
      "cell_type": "code",
      "source": [
        "A = np.array([ [-1, 4], [2, -2] ])\n",
        "A"
      ],
      "metadata": {
        "colab": {
          "base_uri": "https://localhost:8080/"
        },
        "id": "7g78KWBYeLbI",
        "outputId": "b06e588c-ca8d-4c49-a977-b26178c860db"
      },
      "execution_count": 9,
      "outputs": [
        {
          "output_type": "execute_result",
          "data": {
            "text/plain": [
              "array([[-1,  4],\n",
              "       [ 2, -2]])"
            ]
          },
          "metadata": {},
          "execution_count": 9
        }
      ]
    },
    {
      "cell_type": "code",
      "source": [
        "Av = np.dot(A, v)\n",
        "Av"
      ],
      "metadata": {
        "colab": {
          "base_uri": "https://localhost:8080/"
        },
        "id": "a0bTKxEzgYZg",
        "outputId": "4dfbcc0f-9e0f-45b0-ee76-3a410353525c"
      },
      "execution_count": 10,
      "outputs": [
        {
          "output_type": "execute_result",
          "data": {
            "text/plain": [
              "array([1, 4])"
            ]
          },
          "metadata": {},
          "execution_count": 10
        }
      ]
    },
    {
      "cell_type": "code",
      "source": [
        "plotVectors([v, Av], cols=['lightblue', 'blue'])\n",
        "plt.xlim(-1, 5)\n",
        "plt.ylim(-1, 5)\n",
        "plt.title('Result of Applying Matrix A to vector v')\n",
        "plt.tight_layout()\n",
        "plt.show()"
      ],
      "metadata": {
        "colab": {
          "base_uri": "https://localhost:8080/",
          "height": 487
        },
        "id": "4k56Z3EugiUH",
        "outputId": "81b9b22b-3a8c-4e3a-b865-6f790ccecfe2"
      },
      "execution_count": 11,
      "outputs": [
        {
          "output_type": "display_data",
          "data": {
            "text/plain": [
              "<Figure size 640x480 with 1 Axes>"
            ],
            "image/png": "[encoded data removed]"
          },
          "metadata": {}
        }
      ]
    },
    {
      "cell_type": "code",
      "source": [
        "# another example of applying a matrix to a vector\n",
        "v2 = np.array([2, 1])\n",
        "plotVectors([v2, np.dot(A, v2)], ['lightgreen', 'green'])\n",
        "plt.xlim(-1, 5)\n",
        "plt.ylim(-1, 5)\n",
        "plt.title('Result of Applying Matrix A to vector v2')\n",
        "plt.tight_layout()\n",
        "plt.show()"
      ],
      "metadata": {
        "colab": {
          "base_uri": "https://localhost:8080/",
          "height": 487
        },
        "id": "x50F17TAhNqw",
        "outputId": "d69c33ad-bdcc-4073-cbab-8c87187331e8"
      },
      "execution_count": 12,
      "outputs": [
        {
          "output_type": "display_data",
          "data": {
            "text/plain": [
              "<Figure size 640x480 with 1 Axes>"
            ],
            "image/png": "[encoded data removed]"
          },
          "metadata": {}
        }
      ]
    },
    {
      "cell_type": "markdown",
      "source": [
        "*  Now we can concatenate several vectors together into a matrix $\\matrix{V}$, where each column in the matrix is a separate vector. If we apply linear transformations to $\\matrix{V}$ the transformations will be applied independently to each column (vector)."
      ],
      "metadata": {
        "id": "DmgkV5kOpHzf"
      }
    },
    {
      "cell_type": "code",
      "source": [
        "v"
      ],
      "metadata": {
        "colab": {
          "base_uri": "https://localhost:8080/"
        },
        "id": "jXmal4lHiebw",
        "outputId": "2d38a2d4-9f4e-4a9f-f9b7-a47e2b7cb6f2"
      },
      "execution_count": 13,
      "outputs": [
        {
          "output_type": "execute_result",
          "data": {
            "text/plain": [
              "array([3, 1])"
            ]
          },
          "metadata": {},
          "execution_count": 13
        }
      ]
    },
    {
      "cell_type": "code",
      "source": [
        "# we need to convert an array to 2D to transpose into a column vector\n",
        "np.matrix(v).T"
      ],
      "metadata": {
        "colab": {
          "base_uri": "https://localhost:8080/"
        },
        "id": "IBKyzLgLpw64",
        "outputId": "1a776e45-9cb0-48cc-e398-02f6e0e91aae"
      },
      "execution_count": 14,
      "outputs": [
        {
          "output_type": "execute_result",
          "data": {
            "text/plain": [
              "matrix([[3],\n",
              "        [1]])"
            ]
          },
          "metadata": {},
          "execution_count": 14
        }
      ]
    },
    {
      "cell_type": "code",
      "source": [
        "# create some more vectors\n",
        "v3 = np.array([-3, -1]) # mirror image of x over both axes\n",
        "v4 = np.array([-1, 1])"
      ],
      "metadata": {
        "id": "Mat4iZTgqATA"
      },
      "execution_count": 15,
      "outputs": []
    },
    {
      "cell_type": "code",
      "source": [
        "# Now we can build V by concatenating vectors v - v4 as column matrices\n",
        "V = np.concatenate((np.matrix(v).T,\n",
        "                    np.matrix(v2).T,\n",
        "                    np.matrix(v3).T,\n",
        "                    np.matrix(v4).T),\n",
        "                    axis=1)\n",
        "V"
      ],
      "metadata": {
        "colab": {
          "base_uri": "https://localhost:8080/"
        },
        "id": "adOfD3KRqWxQ",
        "outputId": "9fffeaa7-b0e5-4c32-8e75-6e7b5a927ac1"
      },
      "execution_count": 16,
      "outputs": [
        {
          "output_type": "execute_result",
          "data": {
            "text/plain": [
              "matrix([[ 3,  2, -3, -1],\n",
              "        [ 1,  1, -1,  1]])"
            ]
          },
          "metadata": {},
          "execution_count": 16
        }
      ]
    },
    {
      "cell_type": "code",
      "source": [
        "# if we apply the identity matrix to V then we should just get V back\n",
        "IV = np.dot(I,V)\n",
        "IV"
      ],
      "metadata": {
        "colab": {
          "base_uri": "https://localhost:8080/"
        },
        "id": "PLUhfrbirGRJ",
        "outputId": "c00545d6-ff1e-483d-8af5-9ccdbdbc605a"
      },
      "execution_count": 17,
      "outputs": [
        {
          "output_type": "execute_result",
          "data": {
            "text/plain": [
              "matrix([[ 3,  2, -3, -1],\n",
              "        [ 1,  1, -1,  1]])"
            ]
          },
          "metadata": {},
          "execution_count": 17
        }
      ]
    },
    {
      "cell_type": "code",
      "source": [
        "# if we apply the matrix A to matrix V then A will trnasform all of the four columns\n",
        "AV = np.dot(A, V)\n",
        "AV"
      ],
      "metadata": {
        "colab": {
          "base_uri": "https://localhost:8080/"
        },
        "id": "pLzRZTVNsK1Y",
        "outputId": "e7de9c7b-2731-4b12-e374-876faba4cb6e"
      },
      "execution_count": 18,
      "outputs": [
        {
          "output_type": "execute_result",
          "data": {
            "text/plain": [
              "matrix([[ 1,  2, -1,  5],\n",
              "        [ 4,  2, -4, -4]])"
            ]
          },
          "metadata": {},
          "execution_count": 18
        }
      ]
    },
    {
      "cell_type": "code",
      "source": [
        "# function to convert column of matrix to a 1D vector:\n",
        "def vectorfy(mtrx, clmn):\n",
        "  return np.array(mtrx[:,clmn]).reshape(-1)"
      ],
      "metadata": {
        "id": "eO1JTX6ZshfH"
      },
      "execution_count": 19,
      "outputs": []
    },
    {
      "cell_type": "code",
      "source": [
        "vectorfy(V, 0)"
      ],
      "metadata": {
        "colab": {
          "base_uri": "https://localhost:8080/"
        },
        "id": "R3TD4LzItHWB",
        "outputId": "6fb43fd8-00a7-4ccc-99b6-8b45597e73c0"
      },
      "execution_count": 20,
      "outputs": [
        {
          "output_type": "execute_result",
          "data": {
            "text/plain": [
              "array([3, 1])"
            ]
          },
          "metadata": {},
          "execution_count": 20
        }
      ]
    },
    {
      "cell_type": "code",
      "source": [
        "vectorfy(V, 0) == v"
      ],
      "metadata": {
        "colab": {
          "base_uri": "https://localhost:8080/"
        },
        "id": "qospg4v9tNRg",
        "outputId": "d7a7a899-2735-49b5-f1d2-e4b5b940a0c1"
      },
      "execution_count": 21,
      "outputs": [
        {
          "output_type": "execute_result",
          "data": {
            "text/plain": [
              "array([ True,  True])"
            ]
          },
          "metadata": {},
          "execution_count": 21
        }
      ]
    },
    {
      "cell_type": "code",
      "source": [
        "plotVectors([vectorfy(V, 0), vectorfy(V, 1), vectorfy(V, 2), vectorfy(V, 3),\n",
        "             vectorfy(AV, 0), vectorfy(AV, 1), vectorfy(AV, 2), vectorfy(AV, 3)],\n",
        "            ['lightblue', 'lightgreen', 'lightgrey', 'orange',\n",
        "             'blue', 'green', 'gray', 'red'])\n",
        "plt.xlim(-4, 6)\n",
        "plt.ylim(-5, 5)\n",
        "plt.title('Result of Applying Matrix A to Matrix V')\n",
        "plt.tight_layout()\n",
        "plt.show()\n"
      ],
      "metadata": {
        "colab": {
          "base_uri": "https://localhost:8080/",
          "height": 487
        },
        "id": "LhRCQuPmtVag",
        "outputId": "8f5dee8a-faac-4c02-90a4-1c7404443f0d"
      },
      "execution_count": 22,
      "outputs": [
        {
          "output_type": "display_data",
          "data": {
            "text/plain": [
              "<Figure size 640x480 with 1 Axes>"
            ],
            "image/png": "[encoded data removed]"
          },
          "metadata": {}
        }
      ]
    },
    {
      "cell_type": "markdown",
      "source": [
        "*  An **eigenvector** (*eigen* is German for 'typical'; or 'characteristic vector') is a special vector $\\vec{v}$ such that when it is transformed by some matrix ($\\matrix{A}$), the product $\\matrix{A}\\vec{v}$ has the exact same direction as $\\vec{v}$.\n",
        "*  An **eigenvalue** is a scalar($\\lambda$) that simply scales the eigenvector $\\vec{v}$ such that the following equation is satisfied:\n",
        "\\begin{equation*}\n",
        "\\matrix{A}\\vec{v} = \\lambda\\vec{v}\n",
        "\\end{equation*}"
      ],
      "metadata": {
        "id": "EohLH6_fKG5N"
      }
    },
    {
      "cell_type": "code",
      "source": [
        "# take matrix A that we are applying\n",
        "A"
      ],
      "metadata": {
        "id": "aF_rog1duiIJ",
        "colab": {
          "base_uri": "https://localhost:8080/"
        },
        "outputId": "58fd8b91-c1e6-4326-d267-ef76b483269e"
      },
      "execution_count": 23,
      "outputs": [
        {
          "output_type": "execute_result",
          "data": {
            "text/plain": [
              "array([[-1,  4],\n",
              "       [ 2, -2]])"
            ]
          },
          "metadata": {},
          "execution_count": 23
        }
      ]
    },
    {
      "cell_type": "markdown",
      "source": [
        "*  The NumPy `eig()` method returns a tuple of:\n",
        "  *  a vector of eigenvalues\n",
        "  *  a matrix of eigenvectors\n",
        "* **The eigenvalues and eigenvectors are characteristic of the matrix that we apply** to a given vector or matrix."
      ],
      "metadata": {
        "id": "oiOBIBtyNMmG"
      }
    },
    {
      "cell_type": "code",
      "source": [
        "lambdas, V = np.linalg.eig(A)"
      ],
      "metadata": {
        "id": "1MeCu5I1NArO"
      },
      "execution_count": 24,
      "outputs": []
    },
    {
      "cell_type": "markdown",
      "source": [
        "*  The matrix returned will have as many eigenvectors as there are columns of $\\matrix{A}$."
      ],
      "metadata": {
        "id": "0JyLgcSsPD3d"
      }
    },
    {
      "cell_type": "code",
      "source": [
        "V # each column is a separate eigenvector v"
      ],
      "metadata": {
        "colab": {
          "base_uri": "https://localhost:8080/"
        },
        "id": "ZymDvt9MN8g_",
        "outputId": "7d5e56e5-aee0-4e84-c24c-6bcf57cdb785"
      },
      "execution_count": 25,
      "outputs": [
        {
          "output_type": "execute_result",
          "data": {
            "text/plain": [
              "array([[ 0.86011126, -0.76454754],\n",
              "       [ 0.51010647,  0.64456735]])"
            ]
          },
          "metadata": {},
          "execution_count": 25
        }
      ]
    },
    {
      "cell_type": "markdown",
      "source": [
        "* Along with a corresponding eigenvalue for each eigenvector."
      ],
      "metadata": {
        "id": "vCvj-K57Pj0N"
      }
    },
    {
      "cell_type": "code",
      "source": [
        "lambdas # these lambdas are lambdas that satisfy the equation Av = lambda v"
      ],
      "metadata": {
        "colab": {
          "base_uri": "https://localhost:8080/"
        },
        "id": "SfqojjX0PaSW",
        "outputId": "b0ac01da-0f13-4193-89fb-40c4ce45aef4"
      },
      "execution_count": 26,
      "outputs": [
        {
          "output_type": "execute_result",
          "data": {
            "text/plain": [
              "array([ 1.37228132, -4.37228132])"
            ]
          },
          "metadata": {},
          "execution_count": 26
        }
      ]
    },
    {
      "cell_type": "markdown",
      "source": [
        "* Now we should confirm that indeed $\\matrix{A}\\vec{v} = \\lambda\\vec{v}$ for the first eigenvector:"
      ],
      "metadata": {
        "id": "1XV9zcMVRm3W"
      }
    },
    {
      "cell_type": "code",
      "source": [
        "v = V[:,0]\n",
        "v"
      ],
      "metadata": {
        "colab": {
          "base_uri": "https://localhost:8080/"
        },
        "id": "3Ht0N0ylQKcv",
        "outputId": "a174bdcc-016c-4fc6-b738-7bbf6cb4daf3"
      },
      "execution_count": 27,
      "outputs": [
        {
          "output_type": "execute_result",
          "data": {
            "text/plain": [
              "array([0.86011126, 0.51010647])"
            ]
          },
          "metadata": {},
          "execution_count": 27
        }
      ]
    },
    {
      "cell_type": "code",
      "source": [
        "lambdaa = lambdas[0] # ** careful - lambda is a reserved word in Python\n",
        "lambdaa"
      ],
      "metadata": {
        "colab": {
          "base_uri": "https://localhost:8080/"
        },
        "id": "aDyvYYNISAZu",
        "outputId": "23eb4f00-24c0-4a00-dc41-1f28083363ee"
      },
      "execution_count": 28,
      "outputs": [
        {
          "output_type": "execute_result",
          "data": {
            "text/plain": [
              "1.3722813232690143"
            ]
          },
          "metadata": {},
          "execution_count": 28
        }
      ]
    },
    {
      "cell_type": "code",
      "source": [
        "Av = np.dot(A, v) # the Av on the left side of the equation\n",
        "Av"
      ],
      "metadata": {
        "colab": {
          "base_uri": "https://localhost:8080/"
        },
        "id": "2FgoOAR4Scd_",
        "outputId": "54726426-7d25-454b-bc21-20a3384845bb"
      },
      "execution_count": 29,
      "outputs": [
        {
          "output_type": "execute_result",
          "data": {
            "text/plain": [
              "array([1.18031462, 0.70000958])"
            ]
          },
          "metadata": {},
          "execution_count": 29
        }
      ]
    },
    {
      "cell_type": "code",
      "source": [
        "lambdaa * v # the lambda v on the right side of the equation"
      ],
      "metadata": {
        "colab": {
          "base_uri": "https://localhost:8080/"
        },
        "id": "a-nWQG0CS2Gn",
        "outputId": "afec4f2a-3381-4338-82fd-b2c0cef23d3d"
      },
      "execution_count": 30,
      "outputs": [
        {
          "output_type": "execute_result",
          "data": {
            "text/plain": [
              "array([1.18031462, 0.70000958])"
            ]
          },
          "metadata": {},
          "execution_count": 30
        }
      ]
    },
    {
      "cell_type": "markdown",
      "source": [
        "*  To confirm that these are indeed eigenvectors we can plot them.\n",
        "*  After applying the transformation($\\matrix{A}$) the vector is on the exact same orientation as $\\vec{v}$ but a different $L^2$ norm. The difference between the two vectors is the eigenvalue for that eigenvector.\n",
        "*  So the resulting vector is 1.37 times the original vector."
      ],
      "metadata": {
        "id": "lgfMIdoIToGV"
      }
    },
    {
      "cell_type": "code",
      "source": [
        "plotVectors([Av, v], ['blue', 'lightblue'])\n",
        "plt.xlim(-1, 2)\n",
        "plt.ylim(-1, 2)\n",
        "plt.tight_layout()\n",
        "plt.title('Plot of eigenvector')\n",
        "plt.show()"
      ],
      "metadata": {
        "colab": {
          "base_uri": "https://localhost:8080/",
          "height": 503
        },
        "id": "eE80K4mlTYWX",
        "outputId": "63156c8d-bad2-4dfb-cc09-70aa7aa8ae64"
      },
      "execution_count": 31,
      "outputs": [
        {
          "output_type": "display_data",
          "data": {
            "text/plain": [
              "<Figure size 640x480 with 1 Axes>"
            ],
            "image/png": "[encoded data removed]"
          },
          "metadata": {}
        }
      ]
    },
    {
      "cell_type": "markdown",
      "source": [
        "*  Now we can complete for the second vector of $\\matrix{A}$"
      ],
      "metadata": {
        "id": "rMfO7cDgacjf"
      }
    },
    {
      "cell_type": "code",
      "source": [
        "v2 = V[:,1]\n",
        "v2"
      ],
      "metadata": {
        "colab": {
          "base_uri": "https://localhost:8080/"
        },
        "id": "6H4FMoo7ULxo",
        "outputId": "7bef90bc-2e78-4efc-ba25-a4ac6152f3d9"
      },
      "execution_count": 32,
      "outputs": [
        {
          "output_type": "execute_result",
          "data": {
            "text/plain": [
              "array([-0.76454754,  0.64456735])"
            ]
          },
          "metadata": {},
          "execution_count": 32
        }
      ]
    },
    {
      "cell_type": "code",
      "source": [
        "lambda2 = lambdas[1]\n",
        "lambda2"
      ],
      "metadata": {
        "colab": {
          "base_uri": "https://localhost:8080/"
        },
        "id": "VfGqq35Hawm-",
        "outputId": "6078ad15-156d-4d18-9300-a4d9458f77f8"
      },
      "execution_count": 33,
      "outputs": [
        {
          "output_type": "execute_result",
          "data": {
            "text/plain": [
              "-4.372281323269014"
            ]
          },
          "metadata": {},
          "execution_count": 33
        }
      ]
    },
    {
      "cell_type": "code",
      "source": [
        "Av2 = np.dot(A, v2)\n",
        "Av2"
      ],
      "metadata": {
        "colab": {
          "base_uri": "https://localhost:8080/"
        },
        "id": "7qIsn0W2a843",
        "outputId": "cf0ab047-2ab4-4638-c5e8-70007e435e16"
      },
      "execution_count": 34,
      "outputs": [
        {
          "output_type": "execute_result",
          "data": {
            "text/plain": [
              "array([ 3.34281692, -2.81822977])"
            ]
          },
          "metadata": {},
          "execution_count": 34
        }
      ]
    },
    {
      "cell_type": "code",
      "source": [
        "lambda2 * v2"
      ],
      "metadata": {
        "colab": {
          "base_uri": "https://localhost:8080/"
        },
        "id": "UlVcOtDhbIcv",
        "outputId": "3f5d2205-897a-4b94-b2c0-f09b1d6d614e"
      },
      "execution_count": 35,
      "outputs": [
        {
          "output_type": "execute_result",
          "data": {
            "text/plain": [
              "array([ 3.34281692, -2.81822977])"
            ]
          },
          "metadata": {},
          "execution_count": 35
        }
      ]
    },
    {
      "cell_type": "code",
      "source": [
        "plotVectors([Av, v, Av2, v2], ['blue', 'lightblue', 'green', 'lightgreen'])\n",
        "plt.xlim(-1, 4)\n",
        "plt.ylim(-3, 2)\n",
        "plt.tight_layout()\n",
        "plt.title('Plot of eigenvectors')\n",
        "plt.show()"
      ],
      "metadata": {
        "colab": {
          "base_uri": "https://localhost:8080/",
          "height": 503
        },
        "id": "j_GPCCfqcKyW",
        "outputId": "fa8135b9-dd64-4ea1-e729-01bafeca39ea"
      },
      "execution_count": 36,
      "outputs": [
        {
          "output_type": "display_data",
          "data": {
            "text/plain": [
              "<Figure size 640x480 with 1 Axes>"
            ],
            "image/png": "[encoded data removed]"
          },
          "metadata": {}
        }
      ]
    },
    {
      "cell_type": "markdown",
      "source": [
        "*  We can do the same as above using PyTorch `eig()` method."
      ],
      "metadata": {
        "id": "H-YDmjBsdylF"
      }
    },
    {
      "cell_type": "code",
      "source": [
        "A"
      ],
      "metadata": {
        "colab": {
          "base_uri": "https://localhost:8080/"
        },
        "id": "dkGuP6FSclQ-",
        "outputId": "824488f2-51ca-4585-95e6-5ba31c3ee405"
      },
      "execution_count": 37,
      "outputs": [
        {
          "output_type": "execute_result",
          "data": {
            "text/plain": [
              "array([[-1,  4],\n",
              "       [ 2, -2]])"
            ]
          },
          "metadata": {},
          "execution_count": 37
        }
      ]
    },
    {
      "cell_type": "code",
      "source": [
        "A_p = torch.tensor([ [-1, 4], [2., -2] ])\n",
        "A_p"
      ],
      "metadata": {
        "colab": {
          "base_uri": "https://localhost:8080/"
        },
        "id": "ZCdl47y_d7_w",
        "outputId": "2c02bbba-8985-4ed5-ead1-9407ca051a2f"
      },
      "execution_count": 38,
      "outputs": [
        {
          "output_type": "execute_result",
          "data": {
            "text/plain": [
              "tensor([[-1.,  4.],\n",
              "        [ 2., -2.]])"
            ]
          },
          "metadata": {},
          "execution_count": 38
        }
      ]
    },
    {
      "cell_type": "code",
      "source": [
        "eigs = torch.linalg.eig(A_p)\n",
        "eigs"
      ],
      "metadata": {
        "colab": {
          "base_uri": "https://localhost:8080/"
        },
        "id": "rhIXz-Q8eMBv",
        "outputId": "02fb168c-a89a-46b1-dcb8-601e80ca997b"
      },
      "execution_count": 39,
      "outputs": [
        {
          "output_type": "execute_result",
          "data": {
            "text/plain": [
              "torch.return_types.linalg_eig(\n",
              "eigenvalues=tensor([ 1.3723+0.j, -4.3723+0.j]),\n",
              "eigenvectors=tensor([[ 0.8601+0.j, -0.7645+0.j],\n",
              "        [ 0.5101+0.j,  0.6446+0.j]]))"
            ]
          },
          "metadata": {},
          "execution_count": 39
        }
      ]
    },
    {
      "cell_type": "code",
      "source": [
        "v_p = eigs.eigenvectors[:, 0]\n",
        "v_p.real # convert to real values"
      ],
      "metadata": {
        "colab": {
          "base_uri": "https://localhost:8080/"
        },
        "id": "0nJoOeFHear9",
        "outputId": "4200d7a6-52f3-47c0-e2a2-32938cf0efd5"
      },
      "execution_count": 40,
      "outputs": [
        {
          "output_type": "execute_result",
          "data": {
            "text/plain": [
              "tensor([0.8601, 0.5101])"
            ]
          },
          "metadata": {},
          "execution_count": 40
        }
      ]
    },
    {
      "cell_type": "code",
      "source": [
        "lambda_p = eigs.eigenvalues[0]\n",
        "lambda_p.real # convert to real values"
      ],
      "metadata": {
        "colab": {
          "base_uri": "https://localhost:8080/"
        },
        "id": "wFsRk4TehNEv",
        "outputId": "1125b2e5-f676-4cff-a096-34f536cf237b"
      },
      "execution_count": 41,
      "outputs": [
        {
          "output_type": "execute_result",
          "data": {
            "text/plain": [
              "tensor(1.3723)"
            ]
          },
          "metadata": {},
          "execution_count": 41
        }
      ]
    },
    {
      "cell_type": "code",
      "source": [
        "Av_p = torch.matmul(A_p, v_p.real)\n",
        "Av_p"
      ],
      "metadata": {
        "colab": {
          "base_uri": "https://localhost:8080/"
        },
        "id": "6EHJflXVhb4m",
        "outputId": "5b804b2d-362d-4616-9a7c-f5823973352f"
      },
      "execution_count": 42,
      "outputs": [
        {
          "output_type": "execute_result",
          "data": {
            "text/plain": [
              "tensor([1.1803, 0.7000])"
            ]
          },
          "metadata": {},
          "execution_count": 42
        }
      ]
    },
    {
      "cell_type": "code",
      "source": [
        "lambda_p.real * v_p.real"
      ],
      "metadata": {
        "colab": {
          "base_uri": "https://localhost:8080/"
        },
        "id": "91QGApJzkPLf",
        "outputId": "ba7ab2b4-8868-4d58-8307-2080aa1afe6e"
      },
      "execution_count": 43,
      "outputs": [
        {
          "output_type": "execute_result",
          "data": {
            "text/plain": [
              "tensor([1.1803, 0.7000])"
            ]
          },
          "metadata": {},
          "execution_count": 43
        }
      ]
    },
    {
      "cell_type": "code",
      "source": [
        "v2_p = eigs.eigenvectors[:, 1]\n",
        "v2_p.real # convert to real values"
      ],
      "metadata": {
        "colab": {
          "base_uri": "https://localhost:8080/"
        },
        "id": "4UWW2lbUnowX",
        "outputId": "ef3d0160-29be-4fcf-dd7e-9377ba94766e"
      },
      "execution_count": 44,
      "outputs": [
        {
          "output_type": "execute_result",
          "data": {
            "text/plain": [
              "tensor([-0.7645,  0.6446])"
            ]
          },
          "metadata": {},
          "execution_count": 44
        }
      ]
    },
    {
      "cell_type": "code",
      "source": [
        "lambda2_p = eigs.eigenvalues[1]\n",
        "lambda2_p.real # convert to real values"
      ],
      "metadata": {
        "colab": {
          "base_uri": "https://localhost:8080/"
        },
        "id": "LMrrfy7LoHGv",
        "outputId": "4c934c63-9e0b-4c6e-b519-8283c36e2f1b"
      },
      "execution_count": 45,
      "outputs": [
        {
          "output_type": "execute_result",
          "data": {
            "text/plain": [
              "tensor(-4.3723)"
            ]
          },
          "metadata": {},
          "execution_count": 45
        }
      ]
    },
    {
      "cell_type": "code",
      "source": [
        "Av2_p = torch.matmul(A_p, v2_p.real)\n",
        "Av2_p"
      ],
      "metadata": {
        "colab": {
          "base_uri": "https://localhost:8080/"
        },
        "id": "nes8eWVRoZKP",
        "outputId": "3abc20e8-c69b-4880-e04c-439e19b82a89"
      },
      "execution_count": 46,
      "outputs": [
        {
          "output_type": "execute_result",
          "data": {
            "text/plain": [
              "tensor([ 3.3428, -2.8182])"
            ]
          },
          "metadata": {},
          "execution_count": 46
        }
      ]
    },
    {
      "cell_type": "code",
      "source": [
        "lambda2_p.real * v2_p.real"
      ],
      "metadata": {
        "colab": {
          "base_uri": "https://localhost:8080/"
        },
        "id": "GK-XJqSKop3u",
        "outputId": "9e657808-10e9-4612-97a6-bbaedc423618"
      },
      "execution_count": 47,
      "outputs": [
        {
          "output_type": "execute_result",
          "data": {
            "text/plain": [
              "tensor([ 3.3428, -2.8182])"
            ]
          },
          "metadata": {},
          "execution_count": 47
        }
      ]
    },
    {
      "cell_type": "markdown",
      "source": [
        "#### Review of Eigenvectors and Eigenvalues\n",
        "*  The eigenvalue of an eigenvector corresponds to the change in length (size) of the vector when a matrix is applied to it. If the length remains the same, the eigenvalue is 1. If it doubles, the eigenvalue is 2; if it halves, the eigenvalue is 0.5. The eigenvalue provides information about how the matrix operation transforms the eigenvector.\n",
        "*   Eigenvalues are represented as scalar values, typically denoted by the Greek lowercase letter lambda. They indicate how the matrix transformation scales or stretches the corresponding eigenvectors.\n",
        "*   An eigenvector is a vector that does not change direction when a matrix is applied. It remains oriented in the same direction.\n",
        "*  An eigenvector is a vector that retains its direction after transformation by a matrix. The orientation or direction of the vector remains the same, although the corresponding eigenvalue may scale its length.\n",
        "*   In a three-dimensional matrix, there will be three eigenvectors and three corresponding eigenvalues. The number of eigenvectors and eigenvalues matches the number of dimensions of the matrix."
      ],
      "metadata": {
        "id": "sH8RtRtaqdgJ"
      }
    },
    {
      "cell_type": "markdown",
      "source": [
        "#### Higher Dimensional Eigenvectors"
      ],
      "metadata": {
        "id": "eFQWlMapuOse"
      }
    },
    {
      "cell_type": "code",
      "source": [
        "X = np.array([ [25, 2, 9], [5, 26, -5], [3, 7, -1] ])\n",
        "X"
      ],
      "metadata": {
        "id": "WVDqu9-ztyA_",
        "colab": {
          "base_uri": "https://localhost:8080/"
        },
        "outputId": "2ba346cd-3abe-40eb-d958-95be9ad063ba"
      },
      "execution_count": 48,
      "outputs": [
        {
          "output_type": "execute_result",
          "data": {
            "text/plain": [
              "array([[25,  2,  9],\n",
              "       [ 5, 26, -5],\n",
              "       [ 3,  7, -1]])"
            ]
          },
          "metadata": {},
          "execution_count": 48
        }
      ]
    },
    {
      "cell_type": "code",
      "source": [
        "lambdas_X, V_X = np.linalg.eig(X)"
      ],
      "metadata": {
        "id": "BQdopEeemimi"
      },
      "execution_count": 49,
      "outputs": []
    },
    {
      "cell_type": "code",
      "source": [
        "V_X # one eigenvector per column of X"
      ],
      "metadata": {
        "colab": {
          "base_uri": "https://localhost:8080/"
        },
        "id": "x_1xS1Bbm_HT",
        "outputId": "835665ca-a400-48c9-e51d-b659bcc9a965"
      },
      "execution_count": 50,
      "outputs": [
        {
          "output_type": "execute_result",
          "data": {
            "text/plain": [
              "array([[-0.71175736, -0.6501921 , -0.34220476],\n",
              "       [-0.66652125,  0.74464056,  0.23789717],\n",
              "       [-0.22170001,  0.15086635,  0.90901091]])"
            ]
          },
          "metadata": {},
          "execution_count": 50
        }
      ]
    },
    {
      "cell_type": "code",
      "source": [
        "lambdas_X # a corresponding eigenvalue for each eigenvector"
      ],
      "metadata": {
        "colab": {
          "base_uri": "https://localhost:8080/"
        },
        "id": "zdwIbukPnIuS",
        "outputId": "4da4c6e6-b72c-423c-87c6-447c378479ed"
      },
      "execution_count": 51,
      "outputs": [
        {
          "output_type": "execute_result",
          "data": {
            "text/plain": [
              "array([29.67623202, 20.62117365, -0.29740567])"
            ]
          },
          "metadata": {},
          "execution_count": 51
        }
      ]
    },
    {
      "cell_type": "markdown",
      "source": [
        "*  Confirm $\\matrix{X}\\vec{v} = \\lambda\\vec{v}$"
      ],
      "metadata": {
        "id": "nskn9Yztn_gp"
      }
    },
    {
      "cell_type": "code",
      "source": [
        "v_X = V_X[:, 0]\n",
        "v_X"
      ],
      "metadata": {
        "colab": {
          "base_uri": "https://localhost:8080/"
        },
        "id": "46ZbJ_-NnWqD",
        "outputId": "3e32d332-3faa-4b0a-8fb3-a2e0233632be"
      },
      "execution_count": 52,
      "outputs": [
        {
          "output_type": "execute_result",
          "data": {
            "text/plain": [
              "array([-0.71175736, -0.66652125, -0.22170001])"
            ]
          },
          "metadata": {},
          "execution_count": 52
        }
      ]
    },
    {
      "cell_type": "code",
      "source": [
        "lambda_X = lambdas_X[0]\n",
        "lambda_X"
      ],
      "metadata": {
        "colab": {
          "base_uri": "https://localhost:8080/"
        },
        "id": "r064sqrHoxix",
        "outputId": "4d15bcb3-68d6-489c-9637-dca55603095e"
      },
      "execution_count": 53,
      "outputs": [
        {
          "output_type": "execute_result",
          "data": {
            "text/plain": [
              "29.676232023948902"
            ]
          },
          "metadata": {},
          "execution_count": 53
        }
      ]
    },
    {
      "cell_type": "code",
      "source": [
        "np.dot(X, v_X) # matrix multiplication"
      ],
      "metadata": {
        "colab": {
          "base_uri": "https://localhost:8080/"
        },
        "id": "_Mi6TN1IpPiS",
        "outputId": "388190d6-24ea-4f63-f288-d13226e49c55"
      },
      "execution_count": 54,
      "outputs": [
        {
          "output_type": "execute_result",
          "data": {
            "text/plain": [
              "array([-21.12227645, -19.77983919,  -6.5792208 ])"
            ]
          },
          "metadata": {},
          "execution_count": 54
        }
      ]
    },
    {
      "cell_type": "code",
      "source": [
        "lambda_X * v_X"
      ],
      "metadata": {
        "colab": {
          "base_uri": "https://localhost:8080/"
        },
        "id": "WXgyedespbd7",
        "outputId": "f92c85e8-f509-4f94-b3df-7d6877b733e4"
      },
      "execution_count": 55,
      "outputs": [
        {
          "output_type": "execute_result",
          "data": {
            "text/plain": [
              "array([-21.12227645, -19.77983919,  -6.5792208 ])"
            ]
          },
          "metadata": {},
          "execution_count": 55
        }
      ]
    },
    {
      "cell_type": "code",
      "source": [
        "# using pyTorch\n",
        "X_t = torch.tensor([ [25, 2, 9], [5, 26, -5], [3, 7, -1] ], dtype=torch.float64)\n",
        "X_t"
      ],
      "metadata": {
        "colab": {
          "base_uri": "https://localhost:8080/"
        },
        "id": "BHv6U6ZKpqk6",
        "outputId": "b0e75d7e-b8c2-46b5-8b10-8c2fd28c7a98"
      },
      "execution_count": 56,
      "outputs": [
        {
          "output_type": "execute_result",
          "data": {
            "text/plain": [
              "tensor([[25.,  2.,  9.],\n",
              "        [ 5., 26., -5.],\n",
              "        [ 3.,  7., -1.]], dtype=torch.float64)"
            ]
          },
          "metadata": {},
          "execution_count": 56
        }
      ]
    },
    {
      "cell_type": "code",
      "source": [
        "L, V = torch.linalg.eig(X_t)"
      ],
      "metadata": {
        "id": "cgQJkdTjtcxj"
      },
      "execution_count": 57,
      "outputs": []
    },
    {
      "cell_type": "code",
      "source": [
        "L.real"
      ],
      "metadata": {
        "colab": {
          "base_uri": "https://localhost:8080/"
        },
        "id": "-tC4dIk0uPhh",
        "outputId": "0bd065d9-a9e6-4ece-99bd-215472986f4f"
      },
      "execution_count": 58,
      "outputs": [
        {
          "output_type": "execute_result",
          "data": {
            "text/plain": [
              "tensor([29.6762, 20.6212, -0.2974], dtype=torch.float64)"
            ]
          },
          "metadata": {},
          "execution_count": 58
        }
      ]
    },
    {
      "cell_type": "code",
      "source": [
        "V.real"
      ],
      "metadata": {
        "colab": {
          "base_uri": "https://localhost:8080/"
        },
        "id": "aqayRn7puQbZ",
        "outputId": "52133521-437e-4437-fa74-c7fce3ad38b8"
      },
      "execution_count": 59,
      "outputs": [
        {
          "output_type": "execute_result",
          "data": {
            "text/plain": [
              "tensor([[-0.7118, -0.6502, -0.3422],\n",
              "        [-0.6665,  0.7446,  0.2379],\n",
              "        [-0.2217,  0.1509,  0.9090]], dtype=torch.float64)"
            ]
          },
          "metadata": {},
          "execution_count": 59
        }
      ]
    },
    {
      "cell_type": "code",
      "source": [
        "V_v = V[:, 0] # get the first column eigenvector\n",
        "V_v.real"
      ],
      "metadata": {
        "colab": {
          "base_uri": "https://localhost:8080/"
        },
        "id": "P3CXlqxpuUhq",
        "outputId": "c576b350-7072-4e08-c56f-44d5568e0de7"
      },
      "execution_count": 60,
      "outputs": [
        {
          "output_type": "execute_result",
          "data": {
            "text/plain": [
              "tensor([-0.7118, -0.6665, -0.2217], dtype=torch.float64)"
            ]
          },
          "metadata": {},
          "execution_count": 60
        }
      ]
    },
    {
      "cell_type": "code",
      "source": [
        "L_lambda = L[0] # get the first eigenvalue\n",
        "L_lambda.real"
      ],
      "metadata": {
        "colab": {
          "base_uri": "https://localhost:8080/"
        },
        "id": "MhOKRjlAu5IK",
        "outputId": "82bead22-a9a8-4469-8297-a256c2834a03"
      },
      "execution_count": 61,
      "outputs": [
        {
          "output_type": "execute_result",
          "data": {
            "text/plain": [
              "tensor(29.6762, dtype=torch.float64)"
            ]
          },
          "metadata": {},
          "execution_count": 61
        }
      ]
    },
    {
      "cell_type": "markdown",
      "source": [
        "*  Confirm $\\matrix{X}\\vec{v} = \\lambda\\vec{v}$"
      ],
      "metadata": {
        "id": "zNYovUBhv_Th"
      }
    },
    {
      "cell_type": "code",
      "source": [
        "torch.matmul(X_t, V_v.real)"
      ],
      "metadata": {
        "colab": {
          "base_uri": "https://localhost:8080/"
        },
        "id": "-PK6QIZQvTZJ",
        "outputId": "579315bb-311f-49b1-e737-5bc7faa6f59a"
      },
      "execution_count": 62,
      "outputs": [
        {
          "output_type": "execute_result",
          "data": {
            "text/plain": [
              "tensor([-21.1223, -19.7798,  -6.5792], dtype=torch.float64)"
            ]
          },
          "metadata": {},
          "execution_count": 62
        }
      ]
    },
    {
      "cell_type": "code",
      "source": [
        "L_lambda.real * V_v.real"
      ],
      "metadata": {
        "colab": {
          "base_uri": "https://localhost:8080/"
        },
        "id": "6VUN9MquvpeK",
        "outputId": "3eb9e870-3132-4cf7-ad00-0d5cec92665c"
      },
      "execution_count": 63,
      "outputs": [
        {
          "output_type": "execute_result",
          "data": {
            "text/plain": [
              "tensor([-21.1223, -19.7798,  -6.5792], dtype=torch.float64)"
            ]
          },
          "metadata": {},
          "execution_count": 63
        }
      ]
    },
    {
      "cell_type": "markdown",
      "source": [
        "#### Matrix Determinants and Decomposition\n",
        "* The Determinant of a 2x2 matrix.\n",
        "  * The determinant allows us to map a **square** matrix to a scalar.\n",
        "  * This will enable us to determine if a matrix can be inverted.\n",
        "  * For a matrix $\\matrix{X}$, denoted as $\\det({X})$ if:\n",
        "    *  $\\det({X}) = 0$ then:\n",
        "      *  matrix $\\matrix{X^{-1}}$ cannot be computed because: $\\matrix{X^{-1}}$ is $\\frac{1}{\\det({X})} = \\frac{1}{\\color{red}{0}}$\n",
        "      *  this also means $\\matrix{X}$ is **singular** and contains linearly-dependent columns(lines described by x are parallel).\n",
        "* Calculating the determinant of a 2x2 matrix:\n",
        "\\begin{equation*}\n",
        "\\matrix{X} = \\begin{bmatrix}\n",
        "\\color{orange}{a} & \\color{green}{b} \\\\\n",
        "\\color{brown}{c} & \\color{purple}{d}\n",
        "\\end{bmatrix}\n",
        "\\end{equation*}\n",
        "\n",
        "\\begin{equation*}\n",
        "\\det{(X)} = |\\matrix{X}| = \\color{orange}{a}\\color{purple}{d} - \\color{green}{b}\\color{brown}{c}\n",
        "\\end{equation*}\n",
        "* For example:\n",
        "\\begin{equation*}\n",
        "\\matrix{X} = \\begin{bmatrix}\n",
        "\\color{orange}{4} & \\color{green}{2} \\\\\n",
        "\\color{brown}{-5} & \\color{purple}{-3}\n",
        "\\end{bmatrix}\n",
        "\\end{equation*}\n",
        "\\\n",
        "\\begin{equation*}\n",
        "\\det{(X)} = |\\matrix{X}| = \\color{orange}{4}\\color{purple}{(-3)} - \\color{green}{2}\\color{brown}{(-5)} = \\color{black}{-12 + 10 = -2}\n",
        "\\end{equation*}"
      ],
      "metadata": {
        "id": "7rJMkwgH6LuX"
      }
    },
    {
      "cell_type": "code",
      "source": [
        "# example using NumPy\n",
        "X = np.array([ [4, 2], [-5, -3] ])\n",
        "X"
      ],
      "metadata": {
        "colab": {
          "base_uri": "https://localhost:8080/"
        },
        "id": "ETlUC3xGwUpD",
        "outputId": "5b28e6c2-b917-435d-df3b-7b9a5d5c1a2f"
      },
      "execution_count": 64,
      "outputs": [
        {
          "output_type": "execute_result",
          "data": {
            "text/plain": [
              "array([[ 4,  2],\n",
              "       [-5, -3]])"
            ]
          },
          "metadata": {},
          "execution_count": 64
        }
      ]
    },
    {
      "cell_type": "code",
      "source": [
        "int(np.linalg.det(X))"
      ],
      "metadata": {
        "colab": {
          "base_uri": "https://localhost:8080/"
        },
        "id": "qoF_-5TnArzZ",
        "outputId": "5f742a28-08a0-491a-c043-af59f9e635c3"
      },
      "execution_count": 65,
      "outputs": [
        {
          "output_type": "execute_result",
          "data": {
            "text/plain": [
              "-2"
            ]
          },
          "metadata": {},
          "execution_count": 65
        }
      ]
    },
    {
      "cell_type": "markdown",
      "source": [
        "#### Example where the determinant is 0 due to linearly dependant columns\n",
        "*  The first column is a multiple of the second column. If we multiply column 2 by  -4 then we get column 1.\n",
        "*  This makes this matrix a singular matrix and we cannot take the inverse.\n",
        "\n",
        "\\begin{equation*}\n",
        "\\matrix{N} = \\begin{bmatrix}\n",
        "\\color{orange}{-4} & \\color{green}{1} \\\\\n",
        "\\color{brown}{-8} & \\color{purple}{2}\n",
        "\\end{bmatrix}\n",
        "\\end{equation*}\n",
        "\\\n",
        "\\begin{equation*}\n",
        "\\det{(N)} = |\\matrix{N}| = \\color{orange}{-4}\\color{purple}{(2)} - \\color{green}{1}\\color{brown}{(-8)} = \\color{black}{-8 + 8 = 0}\n",
        "\\end{equation*}"
      ],
      "metadata": {
        "id": "OjvgdvtKBfAh"
      }
    },
    {
      "cell_type": "code",
      "source": [
        "N = np.array([ [-4, 1], [-8, 2] ])\n",
        "N"
      ],
      "metadata": {
        "colab": {
          "base_uri": "https://localhost:8080/"
        },
        "id": "5_5dL50sAwQ_",
        "outputId": "07cfcd6f-9a9f-4600-9e4d-3c4bcbb0d413"
      },
      "execution_count": 66,
      "outputs": [
        {
          "output_type": "execute_result",
          "data": {
            "text/plain": [
              "array([[-4,  1],\n",
              "       [-8,  2]])"
            ]
          },
          "metadata": {},
          "execution_count": 66
        }
      ]
    },
    {
      "cell_type": "code",
      "source": [
        "int(np.linalg.det(N))"
      ],
      "metadata": {
        "colab": {
          "base_uri": "https://localhost:8080/"
        },
        "id": "UI5fw_m6EaJL",
        "outputId": "cac7e478-cfce-4e1e-a299-bbe65b3bdb34"
      },
      "execution_count": 67,
      "outputs": [
        {
          "output_type": "execute_result",
          "data": {
            "text/plain": [
              "0"
            ]
          },
          "metadata": {},
          "execution_count": 67
        }
      ]
    },
    {
      "cell_type": "code",
      "source": [
        "# this line of code will cause a 'singular matrix' error\n",
        "#Ninv = np.linalg.inv(N)"
      ],
      "metadata": {
        "id": "BVAa1PAgFDUI"
      },
      "execution_count": 68,
      "outputs": []
    },
    {
      "cell_type": "code",
      "source": [
        "# using pyTorch\n",
        "N_t = torch.tensor([ [-4, 1], [-8, 2] ], dtype=torch.float64)\n",
        "N_t"
      ],
      "metadata": {
        "colab": {
          "base_uri": "https://localhost:8080/"
        },
        "id": "ojtuoENIEhER",
        "outputId": "0f9408b2-2041-4ba7-97af-b2c99331ad8f"
      },
      "execution_count": 69,
      "outputs": [
        {
          "output_type": "execute_result",
          "data": {
            "text/plain": [
              "tensor([[-4.,  1.],\n",
              "        [-8.,  2.]], dtype=torch.float64)"
            ]
          },
          "metadata": {},
          "execution_count": 69
        }
      ]
    },
    {
      "cell_type": "code",
      "source": [
        "torch.linalg.det(N_t)"
      ],
      "metadata": {
        "colab": {
          "base_uri": "https://localhost:8080/"
        },
        "id": "CGwMnZrzEwWB",
        "outputId": "eaf353fc-d82b-46e3-daec-2ef97068c70e"
      },
      "execution_count": 70,
      "outputs": [
        {
          "output_type": "execute_result",
          "data": {
            "text/plain": [
              "tensor(-0., dtype=torch.float64)"
            ]
          },
          "metadata": {},
          "execution_count": 70
        }
      ]
    },
    {
      "cell_type": "markdown",
      "source": [
        "#### The Determinants of Larger Matrices\n",
        "*  To generalize determinants we use recursion.\n",
        "*  Remember we can only calculate the determinant of a square matrix.\n",
        "*  A 5x5 matrix will have 4 rounds of recursion.\n",
        "*  Example: the $\\matrix{X_{1,1}}$ are the elements that are not in the same row or column as $x_{1,1}$.\n",
        "*  The equation alternates + and -\n",
        "\n",
        "\\begin{equation*}\n",
        "\\matrix{X} =\n",
        "\\begin{bmatrix}\n",
        "x_{1,1} & x_{1,2} & x_{1,3} & x_{1,4} & x_{1,5} \\\\\n",
        "x_{2,1} & x_{2,2} & x_{2,3} & x_{2,4} & x_{2,5} \\\\\n",
        "x_{3,1} & x_{3,2} & x_{3,3} & x_{3,4} & x_{3,5} \\\\\n",
        "x_{4,1} & x_{4,2} & x_{4,3} & x_{4,4} & x_{4,5} \\\\\n",
        "x_{5,1} & x_{5,2} & x_{5,3} & x_{5,4} & x_{5,5}\n",
        "\\end{bmatrix} = \\\\\n",
        "x_{1,1}\\det(\\matrix{X_{1,1}}) - x_{1,2}\\det(\\matrix{X_{1,2}}) + x_{1,3}\\det (\\matrix{X_{1,3}}) - x_{1,4}\\det(\\matrix{X_{1,4}}) + x_{1,5}\\det(\\matrix{X_{1,5}})\n",
        "\\end{equation*}\n",
        "\n",
        "*  As an example, we can calculate the determinate of a 3x3 matrix.\n",
        "*  3 rows means we will do 2 rounds of recursion.\n",
        "\n",
        "\\begin{equation*}\n",
        "\\matrix{X} =\n",
        "\\begin{bmatrix}\n",
        "\\color{orange}{1} & \\color{green}{2} & \\color{purple}{4} \\\\\n",
        "\\color{black}{2} & \\color{black}{-1} & \\color{black}{3} \\\\\n",
        "\\color{black}{0} & \\color{black}{5} & \\color{black}{1} \\\\\n",
        "\\end{bmatrix}\n",
        "= \\color{orange}{x_{1,1}}\\det(\\matrix{\\color{orange}{X_{1,1}}}) - \\color{green}{x_{1,2}}\\det(\\matrix{\\color{green}{X_{1,2}}}) + \\color{purple}{x_{1,3}}\\det (\\matrix{\\color{purple}{X_{1,3}}})\n",
        "\\end{equation*}\n",
        "\n",
        "\\begin{equation*}\n",
        " =\n",
        "\\color{orange}{1}\n",
        "\\begin{bmatrix}\n",
        "\\color{black}{-1} & \\color{black}{3} \\\\\n",
        "\\color{black}{5} & \\color{black}{1} \\\\\n",
        "\\end{bmatrix}\n",
        "- \\color{green}{2}\n",
        "\\begin{bmatrix}\n",
        "\\color{black}{2} & \\color{black}{3} \\\\\n",
        "\\color{black}{0} & \\color{black}{1} \\\\\n",
        "\\end{bmatrix}\n",
        "+ \\color{purple}{4}\n",
        "\\begin{bmatrix}\n",
        "\\color{black}{2} & \\color{black}{-1} \\\\\n",
        "\\color{black}{0} & \\color{black}{5} \\\\\n",
        "\\end{bmatrix}\n",
        "= \\color{orange}{1}(-1.1 - 3.5) - \\color{green}{2}(2.1 - 3.0) + \\color{purple}{4}(2.5 - (-1)(0)) = \\color{orange}{-16} \\color{green}{-4} \\color{purple}{+40} \\color{black}{= 20}\n",
        "\\end{equation*}"
      ],
      "metadata": {
        "id": "jNPxBj-SlgpG"
      }
    },
    {
      "cell_type": "code",
      "source": [
        "# using NumPy\n",
        "X = np.array([ [1, 2, 4], [2, -1, 3], [0, 5, 1] ])\n",
        "X"
      ],
      "metadata": {
        "id": "Ou3W-FusE1Xp",
        "colab": {
          "base_uri": "https://localhost:8080/"
        },
        "outputId": "694748db-ce1e-45ee-ed98-ed927a73ed40"
      },
      "execution_count": 71,
      "outputs": [
        {
          "output_type": "execute_result",
          "data": {
            "text/plain": [
              "array([[ 1,  2,  4],\n",
              "       [ 2, -1,  3],\n",
              "       [ 0,  5,  1]])"
            ]
          },
          "metadata": {},
          "execution_count": 71
        }
      ]
    },
    {
      "cell_type": "code",
      "source": [
        "np.linalg.det(X)"
      ],
      "metadata": {
        "colab": {
          "base_uri": "https://localhost:8080/"
        },
        "id": "p11Ao-so5SYi",
        "outputId": "d038d826-c8e7-4c8e-fee4-9d1052d2cbb4"
      },
      "execution_count": 72,
      "outputs": [
        {
          "output_type": "execute_result",
          "data": {
            "text/plain": [
              "19.999999999999996"
            ]
          },
          "metadata": {},
          "execution_count": 72
        }
      ]
    },
    {
      "cell_type": "markdown",
      "source": [
        "#### Determinants and Eigenvalues\n",
        "*  The determinant of $\\matrix{X}$ is equal to the product of all eigenvalues of $\\matrix{X}$\n",
        "*  The absolute value of the determinant of $\\matrix{X}$($|\\det\\matrix{(X)}|$) quatifies the volume change as a result of applying $\\matrix{X}$.\n",
        "  *  If $\\det{\\matrix{(X)}} = 0$, then $\\matrix{X}$ collapses space completely in at least one dimension thus eliminating all volume.\n",
        "  *  If $0 \\lt \\det{\\matrix{(X)}} \\lt 1$, then $\\matrix{X}$ contracts volume to some extent.\n",
        "  *  If $\\det{\\matrix{(X)}} = 1$, then $\\matrix{X}$ preserves the volume exactly.\n",
        "  *  If $\\det{\\matrix{(X)}} \\gt 1$, then $\\matrix{X}$ expands the volume.\n",
        "\n",
        "\n"
      ],
      "metadata": {
        "id": "n9Fo_kCJHY5d"
      }
    },
    {
      "cell_type": "code",
      "source": [
        "# example of rule : det(X) = product of eigenvalues of X\n",
        "X"
      ],
      "metadata": {
        "id": "zULmwWNK5YRg",
        "colab": {
          "base_uri": "https://localhost:8080/"
        },
        "outputId": "ae89c7d4-d499-4c68-ec34-7d47d279b5ba"
      },
      "execution_count": 73,
      "outputs": [
        {
          "output_type": "execute_result",
          "data": {
            "text/plain": [
              "array([[ 1,  2,  4],\n",
              "       [ 2, -1,  3],\n",
              "       [ 0,  5,  1]])"
            ]
          },
          "metadata": {},
          "execution_count": 73
        }
      ]
    },
    {
      "cell_type": "code",
      "source": [
        "lambdas, V = np.linalg.eig(X)\n",
        "lambdas"
      ],
      "metadata": {
        "colab": {
          "base_uri": "https://localhost:8080/"
        },
        "id": "rt8-BKrhJVU3",
        "outputId": "7f7aa32e-9bd0-4283-e634-919daf63e744"
      },
      "execution_count": 74,
      "outputs": [
        {
          "output_type": "execute_result",
          "data": {
            "text/plain": [
              "array([-3.25599251, -1.13863631,  5.39462882])"
            ]
          },
          "metadata": {},
          "execution_count": 74
        }
      ]
    },
    {
      "cell_type": "code",
      "source": [
        "np.product(lambdas)"
      ],
      "metadata": {
        "colab": {
          "base_uri": "https://localhost:8080/"
        },
        "id": "u7ykOnHeJgfH",
        "outputId": "5cd49239-5fa7-41d0-a857-7e8aba8c3c39"
      },
      "execution_count": 75,
      "outputs": [
        {
          "output_type": "execute_result",
          "data": {
            "text/plain": [
              "19.99999999999999"
            ]
          },
          "metadata": {},
          "execution_count": 75
        }
      ]
    },
    {
      "cell_type": "code",
      "source": [
        "# Calculate the absolute value of the determinate of X\n",
        "np.abs(np.product(lambdas))"
      ],
      "metadata": {
        "colab": {
          "base_uri": "https://localhost:8080/"
        },
        "id": "8RuQ9RxOJpoP",
        "outputId": "40858bdc-6791-4cbf-a904-e4950c7d1ba5"
      },
      "execution_count": 76,
      "outputs": [
        {
          "output_type": "execute_result",
          "data": {
            "text/plain": [
              "19.99999999999999"
            ]
          },
          "metadata": {},
          "execution_count": 76
        }
      ]
    },
    {
      "cell_type": "code",
      "source": [
        "B = np.array([[1, 0], [0, 1]])\n",
        "B"
      ],
      "metadata": {
        "colab": {
          "base_uri": "https://localhost:8080/"
        },
        "id": "sXISOpOcP0jI",
        "outputId": "324b0273-f694-420d-b2a4-a3b74b1a119c"
      },
      "execution_count": 77,
      "outputs": [
        {
          "output_type": "execute_result",
          "data": {
            "text/plain": [
              "array([[1, 0],\n",
              "       [0, 1]])"
            ]
          },
          "metadata": {},
          "execution_count": 77
        }
      ]
    },
    {
      "cell_type": "code",
      "source": [
        "plotVectors([vectorfy(B, 0), vectorfy(B, 1)], ['lightblue', 'lightgreen'])\n",
        "plt.xlim(-1, 3)\n",
        "plt.ylim(-1, 3)\n",
        "plt.tight_layout()\n",
        "plt.title('Plot of Basis Vectors of B')\n",
        "plt.show()"
      ],
      "metadata": {
        "colab": {
          "base_uri": "https://localhost:8080/",
          "height": 503
        },
        "id": "dCP_LU-MQYev",
        "outputId": "6f908c4c-dc42-4a17-d4bb-9e6954770df8"
      },
      "execution_count": 80,
      "outputs": [
        {
          "output_type": "display_data",
          "data": {
            "text/plain": [
              "<Figure size 640x480 with 1 Axes>"
            ],
            "image/png": "[encoded data removed]"
          },
          "metadata": {}
        }
      ]
    },
    {
      "cell_type": "code",
      "source": [
        "# Now let's apply a transformation to matrix B\n",
        "N\n"
      ],
      "metadata": {
        "colab": {
          "base_uri": "https://localhost:8080/"
        },
        "id": "ka2ZhMw3RAJX",
        "outputId": "0c994528-991a-4adf-aaaa-a9708bb501f7"
      },
      "execution_count": 81,
      "outputs": [
        {
          "output_type": "execute_result",
          "data": {
            "text/plain": [
              "array([[-4,  1],\n",
              "       [-8,  2]])"
            ]
          },
          "metadata": {},
          "execution_count": 81
        }
      ]
    },
    {
      "cell_type": "code",
      "source": [
        "np.linalg.det(N) # this is a singular matrix where the determinant is 0"
      ],
      "metadata": {
        "colab": {
          "base_uri": "https://localhost:8080/"
        },
        "id": "jcIUlJ5LRxte",
        "outputId": "a4bb50c0-1dac-4d46-ca87-0282e8d0392e"
      },
      "execution_count": 82,
      "outputs": [
        {
          "output_type": "execute_result",
          "data": {
            "text/plain": [
              "0.0"
            ]
          },
          "metadata": {},
          "execution_count": 82
        }
      ]
    },
    {
      "cell_type": "markdown",
      "source": [
        "*  If we apply the matrix N to the matrix B, because the matrix N in singular where it has no determinant and cannot be inverted, it collapses the dimensionality of the matrix down to a single dimension. Therefore, any vectors would be reduced to one dimension by the singular matrix N."
      ],
      "metadata": {
        "id": "_glF-uYhTXQe"
      }
    },
    {
      "cell_type": "code",
      "source": [
        "NB = np.dot(N, B)\n",
        "NB"
      ],
      "metadata": {
        "colab": {
          "base_uri": "https://localhost:8080/"
        },
        "id": "qIhmKiNPSCXO",
        "outputId": "5cf40cd2-489c-4b16-ad5b-99787cef5a8f"
      },
      "execution_count": 83,
      "outputs": [
        {
          "output_type": "execute_result",
          "data": {
            "text/plain": [
              "array([[-4,  1],\n",
              "       [-8,  2]])"
            ]
          },
          "metadata": {},
          "execution_count": 83
        }
      ]
    },
    {
      "cell_type": "markdown",
      "source": [
        "*  In this example if B describes the area of a square, then after the application of matrix N with a determinant of 0, there is no area described by the result. It is just a line."
      ],
      "metadata": {
        "id": "xqxyL-k3fdQN"
      }
    },
    {
      "cell_type": "code",
      "source": [
        "plotVectors([vectorfy(B, 0), vectorfy(B, 1), vectorfy(NB, 0), vectorfy(NB, 1)], ['lightblue', 'lightgreen', 'blue', 'green'])\n",
        "plt.xlim(-6, 6)\n",
        "plt.ylim(-9, 3)\n",
        "plt.suptitle('Plot of Applying matrix N to matrix B')\n",
        "plt.title('Vectors of B are reduced to a single dimension')\n",
        "plt.tight_layout()\n",
        "plt.show()"
      ],
      "metadata": {
        "colab": {
          "base_uri": "https://localhost:8080/",
          "height": 492
        },
        "id": "VPBwOzScTDy3",
        "outputId": "165a7b9c-9a42-4c43-a9c9-e1380fe725e6"
      },
      "execution_count": 96,
      "outputs": [
        {
          "output_type": "display_data",
          "data": {
            "text/plain": [
              "<Figure size 640x480 with 1 Axes>"
            ],
            "image/png": "[encoded data removed]"
          },
          "metadata": {}
        }
      ]
    },
    {
      "cell_type": "code",
      "source": [
        "# Now lets try one with an Identity Matrix this should preserve the volume exactly\n",
        "I"
      ],
      "metadata": {
        "colab": {
          "base_uri": "https://localhost:8080/"
        },
        "id": "lZTCpO1NVD_-",
        "outputId": "9a660ee4-cea5-45fd-925a-e71f064fd2e3"
      },
      "execution_count": 90,
      "outputs": [
        {
          "output_type": "execute_result",
          "data": {
            "text/plain": [
              "array([[1, 0],\n",
              "       [0, 1]])"
            ]
          },
          "metadata": {},
          "execution_count": 90
        }
      ]
    },
    {
      "cell_type": "code",
      "source": [
        "np.linalg.det(I) # determinate of 1 -> preserves the volume exactly"
      ],
      "metadata": {
        "colab": {
          "base_uri": "https://localhost:8080/"
        },
        "id": "adpOpy4ndSmf",
        "outputId": "1e45d4b0-d35b-4334-ef4c-29d39e3752af"
      },
      "execution_count": 91,
      "outputs": [
        {
          "output_type": "execute_result",
          "data": {
            "text/plain": [
              "1.0"
            ]
          },
          "metadata": {},
          "execution_count": 91
        }
      ]
    },
    {
      "cell_type": "code",
      "source": [
        "IB = np.dot(I, B)\n",
        "IB"
      ],
      "metadata": {
        "colab": {
          "base_uri": "https://localhost:8080/"
        },
        "id": "7KvwaIordaw3",
        "outputId": "f2f5af21-525d-4490-cbbf-c2b4c78ee1e0"
      },
      "execution_count": 92,
      "outputs": [
        {
          "output_type": "execute_result",
          "data": {
            "text/plain": [
              "array([[1, 0],\n",
              "       [0, 1]])"
            ]
          },
          "metadata": {},
          "execution_count": 92
        }
      ]
    },
    {
      "cell_type": "markdown",
      "source": [
        "* If we think of the basis vectors as describing a square, then the area of the square is the same before and after applying the identity matrix."
      ],
      "metadata": {
        "id": "Sl6Jk-Goe6_e"
      }
    },
    {
      "cell_type": "code",
      "source": [
        "plotVectors([vectorfy(B, 0), vectorfy(B, 1), vectorfy(IB, 0), vectorfy(IB, 1)], ['lightblue', 'lightgreen', 'blue', 'green'])\n",
        "plt.xlim(-1, 3)\n",
        "plt.ylim(-1, 3)\n",
        "plt.suptitle('Plot of Applying matrix I to matrix B')\n",
        "plt.title('Volume of B is maintained exactly')\n",
        "plt.tight_layout()\n",
        "plt.show()"
      ],
      "metadata": {
        "colab": {
          "base_uri": "https://localhost:8080/",
          "height": 492
        },
        "id": "AkHPriVrd1eo",
        "outputId": "2f5d628a-bcc5-495e-8a95-5d13350f8921"
      },
      "execution_count": 95,
      "outputs": [
        {
          "output_type": "display_data",
          "data": {
            "text/plain": [
              "<Figure size 640x480 with 1 Axes>"
            ],
            "image/png": "[encoded data removed]"
          },
          "metadata": {}
        }
      ]
    },
    {
      "cell_type": "code",
      "source": [
        "# Now let's try one with a determinant of -1\n",
        "J = np.array([[-0.5, 0], [0, 2]])\n",
        "J"
      ],
      "metadata": {
        "colab": {
          "base_uri": "https://localhost:8080/"
        },
        "id": "Gx4JMxl8eKlo",
        "outputId": "2e4412d7-eb86-4c05-e553-770e5ba24399"
      },
      "execution_count": 97,
      "outputs": [
        {
          "output_type": "execute_result",
          "data": {
            "text/plain": [
              "array([[-0.5,  0. ],\n",
              "       [ 0. ,  2. ]])"
            ]
          },
          "metadata": {},
          "execution_count": 97
        }
      ]
    },
    {
      "cell_type": "code",
      "source": [
        "np.linalg.det(J)"
      ],
      "metadata": {
        "colab": {
          "base_uri": "https://localhost:8080/"
        },
        "id": "mnbSYie2lgCf",
        "outputId": "818d932a-3d3f-499d-f5fe-ab62c8192d73"
      },
      "execution_count": 98,
      "outputs": [
        {
          "output_type": "execute_result",
          "data": {
            "text/plain": [
              "-1.0"
            ]
          },
          "metadata": {},
          "execution_count": 98
        }
      ]
    },
    {
      "cell_type": "code",
      "source": [
        "# Take the absolute value\n",
        "np.abs(np.linalg.det(J))"
      ],
      "metadata": {
        "colab": {
          "base_uri": "https://localhost:8080/"
        },
        "id": "XCYpC0SmmLlv",
        "outputId": "5ea6a707-3d2b-443b-ef79-49e11c7a4721"
      },
      "execution_count": 101,
      "outputs": [
        {
          "output_type": "execute_result",
          "data": {
            "text/plain": [
              "1.0"
            ]
          },
          "metadata": {},
          "execution_count": 101
        }
      ]
    },
    {
      "cell_type": "code",
      "source": [
        "JB = np.dot(J, B)\n",
        "JB"
      ],
      "metadata": {
        "colab": {
          "base_uri": "https://localhost:8080/"
        },
        "id": "tDTG6p6klke4",
        "outputId": "fc73a9ee-80a5-4175-922b-2a789f6c773a"
      },
      "execution_count": 99,
      "outputs": [
        {
          "output_type": "execute_result",
          "data": {
            "text/plain": [
              "array([[-0.5,  0. ],\n",
              "       [ 0. ,  2. ]])"
            ]
          },
          "metadata": {},
          "execution_count": 99
        }
      ]
    },
    {
      "cell_type": "markdown",
      "source": [
        "*  The overall area described by B is constant even though the shape is transformed.\n",
        "*  The absolute value of the determinant of  X ( |det(X)| ) quatifies the volume change as a result of applying  X:\n",
        "  *  If  det(X)=1 , then  X  preserves the volume exactly."
      ],
      "metadata": {
        "id": "8-NAXldlm4a3"
      }
    },
    {
      "cell_type": "code",
      "source": [
        "plotVectors([vectorfy(B, 0), vectorfy(B, 1), vectorfy(JB, 0), vectorfy(JB, 1)], ['lightblue', 'lightgreen', 'blue', 'green'])\n",
        "plt.xlim(-1, 3)\n",
        "plt.ylim(-1, 3)\n",
        "plt.suptitle('Plot of Applying matrix J to matrix B')\n",
        "plt.title('The overall area is constant but the shape is transformed')\n",
        "plt.tight_layout()\n",
        "plt.show()"
      ],
      "metadata": {
        "colab": {
          "base_uri": "https://localhost:8080/",
          "height": 492
        },
        "id": "mUh3hRK_ltN3",
        "outputId": "d52b3d9e-6190-4b39-ccaa-2c42873ff23e"
      },
      "execution_count": 102,
      "outputs": [
        {
          "output_type": "display_data",
          "data": {
            "text/plain": [
              "<Figure size 640x480 with 1 Axes>"
            ],
            "image/png": "[encoded data removed]"
          },
          "metadata": {}
        }
      ]
    },
    {
      "cell_type": "markdown",
      "source": [
        "* If  det(X)>1 , then  X  expands the volume. We double I and check the result."
      ],
      "metadata": {
        "id": "cMUvLa-gokrO"
      }
    },
    {
      "cell_type": "code",
      "source": [
        "# Now we can double the values in the identity matrix and apply this matrix to matrix B\n",
        "dbl_I = I*2\n",
        "dbl_I"
      ],
      "metadata": {
        "colab": {
          "base_uri": "https://localhost:8080/"
        },
        "id": "0pCTjrtkl5SP",
        "outputId": "af1a26fc-c1d3-45a3-803c-ee7cdd6b71fd"
      },
      "execution_count": 103,
      "outputs": [
        {
          "output_type": "execute_result",
          "data": {
            "text/plain": [
              "array([[2, 0],\n",
              "       [0, 2]])"
            ]
          },
          "metadata": {},
          "execution_count": 103
        }
      ]
    },
    {
      "cell_type": "code",
      "source": [
        "np.linalg.det(dbl_I)"
      ],
      "metadata": {
        "colab": {
          "base_uri": "https://localhost:8080/"
        },
        "id": "P7_KX8FOoBon",
        "outputId": "555f5f38-dea6-4e00-b813-a048f0b65f95"
      },
      "execution_count": 104,
      "outputs": [
        {
          "output_type": "execute_result",
          "data": {
            "text/plain": [
              "4.0"
            ]
          },
          "metadata": {},
          "execution_count": 104
        }
      ]
    },
    {
      "cell_type": "code",
      "source": [
        "dbl_IB = np.dot(dbl_I, B)\n",
        "dbl_IB"
      ],
      "metadata": {
        "colab": {
          "base_uri": "https://localhost:8080/"
        },
        "id": "wtr6KC56oOSf",
        "outputId": "c1c8a50f-1760-496e-cfc3-fcb704848dd9"
      },
      "execution_count": 105,
      "outputs": [
        {
          "output_type": "execute_result",
          "data": {
            "text/plain": [
              "array([[2, 0],\n",
              "       [0, 2]])"
            ]
          },
          "metadata": {},
          "execution_count": 105
        }
      ]
    },
    {
      "cell_type": "code",
      "source": [
        "plotVectors([vectorfy(B, 0), vectorfy(B, 1), vectorfy(dbl_IB, 0), vectorfy(dbl_IB, 1)], ['lightblue', 'lightgreen', 'blue', 'green'])\n",
        "plt.xlim(-1, 3)\n",
        "plt.ylim(-1, 3)\n",
        "plt.suptitle('Plot of Applying matrix dbl_I to matrix B')\n",
        "plt.title('The area is quadroupled (from 1 to 4) but the shape is unchanged ')\n",
        "plt.tight_layout()\n",
        "plt.show()"
      ],
      "metadata": {
        "colab": {
          "base_uri": "https://localhost:8080/",
          "height": 492
        },
        "id": "y0WztIrhodDY",
        "outputId": "0dcbb71a-a4f2-4968-aa0d-d9692e3e1dad"
      },
      "execution_count": 107,
      "outputs": [
        {
          "output_type": "display_data",
          "data": {
            "text/plain": [
              "<Figure size 640x480 with 1 Axes>"
            ],
            "image/png": "[encoded data removed]"
          },
          "metadata": {}
        }
      ]
    },
    {
      "cell_type": "code",
      "source": [],
      "metadata": {
        "id": "O6u14vZTo-94"
      },
      "execution_count": null,
      "outputs": []
    }
  ]
}