{
  "nbformat": 4,
  "nbformat_minor": 0,
  "metadata": {
    "colab": {
      "provenance": [],
      "authorship_tag": "ABX9TyMEhm7IIq03kxG+f7eRB3TJ",
      "include_colab_link": true
    },
    "kernelspec": {
      "name": "python3",
      "display_name": "Python 3"
    },
    "language_info": {
      "name": "python"
    }
  },
  "cells": [
    {
      "cell_type": "markdown",
      "metadata": {
        "id": "view-in-github",
        "colab_type": "text"
      },
      "source": [
        "<a href=\"https://colab.research.google.com/github/k3robotics/ML-Essentials/blob/main/IntroToLinAlg/IntroToLinAlg.ipynb\" target=\"_parent\"><img src=\"https://colab.research.google.com/assets/colab-badge.svg\" alt=\"Open In Colab\"/></a>"
      ]
    },
    {
      "cell_type": "markdown",
      "source": [
        "###*Machine Learning Foundations* - Intro to Linear Algebra"
      ],
      "metadata": {
        "id": "amh3_13jAM3S"
      }
    },
    {
      "cell_type": "markdown",
      "source": [
        "####Data Structures for Algebra"
      ],
      "metadata": {
        "id": "NoeFK6h2DLEq"
      }
    },
    {
      "cell_type": "markdown",
      "source": [
        "Scalars (Rank 0 Tensors) in Base Python"
      ],
      "metadata": {
        "id": "m-pHF645DaUa"
      }
    },
    {
      "cell_type": "code",
      "source": [
        "x = 25\n",
        "x"
      ],
      "metadata": {
        "id": "vN6wI55gAUyK",
        "colab": {
          "base_uri": "https://localhost:8080/"
        },
        "outputId": "35a824ee-2240-4763-be3c-6d28ae86e89c"
      },
      "execution_count": 2,
      "outputs": [
        {
          "output_type": "execute_result",
          "data": {
            "text/plain": [
              "25"
            ]
          },
          "metadata": {},
          "execution_count": 2
        }
      ]
    },
    {
      "cell_type": "code",
      "source": [
        "type(x) # if more specificity is needed (i.e., int16, unint8), use Numpy"
      ],
      "metadata": {
        "colab": {
          "base_uri": "https://localhost:8080/"
        },
        "id": "NTWZNogWDlgk",
        "outputId": "574bbd78-2a62-4e3e-8671-9c9ea03efbc3"
      },
      "execution_count": 3,
      "outputs": [
        {
          "output_type": "execute_result",
          "data": {
            "text/plain": [
              "int"
            ]
          },
          "metadata": {},
          "execution_count": 3
        }
      ]
    },
    {
      "cell_type": "code",
      "source": [
        "y = 3"
      ],
      "metadata": {
        "id": "zeM2fVajD77K"
      },
      "execution_count": 4,
      "outputs": []
    },
    {
      "cell_type": "code",
      "source": [
        "# If you add an int and an int you get a type int as the result\n",
        "py_sum = x + y\n",
        "py_sum"
      ],
      "metadata": {
        "colab": {
          "base_uri": "https://localhost:8080/"
        },
        "id": "uOAp_bneEAaq",
        "outputId": "4a6bd6e6-5c15-419f-c28e-27843db9d56c"
      },
      "execution_count": 5,
      "outputs": [
        {
          "output_type": "execute_result",
          "data": {
            "text/plain": [
              "28"
            ]
          },
          "metadata": {},
          "execution_count": 5
        }
      ]
    },
    {
      "cell_type": "code",
      "source": [
        "type(py_sum)"
      ],
      "metadata": {
        "colab": {
          "base_uri": "https://localhost:8080/"
        },
        "id": "8CUkAKGlK95t",
        "outputId": "c07adc35-2c2d-473f-e2fe-f145a2fa0a62"
      },
      "execution_count": 6,
      "outputs": [
        {
          "output_type": "execute_result",
          "data": {
            "text/plain": [
              "int"
            ]
          },
          "metadata": {},
          "execution_count": 6
        }
      ]
    },
    {
      "cell_type": "code",
      "source": [
        "# If you add a float and an int you get a type float as the result\n",
        "x_float = 25.0\n",
        "float_sum = x_float + y\n",
        "float_sum"
      ],
      "metadata": {
        "colab": {
          "base_uri": "https://localhost:8080/"
        },
        "id": "Ly9kgRtrLCtM",
        "outputId": "dd0e56a4-9957-4a86-eb29-6b9fa58103c7"
      },
      "execution_count": 7,
      "outputs": [
        {
          "output_type": "execute_result",
          "data": {
            "text/plain": [
              "28.0"
            ]
          },
          "metadata": {},
          "execution_count": 7
        }
      ]
    },
    {
      "cell_type": "code",
      "source": [
        "type(float_sum)"
      ],
      "metadata": {
        "colab": {
          "base_uri": "https://localhost:8080/"
        },
        "id": "5vQjZTPuMMLF",
        "outputId": "f522e903-5469-4309-d7b6-5dbc04bc8755"
      },
      "execution_count": 8,
      "outputs": [
        {
          "output_type": "execute_result",
          "data": {
            "text/plain": [
              "float"
            ]
          },
          "metadata": {},
          "execution_count": 8
        }
      ]
    },
    {
      "cell_type": "markdown",
      "source": [
        "###Scalars in PyTorch\n",
        "\n",
        "*  PyTorch and Tensorflow are the two most popular *automatic differentiation libraries* in Python. Python, of couse, is the most popular programming language in Machine Learning (ML).\n",
        "\n",
        "*  PyTorch tensors are designed to be pythonic, i.e., to feel and behave like NumPy arrays.\n",
        "\n",
        "*  The advantage of PyTorch tensors relative to Numpy arrays is that they can be easily used for operations on GPUs."
      ],
      "metadata": {
        "id": "ubNd8GUwN5wc"
      }
    },
    {
      "cell_type": "code",
      "source": [
        "import torch"
      ],
      "metadata": {
        "id": "zvp4w9weMQkM"
      },
      "execution_count": 9,
      "outputs": []
    },
    {
      "cell_type": "code",
      "source": [
        "x_pt = torch.tensor(25) # type specification optional -> torch.tensor(25, dtype=torch.float16)\n",
        "x_pt"
      ],
      "metadata": {
        "colab": {
          "base_uri": "https://localhost:8080/"
        },
        "id": "zzbAX6akPmj9",
        "outputId": "f5703d3a-fa43-4691-d8d6-f27db3a5cddb"
      },
      "execution_count": 10,
      "outputs": [
        {
          "output_type": "execute_result",
          "data": {
            "text/plain": [
              "tensor(25)"
            ]
          },
          "metadata": {},
          "execution_count": 10
        }
      ]
    },
    {
      "cell_type": "code",
      "source": [
        "x_pt.shape # 0 dimensions"
      ],
      "metadata": {
        "colab": {
          "base_uri": "https://localhost:8080/"
        },
        "id": "wc37R_0WT-63",
        "outputId": "8d3557ef-ec91-439b-ec76-4f2f87ba7810"
      },
      "execution_count": 11,
      "outputs": [
        {
          "output_type": "execute_result",
          "data": {
            "text/plain": [
              "torch.Size([])"
            ]
          },
          "metadata": {},
          "execution_count": 11
        }
      ]
    },
    {
      "cell_type": "markdown",
      "source": [
        "#### Scalars in TensorFlow (v2.0 or later)\n",
        "\n",
        "Tensors created with a wrapper\n",
        "\n",
        "  *  `tf.Variable`\n",
        "  *  `tf.constant`\n",
        "  *  `tf.placeholder`\n",
        "  *  `tf.SparseTensor`\n",
        "\n",
        "The most commonly used is `tf.Variable`.\n",
        "\n",
        "Along with TF tensors, in PyTorch we can also perform operations and convert to and from NumPy arrays."
      ],
      "metadata": {
        "id": "wqgKifGjbUFG"
      }
    },
    {
      "cell_type": "code",
      "source": [
        "import tensorflow as tf"
      ],
      "metadata": {
        "id": "tJJjUGhCUMdu"
      },
      "execution_count": 12,
      "outputs": []
    },
    {
      "cell_type": "code",
      "source": [
        "x_tf = tf.Variable(25, dtype=tf.int16) # dtype is optional\n",
        "x_tf"
      ],
      "metadata": {
        "colab": {
          "base_uri": "https://localhost:8080/"
        },
        "id": "WRTGnI8kcabI",
        "outputId": "c0e2b2c9-a306-47dc-df46-d42bae22303c"
      },
      "execution_count": 13,
      "outputs": [
        {
          "output_type": "execute_result",
          "data": {
            "text/plain": [
              "<tf.Variable 'Variable:0' shape=() dtype=int16, numpy=25>"
            ]
          },
          "metadata": {},
          "execution_count": 13
        }
      ]
    },
    {
      "cell_type": "code",
      "source": [
        "x_tf.shape"
      ],
      "metadata": {
        "colab": {
          "base_uri": "https://localhost:8080/"
        },
        "id": "fHE_T6-Kco1_",
        "outputId": "4efff5fe-27ca-490e-dbc8-a31f691c3c04"
      },
      "execution_count": 14,
      "outputs": [
        {
          "output_type": "execute_result",
          "data": {
            "text/plain": [
              "TensorShape([])"
            ]
          },
          "metadata": {},
          "execution_count": 14
        }
      ]
    },
    {
      "cell_type": "code",
      "source": [
        "y_tf = tf.Variable(3, dtype=tf.int16)"
      ],
      "metadata": {
        "id": "rwnqeJVHc1hH"
      },
      "execution_count": 15,
      "outputs": []
    },
    {
      "cell_type": "code",
      "source": [
        "x_tf + y_tf # operator overload - being able to use base python `+` to add two tf tensors also(Numpy, PyTorch)"
      ],
      "metadata": {
        "colab": {
          "base_uri": "https://localhost:8080/"
        },
        "id": "6UAlnMLmc9Q4",
        "outputId": "9263d47f-de48-4ab5-91c3-a46520468d59"
      },
      "execution_count": 16,
      "outputs": [
        {
          "output_type": "execute_result",
          "data": {
            "text/plain": [
              "<tf.Tensor: shape=(), dtype=int16, numpy=28>"
            ]
          },
          "metadata": {},
          "execution_count": 16
        }
      ]
    },
    {
      "cell_type": "code",
      "source": [
        "tf_sum = tf.add(x_tf, y_tf)\n",
        "tf_sum"
      ],
      "metadata": {
        "colab": {
          "base_uri": "https://localhost:8080/"
        },
        "id": "fTnRhLNDdWiH",
        "outputId": "08f55993-f2a2-4eb6-c120-f23c213b236c"
      },
      "execution_count": 17,
      "outputs": [
        {
          "output_type": "execute_result",
          "data": {
            "text/plain": [
              "<tf.Tensor: shape=(), dtype=int16, numpy=28>"
            ]
          },
          "metadata": {},
          "execution_count": 17
        }
      ]
    },
    {
      "cell_type": "code",
      "source": [
        "tf_sum.numpy() # Numpy operations automatically convert tensors to NumPy arrays and vice versa."
      ],
      "metadata": {
        "colab": {
          "base_uri": "https://localhost:8080/"
        },
        "id": "Ex3yAUXidhfO",
        "outputId": "7ffa2dad-0fa2-43b0-9ec5-cbb341180900"
      },
      "execution_count": 18,
      "outputs": [
        {
          "output_type": "execute_result",
          "data": {
            "text/plain": [
              "28"
            ]
          },
          "metadata": {},
          "execution_count": 18
        }
      ]
    },
    {
      "cell_type": "code",
      "source": [
        "type(tf_sum.numpy())"
      ],
      "metadata": {
        "colab": {
          "base_uri": "https://localhost:8080/"
        },
        "id": "L0CKlCZeeEGB",
        "outputId": "6690c70d-2407-4101-94bf-d3061f0fb274"
      },
      "execution_count": 19,
      "outputs": [
        {
          "output_type": "execute_result",
          "data": {
            "text/plain": [
              "numpy.int16"
            ]
          },
          "metadata": {},
          "execution_count": 19
        }
      ]
    },
    {
      "cell_type": "code",
      "source": [
        "tf_float = tf.Variable(25, dtype=tf.float16)\n",
        "tf_float"
      ],
      "metadata": {
        "colab": {
          "base_uri": "https://localhost:8080/"
        },
        "id": "-IdV4C6ZeJZA",
        "outputId": "367729e6-9d53-4b5e-86bb-43c48932ecab"
      },
      "execution_count": 20,
      "outputs": [
        {
          "output_type": "execute_result",
          "data": {
            "text/plain": [
              "<tf.Variable 'Variable:0' shape=() dtype=float16, numpy=25.0>"
            ]
          },
          "metadata": {},
          "execution_count": 20
        }
      ]
    },
    {
      "cell_type": "markdown",
      "source": [
        "#### Vectors\n",
        "*  One dimensional array of numbers\n",
        "*  Denoted in lowercase, italics, bold, e.g.: **x**\n",
        "*  Vector elements are arranged in an order, so an element can be accessed by its` index.\n",
        "  *  The elements of the vector are scalars, not bold, such as $x_{2}$\n",
        "*  A vector represents a point in space:\n",
        "  *  A vector of length two represents a location in a 2D matrix. Example: $[x_{1}\\ \\ x_{2}] = [12\\ \\ 4]$\n",
        "\n",
        "      ![2DVector.png](data:image/png;base64,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)\n",
        "\n",
        "  *  A vector with length three represents a location in a 3D cube.\n",
        "  *  A vector with length n represents a location in a n-dimensional tensor."
      ],
      "metadata": {
        "id": "8az6wAEpQ9dX"
      }
    },
    {
      "cell_type": "markdown",
      "source": [
        "#### Vectors (Rank 1 Tensors) in NumPy"
      ],
      "metadata": {
        "id": "z81lEwQxZSZ_"
      }
    },
    {
      "cell_type": "code",
      "source": [
        "import numpy as np"
      ],
      "metadata": {
        "id": "TJjAuS9CevIg"
      },
      "execution_count": 21,
      "outputs": []
    },
    {
      "cell_type": "markdown",
      "source": [
        "* Note: We need numpy or some other numerical library such as tensor flow or pytorch because we cannot create arrays in base python."
      ],
      "metadata": {
        "id": "Gv4FgFjCaNIX"
      }
    },
    {
      "cell_type": "code",
      "source": [
        "x = np.array([25, 2, 5]) # dtype is optional dtype=np.float16\n",
        "x"
      ],
      "metadata": {
        "colab": {
          "base_uri": "https://localhost:8080/"
        },
        "id": "-xTeC2gMZgKw",
        "outputId": "a48696d7-59d9-40fd-fb1b-4314a5124721"
      },
      "execution_count": 22,
      "outputs": [
        {
          "output_type": "execute_result",
          "data": {
            "text/plain": [
              "array([25,  2,  5])"
            ]
          },
          "metadata": {},
          "execution_count": 22
        }
      ]
    },
    {
      "cell_type": "code",
      "source": [
        "len(x)"
      ],
      "metadata": {
        "colab": {
          "base_uri": "https://localhost:8080/"
        },
        "id": "sr-1i_-UZyQ9",
        "outputId": "53f75d7e-8dad-484a-ceea-d91a3acfb616"
      },
      "execution_count": 23,
      "outputs": [
        {
          "output_type": "execute_result",
          "data": {
            "text/plain": [
              "3"
            ]
          },
          "metadata": {},
          "execution_count": 23
        }
      ]
    },
    {
      "cell_type": "code",
      "source": [
        "x.shape"
      ],
      "metadata": {
        "colab": {
          "base_uri": "https://localhost:8080/"
        },
        "id": "_2EM_zhsZ0nX",
        "outputId": "8a10346b-3785-4b8a-e6fb-8fd3932160bd"
      },
      "execution_count": 24,
      "outputs": [
        {
          "output_type": "execute_result",
          "data": {
            "text/plain": [
              "(3,)"
            ]
          },
          "metadata": {},
          "execution_count": 24
        }
      ]
    },
    {
      "cell_type": "code",
      "source": [
        "type(x)"
      ],
      "metadata": {
        "colab": {
          "base_uri": "https://localhost:8080/"
        },
        "id": "NHpwoLGXZ5uJ",
        "outputId": "c9481e89-a8ac-4816-876e-0f0056422d1e"
      },
      "execution_count": 25,
      "outputs": [
        {
          "output_type": "execute_result",
          "data": {
            "text/plain": [
              "numpy.ndarray"
            ]
          },
          "metadata": {},
          "execution_count": 25
        }
      ]
    },
    {
      "cell_type": "code",
      "source": [
        "x[0]"
      ],
      "metadata": {
        "colab": {
          "base_uri": "https://localhost:8080/"
        },
        "id": "Q5-sjZ1XdBG3",
        "outputId": "001b74f0-f35c-4256-93e8-fe3a7e3d7a52"
      },
      "execution_count": 26,
      "outputs": [
        {
          "output_type": "execute_result",
          "data": {
            "text/plain": [
              "25"
            ]
          },
          "metadata": {},
          "execution_count": 26
        }
      ]
    },
    {
      "cell_type": "code",
      "source": [
        "type(x[0])"
      ],
      "metadata": {
        "colab": {
          "base_uri": "https://localhost:8080/"
        },
        "id": "UByF3XfddDmv",
        "outputId": "6576fd36-422e-444b-e2ef-e02930bac20b"
      },
      "execution_count": 27,
      "outputs": [
        {
          "output_type": "execute_result",
          "data": {
            "text/plain": [
              "numpy.int64"
            ]
          },
          "metadata": {},
          "execution_count": 27
        }
      ]
    },
    {
      "cell_type": "markdown",
      "source": [
        "#### Vector Transposition"
      ],
      "metadata": {
        "id": "RTPMNlNogBLn"
      }
    },
    {
      "cell_type": "code",
      "source": [
        "# Transposing a regular 1-D array has no effect.\n",
        "x_t = x.T\n",
        "x_t"
      ],
      "metadata": {
        "colab": {
          "base_uri": "https://localhost:8080/"
        },
        "id": "u67kGkS1dG_f",
        "outputId": "810fa570-32eb-4d06-e53d-4d788f1c12a8"
      },
      "execution_count": 28,
      "outputs": [
        {
          "output_type": "execute_result",
          "data": {
            "text/plain": [
              "array([25,  2,  5])"
            ]
          },
          "metadata": {},
          "execution_count": 28
        }
      ]
    },
    {
      "cell_type": "code",
      "source": [
        "x_t.shape"
      ],
      "metadata": {
        "colab": {
          "base_uri": "https://localhost:8080/"
        },
        "id": "8wlk40uCgT9R",
        "outputId": "eff29bb9-e2f5-4ebd-c9a7-33de2760a2c6"
      },
      "execution_count": 29,
      "outputs": [
        {
          "output_type": "execute_result",
          "data": {
            "text/plain": [
              "(3,)"
            ]
          },
          "metadata": {},
          "execution_count": 29
        }
      ]
    },
    {
      "cell_type": "code",
      "source": [
        "# There is a change when we use the nested \"matrix-style\" brackets:\n",
        "# This gives us an extra dimension. Like working with a matrix.\n",
        "y = np.array([[25, 2, 5]])\n",
        "y"
      ],
      "metadata": {
        "colab": {
          "base_uri": "https://localhost:8080/"
        },
        "id": "gu844lEJjv3g",
        "outputId": "b5327dc3-9020-4a6a-a695-f03fc7e66b23"
      },
      "execution_count": 30,
      "outputs": [
        {
          "output_type": "execute_result",
          "data": {
            "text/plain": [
              "array([[25,  2,  5]])"
            ]
          },
          "metadata": {},
          "execution_count": 30
        }
      ]
    },
    {
      "cell_type": "code",
      "source": [
        "y.shape"
      ],
      "metadata": {
        "colab": {
          "base_uri": "https://localhost:8080/"
        },
        "id": "OOkAn0SNkEHI",
        "outputId": "84f5e1ad-bcf4-4c58-84dd-0322c51960cc"
      },
      "execution_count": 31,
      "outputs": [
        {
          "output_type": "execute_result",
          "data": {
            "text/plain": [
              "(1, 3)"
            ]
          },
          "metadata": {},
          "execution_count": 31
        }
      ]
    },
    {
      "cell_type": "code",
      "source": [
        "# We can transpose a matrix with a dimensional length 1.\n",
        "# Now it is a column vector.\n",
        "y_t = y.T\n",
        "y_t"
      ],
      "metadata": {
        "colab": {
          "base_uri": "https://localhost:8080/"
        },
        "id": "o687_VZukIN4",
        "outputId": "596092de-55c2-4933-9d5e-3e67b2a482fe"
      },
      "execution_count": 32,
      "outputs": [
        {
          "output_type": "execute_result",
          "data": {
            "text/plain": [
              "array([[25],\n",
              "       [ 2],\n",
              "       [ 5]])"
            ]
          },
          "metadata": {},
          "execution_count": 32
        }
      ]
    },
    {
      "cell_type": "code",
      "source": [
        "y_t.shape # This is now a column vector with 3 rows and 1 column"
      ],
      "metadata": {
        "colab": {
          "base_uri": "https://localhost:8080/"
        },
        "id": "-4384aR1kg-v",
        "outputId": "2a9c0fbc-3623-4dc3-fd5b-ad12cfb2aebf"
      },
      "execution_count": 33,
      "outputs": [
        {
          "output_type": "execute_result",
          "data": {
            "text/plain": [
              "(3, 1)"
            ]
          },
          "metadata": {},
          "execution_count": 33
        }
      ]
    },
    {
      "cell_type": "code",
      "source": [
        "# Transpose back to a row vector.\n",
        "y_t.T"
      ],
      "metadata": {
        "colab": {
          "base_uri": "https://localhost:8080/"
        },
        "id": "nWCm1c6_mbzz",
        "outputId": "9fb73940-b1f8-4ee7-b029-79af4fca14fc"
      },
      "execution_count": 34,
      "outputs": [
        {
          "output_type": "execute_result",
          "data": {
            "text/plain": [
              "array([[25,  2,  5]])"
            ]
          },
          "metadata": {},
          "execution_count": 34
        }
      ]
    },
    {
      "cell_type": "code",
      "source": [
        "y_t.T.shape"
      ],
      "metadata": {
        "colab": {
          "base_uri": "https://localhost:8080/"
        },
        "id": "rmrw_3B4mihw",
        "outputId": "3f9429bb-fdef-4c8c-f4ed-9a6d0051ad1f"
      },
      "execution_count": 35,
      "outputs": [
        {
          "output_type": "execute_result",
          "data": {
            "text/plain": [
              "(1, 3)"
            ]
          },
          "metadata": {},
          "execution_count": 35
        }
      ]
    },
    {
      "cell_type": "markdown",
      "source": [
        "#### Zero Vectors\n",
        "Zero vectors have no effect if added to another vector"
      ],
      "metadata": {
        "id": "ZVc-iMZVn1X_"
      }
    },
    {
      "cell_type": "code",
      "source": [
        "z = np.zeros(3)\n",
        "z"
      ],
      "metadata": {
        "colab": {
          "base_uri": "https://localhost:8080/"
        },
        "id": "IENL-7mHmpMf",
        "outputId": "7b8f35af-87bc-43f8-eddc-8aaf71e93088"
      },
      "execution_count": 36,
      "outputs": [
        {
          "output_type": "execute_result",
          "data": {
            "text/plain": [
              "array([0., 0., 0.])"
            ]
          },
          "metadata": {},
          "execution_count": 36
        }
      ]
    },
    {
      "cell_type": "markdown",
      "source": [
        "#### Vectors in PyTorch and TensorFlow"
      ],
      "metadata": {
        "id": "ASeDvRtQoJfo"
      }
    },
    {
      "cell_type": "code",
      "source": [
        "x_pt = torch.tensor([25, 2, 5])\n",
        "x_pt"
      ],
      "metadata": {
        "colab": {
          "base_uri": "https://localhost:8080/"
        },
        "id": "PmDO9I_LoD1n",
        "outputId": "acaeb2c1-bfb4-44e7-8d13-c50b47f7241c"
      },
      "execution_count": 37,
      "outputs": [
        {
          "output_type": "execute_result",
          "data": {
            "text/plain": [
              "tensor([25,  2,  5])"
            ]
          },
          "metadata": {},
          "execution_count": 37
        }
      ]
    },
    {
      "cell_type": "code",
      "source": [
        "x_tf = tf.Variable([25, 2, 5])\n",
        "x_tf"
      ],
      "metadata": {
        "colab": {
          "base_uri": "https://localhost:8080/"
        },
        "id": "IhIJnJ1OoYFI",
        "outputId": "faae6d19-8d57-4f47-da9e-1ea90585791b"
      },
      "execution_count": 38,
      "outputs": [
        {
          "output_type": "execute_result",
          "data": {
            "text/plain": [
              "<tf.Variable 'Variable:0' shape=(3,) dtype=int32, numpy=array([25,  2,  5], dtype=int32)>"
            ]
          },
          "metadata": {},
          "execution_count": 38
        }
      ]
    },
    {
      "cell_type": "markdown",
      "source": [
        "#### Norms\n",
        "*  Vectors represent a magnitude and direction from the origin.\n",
        "*  **Norms** are functions that quantify vector magnitude.\n",
        "* The most common norm is the $L^2$ Norm (Euclidean norm).  \n",
        "\n",
        "\\begin{equation*}\n",
        "\\|\\mathbf{x}\\|_2 = \\sqrt{\\sum_{i}\\space x_i^2}\n",
        "\\end{equation*}\n",
        "\n",
        "*  This measures the simple Euclidean distance from the origin.\n",
        "*  This is the most common norm in Machine Learning. Can be expressed as $\\|\\mathbf{x}\\|$"
      ],
      "metadata": {
        "id": "5WXFQTXFCU-P"
      }
    },
    {
      "cell_type": "markdown",
      "source": [
        "##### $\\|\\mathbf{x}\\|_2$ Norm"
      ],
      "metadata": {
        "id": "iHTFjoegMKIP"
      }
    },
    {
      "cell_type": "code",
      "source": [
        "x"
      ],
      "metadata": {
        "colab": {
          "base_uri": "https://localhost:8080/"
        },
        "id": "HXkW2VvcMBk3",
        "outputId": "8e152366-10aa-4a7e-c10c-89508e5d5554"
      },
      "execution_count": 39,
      "outputs": [
        {
          "output_type": "execute_result",
          "data": {
            "text/plain": [
              "array([25,  2,  5])"
            ]
          },
          "metadata": {},
          "execution_count": 39
        }
      ]
    },
    {
      "cell_type": "code",
      "source": [
        "# Claculate the $L^2$ Norm\n",
        "(25**2 + 2**2 + 5**2)**(1/2)"
      ],
      "metadata": {
        "colab": {
          "base_uri": "https://localhost:8080/"
        },
        "id": "ILbLydnWMqRQ",
        "outputId": "1da7549c-155d-4bfe-957d-a057f27d2fe0"
      },
      "execution_count": 40,
      "outputs": [
        {
          "output_type": "execute_result",
          "data": {
            "text/plain": [
              "25.573423705088842"
            ]
          },
          "metadata": {},
          "execution_count": 40
        }
      ]
    },
    {
      "cell_type": "code",
      "source": [
        "np.linalg.norm(x)"
      ],
      "metadata": {
        "colab": {
          "base_uri": "https://localhost:8080/"
        },
        "id": "NOL3VAo-NCN3",
        "outputId": "98572ff0-36b6-464b-87ae-a962adc55e2e"
      },
      "execution_count": 41,
      "outputs": [
        {
          "output_type": "execute_result",
          "data": {
            "text/plain": [
              "25.573423705088842"
            ]
          },
          "metadata": {},
          "execution_count": 41
        }
      ]
    },
    {
      "cell_type": "markdown",
      "source": [
        "Therefore, if the units in this 3-dimensional vector space are meters, then the vector **x** has a length of 25.6 meters."
      ],
      "metadata": {
        "id": "fVEkn_EfNZdG"
      }
    },
    {
      "cell_type": "markdown",
      "source": [
        "#### Unit Vectors\n",
        "*  Unit vectors are a special case of a vector where its length is equal to one.\n",
        "*  Therefore, **x** is a unit vector with \"unit norm\" if $\\|\\mathbf{x}\\| = 1$\n",
        "\n",
        " ![UnitVector.png](data:image/png;base64,iVBORw0KGgoAAAANSUhEUgAAAREAAADNCAYAAACfH0RuAAAAAXNSR0IArs4c6QAAAARnQU1BAACxjwv8YQUAAAAJcEhZcwAADsEAAA7BAbiRa+0AAABhaVRYdFNuaXBNZXRhZGF0YQAAAAAAeyJjbGlwUG9pbnRzIjpbeyJ4IjowLCJ5IjowfSx7IngiOjY4NCwieSI6MH0seyJ4Ijo2ODQsInkiOjUxM30seyJ4IjowLCJ5Ijo1MTN9XX258hObAABxDElEQVR4Xu3dedBe1X0n+PNqYRE7YjG7jcGAMIaOYzCOsfEWu+y03XEWp7sTu5M4cZbOTFUmVZmev6Zmuirzx/yTqqmazPTEScemHdyAKTDxQiDGdmwTDDbYIBYbJEBCAiMJSWhf5n6u3698uNznZXkFWt7zrTq6955zfvvv/O6593neR1MrV67c/cwzz5QNGzaUQw45pJx55pnluOOOKw0HHx566KFy2mmnlUWLFk33NDS8dOzevbs89dRT5Sc/+UnZvHlzmVqxYsXuo446qmgNBzdaEWl4JTDv1FNPbQWkoaHhZWPe9LGhoaHhZWGqe77ZPX3ecJBj0uPMmjVryrZt28rU1NR0z3MhRRYuXFgWL1483dPQ8DO0IjKHMFZEhP+rX/1q/2JdoRjC+M6dO/sCcuWVV073NjT8DO1xZo7D7sMb9vXr1xef0jmmbdq0qWzfvr1s3bq1bw0NY2g7kTmESY8zS5cu7YuEgjJv3rz+Rftjjz1Wli9fXg477LC+mLztbW8r55xzzjRFQ8PP0IrIHMKL/YhXQbntttv6nYldyoUXXlje/OY3T482NDwX7XGm4TnYuHFjufXWW8vTTz9dtmzZUs4999xWQBpmRCsiDXuwY8eOcvvtt5d169aVXbt29d9evuyyy6ZHGxrG0YpIQw9PtXfeeWf/dWYFxJ8+XH755f07koaGmdAypKHH3XffXR5++OH+5aoC8p73vKf/W6qGhhdCKyJzHHYg9913X7n//vvL/Pnz+yJy3nnn9e9DvBdZuXJlWbVqVX/0hbSGhiHapzNzCGOfzviS2U033VQWLFjQFxCFREta+KKZc48173rXu8oxxxzT9zc0BG0nMsfhZaqPcn0qo6B4qepPvNNc+1q88YaGMbSdyBzC2E7EI4r+Og3sSCB9jt6PnH322aNfjW+Y22hFZA7hxX7ZrKHhpaA9zjQ8D2vXru2/9t7Q8GLQikjD8+DTmBUrVkxfNTTMjFZEGp4DXzR78skn+5esPuZtaHghtCLS8Bz4FEbz0a5PZRoaXgitiDQ8Bz7W9YmN74qsXr16urehYTJaEWl4Dh5//PH+I14f6SoifpSooWEmtCLSsAe+eOar7r4L4husfozIJzUNDTOhFZGGPfAo431IvgKvtUeahhdCKyINe/DjH/+4343kz/8PPfTQ/vGmfR+xYSa0ItKwBz7ePeKII/qj5putHm0UloaGSWhfe59DeKGvvUsF70T8PKLicemllxb/Q2L+lqahYQxtJ9KwB4rFkUce2X9HxMe8fum9FZCGF0IrIg3PgQKSl6oeaRoaXgitiDQ0NMwKrYg0NDTMCq2INDQ0zAqtiDQ0NLxk+AtvPxnhv2BtRaShoeEF4SW73+JdtmxZueeee/qvC/jvVk855ZRWRBoaGsbhjy/9KcQDDzxQ7r333v6/DfEnEX5r96KLLipnnXVWOfbYY8s8Ex599NG+yrS/2GxomNt49tln+5/GzP9FpC6ccMIJ5fzzzy8XXHBBOf300/vvEtWYWrdu3e787++2JyqNrz5rRx11VP/3Ew0HB17MDzVLohtvvHHP/zNz4oknTo80HIzIY4ofoPJX2+Ju3fv/hRxfzH+j+pyvvWPorzgxw9gXj0AhUX0wbb8UfuCiFZEGsGHw/wlZ476ZLB+OPvrovvmW8kvFC/7tDIGEKS7eyPomo92KSqWw2LG0r0YfGGhFZG7CEvebuflPyFxbu4qGdWw9zwYv+Q/wFBU7lexYPAIdfvjhfTGhkErW/oOj/ROtiMwdWJfr16/vdxzWrKcJTxIKx/Cdxmwx67/i9TJWQUnzZ+N+nzPvVLRWVPYPtCJycCO/RKdweBUhztbfcccd1//c5SuFvf5TAN6rqICSsS4qComdiuJi59Lw6qMVkYML1lZ2G+LmsSSPKdqr9ZphrxeRIbDPixzvVBgLCkn9sra9V3nl0YrIgQ+PKXYbfvfFbiOPKXYb++rm/IoXkTEoJnYpqqgtmN0LB2h2K5Lc7qVh76IVkQMPlqeXogqHI+Tm64te+8M62SdFZAgfM6WgaPlNC87y+LO/OOtARysiBwY8pti55/8A8piST1IUj/0N+0URGUIRqXcqHCmpFRSFRXs5n2fPdbzYInLDDTf0/n73u9/disirBH73EazdhvzPBxMKxyv5UnRvYL8sIkN43PFeRVHhZOde1CokKSyODTOjFZH9B/kAwm7DjdJOWx4rGnYd/H+g4IAoImNQSBQUgbBTyUsmgRAEC+VACsSrgVZE9i3yAYOczfer7DaSrwcqDtgiMoSgKCoWQV7Weq/ifUqCNdtv5h3oaEXk1Yec9EmKwiEf7ZjzfuNg+f7UQVNEhvAlOAsihcVuxbOl3YoACqbzuYRWRF55yDN/JqK5mck5N7DsOA5GHLRFZAiPO7aTgmuh2Ll4DlVIBNdj0L76nP3VQisirwwUCx/Bavm6gqLhuxtz4UY1Z4rIGHwClMLiDuKjNQmQLafFdjC9V2lFZO/ADcnjifcbcoivstvw+DzXvjg5p4vIEPmjJYlhMUkGz60WXQrLgfx9FT9A5UdlZvokqxWRcbjJ2Gn4NCUv8VM0ZirKcwGtiMwAOxPvVPJ8a6uqqHjO9V7FI9D+/hl+DT9xp4jQfRJaEfkZxL7+8/ncSNqXH5+LVkReAtyBJFT9stZik1xJsP35GbgVkZkhvvmmqMfcvBRVNNww5tpjyotFKyKzhKKSxx9/E8Sd3qvY4ioqMz06vNpoReT5YG/+LsXO0xcY+UfxONhftO8ttCKyl+G9iruZxx8J6u5l66uguJtpFui+QCsiP/umaL674fFUwRAfrT2mvHS0IvIKwyOPnYqEtUX2/RWPPHYqCoqdyqv1XmWuFhE7xHxT1Dl/p2iIQcPs0IrIqwxbZrsUCe1o52LB5r2Ku+Ir9ceFk4qIhbV8+fJy5pln9tfXX3/9AV9E8lJU8bAbVCzyfuNg+abo/oJWRPYxuN/dX1GR+F7uQb3N3lsfIY4VEfJ/9KMf9cXMDsn/aHbTTTf1C+9A+imA/Pl8HiU9lvAfW2faeTXMHq2I7IfIH2pZDB6HhCiLQrNjeTnvVWZ6nPEx9pNPPtkXkTzOKCInn3zy9Iz9D/zkpaj3G6AIKrpz5Zui+wtaETkA4HFDQVFYnOdTBJ8eWDSKyov548JJReSJJ54ojz/+eLn44ot7/n/xF3/Rv4D85Cc/Wc4999zpWfseUlWxUzi8Z7JbYnt2G+2l6L5BKyIHIPLHhfnOSkLosSe7lbGXtZOKyO23394vzPPOO6/feVxzzTX9Av3ABz6wzx9n7MQUT9/dUDzr724oIA37Hq2IHAQQQsUk31lRZPTVOxUFZunSpf3L07HFZ77mEWFf/zwiG/JNUe+I2KFoKB7tMWX/QysiBynyCZCFqDB4UfvUU0/1OxGFQSGx2xhiX3zEm2+KercRXRUMOybHMT0b9h+0IjJH4F2H/+nduxSL0jsPjwbu7Hk08E7B48O11177ihcRRS7fFM13Z1I09tanUQ2vDloRmUOoH2cs3HxXRXOtuNgF3HXXXf35e9/73rJ48eJp6tkh3xTNjxErWL674XGrvRQ9sNGKyBzCTB/x5o8LPVJ40WoncvbZZ+959LFDeKlfgrOrsdvwiYqdkAKlaGj4NRwcaEVkDmGmIhL40tl1113X7wwuv/zy/qNjxUW/3Uk+HVEIvPAcvq/IS1HFQyHyaGJu+6bowYtWROYQXkwRqV+sDh9nvPT0KJL3GHYa3mUoKoqMAqL4KC6+8EXOsMg0HHxo/6dCw0R4j1FDcTjppJPK61//+nL++ef37YQTTijLli3r5/pi2pIlS8rrXve6fufRCsjcQCsiDS8bHm3sVI4//vi+uLxSfzjYsH+jFZGGWcMuJH842DD30IpIQ0PDrNCKSENDw6zQikhDQ8Os0IpIQ0PDrNCKSENDw6zQikhDQ8Os0IpIQ0PDrNCKSENDw6zQikhDQ8Os0IpIQ0PDrNCKSENDw6zQikhDQ8Os0IpIQ0PDrNCKSENDw6zQikhDQ8Os0IpIQ0PDrNCKSENDw6zQikhDQ8Os0IpIQ0PDrNCKSENDw6zQikhDQ8Os0IpIQ0PDrNCKSENDw6zQikhDQ8Os0IpIQ0PDrNCKSENDw6zQisgcwu7du6fPGhr2HloROcixffv28pOf/KQsX768bN68uaxataqsWLGi79u6dev0rIaGl49WRA5CPPvss32xeOihh8qPfvSjsmXLlv5/73/d615XzjjjjHL00Uf3BeXHP/5xuffee8tjjz1W1qxZUzZt2lSmpqamuZTnnDc0TEIrIgcB/K/869ev7wvHsmXL+iMoHKeffno57rjj+oKwcePGvqA413fmmWeW1772teWYY47pdyVPPvlkT79jx44yb968fi7eDQ0zYap7Tm4Pygcgtm3b1u8cFI9169aVQw45pC8aisOCBQumZ5Wyc+fOfteheYSxC1m4cGE/P62ej9dNN93Uzzn77LN7norOEUccURYtWtS34Q7lvvvuK6eeemo59thjp3sOLjzz7NZy2w9WlhVrNpfTj19UfmHJSeX4oxdNjza0InIAQeFQNJ555pl+h2BBH3XUUXuKgFB6B2IXYTehgKRQHHroof0ji12HAmFcw1PDb/78+WXDhg3lW9/6Vs/zPe95Tzn++OP7PrsSDX/zDjvssL4g4fvggw/2Ox66HGz45/ueKP/56rvL8jU7y875h5apsrucdtSu8n/85iXlLeedPD1rbqMVkf0YQuMRZO3atf1OwgJWBOw2jjzyyOlZP4XHEYtcQVBEElYFQ0FQSBQRRUGfAlMXEEUB7ET+6Z/+qS8Ub3vb28opp5yyp0ihUcQUFTQpVk888UQ/76STTup3LMOdyoGKpY+uKb/5f36tHLHoqPKaE08oa7buLpt37CrPbNhYjty9vvyXP7qsXHR2KyStiOxnsCjtNLwctWgtZjsORcOi1aeYWPzGzLdo7Qg0xaKG+dlxrFy5sl/k+Gh5RAHvQhQBPK699tqe96WXXtrvLsjDB9DYgaAH6fPDH/6w71ec6E0fjzaHH354z79+XDqQ8L9f9Z3y2a8tK1dc+Pqy6IijykNPby47u9Uyb9f28uPHnii/+pbF5S9+9+3Ts+cu2ovV/QD5NMXHsA888EB/bjGfdtpp/cvPE044od8pWLgWrQVtoWoWqKY/O4vcFxxTQJzjqRhZ4BY9PsYULY8kdj36FBA88VcEvBd5zWte0x8VijxSma/AAH70tCMxl652UIrTo48+WlavXt3vplKMDgTct/wnZf7uHWXFmg3l4SfXlW3bt5XXHDG/nHP8YeW4RQvK42u27PH1XEbbiewDWEgePywqBcRCdtfO3RsyrgiAo0Ji3NECr+HxIjSOxi1wOxOFQzGwqO0i6p1BdjIWOt5e1n7hC1/o53z4wx/uPxYegix6m6tYKBQek+xk8v6lhnm+m0KGAuUTIfPolB3M/ohf/9+uLbcvXV1OOPHkMv+wI8vCBQvLa446rCyav7P8YPmT5a3nn1D+6k/eOT177qIVkVcJFqt3CXnH8fjjj+/5mPXEE098zmNI3n8oNhapZuGCBa+Zb/EZy25DM6YAGEODRwqFdyJ2E4pQ+s3Biz4eXRScv/zLv+z7P/rRj/YL3jz86BQ90GhkLV26tJx88sk9vbnRJy9ivWdRWBTJfNxsN5N3OHjglccf5/sK2zpdN9+/tJTv3l7+9s7Hyn9ed0JZfMzicuiio8v8hZ3PS7dcdu/sdiGbyv/6795cfu+DF01Tzl20IvIKwiKxWNyJLdo8TmjcbszCdkxBsKAsdAtu7A6NTpFRjFI09OWuPtwFBHYnCoWdgMWKVjFB42icPHreeOON/by3vvWtfWEgy3WKGnpzLXbXvtDmI17X7PFRMh3xVSCBfniYbx69QcHJ45GCYw6QodHv1SgqW596qjz+//5V2fHA/WXBM2vLoi4OWxefWH7nvo3lG9uOKqec9rpyyOFd3Kbml2c27yxXvPH08l/+pw+UE445YprD3EUrInsRXGnBWRS5G1t4+UTFogqMZ7ehWTxo7VYsaIvNQvWYkIVkXr1DUXCyuLMDAH3GLFQ62D04V8zoYnHS1Vj4odGn8N188809vRerigM9sujNiTz09PWYokgAXVMEQwPoyEJDj+ySzEHjMSvzzeGLPJ5FP75QJOm/t2ERLPuTPyzzH3mkLDjhhLLr2OPKygcfKBuXXFiuKseXr357adlx6OKy+ORTy4euuKT86cd+oZy8+OifEs9xtCIyS1hM+R6FpOdOOw138BQNi8fCsSAsFNeKgnkWRL3YAnPd0Z9++ul+Abl29PLSu4exhUQ2Od5X0Mt8C9BcTX++bBagoXsWNhtuu+22vohcfvnl/WOK+YpWkJ1DiiXdfJ2ezWSC+RZ86PAdFkB2k4mHo35+0ZzXfqNndDWXb9lE5mx3Kts2rC8rP/ffys5v/XM5opO77Zhjy6NdAdnQPb6859N/Uw45fnF57LEV5Ymn15fTTjmpnHby4mnKBmhF5GVAIluQWgqHhWa3US8kC8Zci8SC0W/xWASaccjicdRv8Wh4puWub/GmGKFxx8cTb/Sa6ywsuqElS1GysPPIQy+8zdfnSF8vVvG58sore/7s9JiClx2Co+KS9yterLpOYctuAy9gC34KmF2H8yHYjSb8NX15/KNbQG9zFTHzMw9vO6KxAjsJa7//vfLUZ/6uzHtsedm0ZWvZ0vlhx7at5ek1a8ul/9f/XU6++OLpmQ2T0IrIiwAXWbgWsOS1gCVsEjcwx0JP0bBwX8y7ihQkCwWtuWgshrEFh6+XlYoCORYTWKQWvWP96AQW8lPdc3+KD7CLTIVEESJXAUgReeMb37ingJmXRzJzkzb6Pc547GGrwmE+evPQm0tntlnw6UebomkM6GAMPRr+MYZHCiW4ZktgjoKCFzo86CNGKdA1dnR8V179ubLl1lvL/M3PllVPPlmeOvSwcu6n/qBsX7q0LDz1tHLhf/jt6dkNM6EVkQmQiJLSJykSVAJLeIvbbkOCSmJ9Fo05aLJIzc/CSX8WD0j2LC6LCY2jPmN44p2FglYfZH5dmCw2xUQRU5DQ0jOLWQEwR5FxXcNcix+9b5/6y178fbx7zjnnPO/9RoBG4Xz44Yd7/vRBx0f8Mwb+UIjpSTf2OqZosm0I+qHR4hN05pOXghSYY+ckdmzGG80RnT+OOOaYsmPZw2Xl//NXZcHjj3W7ju3lkRWPl6l/9eay5A//uJz5pjf170fg+RbvH+B3Ng/juK/QikgFCSfxLMIseInqzp4kteizcwAL3lh2JWOB5eIsAvNBomexWQhji9QCRWPhWWiOdLIbcNSGd1iFBp1mzO5JH70URe9TfBmMTGCHHYp5+uj6ve99r+ft0xmPLHR1HRp6pHDi6zsgvmTGFvalQBrjG0dz+Q4v13iFX4qm8aRjCow+5+QrUmgDdOGLHm9Ahzd90Onf1M3d0Nm/8tr/Xo749rfKoV2s7eQe6fpe//t/UC7+rY+XBRXv/RG+sKfAKyJvf/vb+7zcHzDni4g7oiYJuUKTqD7FSBJa4JJV8ByT1Brok9CSGW2a5E2Su87Cwc9YFqJzclMQ9AH+9WIDc7NQs4jwi4y8cHRew7jfDVFIJKNx9uDtj+c09uJ/9dVX97q8973v7T8RUcgUG/LIomt2Dha2nYjChD5QkNGgjS/MRZNHoiHwN18BNE4OeegUo9rnAR+S5WhuZDlnw/xuPpnbuh3W6qs+U3bdc3fZ0fFf3u0+tp5zbjnlt/5DOb7bfSzo/LOgm88uLbHYV2C7R1Y3Nd/Voc93v/vd/i+m7TB9EXDMh/sCc66IWEx5nyAIklLSqOr1YrXALDgJah46yWzHMXzfEFjQWTggmdHin93DEGjIQpfER0eXLBrNWGCx0cvRXAvMMYmfBRd7LDA7DUUELHZFkm7kGsdLv75vf/vbPS93OzsR467xiy/0pYD5ur6dCN/oowtEBzRABjrjeAB6NPjHVn6ugc6c0EPoUzTr2NV4tisYK2/6YtnxlS+XQzd6Mb2uPOxLdx/5aLn0j/9jWTR9N0/cNHJSKNnEL3z6auL73/9+Hwdx+sAHPtAX83/8x3/sHzdf//rX938cub9gThQRied5X6JIEEmcTyoUD8/zuasak7CSNImdRYo2CSb59WcRxI36JHSSrl5ww4UDWWiOWWxgbuQpGPjTQZPUFs9wsQXm+2g4Ow6yUiB8Q3aMTiFDI0l9A9Ucc310yz/ox4DO3/tYbO6QZNULu7YJ2EE/dPzCx2ziLy3+dgzii/gRz9Dh5xwNnY2JxMbtO8pPlt5Xdtz8lVLu+BeJXh7vbNv4mlPK2b//qXLaFe8o88W4mxvf40UG/TSgJ9nG2aSxdWjX3oYv8PlDSJ96KRh2I1/5ylf6m8HP//zPl/PPP3965r7HQVtEbIntODhdklgEeSEq6UDCWDjeCehzF3L0LUtt0sLJu4osAoktubKwhwmWhWO+pJTwFoZiQrc0/frAAjFfM5ccrS5E5pNJnvkey9hrBwXupO5g5qBL4dSPFh3dyQA60PMf/uEf+vGf+7mf649sZUNo8ct843Yi/ljQGOCHr5aFTl/9aPCpC21gfoqmxt4sYLzr2A3hJiGOa7rjEcceW9Z88xtl4S03lxO7WD27ZXN5tIvzone/t1z+5/+pHDatJxnZgZBBFhlju01xM1dOmc8GNyBxR8OuvQny/vqv/7qXc8kll/QF/Wtf+1ofx1/8xV/sd4j7Cw6aIiJZLR7JJBklrZYElBSSVl+S1VHwsxNwXX/CAegtRHMAvbn60wf4hWcWTvrJNTc61Igu9cLR5yg5NbLGoGAogp6b8ZZ4tr/5uHUI81OI2BdZaLNw8Lj++uv7sfe///39JzPsQZuPlPmZzooy3+h3p6xlkhGbnKPjE/azx1GrFx+eKUCZ65gW39PTubn0Yv/2jmZRZ/vCjsem7vFl3u3fLgu7vkdXrihPLjyknPrbv1t+7mO/0b883dYVlsSJDAvV0XXkR2fNmGvgl+jCh+bnHQ4+fJIiOVt87nOf6+N74YUX9o+LXngrWh/60Iee47d9jQO6iAigRS+pBZ5jBVGrnSyRzbFABFuy5g7iKCGGkDT1wpEwZOCdRyDJXCOLQFIBWfhIwiwcejkGdEOnSVBjQlIXIkmp0cN8H1+6I5KlQCocGnp9eAFZ8QPdsxNRMCR5ZNU0/HTrrbf2Y295y1v23PFSBAPz+cd8v1NCjrl0ZCsfkVPbCuTRBb14xG464J+YjIEvFQw/lWA3wHa8XtMVTTvHTffeW1b/3d+WsuyRsnX7trJ81eqy4PLLy4V/9Cdl0amnlU1r1/T64ZOdDbvG4s/PYp6cAccUiCGdmFvwKdSZR47m/KXiG9/4Rrnjjjv6n6nkG7b7xvL73ve+6Rn7Bw64IiJ5BFeTgIIlgR1zLrjMMm4xjt1xjElc5+ZrkkQ/ZEHXCW2+oqVlAVgsaPFOYk5aOOglm3P8HUPnWCdlYI4fULZVBzpaBJ6VLZwk+BD8ZEdVFyPyLXSFcAzGFRpFRNJfdNFF/R2QDNfsGsrD3zsUdmt8IzbmsYl/yGNjQI7GDjaLGT6u6Rp/aqBQWUCOxslRxI9kR+fHTZu3lCeu+kzZ/c/fKAs3byqrn/pJWdXxOOW3PlGW/Ma/LQum5pWpnT/1Nb+TRX7yA/Rr+shgK5u1xMVc42KSZsz86GWx44M//4tD7NSfohLbZsIjjzxSrrvuuj4GaMl705ve1Lf9Cft9ERE4gZBEglInZn1nNE/ymutcE7gs7NyRazBdMbCwBV2gBFzi4J2FkyQKJBI6+hi3M0BvHlnuwHYGtX7mZ+FYYOiiJz3IZhuZ5rCFzRalOR4bPFqwx3geE9DhpbmWaI4QfubgoRClIEDsymLAg21f/vKX+3n5jVV6Z9EYxy9HRdb3RDyz1wXXON3dmTW6kEEPd1O2TFpIfEVXL3nFjRw6W0zoamzsFtrqz/zXUu5f2n9d/eFHHy3l4n9VTv3Nj5czLrusf6Q5tKONzTX4XezlDH3ZrM9cjT8iP6A/38f/iSPbNDw0sY9/jSeWxvCMHOdyuZYR0O3Tn/50H3M5Rea73vWu/nF1f8J+WUQkaxLQuYAkmPV5kjKLU0CzcEAfx+PBTPPROdcHSRg8A3SSSjMvSeI8CaI5r0EPjxmKi8IiOfTRycJx9xxLFlA0fJqiKUR0VIjsHBTNMdAnOw66uGYHeguaP2rwZ+ys75Bk8QGb+OtLX/pSr6dtsyKCLzviD7KSNmTkI97aPvPMN48c/YqD3UQWLZn4sw8f/R4JLB56Wjx48p/5dBCL+Z2e8zq91/7DTWX9DdeXQ7vdh0X6WEf/ml//jXLRb//unmKLhi7ooNaP7cmZOv7mxtYcIXbwEx8P48/W6MkG89GioY94+pjdF8bEh0zj+ODHH4m3a7jmmmv6gqp4Gv/gBz/4nGK9P2C/KSKcnk9TBJajVN9hlZbkEjGJJmgJqmM9NzBHAktS4zE5BQef4YIjB50GWaTonTuiRScZIQsNUngUB/qST26SiV2uc6cmDz8JJJHwx08zj8w0ekjQfkF11+g0iM7RI7SOChv5WnQPwlMMbrnlln7MpzO584cGrxr4+mnFFAI6xU/iN7bYwDzvNmzZFYDY5VMe7wCGO45AKVjz2KNl9d98uhzS7T5279heHut2QhtOP6O88U//rJxz2Vt/OrECu+SLBuJCPnvEPvGnc0AXPhQXc2NbYm2uPjkUOjTmk8cv+EYW+zwqfv7zn+/zEK04y3N05px77rn9nxq4Rm/srrvu6v+TMf5VqH0ys7/hVS8inMxJkrK+M3F8EtsxwakXqDn6BCcJTX1jeCZ4YEwSmF/TJODmocmCcw6CaYx8RQlNdAjIYYekjAw6mM+uSXcK8/0wkDs3GezH35eHfGMU/RjiJzLJomNk1TbVoA+/hgbsWBQwdPzDJzXYotD4UpMxvydip0AeHqEhE+J7RcTX6RWNxISPNBDTFHg+sMvMYxpf0cmRnfrpiZac3JUP6XiT9dStt5St13+hLNq4oazv5i1bt7ac8JFfLhf+zifLYd2i3NoVZCAri9F5bhj0C8jAM0f6AD+YmxvTMP7m4c0WPjbump18q8Xngbn33HNPvwtRIBUUNxiFhG7+2NGnMAGdxM4831LlG+/AzjvvvD2xH+q1r/CqFhEL4etf/3rvIInDSV4Qep4e3nkkEidTL0nMcZJtmPxgznBhk5PkQSPIdXDRSB50aIxDEk/Tl4IGeAqo+YIoKc3By5hmbuTilR0WmySAhcF+8/Lug97m2qEYR5/QkEMGG9DoJ18jz7U5SWZzNPPxSbKREz/EZmPhYdGg904Eva+9S3Iwh68sGkd06BUO7y6GH/EG/GIhmKNAeDzRJ+4e8epFXYOvstDmd3yf7u7Gx951RzmsW4idkmVlt4tZ0/npkv/5fymv/YWf/uL69k6vLdM5ED/Rk81pbI8/gA3s0YA+9Msc1+jEUh+emZ95xsnjOzAn8/hcYWaLa/HHy1xj/lzgDW94Q58PdMGHjtHfmslv09qJkKdPPMjlcznjfJIvX2m84kUkdxfJ59xvT3AeJ2RxZ2FJKkmvUCgYEjQQMPR1oDgNH33O8dMEIUAnOGnmCoSjuWSTORYA83O3gSQN3QSvllND4ksaz7Jk0BGNhSNZxoA3v+RbphJFn/n84jjUkQ/4JAubLDqzh27xRejqdyLm0cs4PppzunucQePFKtl8hb/55klwfFyD7bZ5di36zaE/e+hmPvsVEEd2pYgBWdGDrN7PXf9hXfwP6cae+f73yspP/3/lkNWryuYtW8vKZ9aVzRddUk761V8rr7voorKr8wFb5U1sr4EnWRo7ILaIIxptCHqYLwc0esa/yYEh3DC8aPaxN9vNlzP0y82BbD7R56+kkxNk8RvfGE/u0ROfJUuW9DRBfEwmm+nDB9mpDPPllcJeLyLYSUSGuZtIKsUg21LOkMycbMGo0oKlgfnm2ploefHGMWAe/pzLcaHjXE1fFgrQR3A0wTPfHOeCq3E2WnSu0STJa/7G0IWP+Ula89nCbkmr311cgmScDugkCJmauRqZaDTjwEa+Yi96c/CLnhIlNocGyKA7vmQ6kuWlZWIRvYcgz3+jaf7FF1/cL3y83O3Er/Zt4MaAL30toNiBh7tnFskQ9ERjMbBNYxc5R3Y0u7qxJ2+8oWz84g1l4Y7tZfWTT5UVHd1Zv/+pcsFHf7U8s2Zt2T79UhWdBRT7+Kb2Cf9pfKE/cXbU6BpfuqabAs1/rtEYj56aOY7mib18Fn/+wk/Ost2jnjxGz16PtHLInxTop5drNOSbR573RfgZ4xPzE0uyQTwyX9GhC3+GH59o6MfivTewV4oIwyhux0F5BiWJGJik1w9xvrnO0Upwd2/nFk3UwieJwRmcrri4rpEFI4COZOGPj2BmxzEE+YKYANAZPadLxBSvIdDRV+JIDDrqkzCKx6SAkcVGMgANvciLz4Zgg4IsocA5fdFoEtUir2XyhzmO6MUAPR+SIx76tMSF7/JOBC9/gOc5HA9j+NCPT4yzgS7+doYeeRRTePA1ngVCBlqNzUN+5gf2J6v+5V/Khms/Xw7pCtT27dvKI91NZ+sFS8qS//FPy+suuaTM73jMn9YbkoOKoCO5dCEbf3kjRuwewpzkQOKCH5vQDPOG7gqXguk7POKPB5+wgx8UT7szvhiCDDriA2RlsaNPHP39DP+6Puuss3rd6chnfMenxtKstYCP+UKO4h8byMguKnJmi5ddRCw4BqZwUDLJzMiAoxQFxkOcLTgMqueCuQKjWnMCh5PFKeaiSVFJkMjlUM4ihwzXaIDz0WocHZl0q5M8iY5O0w+SEJ3r2EyOOeylA52M05UewM5alnG64MVf5AEbMy4cSRB8zE+CDJNZItIl+kgM8tDyD7/Ui5M/k6hkoqEvkG+MbEUEj/qdSKAQ+VTFo5oxPqCHPwgbvtcKkgMWG/3YySbyUpCyuHd18lf8t8+WzbfeUhbIhU7Ok93Q4o/+Wjnv3//7bv7hZarzC5rav0CXxJR9bKBvcs98C4iefGWcvXyALr5ODtATzHHNhtiewsGXYi8HFFw+T/zAEV994omPPrEU09hd5wBEnpsr3oogWWhq4KmhxYMcDZ8Ui/iIzlmL+Gv40d+8Ie8Xi5dURCggYRyjJMGUTAWNw4xrFNVfFwxGMzhzOFXTD3hqeEkIgVP5OZTsLNTwpYejpBZITq+TCziZ8zR8XZOJVhvOD8xX1LwYjK3me7+hgIyBTegUHIhPBIqefJXkCYxnYbOZbWw0N02fVoMduYuyx1GxwM+1BKGn5BY7i9ZYikd4ipN+tPm/eH2xiT/53GJUrIAdfKxQseP+++/vz8lyjZ8j/bX0kR0/8xG9je/uxud1PLcte6SsveqzZfd995bdO3eUZY93Dy9vurgs+eM/KadPf0uTnmiyaBzTLz5k8PHQv+SxXx5p/IkPfdyMNH018BZ7Ow6Fg77koCHLwvapGloya/BlcsC5BnyXAiI+Q4gLOrZFH/PITKxqPeljbnxh3PxaZvTVAjLEU2HhK3wSJ/kix4f+mIQZiwgnE2KLKwAcpYoTUiuEBaXMSdLoy6IxdxhU4LA0CqegcLJrLUkHDPX4ILCSGp0gCW4cgJZ+9Mw7iQQMPb3Mc6Rr3YfWkS15tDLGhvA0Tl6dUPrwx48NaIaB0y/IWmSa4ygB8DA3dgfm4htac9E5N8+iid5D8A0/iR85aPjJNx5zNx4Cf1+1Zo8CkoSih8LJp8NY+lEij3F0UHD4ho705js6angOYa/Y/+bHF28sO7765XJ4l9jruvZwt9CP/ci/KZf+x/+hHN3pUAP/+CJxT+6w05FvEncwlz7GQb8+RRMv13QGPvOIRmf80eGX3Z2ioWBC+Ife3MihV3IZEmvy+FMDMuiPvs6DAF34avI+egEfi2VNE5BBppzWIgsNG+gX4GuOIx/zg3nyQA7Uc2s8r4jEsaoUBTBhFAMdGclhMUIzL8ZrEOUpHGMhRuCBhuGafqAOJ6OpEyU0klpwwRwL3Q7F3cXCt3AkcvSlP+M5QnP34JAadEXrboMWDdm++JRt5Bg42nyOpxs+ZOEfnw2Bb4IUoIvv4pP4A+IHx/ianzTz4kuynYcmMsyhCz/hw2/G0NSPPfSy6/vOd77T8/I3Gr78xN/8jwbf8EMPDz30UL8zwUdf4gPRGz1E553s6Py0ZeWKsvpv/6b/4ti8bvfx6IqVZWNX5M791B+Vc7vHqW1bul3Wsz/9pAod3ekmRrWcAH8y60VDPt9m266vhnm+SeqjVAuHDQqvm5Uvvnmh6bs88mdISx83WnmYHOCb7DiGsQRzol/m80/iX7fAeHxJpjF82RvgQx4+gEZMzQc0xvWTm1jq50/6m5/dmnMxNcbG8HddbyT6IsIBCodmwCLINrhGvWgwpJxAcphjEriGOegokURguPkxuHYWMI7DNDQxHK0WYwQpME8ByQ6CAxQFusZpaOhKPtsuuOCCnsZ8/Rym4VsHII4mFy29HNkbG2J7HWgwD110cI5/TQPma7HdXEDHVwKHhi418EfDTvq6RkOOOGqRY4GwLzwsEp+sKBzxsWKgz7Vf1FJkatBLDognWXjZ7tvd9AW307HLwLL1298uh73znb7q2tPRjY5sW9jZ00WzPPudb5VtN1xfFnbzN2xYX5avWVuO/6V/XS76/T8oR3c7HjRyh0w2aHQkU2Mjn9AV6GP+MD7mossc/MwTe58S8otr8/Fjs90G3/Ft4pniZRxP8/HK4qQPkEUHNHU8nOs3PzlQ5z5eyQPzNHTkm0e2XIicGmSwQWzQg2NyoF4rNdBZJ2LoPI+k+YCgBn7irk6QY74d7dQjjzzS2fazPwZyJLB2EmIEYE5dMCiecXxCx3BIYLTaeDQJToIO5MXBjpETJBDkMsi4c/M5gMMC/e4o7jLmSmIO8NEZJ1lQ5En+fNxW73QCDpNwZLOTTLLMI3cI86JfEoCdfBcf66v9QQ9zNfbV/s88R7R4ADkWGhp64ZmxOmboFEm2O0fjToN3iqej+RbVt771rd737r4+ZeDTWtfENAvApwiSSZLv6Oh23HBD2fQrv1IO//KXy4IrrijzOl3Q44lmZ+fPlZ//+/LsV79SFnY29P9dQyf/zE/9YTnryneV3d38XZ1NWTSxqQZd42P+opM+NGOLhq12Yh6H8x0O8/mZLWh88ctuY+ydmvno7dCNOfKZuXIhhaWGGKR4QuKZPND4Q3+Ahl2JqTlZG/hriXP8nzXkCPp7P3f0mn4y0MQv9HcToR975IDCyd9oklfkGY8s+tMnOuE91f2zu3YYBhaNhoFrDBKcoXMBw9wJCTYndEkC57WzjJurJQnQUcox14yOTAZwsPlgToxDFwPRaMYtfkVEovQGdzaxhQN9AhTnJzhJDIsiRcJ1XZyiB93jUDo6siu6o9UCdGShy9HcHLNoYlMN8+maO01ig4bO6MZApuS327CA3F3wz+NdfBvQxc/y0cdOjR/JU4D4IMlW+0NR9r6EDhbbpu7ONr8rLLv8hF83b2HHy6+JyYNn7vxueepzV5UFne+3bN1Slq18omy75JLyc3/252Vx9+jUObbs7OTxJRvjyzoP6BP/J24aWzXQ71xOsluTC2jN5TdxZYsjxO+RSQfz42/20QPwxs9itJMVC3Py3kxL/rC7RnIf3xzROjc38aTHEOZaa/xMv9jr5sem2DAEf9lxyIP4jKy8H5sEcpJzQGb0Yxsdp7o79W4dGDPOZAI4Kwrpo4RxTMBYfZ1A1w4LP87RYrB+8xOUMcPNJzPOisM4SgLXi7MGeR5pfJpiPn3M9dV6xtfA3wLT3J3sWiDy0JGXb5pagGTTO5BAgho/gHFyE6ga9FMMkjzmhFYM+AWNliQyz2KIv42Zxz5j+tDypeZagttt0A8fd0tQONDXd5rwc44m3xO5ottF5M/OyVJItNiLrwXI13wkGXv9O7/V92TWbdzYPTp8/uqy6x9vLod2vJ7oFvWqeVPltI//drnw1z9Wjur8PAQZsT0y+QDEQRvmDpvcICwYeokxHvErfe2u+GH4uA7kWDT4AJkp1PKBj4agk2LisYhPHPWh4ffsVBJPoBPdyOHbYR5o5NV5YG7yIOOOyQNHc5MHruWB/GZT7NfQxreO+NAhesjRIT8wRg8tdFP33Xff7jiaoZzryOlDIORkLcDEotEoUDsK4iiNAviSZW4UZ5wWmBudII7kPIaFD8OMmS9wEpxT9EkQSS2QHBJ+cVTkJQBpeHk+xE9DS26cKaHqYpJkZEsQPppziO4pTI5DXxlHk0WTPrayQxuLCyi2WTjhbb4tuniCRCc7tvNj7jRJTOe33357L+fd7353b98QdMRLwSHHTo8s/uaX+D3Y8OMfl9V/9zdl6oH7y7aO9tEnVpUFl11WXv87v1dOXLKk7Ops9af94pKFAYlb/E9vY64D19HHbsONgA3xtQVMHzHLIwfb8EvDT5zQuE5emZuY0IW/AmOJbXIxCw3QZZdiIbMjNxfz6eLGNBZPtHjXa821uXKNj8kfg3hm5ynW5jkq8ujGQB6f0RVip/nJlzF5bCJvz6czLgTA0SBnJhkwYICWBRimcTIjHV0bS6DNjYOHipgjOBYNmcbx4WwGjNEECoYdh0QmAx8Jz1kMH0MCI6j4Mp1NcdYwoJyahSko5pODDz/QUzJo3qdokpY+/MCuOvkc+bX2o2PAB+bXiwYNXrU/yTWexSNp0PEXXcTNAtKHZ+xkD/3IjBzn6MwHvrnxxhv7+Zd1C927o8SUPLzooKEDjzNkgrjIoZ0d/VFi2D2+bPjiDWX+M11R7nRdtXNXOflj/7a8+ZO/t2e3Qg+8kwfgGv/EZpgH5ioaHknlQG2n+YqnXBCT6Bmwx6JhK4QusuqY1CCDbXxnPr35Lf5Ap7+GOXQljxzn4uAcrfWVAiymIL/Mc9Rnnvn01gf6o6s+PrAe+I0d8sCOgz7JK/Su0aDHU79j5MRX5qLDmw3RDT0a8UjujH5PRGIqKBhgxAEUo1QKSw0CMTaXEQTpI1iLgx2TDMY5ioLO9YeOSmOGKQD04ixj9JAkHAZxVgxEC+zQohN+GaMvGuMQneMWOrnGk3y7E9tlCzcFN07moySilpe1eNQgE138hTceoVMkxkAn8hU1i5X9+ix0BZR/x8A2iUvvFCD2Kyi5DsTE/8VL58svv7z3rT5z6Mh3Wh1P3xPxiED3Hd2c7R3tijvvLGuv+kw59omVFCjLu93dio7X2Z/6w3LZL3+01A+jiVvyAG/ItQZ8JfbJAXqB+XUhp4c+OrMjMUwesEMfH9Q5gr9jHXvn+sOD7bWf6Rg6fB3pm7jiT5/ICdBZV9nRsR9f8vLIIT6TgE4eyAcxJNv7HYUz62UIc7LjoJtreskjPOL3IeQ9OrbxQ+iSB1Mdw90YmhCYyPAkFyJJSzjlOcA4JuYy1nVdJAJzU2C0KO+IhgGTlDff3caCxVtgGDv28VON7DbYRD5Ex0kONhedwhDQ0Xx0ScqADZJZIC1OcvgHD6Av29AKriS30OmfxCQTTw0//fjwqXlJVgGULHxvDp6Kua2ta35CD4Ibf5KhmaOfbfRwLibRITEjj9+8E6GD/+9EcajjYz5a8qKz71fQ57jOvvkLDynr/umW8uz11/Uf3a7rdiCPdjxP7XYfZ/zKr5VdnexVy5f3OgDbxTLP6UNYYB4v+VnRSA7Rz+OARcOv6Id5RE8xQYeGb8VToXes4xmYI4bo2EYOO8WDfnxETnwG5pGVFr7maK7RafgFbEl8wFGcyTdmPl35Vtz43rj1YJxOfMcPZOgjHx86otdP/8ghP3YAnuiSPxD90YC5aOr4hGefP11wOt4/TV5Jz7labWyAMA42X3JLOgpLaIZarOgDRlEyyZoA4EWuc0paGGAe/hyFv3F3lySZccqjx0tfAr3HqI4mRseJCTDo08xDk4VLjzq59IcnHlpk0R1/eutznTsk3RVd+qeoZC4fa74uza6xuw0aPCwc+pCPxoKWMGMgP7Ghs2vAXyKyLbuXJBCYq7igZQd6H/Hy7Tve8Y5+kcYfAfvFFA0frli5siw+9dRyyJaueF97Tdl1x7+U3d35ilWry4buseLiP/2zcsZbL+93KVs7Gl80ox8e5IkLPmzVRw+FGf/oRwc+lAdZOOyoF4tzfOtY67PYhmNsIJMstGKd3DGXrKGfjCcXzDfXOXq6a2hrhC+ZiplzQCcWYkPWGOSPHFCk8UEvh3wBUP5MoqMrv2anRhYfkOc4jCfwDT+TaT4kJlp8ra8Gu6Y65fqdCBAeB1MaODmGx7mY1hBsxcSdUqJyDJ6au8RMjiJHdfXOgdGMlEjo7DheyFFJZDrSKzuOobEBR2nmc2bostDYOwSfJKHDl9PrJB7qSTcLQUMvOHzDXjI0chUSdksMOxbvYPgfX75wF8I7sYnc6Gqu/thjrubcWAo4kK/Yk4ufcfPwSnKxM//vjMcZ+sVusqM/HuQ4f6TbKSx48MGy+fpry/zO3k3PbiwPd/Fc8M4ry5JP/VE59pRTy47Nm8qiLi7koKmBv92GnwLMQpFL+jwSWjCO3nOMFV3x5G920lEzz6IZxiUgEx15bGMXm+kXHYd68pf5fOrcOFnoxCu+1JIn+JpPXmSYiz66mktmdDXfDky8jIuZZh475RLdydGfnAc+wDtr1REPOUIH4/hEDzrpB9fiim9gTMPTXLzANR7mP++diEFGUBJRDOYwBK4JwSAwj3KEURY4myOMUZqh7iJ2K2CeBcYp+OOdcbzCkxzOIDPO0JzHaMd6LDLRocc/PGO4FqChu3Fz0YJz89mOV00D4Yuez+gQ2RJYi5/MkRReBCoUFqtm58IHft0qujq367CAQx/QUxJp5JAvAV+oeJKlUONnHjno4ossmLqI+CkAMSGr1sNc8fDdj52dTXd/+UvlkC/dVI7uaJ/oYrqq43vKb368nPvhj5SjOh9s7eiBbqHlJzcPd1r+kC/6jNNP8TRfI1uMLRjFnq3JS37ldzzreGfhGsNTv8ZfxiExje3k45dcMQ8NHvrIHNKAcXOTC9EpucAeDf0Y6GkX62sG8RG5yYEx4J+XqXzn2pq1S8tObUwenVKE0ABZyQU0tW1gHn+SEz/EN+ZOdYrs1hmHO9c4yzEgHAPzOAkT8x0FkJOGzg0Iz5v00DvmR3lTWIaIwZpzjeKSyQIdkwX4c5IFYX6tI2fVdgV40xMNO/HWFz/kiF9gnCwtNJIgwQFya79YNPyAF3mO5qegoqcveRaLZkeWRZU7lhZZ5Aty/ENW9KeXo2s+yWMhRHfjoaVTvifiN1Z9T4QNZAX2qO5dT3//e2X9f/3bsk7sH3u0PHH/0jJ1+S+Ut/75fyrHdbEdgm8VDPbbaSSR8RYbj05spaP41jLR8pFFQzfX5mQ+H4+BX/iVnfjxLR+iZRdeQ/AZP9Q+pSe/OQ9dYgpoyMDfuTlo0shGg0dk0otN8hsUSLtRuoVf5GeB42XtaIBfbOcTxSj20oFfrS/n+IAjuuiPp/lk0p9MME9fbI4ONYxPdUb0GR9lCUVQCwWCUt0Jck2JCHGu1U4yT7WUMBwleHlsYLBAUR6NwiAZzME7QeR845rzOLBXfnoszkg/kFHrUtNB9Gd3bDe3poEkhRZHo8Mrjh1zLsRn3m9YPGSgty13t0jwQeD5ydzM5yM0mrnk5aVy3qfUPMjzWJmkZBe9+Fxc8ziDT1D7mq3O/Z+v5nicsbAT22B7N+epL974018c6x5dHjntjLJ22SPljH/94XLOr/9GWdTFcH7Hd15Ho1DIAbsgR9f0orfFojiyRdxTIMmOPDpFtzo+9GSr3Yxx8/GzYPABtkHo5AskF/A0RzOW68zX+D4wnlwID+P1gtVqmgDfLHKxxVvM7RgU6plupHyWGynZialWx6WGeQoun9OHn/icv8mUO3UeQHTU0BuP3xMTR9dB77vunz23TUrWDo6TnDsiTpFJQGoIrETlJHMEF53qKvH1DUFZi0ZFhsi20BQVxo4hzpVITNDIkki5y4wBf3Qae/DhHEHlZH3DwNCRLdHNeNxmPrnk4QHGkuCOfMVv/GA+HniGjlznEP1yN8GDP11nMZFvoeDJR3yLnq8UCf2B+aGTUHxjPDrQLTo4SqA8zvjGqgW+tYvrTv7t+G++94dl/TWfL/MefLDs6nj4v263vPf95a2f+oNy4umn9zIVQ7sNu0+2yAt+xl8Se99FZ+dZ8IG5FgydAR2d2Rb/DsHfeTQC9Pr4hv6Ttvb8a64jn8a35NAVjWMNPqMjGjLMSS7wJb8llwKxk+PJBTHiA3PJFHMgC21yhAxjaPQZc04HY45Q66mPz+ikr84FtqaQhy+/JgZ0do4u+Qj4mY93WvQgZ+I7Ec0kCmahYRyFozRIPMpphFGck+JIIjS0WTCuyeAMyJhrxtbbXU5XqVVeymcBAMfGudE9DgJ6Q/pc0z00QIZxsuMwOjrX6KXVNAFaukgQdxm+CF12DcOFEtA1xQFf8tnI3vgu4A/+tTAVFcUayKcr3dBZOHYPksMirZPBIjOf/fRzboGi5X+tLiLvfOc7y3HdItzOP51vV33h2rLj5q+WI7tFtOaZdWVV56cTu53H0Ve+uyzubN3c6ehlKD0tNGCH2GWb7pqNZCZZ6ZFcEMPkgiPfikcSNnrWY2jEVd7pB7nDR/xmjn5xyE0Jf7KTCwEZkZcWODeXHMdhLgBdsljlRPrkAR9MygW201mjV2TRl7wxWcBv5CSHxDU3itg4huQr3SKbbmgV3cSohphqdMv656/+b2cIwgxSibUswCAOJlDltwAojZaDVH3Cx8BIzpWk+FKcwuYzeBIkgl0K5clGJyBkaWPOpRM50S+JykkaBwxtM49z6KmFBiRg7ZeAPoLhLkMvNHSyaOJPPEKbBDeXjOhGH2PRAd/QSQRHdurHly/M5RtbVrHIYqnp6MFXZEsMNHZ4SQBAo5EL+PhvPfB4y6WXltNe+9qytSsMT//3q8uu795hJZXHu0eT9aecWk7++CfK4eedXx576KGyrdOJbvFzdkjyguxaJllySD6YTy/yLBj5wCdjoCcatPxBHjvRkDmJjr8sGHRoxCw+yQ0qsQnISi6QhTc9zXPtmLgBO7JrRGs+3vIB0JKtP3mED19kYbrWH1/hI1fQho48svTH3/qTJxlDazy6G0sfoLHujAV8ywZHduPFBsfEZmx9T3VG7/mIl7IxIgoHjEyyJoicr0VRSALnOsGIQXE+WcbiPHSRaW4ckX48gWxV3gJCK3k4Q0LgU7ehDfRAoyUwUMvR6oQHTkRjHh9IQjpyNvvtOMivAxKgU9CyYNCZJzgvZsFo5rjmgwSzBr5JYG/4syPkQ+ADdGyzQ5TYdimJHfCNZObXb37jG2VBN/fSt7+9HPKDe8rGG64v8zvemzdvKsvWritPv+G8cvxHfrks7Gx4tlucQCd8+YEcvMWlXtx8Tg7d6JxcoEP8yz/6NXxAfz3GD+jw0I8n3iCOmrka3uTTA20ghmno0dAdn/gZjf4h8KWvm5QiTg8xBrtAhTO614j99SLVEtMxGjBH3pOX3GVX6Ib5GtCTrKxXfPggvkA3Zh+fkoUWnXzCi35oU3wj93mPMxREIKGigGt32zxjOtYBCSQtujiUMuYxVJtpwVAaHaVdCyRF7VYmwXx3GIWN3hJC8log2hitINATLbvo5BjHapxFj4AfyLBQzaWbREGbIDjn1Dg2CUMeF2cc8GCjOZGXsRRPY2iGC8Y4nuiMO4L5gbnsk+B5ucaGOtR8w0dZ6AqhBYD3Ndde61ZVzn3k4XLs9+7slNpaVnd8Hu902d49uhx+0cX9b4Qc3s1RlOjlP6/Kc35AB3LprN+85AK7xhDd+ZufonNyIX4awlyytCwYRzTsQ1fHNGCvvJF/xhNjMUErn7R6sck5fqUn8B39ArLFhczEh+3Jh+SCMXHTp4WObEd6JN50Q8Nv6I1lB4OOfpoxfcYhNNHf3DrHXGv464vefFbbbA57U3jjJ+15RUQQFAx3JEOSTOHAkABKagx1BMowiBKQucAg4xrl0oBTGUQR87NgzNWv0QE/zZi55DjqQ0MX0JfFHuejSRKQkQUbWwIyw1tL9cXL/BRPC2AIctjCyQkqWkmYHcAYzEtgzKcDoNHiwyHME6ckvmu2kKcN6fiCPf5Qzm6FXPomXmjZlSLwwMOPlJM2PFPOvuXmsn39M2X5+g1l7QUXlsPe94vluDPOKEd0/I/o5Fg4Hlm8RPVlMLIh/ogv+C+x0+dI78SczFqn0CT50eh3ZGtimbHIST6gBXPZjja+JTcLhlx8xKeOEV5i4gaaAhP5dJcHvp7gOARa86wH9K7JJjOFkNwxoEMjtkAWW+TC8NGjBt3QyCVz0PGDQhAfkl+DXnTUEg968geZaPjEMaCfAsof6BKDqa5g7KYARgoHJRjrTkv5GrWDUoXjJEZKxARwCPzJqR1EVhbMTI5Fw7mALo4dVssaHMsejYPcOTgFnYLAxlpXdpibuzY5kkTQ48y0mo4ciWo+HnGsa41v2IYmC0Z/kjs0xuhZj5mLF/kZ04+n/nrBGKsXrvnoI48M9rEbP8WET4A8yaFNTdOc/ORqVb48veLxsu2YY8sZH/xQOev008vibivL7wF5fu09cXSNXj7wHT3HYF52n8mhxCfFaAx0TRLHJ+aTF/8OgX9ylv8Sn/hP45+aFo0bCJ+gIyt0zs0nkz/zKA3sIos9mRc9Exty2Ko515/YkRGdgL7GInc4ph9PtoQf1DwBLd700lfrUMco4474W3caXtaFNeFmw+5g6p577tmNKN8HSPUiZOhYAdSiWO0gYIw+isVQY5yKLjzxB3z0U9hYHISnfoqHp4A5QvSIY9EmwNEttkQPkAx5p+McD3MUDjzywtbOJbICfDW20ItcTmaLJMan9lUNNJEZf7EnhXASzLdg6Mke8l7ocYAvE3hy6MSHaCQB+8QH7DjZrrgoKGh+6rdDy4bN3V2q47VwfhfPBfPLos6Px0w/Kkqk+IiM/DeaEossffRwzv/kmcv2+JAtZCVXzNXHVuf0Dh1kQeChj/3oAY1xMqHOh/iglhUYwzP6xtf8QEfxkRPDHUfm5iaFRjzx4h80kwoh2/AWW0fAz3zyEpsx1PnAD3iJK9qsmyHwRif25mcO/8W/iU0gDskNfiWDD+q5iQ+/TnUE/TdWA0I5AyNGcjAiRwmvUWBMYXPQUDgBpzgjKVIHsIY5nKM5j7G5K9X61SAjC4ZRrhkloPQcc6w5ComPSm1V2UJndO4okWmR1LQCp8UuOvFV9CWfPI51DlkUNY056IzxF1r9WRTG0Bg3hl89JqjGI1O/hhc5oL8uuoGPeMWGv/ggW3a6mc9+cYp+ZJhvnkTUhzffJp7eB5A99s1jfJIPaF3jyccKzqS41nJDA/jTc1IesT/20RMt3yRnyXNdg34Wi0XDRjIsmNDFx8NcYo84sJ0cY/hkzaDDS8td2zy60dN4FrF+/OLz5JExvCIHjLEl9smH+DY5lrHQ6EsOBbU888InRZHeiqFjDXzpb25oprqT3RQOTEoSJ/kpFcekJShAkTA1D41xR9f4ODKCLM2YfjSOIGgZw48e0YHzyIus0OiTWHFQ9M+4azI0HxXjI6gSxaIJ8JW0Gkeabx56tpgv+dk+BjpJEIkI5JNlsWlsGEPoFFBzyOMDstg1iY6NkVfTKYA1HbsUDI8viogtukRnh7mR4w5qNyEGdhb8qjA48puiyy/k4Uc+GCeLLyWcrS5fpRgF4mMev6TRAf3YojCXPRkzP2PhhzZjGoSfI+BJV/mXa/ZrHlVcizPb+aBG+JKJh7kan5LBRjoOQZZ44m+Hx7/66GrHbzcY/YYwTyFEn2tz6Vjn+RD0TLGPL+UfmvgjORGwKzsOMhWNFNy6gA5p+UKLz6fuvvvufidCGFBWYmE0FAqMEkzKYmQOhdFLSnSTkMUS4XiRpTF4EkJnvgACeZOCCBwqiBxEP4Gjaz6R4JxhQMwjg13sS2Hh4DgUvQUTfwF/aNGND5zjx1bnfKw/dpKBxji+7NDMTdI6pzNazbV+fJ2bn2AHeNLZQucz9jvXT7b5WTQWvIVPPrvJZav/uAlPX8cWG3FFB+bhK/n4V0OjRSd2auT4Xgo5+Az9TR5dU9T4InlU+3cItpDnCOSSl3yo/RGQYUHT27kdlLlo2Ma/6GpafMngc7qak3x31NjEr3gF5idO5hhP8ZXLeJHJJ8nHWlZo2OQ88rNu6GE8Y1kXiW/8rB9PY1rm48MPxumg6Nc7DnPNiUxNX+TQl5zY3H/ZjFMRSDgwSbPwODmIUo5xUJI7fXFqHGAMTYwxbswRTe0ESuFnjOIZwydKO9dHX+OuBR69a4kiwcwXoAQpQBfnRC4e+hIEchKIwHxJwEfuyOaRi5afyEE/Bn6RRCmEAd+OLa4AXQqoc41/LDLNeYCvBe1vVOwc6ErnzOcDdikMFhD9a+DNf2T5LyDM9VekaAEfTexqKAJerJLPDjsefWQDGrLYykd5d8J38TO/ua7jGluNacYyLmb0SI6B/DKGLnFxzR67L31ZMOQH4RlaetPJNZrIGYutuZrYkk+ma/MTozGQQ6d8iRIc7QTEpt4hD2Eem8iLzyKr9kcNc+0k5Yf52Qnxg7xgrzakFYf4NT6t/YumX5Md0/4bqwEhcbwjBhJAP+O0Sc4RXEIlviOgo6gAMnIS4hxH+lAWXe4UYxAwenKQwiFJ0XJOHDXmVDZxEFkpIuRJlDgGrfOAHejIjFPZSS4+QF/+oQd6MMYX5OjDG234OLrWTz5d9KEhMzR9sLoxfKJ/kklRs3gVjtghRhaMxKSPO40CGLvIiG+c60sSepwBjzNsooc5SSogRxNXj0m+J0KucUVEXOjkmOdsMmIPvopU9MOnBjvZpzmPL8xjWx2bGnyQIsqv4oFOPsijMTr86a0lHvoctVrv+AziD7rpZ390dQR9aSB2ocEz/XzGVke0+unMXufmozWGLjcx19FbPOhKF/P5QOFInBTwukAlpuYmnniSgwd7yYmOAZlozevndhfP+X9nMgFjAkwCCUGIfotUUlKMINBvwThCHI8fHmidm68ZjwM055SlNLrI1xikT8PHYsh2TEIlETkAyEPHjsCYa0eNDuSFBvBGa15sJ9MxuiV4Q7gb0UvQ2GMeHvU7gkngN8ljPj/Qw3x+jn8DRYschVNDaz79LExyPXdrEqZOegs6CUFfMI4+/nCedyL+8yr89LEpcYwP+d/R/5hHHjvDH9ijgJCr4LKRf+jMx3XM6WrRiKU++aGoGUt+kk8PcpPkeOAlH1I45KYFk5td8gx9/Guec7ySq+Q51sBbQ8seQI+WfDKGMQrQsZXtaDSwbsQ3dg1BDnusOXPQ0zePoLFrCLIUdHT0Ew+6oZMbk+TxDVpyzaGnYxqfiAkdgvjDsf89EUSCwmhHziR8bOdAYBaLRJTo+hwZONNiIVC1tRAo55pxnOo4CUk+i4ZOSTzP25McCvQSAMZyAPvQhwfn1I4BOiXJ+cWc+MdceqOtEweNluQ2x7nFw17y8bFQJDhfhY4sAUdDL0fy0IcnO/iM/XmmBzrwt2SxADV96KN/9HYtbubzN1m17ZGHt3cirrO7oBN/a0N/wQ9+8IN+V2FudENvPlv1B2xRWDx2ZqcivkBX+mtuCvLJkX3D/JAPFgw+5qAxL0VoDPwhZzXnbHFEi0Yb5oTY8Au9+dCYxj76xr/ROwhN5uHNj3ho+tHpT9z1o0HrOjz1K5D8Jg/wk/e5yWQHY57Y8kFyjP7hGV1igz5g81B/wM8cRy30zs3NTasvIjoximHOGRHHBhxuQTimUZKBjEOPVqJK6Cxw8wSOQpTgNPMSIM15HEoH/CwYia/f4sv2DuicxY4nffGsjcVn6BxjkUkv12gdAQ86oMGjBt6Ryw9xKDlsnqnap/BqeKPPItGGkBRofBvUQom8+M7dxd0/d5khzFdA6Uo//hUDhYwP8Rizj9+94zB21lln9b5HryUnan/y4T333NPrwgfoElv8HNM3LEJJfjoqJpqFkgWLDg2Z5vkPxtnqcYXPvD9wjM/ZjJZOoB8PsdXITnwdA7K05KGjufrMS146DhHa5DeQxUd0nekmR1/+Rgvo0CgA5E0CH9ktuqmYb/35CUnvu+RDbVsNfiaLXPbVaw6NVscH2ManaMw3J77k297HneHP+Z4IxKEItQTCkdIJ7BCCx0DJrwBwIMWzvRRwPMZAZn2nJYeiM/1EHKATiGz56Mkesuk5tA04gwyNnXEMhzhnW4414kx2JgCOaIFtkkd/Ept+aBzph6+jBYSPMTooLq41Lzb5DF90eEosPrRw+KYGufiiNd+RDHRafM63sTGyXJPjXL+5Hk/0+93XyMKXnho/QHzmh4TPPffcXucxoJG84sRfSUbFTOGpYY5FQdfsVvxRIT95R4MX/ypw8snuQ6xrn7CFf7XYh0Y+JCeGeUgndskJsuIj9Gl4aDWtuSlcdRySF/pCpwFfkpOcyBia+Ng5mezCk18UWWsLfzeD5IJr/cbNi658o0DQgZxalyBxpatGrnk5NxePOo+C0D7vnQgY5JjaGEdwZJSGMeWAIWgID4wlKRJQSWO7lbuWouPOIsnwy/sNitMjCz2OIZcOgpcg6TM/dqDLePSOA0JjbhZZjdCRqUFsMlfQHIcOBfPpq6CRyyd8wFaJHv1q8M1DDz1UHnzwwZ4nOxQRNp1zzjn9YnGHUUjj6wB/fuXjXMfHSb4afK2fHHpqeMZHZDv3/8jgQ775wAf1gkkimu/xx9/OSGy+iZ3GcueD+BzECM/onBsTGrsONPS1MBRPui5fvry3NXlGdzqjlTd8xDYFly76g+jvqEFiqJ+vkkf1IgNxpW/yCh09XZsvtsM8CtCikRPkotPESBvGqIYbi99nkSNksFfh0OLjMfCZ4ksu/6NT4K2rSbsctpjLz/GLY/ySVssVu35+F6j+cYagGGkyQZr+GgjNF0hCzddnnoRjLPoxMMp/ucgxhEeuO57n7zHjgAxBkFxkJfHcycYWSxDHSDxy8OEYcnJHGgbDHHoKPhtr+51rkkyradGwiQ8zh6z41NwkHzvcaeuPYs2nl0AnufSjQ8NWCeCYGNDRuAROEpNHb+OJS/wjsfgrPuODJAzgx18KGlpbZPHUT78s9KHPfvjDH+75LwzQkw10SU5Mii3wB90089ApnB736tjqlwf1+xD+ow+ZsZUPFRFFJY/A9SKno+KLX/wbH6JP7GrwqcYXyYP4Nw092oBO8iL+wJs8chOfOh+BffxgZ0EvdiiiYu9ajtHBeXQNT/14usbPEeiNn3WAP13JxJt8PDT8aj8BPfEd6qwvcvoiwtA4xQSDhGCq1Q5FnMYQc42jdQ1oJA+eIGgCLvjmC2ruGhKIcZzDAAvIGOXwzIJOkDR0CVD0qHXVl8BxTu1Qc0PHMa7xdtSHB5rYX4M+5mgC4xrwMX/SYjHXo5oCKunZGl+TZbHk/Qbf6K8hASRWZPJnHm0mPUKAeXxLXzzd2flWQvJj4lMDzb333tvbpDCIh3Nzk2iO8Sd4sZqX3OaSZZyuGt/q45v4h07yQTElEy2bkhf6zEE7jEd8YFyc2ej7MdnOG6MvHdCxwdZeHrA9RaZGeEVm4sMeoAP64SIzN3TyKmvJkWx29Qut4zUGtHxA//Aiw18J211NQuxWFCA5KH9mkkdPfpcLbJSP5PGJXOKrxCigF5/KP3L5Ai07takuofuvvddCTdSy2ACRRkCcicEYGKdoqPYCr1AImqQfBi8gTxLEmeRyjMVlkSlKk8CRZOIB6AVPGwY9wNtizoJmiz7ztSyW2i/GkyzO40T05jlHi47Ds9tQAPgCjLGl/iTBNb9GJj5swYM8vONztuElCRzNQyMJJBAe5tAp8uIDyWPc4kKHr7m5Dp1iZ56PeON3/eZo7HcMvOQzVwGg+xjYIQ8UU+fxWb4rUhelGuSwU3zN53e+UgyGOWFudjXyyFEfmtgpJ/iJTDxSuKM33chKMaBn4uKY8xrJCbLIMaeOAYgBvSNHzloj4mguXawPccYnNwzz0SUvyDLGJvbgm7zIekXPV9HXWO1z88kJ6KKY8F3m1Tca8vnaNfoavaxOmed82QwwiVMwpYQ5FKcU5R0jBMxxx7RwBIHRFJFY5uOJPkZEIX2pcBlD61rySPw4TaXEUzM3OjpnaHhGf41e+uipmR97YkOdwMbrZm760ZCToA6hCPo0hR9S2OiCLttSjR3DHQdd0WjAXnLYOlwsNRRByUi2+RYOWYqKhVIni9iQax55aN1h4rP4z++O8I13IhZdwAdigZZ+fMA/3uF4J5IiFj5gLrkSlAzjCqi5rvF0rBdE6OhHjjE6GzNXThp3Tg49jPGz+Vpi55i/GZJLudmYG778xc98JTZiNPQ5eejCG/CPHyYtMqAnW+jAF2Tzuxi5SZI9CckJ8oFMu4X4ehLwt374KvFFJ570HdMT+IeO7CJTcckNmZ/ITYyC/nEGAcPAeR2YIQFwIuVyR2QY4ebmDjtGZ54kNNeRHLzilDGaIHexbL9cq9xZLJNADj0dJQ15Aq6xcSwQsQ8N54MjejQSzxGil8YXkiX+43gJKTnZx06tlilQWu13ja/0JwnEh931mEYv+rDHPPP5SMLyM53pIVFdJ5EgCz7AyxwvSsGWmt78Qb8sOs154PEnP0rEZ/yAD378IyfsJic9epkn6dGQE18kL2ZaLGg0OvILxNdDOr6xQBTdPFqSw4+OfMGP9LRg3ADpzq6sjyxoOuojky+ckyc+tVy6KV5ksZNeeTHqGh8gW4scfpRL5uBpDI355LMXEhMyM5acQSP3nOOTsegevV2HH1lojAVslk9ilJsOOxz5pv8PvaMscArhUQzTGozjFI1S5nJKnIdx7dCgNgCMx5EM0FzrZwQexuhGJr5ZLHRUGCQo4/BElzuw8/A1lx5o8QB60AedeWTFmblGwza8atDHTkPRIN+C4VjgUAmoqNFDAtI3oE/uLHRxTZYFXifqEHRCQx6go1cWyyQ6touTRQPuyOzy/iLvRob24Z13IhY+vcinb/xRxxruu+++Pgf4Rjz4l17ok6hZbGi1QBzElzzjZJjvOjFKXqR46SPLePJCQ0d//BzpjS46o9MHzulkkXvk5CdxjUxAw35+FlextHNwTo8An8hDzweu5QU95YObCZ8MgZa/xNfc8OKH5MUk0JP+1gKQT2d0WUNjQEceWvJCRxY/1rGtgS7rDp3cRzvVMdqd4ASMQKA5RxgifZyaBTtU1HxO4RDHOIUMTqwX1RDmkxVnUhAdeTPRSRoLRRIwnnM4UcDpiMcYEjzBTqI7otWS7Oa5kygc5NARnbl4k0FHLedDmXRMgqILbzbyD4SfBAL9WWB006+xkU7G0IN+PPEwFlkSQnKIr4UC6NhjHC/jKSj6fJRqvu9l1IlPH43MxMrR4w8eipMFw/4h0EVnDRJftPw9CegkLp/Ty7V8yGKZBDKzWCDy2OTIVzXknfjm/8yJ/9GRy79o2adA5lGdzeaizc21Xh/8Kn7oEyPQF39ERmIvDuyE9CenyKKrI17JC0BDvjGxJc+Yc33GyaITfo5AHrqM46uh0w/hFVnB6DsRkCDZ+jFWJSVUS1JqNS3hUSQJao7+jLumDD7GAQ1HMjLjWvjh5TwGJCihS4AkFn3IdzfQJBEaY4KOFi80cXKCE5BnkbFdAkoM1/jiZX52HNl1JBjmJDGALE2y02EYgMAcicHv5NPPMcWJnpMQOv5ApyXZazr2WHixV/GMjYAHO7xXYd+FF174vILAn2gUbPGyA/ESM98T4X8xjD+APolvnRf64x/XGt0cwXy28SmaxB8dW42jJYudmnnG4gt9aKJPxtCCcfLQxe/Ozaez2PMHexUyc8AcH4UrnBdccEE/rrDkB6tr0JENZOKJhz5HeZGiNgbz0IgRvdM3Ft8hQucYX1u7M8mDOp8SJ3rG//GleWrEVLc4+iLCQIbWFZ8wC88xiEPilCSF8ySBNmZcaBlFRhY8xRiXIjAGcjgkCY+OnDhzEjhAgCU6/dhHhkDnBV8dVPx9Q5Jz0OljS+6W5Fk4aGu/gLn04nxHzuYbvIF8Db/aP+YnueiGzjzXWugTxIyh4fd6sRgzX4Azhifd2eSIf+KV5ABzzbnzzjt7/evfE8lixkufvBAv8Phz5pln9rzwzSI1NzoYM38sL4ybl6R3zQa+i3y6jsFcxVDS44GO3DwKTKIDslIYyAIxjZ7pC8z37VxFVGFBS059o5KTucE4ZiccPVMIxICu+oGeiWHk8nfyQp9xdK7ZqunXh844fskn58bIjzz9+OJBpn4tdOEpXuhqHxh3M1VYoxf7+/93xtbNgDuJoHGkc4zGgDiKOhc0ClLKeYx1DIyj0Sgcp+jX8Ekf5RN8Ro3djTJGh8iOIzNGFr50kVB0AzQSQuJZNEkk33dgtwJBlqRwreBICjz0m4sHGWzBNwuMDvSvbQfz0NEpC9x811lg2iSYR2cJSwfy6PNitvToJLCdGb3YhJY8vIZYunRpnyz4Okae+XknIE/YCd6JuAMbZ1t8w+/A9uRG8iLxBbzZhwaMx8/Jj8RXM6avzgvj9EkstMQndMb0RRY6NsZ/eEaXxFWjh1whj93m48cWX5x00/Goz1exAcyLnxUTOcR/8UuAPzr8yaaHPjZZixpdx2Ce2IpxTZciSv8xsE8uyX10rslAR99aRzq5obLROT+zxY0EproE2O2zekYGDEqBCHOKcbBr5wLNkc5roE0gnJtPSeBUCg4XWGA+h2joyOcEzuDIoazAXA7hyMiEOHIYNLa5kwi+AkpXOnGUa995cGf1lXO7jiHohYaebEuixR94kVnrax6aJDefmhcfa+bjoT/BNzdFB4yZg58+/ABtXbzIYie+dDGmiMQfxvCgR4oBH7LfN1DNueiii3o/1Dz5yIIyN7FBI4cU3+g/jBVZdE2LPfrlBR2ymIdgA32TG3RGL5fEOPqPgazcMOgUuuw4JsHi8sLVTSaFWrNOxvJeHN2Ivby2600xJb+OAV4Wn0Ls5pS85lsNH3PDEy3oi28D/NHwYcb5Jv5F7zqyHY1FL/HTr5lX51RuWJEhzuLL/uRmMHX//ff3f4DHOIbVgcQMIw4hhFKMMIfC6IYMo4Tm3HgcwVkaOnxCmyRBQ4Z+45GpxVH64yz9MRKMcUiSJbTOzZGAgizYSUa8BJJz6kc3dxW80evjH3rh7RhdXAf1QiHTtblkk8Vv9CNziASQrzUgGz35guh8DGjFKXcVsrTsKkNnG+46i8dcC0XSW2Tee9FVAqF9wxve0Os7Bv7jRzr7gz3+yCMOX6LXV4Nf8HfMwoqNuebTxB6M8wcafebwufmJsX59dEUL5CR+GeN3NmcMD2PJZf15TMEzjyXxF17o6thq5urDK/q7TiFSeJNzeBgjT0zFg258lj82je2B+eyPbHL4RD7hMSlGwEaxpQugZ08KYw1jeZeIP77sz858Evofas7dRfIkgBzLMI5kcMB5jEkiJBCck4ChTWBqJIBxCKBHx7AssjGYJwjZbaQvDhnKAs5wl9QEkRygIzl2GZ772ZlEqUFPdyLbOHA0j0/QeCwYgk5sTKKSxW4+paOWRKuR+eaC8fgG9Ovj19Dq4xN6QsaT1Hiil+j0Vhgd9SsoaNGwRbKgRWcn4pjvidAZT7xqH4qXo8cfOxbg58QIjQRkRxKevLFYmR+dJTBadtE9RZSsMdApuREdyUBHfzwmgb7yQ2zlEbnywmKeiY68FG3zHNmoJc41xFZByd/8mG/NsRk9v8hJuZVH6uxY2GMef6DFy58k0JW/HBP7yEVjLl/yAz78JxZ4GQe88JAb+MsPsukwk/01nvc/4DGMQx0xpRwlMBUQCgMlOJKSWMSZnIhGGwYdDYXxdW4+fmgdXaMZFiCGamiMG3NEpy+0QCfB0tiBzlx6sUNgbCNdhwY/PBzxjH5J/rqwSRx8Od0cNHiyFw+6R0etBr7hneCTp6GLLP1DZIGxzxHQ5W6GfhLQSCifJigY9JJUPlkYFk+65fdE3Bn5KI8udKBj7n7xnxer/ohSP5gXP4GFSiZaOSSX6FyD3CQ0u+K7pCdZk3IjNOYYpzsdtPTTN3FkD3+IoTG+yI6DPP4KbR1LfeIXnuyp/U4P4+YBPcxLLplLBzytG/6x88nuRx96kE/0UdjQ5F2Kbweb69rjJj+Sxw+13mjcDMTGR/VvectbehsDst0g84ibDxro+1LxvCJSg/EUJojjTSWEExhn8SQwQRyJNs52ZFySAE2dCIC3OejDA/Axn0OHCQ/GBcGWXOEQCPQCSJZFw0EaneugA5l5FKCra/IkO3ljCxroyy+SkS2p5GQIVoI/BN1qHcOfb5KwwwIcvziSm7n8mgSNvRIb6EIniSLBkmwKA93ooD/86EqufomnP/9VpLEkV2KT+KBRnNwZzaMPGxLngGyJmx1v/CyB8aaf82F8gC7xQeQDWcmLWtYQ5vOD/CDLNVl2oXwxCWTSlc78m1xMbOOTIfCXUxa1OfR3TNHhsyEtOXLYezq0YkOuGIsPOkWfXHrIV3z9aYKCYp6Gd3LK912+8IUv9Pno43pz5atChL+P5S+++OJRn78UzFhEhhBACydVkyMEQyWv74ZYcqAW9o4M5ARJpsVY4IAkiHPgPA4zjyz0ZCQp8jcR2RWYL1DZnkenNPTm0IUsNqCjCzrjgD8n08Pc0DqXWMZBX11o9Hs0pBP++BrHO7o56o+sgCz0WmSY6xg5MyUuO8i2UJzHHxLMuw509MIDr8C8FFF28Am/0tU7EcV0DHwh8c33eyjkpBCQQec6vjXkhZjxsXN8+AR9drzkB4mXRl+2sM058J1rcSI7IIPN+NMF39z4kmt4kB2dwRjdMpbcoAeajOEZuRnT9CdmiVfii7e5GpgbObX+4mEHl6agAL70MRf43/Wb3/zm58QVyPjsZz/bP66dd955fRFRpO64446ej/h+8IMf7G2YDV5SERlC8gmSo8YwzpIMY1/zzeLQskA5Ub8jB+IRB9VIpeYQDiYPHQe4MygcEoRc1/ViIwu9BuRzoqSiI9mTQI4AkhV90VksAj8JFgffCLLEcY5OwbVQ6DiUSy8J6iix6Eh389hDXpItMF9BVUDoKKHsushyHb3RmGNnIdn0040svMnif/0eZxyza8lCoYd+9jjSBS/zbZnJrvVHp6FzHf+hI6uOUQpLYmuemLKfr8UJ/5qmBv54uNPiQRb7FDcN7RjMI09usMk18J820wIjjyz2ho6e2lgOB/Qikx/5gu78kdg61nbirbDfddddvT+M09UcfjIup+w2xItOduf0IufrX/96H0sx8jWGPGZ+4hOfGP308aViVkWkBjaSQKImOQWOQ5O4gfEkG3CMJObAOBM4wJ1VYuCb7Z3xLEiNHE4kA31grkCTk+RNcAVBf5IdHR3M0x/9MqYZyyIyxmbj+DpmDAR4WGgEj4+ikzn0pxP6LOToUYOeGv5ZaM4lv8RROBTRMYTO9pYsjW/QiQ/ZARsUBX2+++FIHn8Am/kZLT3B44+5eAXsoxtb2UKeOLHPsZZZg67o+AmduzBadGJOrlYvMvrJEf5FIxfcTCIXnMf2IHmYOJLhyAf66YIucSETP2OasdiTseSO89DKATw1PMlAU+uiH604ZUmid24Mj7vvvrsvDs7Ji15kuUmZ6xFFTllzduPmXnPNNf33WcSNX8m48sory9ve9rZezmyx14rIEBSlcHYqjCGK0YwT6DoRgPMljd2GgpHFwkmcLnmSIJwkaTkaBEhSSFpyXIPEe6FdAzryHPETNLLQZqGMgY3o6oUiUPSi7yTgL+E1uiqQEkvwUxyH9HQzj0+ck8MH9NPw4U+JWS9QOmrAt+ziDzqkhU5sXPu0hf/cvczFzzgfGsdPwrOXbM/Y7nJ00q8BGnYkRlkkiQ25eOOTPjLQaYFxfk6LDP0ponlsG4tXdOY3OZY+ur1QrOhFJjmAjp/EiL2TEN3Qik18RR76MT0Bf/mk1aCjPjlDNj+xST7od83+vOSv4Z2VdyP60Sg0H/vYx2ZcEy8Fr1gRGUIxyJ1YYBggCAoKx9lxSHJb8zhQInG6eRxn65VPF2rgl+QUrIw7Bybqw692sKRKMtYLMEnnaAGgFURz8JKI6JzjJynQuUan4Yk2C9A1GjzrRRvgKSEUXXZo5phvjHwFRpJY2DXwjg/iB3LJI8N8R74dWzRoxIff8crviXhmnrS7AXMtFDsRi5i+6Mggk51jQEeexj7gK3R48OkYrfnuxHYdeLApfiJPnrjJDP0jznVM8HcuXolxHUfAN3SJlwb8mliyN7mFj350GePr0CWW5pBNljn46yNzTBdI3smP7DqMs9fNJDLGIJ52I2Shed/73tf/vc/ewqtWRGoQqUIrGhx+22239UeJyHkKS7bn2UmgEVCOFIyoLRnidI4cSz7z0Vokjmg1SZcFNgkCS1cJLMCuzXf3m+lOhL8FpjBEngCyB12dIDXY592PRw80ZLJJEZUs6MnWXyO+kYwgYfgG0PORnYwinEVmnN+T1OaAF6XG7EQs7LFFhI4vyLET8Wvv5tJDM4bOOLosMK1eYJFJPjrjZBvXl4XDj/osGrlRxwxNblDma/GReXwXO4Ygg65ki1euga+1SbECsrI7JI9tZKOLbWMgT17lhkmuuGjoapnscgOQg2zgA2tkprwN6Hf11Vf3u3v6WWM+kfHx8DCHXi72SREZ4uabb+5/CMeLIVsyhnOSRSMgcagAcaRxDtBSRCRYjnWyoDFf0MAYfuiY7ugabV2EslAcjRszBw1e+GYxhBaMoctCqO9EkpMu6CD9ZLi7WixoJD0/SPwgi0TCoidTMpEj8fCSVOiHIBeN4sQWRYyeOddCZ653Ivzgux94SnQJbyw+z0LBw9/O+BOBWl9gK53JQkcHc9DSfxIUOztTx+zA0CmAriclP/3kBx/Rnz/51jl6fsWrXnx0SkEUW34wn42aPtf0RRfZbEss+SC+R8Ne/Jzrq+OSXEQnZuzJmD508Xfmkp+biPkvBT6JueWWW3r96YPepzRXXHFF74u9gf2iiDCO45KEHJfnf47kRA6WRBw5TFZjCUySAZwnwAI2lrhkSzRyclfAR2DJscDIHwM5klbA0WjkCY42iQ7YZ1G7wygG5iqc2kwLjE25M6Ox2NimkKTo1osE0LCRPGPsSjGIjvEPmxR0R98T4Qf05pnDPnbiFz/ZiUhMsvHkSwsTDzRk4m2+MfzMwytFgQ/zpSv9dqEeX2OL+VnsodWc0wXIIE+rIUaKsJ2GxhY+x4vO2qTFGf5kJz/QkSHG8mNSUUOLRiHlC9dkk4d2SMd2u3M6Ah3dTIbxfLHgz7//+7/vdeBPu49vfvObvV8vvfTS/mPfvYH9oojMBOpxriTgDEmYAHKMIAYCrUlWwUrQJLoEc9QCvCVICpCgGtfvOq5BK5CSFvTTRTI5R0MnsvTRkWz80ElQ1xYKOzRjimKdJPSgf/Qmj2zXWbT6zK8XCnkpLM7xJlNhwccRjTnDBYM3neMHdvlRIrJ84iLhhouyBjr/Ax5bxAQP/BUqcieBXAXQ9xbIRM+X+T92JsEcRcFCS8z0ZTemJU5D8E3u8GgUcjzkEP/k8RnPwNw6P8QDXLMBEpOM6RdHdJD8QY+Oz8h3Hp8rNGKlcAzz+uXiuuuuK9///vd7+e9///v7wvHpT3+6l+WdyNvf/vbn3ZBfDvb7IjKEAKSoSCYBExzJ41lZMtZJwDw0aZkvgJAFqdV0gQUm0GQ5BzwlrZbEGYME9JjieTSJbVtqYc4UPDpaJBJeYtFVoUJjgU5aJEBPdzO6SmQ80ElO+uQ7JDXYZ4xc535/FCxotPGvFtAJjaO3//52hu/xSFECuloQKd4KmTsk+/Cr77ZoLajQ1sU58cNbPz/U+tBbow990STOmuss5tp/xlLcHfFQaM1BTz/+iv5DxFa+5g80ruUGulrHgBw+yM0kO9C9UThqiItP2vj1l37pl3r7fdfkpptu6v9S3c5Emy0OuCIyhKRTVPL8C5LAYk0ygOQwV6AlRMzmWNc5CmogQcx3NB8vySgoSVZ9w7uQO5ziQZ7EyN3FHPw088gLLf50ZAPexiwUR9BvnC5o0Wj0ST999OGpH/DNuxTFQb/FrjhEtkTP4iJb4uFlJ6K/XiiQRck2i8U7lPpvZ2ooanxh0eDFJ4roTF8AA/LojJ4uZOIvpvhMgnkKFDpgPx/SlZ3O45sa6NhHJnmOdAV6JqdqG/EWS7qKCb744+Ua+JdfzeEHuQEePV/IB68ExPKqq67q18v5559f3vGOd8y6eB3wRaQGUySQCm/hcJjASgqLWOCGCWiORSjwGh6ac8EX5CywMUiO3FkkYWS640uSFIEhJJlER+tcI8PdywIfS/SAHHZKYPPQZpcy0wKzI6Kf+VmkfEOmptjR16czfJAikoXCJ/FnQGfvULwTscgCiyUf1+NpzI4DLR3wc24s/iWTLPbR0RibLMSMRQ/z9WdMv+ZcH7rEzPwUaHxjg2NiDvQYLmoy5ZImXuYmPtltuB4D/+a9F77yz44Dzb4E/1sjbBFz/poNDqoiMkScJZhJQAFXeYcFRbJr3CHBHJOokllLUgLeHhtUdElvTIK4Y6GXnKA/iwQkMTmSul5EzvFMQZOkZIfWGDlsMJbdg3M80bGR3vrwRY8XWv0Wtl1IvdizSIyZ51qxsUB8gUzxJR8vfGvgSbavUttd0AEPhRGNvuzAxmBuvWtwbS4fTlqYAR+KbYoA/2VBs30S6EgmX7IHLT9qfEpvvIYgh55yCR3ZeJBFbh5H8PeuR17gLc+Gn7QdbDioi8gQgm7BSACLRcJaBBJIwg/vEMYsWgmkoXfEw0JJ8kiUsQWWRZnihJ+jZEP7QskuYclMUcp2fuw5OyCDbhZKrtlJHr0VkeHdNqCnBeA/9HbOLgVHy7uBoZ0Wiy+bkUE/NBZMiqYjO2ud+YBdKXrmiAHwGZ+DfnyN8QFb6JXxupAmPughRdQRXQocPvr5IMUCv4zTB7/Exph5dCEPbQ0yfadHo4OCwU+OfDYXMKeKyBAWm4WlSTSJkoUgEUB/vklrYUoMRUAyZbFIOMcaEsoikYRcbE6KQTCWmJI5i8G4RZKFgFeSWqIbCy1ZGv7mR0fIIlEg9CtExvAxlsWjj0z/LSb+/rwfP0XXXZgO+ulsMRvjL49yS5Ysed6iwVeLfDLQOFrEaOviUsMc9pCbYoOWz8VmEh2Yl11DfM5XaNmvbwxksCuPmObpoyd6MkMrRvKCDHPwZn+9y5srmNNFpIZklxAWjCSyWCSiO61vbvrOhLt4DQsjizALjDudp0BowwIDEht9igZavCSrpK3vlEPgr6BpziNbAkvmSXSSni7mWyzmOScvC4VeebHqDX52LQptfpPWPDqT5d2PIuIbq0P/4B0b2Vb7gb5kxE+58wN/pgCD4pZCaoyOEP+G1lgKMP70rAtpiqwx/Sma9RheKRhBYsUHcsR8MhQzj2tzZccxCa2ITICk8p5A4qQwWGh5S5/ENVbfLdNnPAmuSdzAuESUmBLUtYTO4iBLciehQ6vfIkEXGcYtRkmdBeaa7NDqo5+XfBY+/Y2noBjDE/D1m6noPOIZs3DIsmA8vqUYoOEjn87wC//ga3HRIYtYQ18jPsiCxItM1/jbMWiRNQQauimGsRs92WyMz8ZAFptSSOmSHVpdPCA2mu+cTXwwLJhzGa2IvEi460smR0mbu6iFY3FJ3BqSWtJZFFysma/P0aKyuCQtXjUs7BQZzXVadg1oJwENPS0SoAv9FCC6TnonQsf8aI1zn84oOC+0aPLfaEYueRadhekujTaFpUaKm+acT5KOfBQ/DX0U3/AHmGMcD02/IoIuRRbI4QPjaIxFZoqZc7zNdQPRr7jk/dDQhoZWRF4WJKHHHo86Ek7iStjsUiyeQGLaqUheiZ3FkgRWDCyWGvhLYglsvvHQJon1kVkXE7KynTfPmJZF4rFDAaEj+XgYY4f/lAmdcY89Fr9HFPPonwVGJr3R6tPyQ82KjbHAIsRbYeEnvPGlU60fmpoO8M3CTmFIPx342HFsUZtrniJKd3rrIys7piHM994rH0ubN/blxYbnoxWRvQALxC5FwnqfYoFpktYdzMKpt9cS2gJBl8VhXChSKNAOiwSYk+KCXrFBq89cC8QCG0t8xcGOAK1Hm+wW6K7Pl4/o6/HE9fALZGTkkx/2uVaQPP742YCxxQl0Vkx82Qqdc30WqMXqyNYhLGz2xU9ocxwWoRqhiS/xJg8/R/5S0Fy7GfCLufS3U2uF46WhFZFXAHYDFqhm0VlsXs76od26mIC7Xl7kgkUigSX0TIsSDTkWlN0CuiwUfR5fhovLr1v5mT39Chsai5BuFngWqN+fsMgUEQvKomQLHcnKLsp88nxPBA8FyVj0zk6APfjVxY1P8LSIFSVNQfIIZUGzjW74KQK132InHikW9HaNf2i0sWJgt2H3hKcvBLZ3HLNBKf8/7wiaSEY8HgEAAAAASUVORK5CYII=)\n",
        "\n"
      ],
      "metadata": {
        "id": "b6Kze0b8RiF3"
      }
    },
    {
      "cell_type": "markdown",
      "source": [
        "#### Beyond the $L^2$ Norm\n",
        "*  Other common norms used in ML.\n",
        "*  The $L^1$ Norm - $\\|\\mathbf{x}\\|_1$\n",
        "\n",
        "\\begin{equation*}\n",
        "\\|\\mathbf{x}\\|_1 = \\sum_{i}\\space |{x_i}|\n",
        "\\end{equation*}  \n",
        "\n",
        "*  The $L^1$ Norm varies linearly at all locations whether near or far from the origin.\n",
        "*  The $L^1$ Norm is used when the difference between zero and non-zero is important in our application.\n"
      ],
      "metadata": {
        "id": "eN5O2TJLaiAf"
      }
    },
    {
      "cell_type": "code",
      "source": [
        "x"
      ],
      "metadata": {
        "colab": {
          "base_uri": "https://localhost:8080/"
        },
        "id": "av9hVP0sNNUf",
        "outputId": "a411fc1d-1d79-4368-c0fe-9ceb06dd4534"
      },
      "execution_count": 42,
      "outputs": [
        {
          "output_type": "execute_result",
          "data": {
            "text/plain": [
              "array([25,  2,  5])"
            ]
          },
          "metadata": {},
          "execution_count": 42
        }
      ]
    },
    {
      "cell_type": "code",
      "source": [
        "# Calculate the L_1 Norm\n",
        "np.abs(25) + np.abs(2) + np.abs(5)"
      ],
      "metadata": {
        "colab": {
          "base_uri": "https://localhost:8080/"
        },
        "id": "rka3yZ0xeVnf",
        "outputId": "3cb8c091-751e-4486-bbd9-cd85803a858a"
      },
      "execution_count": 43,
      "outputs": [
        {
          "output_type": "execute_result",
          "data": {
            "text/plain": [
              "32"
            ]
          },
          "metadata": {},
          "execution_count": 43
        }
      ]
    },
    {
      "cell_type": "markdown",
      "source": [
        "#### Squared $L^2$ Norm\n",
        "*  Described mathematically as:  \n",
        "\n",
        "\\begin{equation*}\n",
        "\\|\\mathbf{x}\\|_2^2 = \\sum_{i}\\space x_i^2\n",
        "\\end{equation*}\n",
        "\n",
        "*  It is computationaly cheaper to use the squared $L^2$ Norm than the $L^2$ Norm because the squared $L^2$ Norm is equal to $\\mathbf{x}^T\\mathbf{x}$\n",
        "*  Also because we use the derivative to train many ML algorithms and in this case we only need to take the derivative of the individual element alone whereas with the $L^2$ Norm, we would need the entire **x** vector.\n",
        "*  The disadvantage of using the squared $L^2$ Norm is that it grows slowly near the origin and can't be used when you need to distinguish between zero and near-zero."
      ],
      "metadata": {
        "id": "D5ktgtSiheu3"
      }
    },
    {
      "cell_type": "code",
      "source": [
        "x"
      ],
      "metadata": {
        "colab": {
          "base_uri": "https://localhost:8080/"
        },
        "id": "Jkz2TfIoeuMg",
        "outputId": "011e1711-ad2d-4b4e-8de7-951f450f6930"
      },
      "execution_count": 44,
      "outputs": [
        {
          "output_type": "execute_result",
          "data": {
            "text/plain": [
              "array([25,  2,  5])"
            ]
          },
          "metadata": {},
          "execution_count": 44
        }
      ]
    },
    {
      "cell_type": "code",
      "source": [
        "# Calculate the squared L^2 Norm\n",
        "(25**2 + 2**2 + 5**2)"
      ],
      "metadata": {
        "colab": {
          "base_uri": "https://localhost:8080/"
        },
        "id": "90fcwAgxlo9I",
        "outputId": "a618cbb2-4924-4cb0-93e9-90a6cbc8c495"
      },
      "execution_count": 45,
      "outputs": [
        {
          "output_type": "execute_result",
          "data": {
            "text/plain": [
              "654"
            ]
          },
          "metadata": {},
          "execution_count": 45
        }
      ]
    },
    {
      "cell_type": "code",
      "source": [
        "# Using the dot product\n",
        "np.dot(x, x)"
      ],
      "metadata": {
        "colab": {
          "base_uri": "https://localhost:8080/"
        },
        "id": "8E3qdJ6nl4qA",
        "outputId": "d62be78c-b1c6-46e7-9a08-cdc8992fa1c8"
      },
      "execution_count": 46,
      "outputs": [
        {
          "output_type": "execute_result",
          "data": {
            "text/plain": [
              "654"
            ]
          },
          "metadata": {},
          "execution_count": 46
        }
      ]
    },
    {
      "cell_type": "markdown",
      "source": [
        "#### Max Norm (or the $L^∞$ Norm)\n",
        "This can be written mathematically as:\n",
        "\n",
        "\\begin{equation*}\n",
        "\\|\\mathbf{x}\\|_∞ = \\max_i\\space |x_i|\n",
        "\\end{equation*}\n",
        "\n",
        "*  Used frequently in ML.\n",
        "*  Returns the absolute value of the largest-magnitude element."
      ],
      "metadata": {
        "id": "LNSagLP1j5hX"
      }
    },
    {
      "cell_type": "code",
      "source": [
        "x"
      ],
      "metadata": {
        "id": "ttlHvjUamFbo",
        "colab": {
          "base_uri": "https://localhost:8080/"
        },
        "outputId": "71a27315-a05b-4190-9ddf-ee8b6acc9104"
      },
      "execution_count": 47,
      "outputs": [
        {
          "output_type": "execute_result",
          "data": {
            "text/plain": [
              "array([25,  2,  5])"
            ]
          },
          "metadata": {},
          "execution_count": 47
        }
      ]
    },
    {
      "cell_type": "code",
      "source": [
        "np.max([np.abs(25), np.abs(2), np.abs(5)])"
      ],
      "metadata": {
        "colab": {
          "base_uri": "https://localhost:8080/"
        },
        "id": "7IQWI1BSlf-o",
        "outputId": "8af88bd9-eed4-4d59-918f-d95a29b72bc1"
      },
      "execution_count": 48,
      "outputs": [
        {
          "output_type": "execute_result",
          "data": {
            "text/plain": [
              "25"
            ]
          },
          "metadata": {},
          "execution_count": 48
        }
      ]
    },
    {
      "cell_type": "markdown",
      "source": [
        "#### Generalized $L^p$ Norm\n",
        "*  This is a way to generate any of the norms dicussed above.\n",
        "\n",
        "*  This can be written mathmatically as:\n",
        "\\begin{equation*}\n",
        "\\|\\mathbf{x}\\|_p = (\\sum_i\\space |x_i|^p)^\\frac{1}{p}\n",
        "\\end{equation*}\n",
        "\n",
        "*  Just substitute in a 1, 2, $∞$ in place of $p$.\n",
        "*  $p$ must be:\n",
        "  *  A real number\n",
        "  *  Greater than or equal to one\n",
        "  *  Can derive $L^1$, $L^2$, and $L^∞$ norm formulae bu substituting for $p$\n",
        "*  Norms, and particularly $L^1$ and $L^2$ are used to regularize objective functions."
      ],
      "metadata": {
        "id": "fmp8_0PgmFsH"
      }
    },
    {
      "cell_type": "code",
      "source": [],
      "metadata": {
        "id": "6bNJH8eylzpm"
      },
      "execution_count": null,
      "outputs": []
    }
  ]
}